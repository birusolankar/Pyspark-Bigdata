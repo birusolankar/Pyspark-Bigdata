{
  "nbformat": 4,
  "nbformat_minor": 0,
  "metadata": {
    "colab": {
      "provenance": [],
      "authorship_tag": "ABX9TyMh0fPCEAAYF1z7n/y08yNZ",
      "include_colab_link": true
    },
    "kernelspec": {
      "name": "python3",
      "display_name": "Python 3"
    },
    "language_info": {
      "name": "python"
    }
  },
  "cells": [
    {
      "cell_type": "markdown",
      "metadata": {
        "id": "view-in-github",
        "colab_type": "text"
      },
      "source": [
        "<a href=\"https://colab.research.google.com/github/birusolankar/Pyspark-Bigdata/blob/main/pyspark_29_12_2023.ipynb\" target=\"_parent\"><img src=\"https://colab.research.google.com/assets/colab-badge.svg\" alt=\"Open In Colab\"/></a>"
      ]
    },
    {
      "cell_type": "code",
      "execution_count": null,
      "metadata": {
        "id": "hXuNZEe9mH9y"
      },
      "outputs": [],
      "source": [
        "import pandas as pd\n",
        "import numpy as np"
      ]
    },
    {
      "cell_type": "code",
      "source": [
        "pip install pyspark"
      ],
      "metadata": {
        "colab": {
          "base_uri": "https://localhost:8080/"
        },
        "id": "rGhF3RIOmnMV",
        "outputId": "91690958-07c1-4a11-bd9e-bcb10047e425"
      },
      "execution_count": null,
      "outputs": [
        {
          "output_type": "stream",
          "name": "stdout",
          "text": [
            "Collecting pyspark\n",
            "  Downloading pyspark-3.5.0.tar.gz (316.9 MB)\n",
            "\u001b[2K     \u001b[90m━━━━━━━━━━━━━━━━━━━━━━━━━━━━━━━━━━━━━━━━\u001b[0m \u001b[32m316.9/316.9 MB\u001b[0m \u001b[31m4.3 MB/s\u001b[0m eta \u001b[36m0:00:00\u001b[0m\n",
            "\u001b[?25h  Preparing metadata (setup.py) ... \u001b[?25l\u001b[?25hdone\n",
            "Requirement already satisfied: py4j==0.10.9.7 in /usr/local/lib/python3.10/dist-packages (from pyspark) (0.10.9.7)\n",
            "Building wheels for collected packages: pyspark\n",
            "  Building wheel for pyspark (setup.py) ... \u001b[?25l\u001b[?25hdone\n",
            "  Created wheel for pyspark: filename=pyspark-3.5.0-py2.py3-none-any.whl size=317425345 sha256=b5b128456771e4f44630b9605a3d543e63999b50001b75db95265e9dcb5149a8\n",
            "  Stored in directory: /root/.cache/pip/wheels/41/4e/10/c2cf2467f71c678cfc8a6b9ac9241e5e44a01940da8fbb17fc\n",
            "Successfully built pyspark\n",
            "Installing collected packages: pyspark\n",
            "Successfully installed pyspark-3.5.0\n"
          ]
        }
      ]
    },
    {
      "cell_type": "code",
      "source": [
        "from pyspark.sql import SparkSession"
      ],
      "metadata": {
        "id": "Q_wePTD4mpw7"
      },
      "execution_count": null,
      "outputs": []
    },
    {
      "cell_type": "code",
      "source": [
        "spark = SparkSession.builder.appName(\"29/12/2023\").getOrCreate()"
      ],
      "metadata": {
        "id": "EYJ7Q0fum4m2"
      },
      "execution_count": null,
      "outputs": []
    },
    {
      "cell_type": "code",
      "source": [
        "df = spark.read.csv(\"/content/Tutorial_2.csv\", inferSchema = True, header=True)"
      ],
      "metadata": {
        "id": "-KNvIlNBnEV6"
      },
      "execution_count": null,
      "outputs": []
    },
    {
      "cell_type": "code",
      "source": [
        "df.show()"
      ],
      "metadata": {
        "colab": {
          "base_uri": "https://localhost:8080/"
        },
        "id": "io0cSl46nNbW",
        "outputId": "1a5caeea-d30c-4cac-b123-c9bf25951ee7"
      },
      "execution_count": null,
      "outputs": [
        {
          "output_type": "stream",
          "name": "stdout",
          "text": [
            "+---------+---+----------+\n",
            "|     Name|Age|Experience|\n",
            "+---------+---+----------+\n",
            "|     Amit| 22|       1.5|\n",
            "|    Ankit| 25|       2.0|\n",
            "|   Ashish| 18|       1.0|\n",
            "|    Vijay| 29|       3.0|\n",
            "|Sudarshan| 35|       5.0|\n",
            "|    Ketan| 33|       7.0|\n",
            "+---------+---+----------+\n",
            "\n"
          ]
        }
      ]
    },
    {
      "cell_type": "code",
      "source": [
        "tut4 = spark.read.csv(\"/content/Tutorial_4.csv\", header = True, inferSchema = True)"
      ],
      "metadata": {
        "id": "6SMPr2lSnOpf"
      },
      "execution_count": null,
      "outputs": []
    },
    {
      "cell_type": "code",
      "source": [
        "tut4.show()"
      ],
      "metadata": {
        "colab": {
          "base_uri": "https://localhost:8080/"
        },
        "id": "-qyl2kbUnng8",
        "outputId": "c04922a1-13ef-498b-fcaf-bc93743007fb"
      },
      "execution_count": null,
      "outputs": [
        {
          "output_type": "stream",
          "name": "stdout",
          "text": [
            "+------+----------------+------+----------+\n",
            "|  Name|      Department|Salary|Experience|\n",
            "+------+----------------+------+----------+\n",
            "|  Amit|    Data Science| 25000|         5|\n",
            "|Mahesh|        Big Data| 17000|         7|\n",
            "|Ramesh|        Big Data| 17000|         2|\n",
            "|Sudhir|             IOT| 12000|         1|\n",
            "|Sudhir|        Big Data|  7000|         4|\n",
            "| Sunny|    Data Science| 20000|         2|\n",
            "| Sunny|        Big Data| 12000|         3|\n",
            "|  Alka|Machine Learning| 30000|         4|\n",
            "+------+----------------+------+----------+\n",
            "\n"
          ]
        }
      ]
    },
    {
      "cell_type": "code",
      "source": [
        "df = spark.read.csv(\"/content/Tutorial_3.csv\", header = True, inferSchema = True)"
      ],
      "metadata": {
        "id": "mAEfya8NnpGT"
      },
      "execution_count": null,
      "outputs": []
    },
    {
      "cell_type": "code",
      "source": [
        "df.show()"
      ],
      "metadata": {
        "colab": {
          "base_uri": "https://localhost:8080/"
        },
        "id": "28eZRyC0n1-_",
        "outputId": "67c660bd-543c-4c1a-f71f-0923f7ed837a"
      },
      "execution_count": null,
      "outputs": [
        {
          "output_type": "stream",
          "name": "stdout",
          "text": [
            "+---------+----+----------+------+\n",
            "|     Name| Age|Experience|Salary|\n",
            "+---------+----+----------+------+\n",
            "|     Amit|  22|       1.5| 12000|\n",
            "|     Amit|  22|       1.5| 12000|\n",
            "|    Ankit|  25|      NULL|  NULL|\n",
            "|   Ashish|NULL|       1.0| 15000|\n",
            "|    Vijay|  29|      NULL| 17000|\n",
            "|Sudarshan|NULL|       5.0|  NULL|\n",
            "|    Ketan|  33|      NULL| 23000|\n",
            "|     NULL|  36|       8.0|  NULL|\n",
            "|     NULL|  41|      NULL| 34000|\n",
            "|     NULL|NULL|      NULL|  NULL|\n",
            "|     Ajit|  43|      10.0| 40000|\n",
            "|     Ajit|  43|      10.0| 40000|\n",
            "+---------+----+----------+------+\n",
            "\n"
          ]
        }
      ]
    },
    {
      "cell_type": "code",
      "source": [
        "df.select(df['Age'].isNotNull()).show()"
      ],
      "metadata": {
        "colab": {
          "base_uri": "https://localhost:8080/"
        },
        "id": "JGaSaRSon3xx",
        "outputId": "5441c660-2aa1-4fb4-84e4-28a9fe9bc857"
      },
      "execution_count": null,
      "outputs": [
        {
          "output_type": "stream",
          "name": "stdout",
          "text": [
            "+-----------------+\n",
            "|(Age IS NOT NULL)|\n",
            "+-----------------+\n",
            "|             true|\n",
            "|             true|\n",
            "|             true|\n",
            "|            false|\n",
            "|             true|\n",
            "|            false|\n",
            "|             true|\n",
            "|             true|\n",
            "|             true|\n",
            "|            false|\n",
            "|             true|\n",
            "|             true|\n",
            "+-----------------+\n",
            "\n"
          ]
        }
      ]
    },
    {
      "cell_type": "code",
      "source": [
        "df.na.drop(subset = 'Age').show()"
      ],
      "metadata": {
        "colab": {
          "base_uri": "https://localhost:8080/"
        },
        "id": "w6zeuYe6o7Em",
        "outputId": "d52a30a6-f8e9-4393-d570-eef3ca58fbb3"
      },
      "execution_count": null,
      "outputs": [
        {
          "output_type": "stream",
          "name": "stdout",
          "text": [
            "+-----+---+----------+------+\n",
            "| Name|Age|Experience|Salary|\n",
            "+-----+---+----------+------+\n",
            "| Amit| 22|       1.5| 12000|\n",
            "| Amit| 22|       1.5| 12000|\n",
            "|Ankit| 25|      NULL|  NULL|\n",
            "|Vijay| 29|      NULL| 17000|\n",
            "|Ketan| 33|      NULL| 23000|\n",
            "| NULL| 36|       8.0|  NULL|\n",
            "| NULL| 41|      NULL| 34000|\n",
            "| Ajit| 43|      10.0| 40000|\n",
            "| Ajit| 43|      10.0| 40000|\n",
            "+-----+---+----------+------+\n",
            "\n"
          ]
        }
      ]
    },
    {
      "cell_type": "code",
      "source": [
        "df.na.drop(thresh = 3).show()"
      ],
      "metadata": {
        "colab": {
          "base_uri": "https://localhost:8080/"
        },
        "id": "P70ar0gvpJjZ",
        "outputId": "36d2e280-ffbe-4350-d408-ac78bf84f5e2"
      },
      "execution_count": null,
      "outputs": [
        {
          "output_type": "stream",
          "name": "stdout",
          "text": [
            "+------+----+----------+------+\n",
            "|  Name| Age|Experience|Salary|\n",
            "+------+----+----------+------+\n",
            "|  Amit|  22|       1.5| 12000|\n",
            "|  Amit|  22|       1.5| 12000|\n",
            "|Ashish|NULL|       1.0| 15000|\n",
            "| Vijay|  29|      NULL| 17000|\n",
            "| Ketan|  33|      NULL| 23000|\n",
            "|  Ajit|  43|      10.0| 40000|\n",
            "|  Ajit|  43|      10.0| 40000|\n",
            "+------+----+----------+------+\n",
            "\n"
          ]
        }
      ]
    },
    {
      "cell_type": "code",
      "source": [
        "df.show()"
      ],
      "metadata": {
        "colab": {
          "base_uri": "https://localhost:8080/"
        },
        "id": "YKpLAs9CpUKp",
        "outputId": "3094f63d-7354-4a31-ea5d-89162745d1f8"
      },
      "execution_count": null,
      "outputs": [
        {
          "output_type": "stream",
          "name": "stdout",
          "text": [
            "+---------+----+----------+------+\n",
            "|     Name| Age|Experience|Salary|\n",
            "+---------+----+----------+------+\n",
            "|     Amit|  22|       1.5| 12000|\n",
            "|     Amit|  22|       1.5| 12000|\n",
            "|    Ankit|  25|      NULL|  NULL|\n",
            "|   Ashish|NULL|       1.0| 15000|\n",
            "|    Vijay|  29|      NULL| 17000|\n",
            "|Sudarshan|NULL|       5.0|  NULL|\n",
            "|    Ketan|  33|      NULL| 23000|\n",
            "|     NULL|  36|       8.0|  NULL|\n",
            "|     NULL|  41|      NULL| 34000|\n",
            "|     NULL|NULL|      NULL|  NULL|\n",
            "|     Ajit|  43|      10.0| 40000|\n",
            "|     Ajit|  43|      10.0| 40000|\n",
            "+---------+----+----------+------+\n",
            "\n"
          ]
        }
      ]
    },
    {
      "cell_type": "code",
      "source": [
        "df.na.fill(25, subset = 'Age').show()"
      ],
      "metadata": {
        "colab": {
          "base_uri": "https://localhost:8080/"
        },
        "id": "gT2R_1Vv672t",
        "outputId": "5977354e-1046-432c-e3c7-2a4012272e8f"
      },
      "execution_count": null,
      "outputs": [
        {
          "output_type": "stream",
          "name": "stdout",
          "text": [
            "+---------+---+----------+------+\n",
            "|     Name|Age|Experience|Salary|\n",
            "+---------+---+----------+------+\n",
            "|     Amit| 22|       1.5| 12000|\n",
            "|     Amit| 22|       1.5| 12000|\n",
            "|    Ankit| 25|      NULL|  NULL|\n",
            "|   Ashish| 25|       1.0| 15000|\n",
            "|    Vijay| 29|      NULL| 17000|\n",
            "|Sudarshan| 25|       5.0|  NULL|\n",
            "|    Ketan| 33|      NULL| 23000|\n",
            "|     NULL| 36|       8.0|  NULL|\n",
            "|     NULL| 41|      NULL| 34000|\n",
            "|     NULL| 25|      NULL|  NULL|\n",
            "|     Ajit| 43|      10.0| 40000|\n",
            "|     Ajit| 43|      10.0| 40000|\n",
            "+---------+---+----------+------+\n",
            "\n"
          ]
        }
      ]
    },
    {
      "cell_type": "code",
      "source": [
        "df.na.fill('James', subset = 'Name').show()"
      ],
      "metadata": {
        "colab": {
          "base_uri": "https://localhost:8080/"
        },
        "id": "AWzCmZdN7Dz7",
        "outputId": "8f8d07a4-7041-44b0-d00d-0a004cca49ec"
      },
      "execution_count": null,
      "outputs": [
        {
          "output_type": "stream",
          "name": "stdout",
          "text": [
            "+---------+----+----------+------+\n",
            "|     Name| Age|Experience|Salary|\n",
            "+---------+----+----------+------+\n",
            "|     Amit|  22|       1.5| 12000|\n",
            "|     Amit|  22|       1.5| 12000|\n",
            "|    Ankit|  25|      NULL|  NULL|\n",
            "|   Ashish|NULL|       1.0| 15000|\n",
            "|    Vijay|  29|      NULL| 17000|\n",
            "|Sudarshan|NULL|       5.0|  NULL|\n",
            "|    Ketan|  33|      NULL| 23000|\n",
            "|    James|  36|       8.0|  NULL|\n",
            "|    James|  41|      NULL| 34000|\n",
            "|    James|NULL|      NULL|  NULL|\n",
            "|     Ajit|  43|      10.0| 40000|\n",
            "|     Ajit|  43|      10.0| 40000|\n",
            "+---------+----+----------+------+\n",
            "\n"
          ]
        }
      ]
    },
    {
      "cell_type": "code",
      "source": [
        "# filling null values in more than one column simultaneously\n",
        "df.na.fill({\n",
        "    'Age':25,\n",
        "    'Name':'james'\n",
        "}).show()"
      ],
      "metadata": {
        "colab": {
          "base_uri": "https://localhost:8080/"
        },
        "id": "AEP1Txn57PP_",
        "outputId": "4b5499a1-8a7e-4da6-972a-1e486423174e"
      },
      "execution_count": null,
      "outputs": [
        {
          "output_type": "stream",
          "name": "stdout",
          "text": [
            "+---------+---+----------+------+\n",
            "|     Name|Age|Experience|Salary|\n",
            "+---------+---+----------+------+\n",
            "|     Amit| 22|       1.5| 12000|\n",
            "|     Amit| 22|       1.5| 12000|\n",
            "|    Ankit| 25|      NULL|  NULL|\n",
            "|   Ashish| 25|       1.0| 15000|\n",
            "|    Vijay| 29|      NULL| 17000|\n",
            "|Sudarshan| 25|       5.0|  NULL|\n",
            "|    Ketan| 33|      NULL| 23000|\n",
            "|    james| 36|       8.0|  NULL|\n",
            "|    james| 41|      NULL| 34000|\n",
            "|    james| 25|      NULL|  NULL|\n",
            "|     Ajit| 43|      10.0| 40000|\n",
            "|     Ajit| 43|      10.0| 40000|\n",
            "+---------+---+----------+------+\n",
            "\n"
          ]
        }
      ]
    },
    {
      "cell_type": "code",
      "source": [
        "dept = spark.read.csv(\"/content/department.csv\", inferSchema= True, header = True)"
      ],
      "metadata": {
        "id": "MemKXm0D7yaO"
      },
      "execution_count": null,
      "outputs": []
    },
    {
      "cell_type": "code",
      "source": [
        "dept.show()"
      ],
      "metadata": {
        "colab": {
          "base_uri": "https://localhost:8080/"
        },
        "id": "vK2pcRSL9Q6r",
        "outputId": "d3de6ab7-7713-4f05-bcf7-1514c97b8cee"
      },
      "execution_count": null,
      "outputs": [
        {
          "output_type": "stream",
          "name": "stdout",
          "text": [
            "+------+--------+\n",
            "|dpt_id|dpt_name|\n",
            "+------+--------+\n",
            "|     1|      IT|\n",
            "|     2|   Sales|\n",
            "|     3|      HR|\n",
            "+------+--------+\n",
            "\n"
          ]
        }
      ]
    },
    {
      "cell_type": "code",
      "source": [
        "emp = spark.read.csv(\"/content/employee.csv\", header = True, inferSchema = True)"
      ],
      "metadata": {
        "id": "1CFHOOgF9SEZ"
      },
      "execution_count": null,
      "outputs": []
    },
    {
      "cell_type": "code",
      "source": [
        "emp.show()"
      ],
      "metadata": {
        "colab": {
          "base_uri": "https://localhost:8080/"
        },
        "id": "N3J9mz7m9eL8",
        "outputId": "5af043a2-05b0-4528-97f7-ed0a4f5e8f2f"
      },
      "execution_count": null,
      "outputs": [
        {
          "output_type": "stream",
          "name": "stdout",
          "text": [
            "+------+--------+----------+------+\n",
            "|emp_id|emp_name|emp_salary|dpt_id|\n",
            "+------+--------+----------+------+\n",
            "|     1|     Tom|       100|     1|\n",
            "|     2|   Jenny|       150|     1|\n",
            "|     3|  Andrew|        50|     2|\n",
            "|     4| Michael|       120|     2|\n",
            "|     5|  Jasmin|        50|     4|\n",
            "|     6|    Bill|       200|     4|\n",
            "+------+--------+----------+------+\n",
            "\n"
          ]
        }
      ]
    },
    {
      "cell_type": "code",
      "source": [
        "emp.join(dept, how='left', on = 'dpt_id').show()"
      ],
      "metadata": {
        "colab": {
          "base_uri": "https://localhost:8080/"
        },
        "id": "VpZoj-Fk9fQ7",
        "outputId": "25b47fc6-76b2-4d7f-8e13-3cc1b742268d"
      },
      "execution_count": null,
      "outputs": [
        {
          "output_type": "stream",
          "name": "stdout",
          "text": [
            "+------+------+--------+----------+--------+\n",
            "|dpt_id|emp_id|emp_name|emp_salary|dpt_name|\n",
            "+------+------+--------+----------+--------+\n",
            "|     1|     1|     Tom|       100|      IT|\n",
            "|     1|     2|   Jenny|       150|      IT|\n",
            "|     2|     3|  Andrew|        50|   Sales|\n",
            "|     2|     4| Michael|       120|   Sales|\n",
            "|     4|     5|  Jasmin|        50|    NULL|\n",
            "|     4|     6|    Bill|       200|    NULL|\n",
            "+------+------+--------+----------+--------+\n",
            "\n"
          ]
        }
      ]
    },
    {
      "cell_type": "code",
      "source": [
        "emp.join(dept, how = 'inner', on='dpt_id').groupBy('dpt_name').sum('emp_salary').show()"
      ],
      "metadata": {
        "colab": {
          "base_uri": "https://localhost:8080/"
        },
        "id": "ggNCAVNq9q9n",
        "outputId": "e4814a0a-4fb5-4dca-e708-b4e8170c51cb"
      },
      "execution_count": null,
      "outputs": [
        {
          "output_type": "stream",
          "name": "stdout",
          "text": [
            "+--------+---------------+\n",
            "|dpt_name|sum(emp_salary)|\n",
            "+--------+---------------+\n",
            "|   Sales|            170|\n",
            "|      IT|            250|\n",
            "+--------+---------------+\n",
            "\n"
          ]
        }
      ]
    },
    {
      "cell_type": "code",
      "source": [
        "ipl = spark.read.csv(\"/content/deliveries.csv\", header = True, inferSchema = True)"
      ],
      "metadata": {
        "id": "thJ5s5vD-KI-"
      },
      "execution_count": null,
      "outputs": []
    },
    {
      "cell_type": "code",
      "source": [
        "ipl.show(5)"
      ],
      "metadata": {
        "colab": {
          "base_uri": "https://localhost:8080/"
        },
        "id": "cs6VSih2-XnQ",
        "outputId": "376b5d68-4b48-446f-feab-508bce630f18"
      },
      "execution_count": null,
      "outputs": [
        {
          "output_type": "stream",
          "name": "stdout",
          "text": [
            "+--------+------+-------------------+--------------------+----+----+---------+-----------+--------+-------------+---------+--------+-----------+-----------+------------+------------+----------+----------+----------------+--------------+-------+\n",
            "|match_id|inning|       batting_team|        bowling_team|over|ball|  batsman|non_striker|  bowler|is_super_over|wide_runs|bye_runs|legbye_runs|noball_runs|penalty_runs|batsman_runs|extra_runs|total_runs|player_dismissed|dismissal_kind|fielder|\n",
            "+--------+------+-------------------+--------------------+----+----+---------+-----------+--------+-------------+---------+--------+-----------+-----------+------------+------------+----------+----------+----------------+--------------+-------+\n",
            "|       1|     1|Sunrisers Hyderabad|Royal Challengers...|   1|   1|DA Warner|   S Dhawan|TS Mills|            0|        0|       0|          0|          0|           0|           0|         0|         0|            NULL|          NULL|   NULL|\n",
            "|       1|     1|Sunrisers Hyderabad|Royal Challengers...|   1|   2|DA Warner|   S Dhawan|TS Mills|            0|        0|       0|          0|          0|           0|           0|         0|         0|            NULL|          NULL|   NULL|\n",
            "|       1|     1|Sunrisers Hyderabad|Royal Challengers...|   1|   3|DA Warner|   S Dhawan|TS Mills|            0|        0|       0|          0|          0|           0|           4|         0|         4|            NULL|          NULL|   NULL|\n",
            "|       1|     1|Sunrisers Hyderabad|Royal Challengers...|   1|   4|DA Warner|   S Dhawan|TS Mills|            0|        0|       0|          0|          0|           0|           0|         0|         0|            NULL|          NULL|   NULL|\n",
            "|       1|     1|Sunrisers Hyderabad|Royal Challengers...|   1|   5|DA Warner|   S Dhawan|TS Mills|            0|        2|       0|          0|          0|           0|           0|         2|         2|            NULL|          NULL|   NULL|\n",
            "+--------+------+-------------------+--------------------+----+----+---------+-----------+--------+-------------+---------+--------+-----------+-----------+------------+------------+----------+----------+----------------+--------------+-------+\n",
            "only showing top 5 rows\n",
            "\n"
          ]
        }
      ]
    },
    {
      "cell_type": "code",
      "source": [
        "ipl.groupBy('Batting_team').sum('total_runs').orderBy('sum(total_runs)', ascending = False).show()"
      ],
      "metadata": {
        "colab": {
          "base_uri": "https://localhost:8080/"
        },
        "id": "kAZt2K7c-ZLJ",
        "outputId": "fb03bece-734c-4334-b7fb-62804f74d071"
      },
      "execution_count": null,
      "outputs": [
        {
          "output_type": "stream",
          "name": "stdout",
          "text": [
            "+--------------------+---------------+\n",
            "|        Batting_team|sum(total_runs)|\n",
            "+--------------------+---------------+\n",
            "|      Mumbai Indians|          29809|\n",
            "|Royal Challengers...|          28126|\n",
            "|     Kings XI Punjab|          27893|\n",
            "|Kolkata Knight Ri...|          27419|\n",
            "| Chennai Super Kings|          26418|\n",
            "|    Delhi Daredevils|          24388|\n",
            "|    Rajasthan Royals|          22431|\n",
            "| Sunrisers Hyderabad|          17059|\n",
            "|     Deccan Chargers|          11463|\n",
            "|       Pune Warriors|           6358|\n",
            "|       Gujarat Lions|           4862|\n",
            "|      Delhi Capitals|           2630|\n",
            "|Rising Pune Super...|           2470|\n",
            "|Rising Pune Super...|           2063|\n",
            "|Kochi Tuskers Kerala|           1901|\n",
            "+--------------------+---------------+\n",
            "\n"
          ]
        }
      ]
    },
    {
      "cell_type": "code",
      "source": [],
      "metadata": {
        "id": "Ie_vHyoz-n5L"
      },
      "execution_count": null,
      "outputs": []
    }
  ]
}
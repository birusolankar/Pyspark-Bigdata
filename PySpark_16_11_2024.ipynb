{
  "nbformat": 4,
  "nbformat_minor": 0,
  "metadata": {
    "colab": {
      "provenance": [],
      "authorship_tag": "ABX9TyMZwvv017XwnZfF8fRqMWLR",
      "include_colab_link": true
    },
    "kernelspec": {
      "name": "python3",
      "display_name": "Python 3"
    },
    "language_info": {
      "name": "python"
    }
  },
  "cells": [
    {
      "cell_type": "markdown",
      "metadata": {
        "id": "view-in-github",
        "colab_type": "text"
      },
      "source": [
        "<a href=\"https://colab.research.google.com/github/birusolankar/Pyspark-Bigdata/blob/main/PySpark_16_11_2024.ipynb\" target=\"_parent\"><img src=\"https://colab.research.google.com/assets/colab-badge.svg\" alt=\"Open In Colab\"/></a>"
      ]
    },
    {
      "cell_type": "code",
      "source": [
        "import pyspark"
      ],
      "metadata": {
        "id": "sk_bFoBEnuvS"
      },
      "execution_count": 1,
      "outputs": []
    },
    {
      "cell_type": "code",
      "execution_count": 2,
      "metadata": {
        "id": "xAe9QJL3neDM"
      },
      "outputs": [],
      "source": [
        "from pyspark.sql import functions as f\n",
        "from pyspark.sql import SparkSession\n",
        "\n",
        "from pyspark.sql.window import Window"
      ]
    },
    {
      "cell_type": "code",
      "source": [
        "spark = SparkSession.builder.appName('sample').getOrCreate()"
      ],
      "metadata": {
        "id": "mOm6bmCaoFtX"
      },
      "execution_count": 3,
      "outputs": []
    },
    {
      "cell_type": "code",
      "source": [
        "# help(spark.createDataFrame)"
      ],
      "metadata": {
        "id": "wKaW9fVHnsxd"
      },
      "execution_count": 4,
      "outputs": []
    },
    {
      "cell_type": "code",
      "source": [
        "# creating a dataframe from the scratch\n",
        "\n",
        "data = [(1, 'Biru', 'data analyst'),\n",
        "        (2, 'Laxmi', 'Revenue officer'),\n",
        "        (3, 'Anuj', 'Data Engineer'),\n",
        "        (4, 'Shubham', 'Cloud Engineer'),\n",
        "        (5, 'Manali', 'Security analsy')]\n",
        "\n",
        "df = spark.createDataFrame(data)"
      ],
      "metadata": {
        "id": "Kcn3-Oyqn6in"
      },
      "execution_count": 5,
      "outputs": []
    },
    {
      "cell_type": "code",
      "source": [
        "from pyspark.sql.functions import *\n",
        "from pyspark.sql.types import StructType, StructField, StringType, IntegerType"
      ],
      "metadata": {
        "id": "4GWSsKOOsG1t"
      },
      "execution_count": 6,
      "outputs": []
    },
    {
      "cell_type": "code",
      "source": [
        "df.printSchema()"
      ],
      "metadata": {
        "colab": {
          "base_uri": "https://localhost:8080/"
        },
        "id": "gUUCz7JEr-jd",
        "outputId": "ee70ead6-5f55-434c-a321-7ac9099bdfec"
      },
      "execution_count": 7,
      "outputs": [
        {
          "output_type": "stream",
          "name": "stdout",
          "text": [
            "root\n",
            " |-- _1: long (nullable = true)\n",
            " |-- _2: string (nullable = true)\n",
            " |-- _3: string (nullable = true)\n",
            "\n"
          ]
        }
      ]
    },
    {
      "cell_type": "code",
      "source": [
        "df.show()"
      ],
      "metadata": {
        "colab": {
          "base_uri": "https://localhost:8080/"
        },
        "id": "QQF2s_EMrmtP",
        "outputId": "63020925-69f0-41f0-b887-0472fe884d04"
      },
      "execution_count": 8,
      "outputs": [
        {
          "output_type": "stream",
          "name": "stdout",
          "text": [
            "+---+-------+---------------+\n",
            "| _1|     _2|             _3|\n",
            "+---+-------+---------------+\n",
            "|  1|   Biru|   data analyst|\n",
            "|  2|  Laxmi|Revenue officer|\n",
            "|  3|   Anuj|  Data Engineer|\n",
            "|  4|Shubham| Cloud Engineer|\n",
            "|  5| Manali|Security analsy|\n",
            "+---+-------+---------------+\n",
            "\n"
          ]
        }
      ]
    },
    {
      "cell_type": "code",
      "source": [
        "df = spark.createDataFrame(data = data, schema = ['id', 'name', 'role'])"
      ],
      "metadata": {
        "id": "CZGpWAXJrn1D"
      },
      "execution_count": 9,
      "outputs": []
    },
    {
      "cell_type": "code",
      "source": [
        "df.show()"
      ],
      "metadata": {
        "colab": {
          "base_uri": "https://localhost:8080/"
        },
        "id": "Q50Dz2G6r6v8",
        "outputId": "8c9e77a5-168b-4266-8de2-39432fe5fe83"
      },
      "execution_count": 10,
      "outputs": [
        {
          "output_type": "stream",
          "name": "stdout",
          "text": [
            "+---+-------+---------------+\n",
            "| id|   name|           role|\n",
            "+---+-------+---------------+\n",
            "|  1|   Biru|   data analyst|\n",
            "|  2|  Laxmi|Revenue officer|\n",
            "|  3|   Anuj|  Data Engineer|\n",
            "|  4|Shubham| Cloud Engineer|\n",
            "|  5| Manali|Security analsy|\n",
            "+---+-------+---------------+\n",
            "\n"
          ]
        }
      ]
    },
    {
      "cell_type": "code",
      "source": [
        "\n",
        "data = [(1, 'Biru', 'data analyst'),\n",
        "        (2, 'Laxmi', 'Revenue officer'),\n",
        "        (3, 'Anuj', 'Data Engineer'),\n",
        "        (4, 'Shubham', 'Cloud Engineer'),\n",
        "        (5, 'Manali', 'Security analsy')]\n",
        "\n",
        "schema = StructType([\n",
        "    StructField(name = 'id', dataType = IntegerType()),\n",
        "    StructField(name = 'name', dataType =  StringType()),\n",
        "    StructField(name = 'role', dataType = StringType())\n",
        "])\n",
        "\n",
        "df = spark.createDataFrame(data = data, schema = schema)"
      ],
      "metadata": {
        "id": "cny5dHFHr8SP"
      },
      "execution_count": 11,
      "outputs": []
    },
    {
      "cell_type": "code",
      "source": [
        "df.show()"
      ],
      "metadata": {
        "colab": {
          "base_uri": "https://localhost:8080/"
        },
        "id": "otBLVKf8tOjB",
        "outputId": "8b690347-39b6-426b-bd56-8d1390cc1e8d"
      },
      "execution_count": 12,
      "outputs": [
        {
          "output_type": "stream",
          "name": "stdout",
          "text": [
            "+---+-------+---------------+\n",
            "| id|   name|           role|\n",
            "+---+-------+---------------+\n",
            "|  1|   Biru|   data analyst|\n",
            "|  2|  Laxmi|Revenue officer|\n",
            "|  3|   Anuj|  Data Engineer|\n",
            "|  4|Shubham| Cloud Engineer|\n",
            "|  5| Manali|Security analsy|\n",
            "+---+-------+---------------+\n",
            "\n"
          ]
        }
      ]
    },
    {
      "cell_type": "code",
      "source": [
        "from pyspark.sql.functions import split\n",
        "from pyspark.sql.functions import regexp_replace"
      ],
      "metadata": {
        "id": "6tcQw594wMmZ"
      },
      "execution_count": 13,
      "outputs": []
    },
    {
      "cell_type": "code",
      "source": [
        "df.withColumn('new_role', regexp_replace(col('role'), ' ', '')).show()"
      ],
      "metadata": {
        "colab": {
          "base_uri": "https://localhost:8080/"
        },
        "id": "KlRVZa8DusFW",
        "outputId": "efabec49-ed4e-477c-a7be-102f0a1c62e9"
      },
      "execution_count": 14,
      "outputs": [
        {
          "output_type": "stream",
          "name": "stdout",
          "text": [
            "+---+-------+---------------+--------------+\n",
            "| id|   name|           role|      new_role|\n",
            "+---+-------+---------------+--------------+\n",
            "|  1|   Biru|   data analyst|   dataanalyst|\n",
            "|  2|  Laxmi|Revenue officer|Revenueofficer|\n",
            "|  3|   Anuj|  Data Engineer|  DataEngineer|\n",
            "|  4|Shubham| Cloud Engineer| CloudEngineer|\n",
            "|  5| Manali|Security analsy|Securityanalsy|\n",
            "+---+-------+---------------+--------------+\n",
            "\n"
          ]
        }
      ]
    },
    {
      "cell_type": "code",
      "source": [
        "df.withColumn('new_role', split(col('role'), ' ')).show(truncate = False)"
      ],
      "metadata": {
        "colab": {
          "base_uri": "https://localhost:8080/"
        },
        "id": "AdgGhshKvYHq",
        "outputId": "3a5557aa-616f-4986-ae0e-8b41b22ed4be"
      },
      "execution_count": 15,
      "outputs": [
        {
          "output_type": "stream",
          "name": "stdout",
          "text": [
            "+---+-------+---------------+------------------+\n",
            "|id |name   |role           |new_role          |\n",
            "+---+-------+---------------+------------------+\n",
            "|1  |Biru   |data analyst   |[data, analyst]   |\n",
            "|2  |Laxmi  |Revenue officer|[Revenue, officer]|\n",
            "|3  |Anuj   |Data Engineer  |[Data, Engineer]  |\n",
            "|4  |Shubham|Cloud Engineer |[Cloud, Engineer] |\n",
            "|5  |Manali |Security analsy|[Security, analsy]|\n",
            "+---+-------+---------------+------------------+\n",
            "\n"
          ]
        }
      ]
    },
    {
      "cell_type": "code",
      "source": [
        "for row in df.select(col('name')).collect():\n",
        "  print(row['name'].lower())"
      ],
      "metadata": {
        "colab": {
          "base_uri": "https://localhost:8080/"
        },
        "id": "yrII4aCSwe_j",
        "outputId": "3350ac5c-95c2-4455-ef5f-73879a8e000c"
      },
      "execution_count": 16,
      "outputs": [
        {
          "output_type": "stream",
          "name": "stdout",
          "text": [
            "biru\n",
            "laxmi\n",
            "anuj\n",
            "shubham\n",
            "manali\n"
          ]
        }
      ]
    },
    {
      "cell_type": "code",
      "source": [
        "df.select(col('name')).collect()"
      ],
      "metadata": {
        "colab": {
          "base_uri": "https://localhost:8080/"
        },
        "id": "Z-uFzIRrx8zr",
        "outputId": "d3485279-1073-4757-fd39-7063b56d3bf1"
      },
      "execution_count": 17,
      "outputs": [
        {
          "output_type": "execute_result",
          "data": {
            "text/plain": [
              "[Row(name='Biru'),\n",
              " Row(name='Laxmi'),\n",
              " Row(name='Anuj'),\n",
              " Row(name='Shubham'),\n",
              " Row(name='Manali')]"
            ]
          },
          "metadata": {},
          "execution_count": 17
        }
      ]
    },
    {
      "cell_type": "code",
      "source": [
        "df.collect()"
      ],
      "metadata": {
        "colab": {
          "base_uri": "https://localhost:8080/"
        },
        "id": "JBD2xGELysMf",
        "outputId": "9d370258-3534-47c1-b573-8bc6b6c91a62"
      },
      "execution_count": 18,
      "outputs": [
        {
          "output_type": "execute_result",
          "data": {
            "text/plain": [
              "[Row(id=1, name='Biru', role='data analyst'),\n",
              " Row(id=2, name='Laxmi', role='Revenue officer'),\n",
              " Row(id=3, name='Anuj', role='Data Engineer'),\n",
              " Row(id=4, name='Shubham', role='Cloud Engineer'),\n",
              " Row(id=5, name='Manali', role='Security analsy')]"
            ]
          },
          "metadata": {},
          "execution_count": 18
        }
      ]
    },
    {
      "cell_type": "code",
      "source": [
        "name = 'biru'\n",
        "name.upper()"
      ],
      "metadata": {
        "colab": {
          "base_uri": "https://localhost:8080/",
          "height": 35
        },
        "id": "bTWLDmW0zRG5",
        "outputId": "10bdea2c-0387-4b16-9ad6-e9341fa80b9a"
      },
      "execution_count": 19,
      "outputs": [
        {
          "output_type": "execute_result",
          "data": {
            "text/plain": [
              "'BIRU'"
            ],
            "application/vnd.google.colaboratory.intrinsic+json": {
              "type": "string"
            }
          },
          "metadata": {},
          "execution_count": 19
        }
      ]
    },
    {
      "cell_type": "code",
      "source": [
        "data = [(10, 'cloth', 10000),\n",
        "        (11, 'toy', 30000),\n",
        "\t      (12, 'toy', 2453),\n",
        "\t      (13, 'books', 5000),\n",
        "\t      (14, 'books', 2354),\n",
        "\t      (15, 'cloth', 2341),\n",
        "        (16, 'cloth', 1000),\n",
        "        (17, 'toy', 3000),\n",
        "\t      (18, 'toy', 2753),\n",
        "        (18, 'books', 5400),\n",
        "        (19, 'books', 2054),\n",
        "        (20, 'cloth', 5541)]\n",
        "\n",
        "schema = ['customerid', 'product_category', 'order_amount']\n",
        "\n",
        "df = spark.createDataFrame(data = data, schema = schema)"
      ],
      "metadata": {
        "id": "Jp4eAYTTzcPy"
      },
      "execution_count": 20,
      "outputs": []
    },
    {
      "cell_type": "code",
      "source": [
        "# top customer with order amount for each category\n",
        "df.withColumn('amount_rank', f.dense_rank().over(Window.partitionBy('product_category').orderBy(col('order_amount').desc())))\\\n",
        ".filter(col('amount_rank') <=2)\\\n",
        ".show()"
      ],
      "metadata": {
        "colab": {
          "base_uri": "https://localhost:8080/"
        },
        "id": "PPIA_ZHc6rr7",
        "outputId": "5b295444-f642-4822-de0a-f3b917c0d9fc"
      },
      "execution_count": 21,
      "outputs": [
        {
          "output_type": "stream",
          "name": "stdout",
          "text": [
            "+----------+----------------+------------+-----------+\n",
            "|customerid|product_category|order_amount|amount_rank|\n",
            "+----------+----------------+------------+-----------+\n",
            "|        18|           books|        5400|          1|\n",
            "|        13|           books|        5000|          2|\n",
            "|        10|           cloth|       10000|          1|\n",
            "|        20|           cloth|        5541|          2|\n",
            "|        11|             toy|       30000|          1|\n",
            "|        17|             toy|        3000|          2|\n",
            "+----------+----------------+------------+-----------+\n",
            "\n"
          ]
        }
      ]
    },
    {
      "cell_type": "code",
      "source": [
        "from pyspark.sql.functions import dense_rank, rank, row_number"
      ],
      "metadata": {
        "id": "kdtARFCD62P4"
      },
      "execution_count": 22,
      "outputs": []
    },
    {
      "cell_type": "code",
      "source": [
        "df.withColumn('amount_rank', dense_rank().over(Window.partitionBy('product_category').orderBy(col('order_amount').desc())))\\\n",
        ".filter(col('amount_rank') <=2)\\\n",
        ".show()"
      ],
      "metadata": {
        "colab": {
          "base_uri": "https://localhost:8080/"
        },
        "id": "7L-liyxI_AEz",
        "outputId": "55659021-d7a0-44b1-a4d6-639358a17c88"
      },
      "execution_count": 23,
      "outputs": [
        {
          "output_type": "stream",
          "name": "stdout",
          "text": [
            "+----------+----------------+------------+-----------+\n",
            "|customerid|product_category|order_amount|amount_rank|\n",
            "+----------+----------------+------------+-----------+\n",
            "|        18|           books|        5400|          1|\n",
            "|        13|           books|        5000|          2|\n",
            "|        10|           cloth|       10000|          1|\n",
            "|        20|           cloth|        5541|          2|\n",
            "|        11|             toy|       30000|          1|\n",
            "|        17|             toy|        3000|          2|\n",
            "+----------+----------------+------------+-----------+\n",
            "\n"
          ]
        }
      ]
    },
    {
      "cell_type": "code",
      "source": [
        "df.withColumn(\"row_number\", row_number().over(Window.partitionBy(col('product_category')).orderBy(col('order_amount').desc())))\\\n",
        ".filter(col('row_number') <=2).show()"
      ],
      "metadata": {
        "colab": {
          "base_uri": "https://localhost:8080/"
        },
        "id": "k2rQRfXz_IkL",
        "outputId": "d00ed595-e1bc-4ff2-d899-3df87cf6440e"
      },
      "execution_count": 25,
      "outputs": [
        {
          "output_type": "stream",
          "name": "stdout",
          "text": [
            "+----------+----------------+------------+----------+\n",
            "|customerid|product_category|order_amount|row_number|\n",
            "+----------+----------------+------------+----------+\n",
            "|        18|           books|        5400|         1|\n",
            "|        13|           books|        5000|         2|\n",
            "|        10|           cloth|       10000|         1|\n",
            "|        20|           cloth|        5541|         2|\n",
            "|        11|             toy|       30000|         1|\n",
            "|        17|             toy|        3000|         2|\n",
            "+----------+----------------+------------+----------+\n",
            "\n"
          ]
        }
      ]
    },
    {
      "cell_type": "code",
      "source": [
        "# check whether column contains alphnumeric values\n",
        "df.select(col('product_category').cast('int').isNotNull()).show()"
      ],
      "metadata": {
        "colab": {
          "base_uri": "https://localhost:8080/"
        },
        "id": "1Ee7ZaetDe5D",
        "outputId": "2e5f32ca-6db4-4642-f727-7943c1225cab"
      },
      "execution_count": 29,
      "outputs": [
        {
          "output_type": "stream",
          "name": "stdout",
          "text": [
            "+-------------------------------------------+\n",
            "|(CAST(product_category AS INT) IS NOT NULL)|\n",
            "+-------------------------------------------+\n",
            "|                                      false|\n",
            "|                                      false|\n",
            "|                                      false|\n",
            "|                                      false|\n",
            "|                                      false|\n",
            "|                                      false|\n",
            "|                                      false|\n",
            "|                                      false|\n",
            "|                                      false|\n",
            "|                                      false|\n",
            "|                                      false|\n",
            "|                                      false|\n",
            "+-------------------------------------------+\n",
            "\n"
          ]
        }
      ]
    },
    {
      "cell_type": "code",
      "source": [],
      "metadata": {
        "id": "IHnAyjTRFM2w"
      },
      "execution_count": null,
      "outputs": []
    }
  ]
}
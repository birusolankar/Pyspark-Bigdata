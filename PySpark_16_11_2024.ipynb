{
  "nbformat": 4,
  "nbformat_minor": 0,
  "metadata": {
    "colab": {
      "provenance": [],
      "authorship_tag": "ABX9TyNksqRBw3Be6Nwn6qLdjHgw",
      "include_colab_link": true
    },
    "kernelspec": {
      "name": "python3",
      "display_name": "Python 3"
    },
    "language_info": {
      "name": "python"
    }
  },
  "cells": [
    {
      "cell_type": "markdown",
      "metadata": {
        "id": "view-in-github",
        "colab_type": "text"
      },
      "source": [
        "<a href=\"https://colab.research.google.com/github/birusolankar/Pyspark-Bigdata/blob/main/PySpark_16_11_2024.ipynb\" target=\"_parent\"><img src=\"https://colab.research.google.com/assets/colab-badge.svg\" alt=\"Open In Colab\"/></a>"
      ]
    },
    {
      "cell_type": "code",
      "source": [
        "import pyspark"
      ],
      "metadata": {
        "id": "sk_bFoBEnuvS"
      },
      "execution_count": 2,
      "outputs": []
    },
    {
      "cell_type": "code",
      "execution_count": 9,
      "metadata": {
        "id": "xAe9QJL3neDM"
      },
      "outputs": [],
      "source": [
        "from pyspark.sql import functions as f\n",
        "from pyspark.sql import SparkSession"
      ]
    },
    {
      "cell_type": "code",
      "source": [
        "spark = SparkSession.builder.appName('sample').getOrCreate()"
      ],
      "metadata": {
        "id": "mOm6bmCaoFtX"
      },
      "execution_count": 10,
      "outputs": []
    },
    {
      "cell_type": "code",
      "source": [
        "# help(spark.createDataFrame)"
      ],
      "metadata": {
        "id": "wKaW9fVHnsxd"
      },
      "execution_count": 13,
      "outputs": []
    },
    {
      "cell_type": "code",
      "source": [
        "# creating a dataframe from the scratch\n",
        "\n",
        "data = [(1, 'Biru', 'data analyst'),\n",
        "        (2, 'Laxmi', 'Revenue officer'),\n",
        "        (3, 'Anuj', 'Data Engineer'),\n",
        "        (4, 'Shubham', 'Cloud Engineer'),\n",
        "        (5, 'Manali', 'Security analsy')]\n",
        "\n",
        "df = spark.createDataFrame(data)"
      ],
      "metadata": {
        "id": "Kcn3-Oyqn6in"
      },
      "execution_count": 14,
      "outputs": []
    },
    {
      "cell_type": "code",
      "source": [
        "from pyspark.sql.functions import *\n",
        "from pyspark.sql.types import StructType, StructField, StringType, IntegerType"
      ],
      "metadata": {
        "id": "4GWSsKOOsG1t"
      },
      "execution_count": 25,
      "outputs": []
    },
    {
      "cell_type": "code",
      "source": [
        "df.printSchema()"
      ],
      "metadata": {
        "colab": {
          "base_uri": "https://localhost:8080/"
        },
        "id": "gUUCz7JEr-jd",
        "outputId": "4daf20ce-4494-4730-f191-f021c39b487b"
      },
      "execution_count": 18,
      "outputs": [
        {
          "output_type": "stream",
          "name": "stdout",
          "text": [
            "root\n",
            " |-- id: long (nullable = true)\n",
            " |-- name: string (nullable = true)\n",
            " |-- role: string (nullable = true)\n",
            "\n"
          ]
        }
      ]
    },
    {
      "cell_type": "code",
      "source": [
        "df.show()"
      ],
      "metadata": {
        "colab": {
          "base_uri": "https://localhost:8080/"
        },
        "id": "QQF2s_EMrmtP",
        "outputId": "e92cac1b-4e28-404f-8e5c-41abe7fd4960"
      },
      "execution_count": 15,
      "outputs": [
        {
          "output_type": "stream",
          "name": "stdout",
          "text": [
            "+---+-------+---------------+\n",
            "| _1|     _2|             _3|\n",
            "+---+-------+---------------+\n",
            "|  1|   Biru|   data analyst|\n",
            "|  2|  Laxmi|Revenue officer|\n",
            "|  3|   Anuj|  Data Engineer|\n",
            "|  4|Shubham| Cloud Engineer|\n",
            "|  5| Manali|Security analsy|\n",
            "+---+-------+---------------+\n",
            "\n"
          ]
        }
      ]
    },
    {
      "cell_type": "code",
      "source": [
        "df = spark.createDataFrame(data = data, schema = ['id', 'name', 'role'])"
      ],
      "metadata": {
        "id": "CZGpWAXJrn1D"
      },
      "execution_count": 16,
      "outputs": []
    },
    {
      "cell_type": "code",
      "source": [
        "df.show()"
      ],
      "metadata": {
        "colab": {
          "base_uri": "https://localhost:8080/"
        },
        "id": "Q50Dz2G6r6v8",
        "outputId": "08407ccd-b8d1-4934-f6a7-c3422581c0a1"
      },
      "execution_count": 17,
      "outputs": [
        {
          "output_type": "stream",
          "name": "stdout",
          "text": [
            "+---+-------+---------------+\n",
            "| id|   name|           role|\n",
            "+---+-------+---------------+\n",
            "|  1|   Biru|   data analyst|\n",
            "|  2|  Laxmi|Revenue officer|\n",
            "|  3|   Anuj|  Data Engineer|\n",
            "|  4|Shubham| Cloud Engineer|\n",
            "|  5| Manali|Security analsy|\n",
            "+---+-------+---------------+\n",
            "\n"
          ]
        }
      ]
    },
    {
      "cell_type": "code",
      "source": [
        "\n",
        "data = [(1, 'Biru', 'data analyst'),\n",
        "        (2, 'Laxmi', 'Revenue officer'),\n",
        "        (3, 'Anuj', 'Data Engineer'),\n",
        "        (4, 'Shubham', 'Cloud Engineer'),\n",
        "        (5, 'Manali', 'Security analsy')]\n",
        "\n",
        "schema = StructType([\n",
        "    StructField(name = 'id', dataType = IntegerType()),\n",
        "    StructField(name = 'name', dataType =  StringType()),\n",
        "    StructField(name = 'role', dataType = StringType())\n",
        "])\n",
        "\n",
        "df = spark.createDataFrame(data = data, schema = schema)"
      ],
      "metadata": {
        "id": "cny5dHFHr8SP"
      },
      "execution_count": 28,
      "outputs": []
    },
    {
      "cell_type": "code",
      "source": [
        "df.show()"
      ],
      "metadata": {
        "colab": {
          "base_uri": "https://localhost:8080/"
        },
        "id": "otBLVKf8tOjB",
        "outputId": "d7f8300f-88cd-4ed2-d239-daf7bc3117b8"
      },
      "execution_count": 29,
      "outputs": [
        {
          "output_type": "stream",
          "name": "stdout",
          "text": [
            "+---+-------+---------------+\n",
            "| id|   name|           role|\n",
            "+---+-------+---------------+\n",
            "|  1|   Biru|   data analyst|\n",
            "|  2|  Laxmi|Revenue officer|\n",
            "|  3|   Anuj|  Data Engineer|\n",
            "|  4|Shubham| Cloud Engineer|\n",
            "|  5| Manali|Security analsy|\n",
            "+---+-------+---------------+\n",
            "\n"
          ]
        }
      ]
    },
    {
      "cell_type": "code",
      "source": [
        "from pyspark.sql.functions import split\n",
        "from pyspark.sql.functions import regexp_replace"
      ],
      "metadata": {
        "id": "6tcQw594wMmZ"
      },
      "execution_count": 46,
      "outputs": []
    },
    {
      "cell_type": "code",
      "source": [
        "df.withColumn('new_role', regexp_replace(col('role'), ' ', '')).show()"
      ],
      "metadata": {
        "colab": {
          "base_uri": "https://localhost:8080/"
        },
        "id": "KlRVZa8DusFW",
        "outputId": "2816e667-a5e4-4379-900c-430df1f048af"
      },
      "execution_count": 47,
      "outputs": [
        {
          "output_type": "stream",
          "name": "stdout",
          "text": [
            "+---+-------+---------------+--------------+\n",
            "| id|   name|           role|      new_role|\n",
            "+---+-------+---------------+--------------+\n",
            "|  1|   Biru|   data analyst|   dataanalyst|\n",
            "|  2|  Laxmi|Revenue officer|Revenueofficer|\n",
            "|  3|   Anuj|  Data Engineer|  DataEngineer|\n",
            "|  4|Shubham| Cloud Engineer| CloudEngineer|\n",
            "|  5| Manali|Security analsy|Securityanalsy|\n",
            "+---+-------+---------------+--------------+\n",
            "\n"
          ]
        }
      ]
    },
    {
      "cell_type": "code",
      "source": [
        "df.withColumn('new_role', split(col('role'), ' ')).show(truncate = False)"
      ],
      "metadata": {
        "colab": {
          "base_uri": "https://localhost:8080/"
        },
        "id": "AdgGhshKvYHq",
        "outputId": "10335008-97d0-43f9-add4-3f634d97e203"
      },
      "execution_count": 48,
      "outputs": [
        {
          "output_type": "stream",
          "name": "stdout",
          "text": [
            "+---+-------+---------------+------------------+\n",
            "|id |name   |role           |new_role          |\n",
            "+---+-------+---------------+------------------+\n",
            "|1  |Biru   |data analyst   |[data, analyst]   |\n",
            "|2  |Laxmi  |Revenue officer|[Revenue, officer]|\n",
            "|3  |Anuj   |Data Engineer  |[Data, Engineer]  |\n",
            "|4  |Shubham|Cloud Engineer |[Cloud, Engineer] |\n",
            "|5  |Manali |Security analsy|[Security, analsy]|\n",
            "+---+-------+---------------+------------------+\n",
            "\n"
          ]
        }
      ]
    },
    {
      "cell_type": "code",
      "source": [
        "for row in df.select(col('name')).collect():\n",
        "  print(row['name'].lower())"
      ],
      "metadata": {
        "colab": {
          "base_uri": "https://localhost:8080/"
        },
        "id": "yrII4aCSwe_j",
        "outputId": "67bd8215-38b8-4175-9d17-2a817df2280e"
      },
      "execution_count": 65,
      "outputs": [
        {
          "output_type": "stream",
          "name": "stdout",
          "text": [
            "biru\n",
            "laxmi\n",
            "anuj\n",
            "shubham\n",
            "manali\n"
          ]
        }
      ]
    },
    {
      "cell_type": "code",
      "source": [
        "df.select(col('name')).collect()"
      ],
      "metadata": {
        "colab": {
          "base_uri": "https://localhost:8080/"
        },
        "id": "Z-uFzIRrx8zr",
        "outputId": "3d4e0189-983d-402e-b661-0082b41c9d34"
      },
      "execution_count": 57,
      "outputs": [
        {
          "output_type": "execute_result",
          "data": {
            "text/plain": [
              "[Row(name='Biru'),\n",
              " Row(name='Laxmi'),\n",
              " Row(name='Anuj'),\n",
              " Row(name='Shubham'),\n",
              " Row(name='Manali')]"
            ]
          },
          "metadata": {},
          "execution_count": 57
        }
      ]
    },
    {
      "cell_type": "code",
      "source": [
        "df.collect()"
      ],
      "metadata": {
        "colab": {
          "base_uri": "https://localhost:8080/"
        },
        "id": "JBD2xGELysMf",
        "outputId": "8370a66a-f9e3-4605-81af-f62ce21d662c"
      },
      "execution_count": 62,
      "outputs": [
        {
          "output_type": "execute_result",
          "data": {
            "text/plain": [
              "[Row(id=1, name='Biru', role='data analyst'),\n",
              " Row(id=2, name='Laxmi', role='Revenue officer'),\n",
              " Row(id=3, name='Anuj', role='Data Engineer'),\n",
              " Row(id=4, name='Shubham', role='Cloud Engineer'),\n",
              " Row(id=5, name='Manali', role='Security analsy')]"
            ]
          },
          "metadata": {},
          "execution_count": 62
        }
      ]
    },
    {
      "cell_type": "code",
      "source": [
        "name = 'biru'\n",
        "name.upper()"
      ],
      "metadata": {
        "colab": {
          "base_uri": "https://localhost:8080/",
          "height": 35
        },
        "id": "bTWLDmW0zRG5",
        "outputId": "be301258-bf7d-44df-d9ff-6fa0f677bf80"
      },
      "execution_count": 63,
      "outputs": [
        {
          "output_type": "execute_result",
          "data": {
            "text/plain": [
              "'BIRU'"
            ],
            "application/vnd.google.colaboratory.intrinsic+json": {
              "type": "string"
            }
          },
          "metadata": {},
          "execution_count": 63
        }
      ]
    },
    {
      "cell_type": "code",
      "source": [],
      "metadata": {
        "id": "Jp4eAYTTzcPy"
      },
      "execution_count": null,
      "outputs": []
    }
  ]
}
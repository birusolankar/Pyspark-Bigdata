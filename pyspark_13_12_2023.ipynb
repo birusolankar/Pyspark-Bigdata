{
  "nbformat": 4,
  "nbformat_minor": 0,
  "metadata": {
    "colab": {
      "provenance": [],
      "authorship_tag": "ABX9TyNx3ITkSCWSVI8jOtIWa9Hw",
      "include_colab_link": true
    },
    "kernelspec": {
      "name": "python3",
      "display_name": "Python 3"
    },
    "language_info": {
      "name": "python"
    }
  },
  "cells": [
    {
      "cell_type": "markdown",
      "metadata": {
        "id": "view-in-github",
        "colab_type": "text"
      },
      "source": [
        "<a href=\"https://colab.research.google.com/github/birusolankar/Pyspark-Bigdata/blob/main/pyspark_13_12_2023.ipynb\" target=\"_parent\"><img src=\"https://colab.research.google.com/assets/colab-badge.svg\" alt=\"Open In Colab\"/></a>"
      ]
    },
    {
      "cell_type": "code",
      "execution_count": 1,
      "metadata": {
        "id": "N7RyXroZT-sD"
      },
      "outputs": [],
      "source": [
        "import pandas as pd\n",
        "import numpy as np"
      ]
    },
    {
      "cell_type": "code",
      "source": [
        "emp = pd.read_csv(\"/content/Employee_1.csv\")"
      ],
      "metadata": {
        "id": "mvtTYRNNUIar"
      },
      "execution_count": 2,
      "outputs": []
    },
    {
      "cell_type": "code",
      "source": [
        "pip install pyspark"
      ],
      "metadata": {
        "colab": {
          "base_uri": "https://localhost:8080/"
        },
        "id": "eqPGww-LUvsB",
        "outputId": "708cf892-b4d3-41f1-cb9e-90b8487fff31"
      },
      "execution_count": 3,
      "outputs": [
        {
          "output_type": "stream",
          "name": "stdout",
          "text": [
            "Collecting pyspark\n",
            "  Downloading pyspark-3.5.0.tar.gz (316.9 MB)\n",
            "\u001b[2K     \u001b[90m━━━━━━━━━━━━━━━━━━━━━━━━━━━━━━━━━━━━━━━━\u001b[0m \u001b[32m316.9/316.9 MB\u001b[0m \u001b[31m3.5 MB/s\u001b[0m eta \u001b[36m0:00:00\u001b[0m\n",
            "\u001b[?25h  Preparing metadata (setup.py) ... \u001b[?25l\u001b[?25hdone\n",
            "Requirement already satisfied: py4j==0.10.9.7 in /usr/local/lib/python3.10/dist-packages (from pyspark) (0.10.9.7)\n",
            "Building wheels for collected packages: pyspark\n",
            "  Building wheel for pyspark (setup.py) ... \u001b[?25l\u001b[?25hdone\n",
            "  Created wheel for pyspark: filename=pyspark-3.5.0-py2.py3-none-any.whl size=317425345 sha256=008857b9faacf77aa9c88168a46e73a574a3aaee578355697fcd57f384454050\n",
            "  Stored in directory: /root/.cache/pip/wheels/41/4e/10/c2cf2467f71c678cfc8a6b9ac9241e5e44a01940da8fbb17fc\n",
            "Successfully built pyspark\n",
            "Installing collected packages: pyspark\n",
            "Successfully installed pyspark-3.5.0\n"
          ]
        }
      ]
    },
    {
      "cell_type": "code",
      "source": [
        "from pyspark.sql import SparkSession"
      ],
      "metadata": {
        "id": "8UU9PZgrUkob"
      },
      "execution_count": 4,
      "outputs": []
    },
    {
      "cell_type": "code",
      "source": [],
      "metadata": {
        "id": "E0toeWcAUkk9"
      },
      "execution_count": 4,
      "outputs": []
    },
    {
      "cell_type": "code",
      "source": [
        "spark = SparkSession.builder.appName('day2').getOrCreate()"
      ],
      "metadata": {
        "id": "F3KcI_CHUSq5"
      },
      "execution_count": 5,
      "outputs": []
    },
    {
      "cell_type": "code",
      "source": [
        "df = spark.read.csv(\"/content/Employee_1.csv\", header=True, inferSchema=True)"
      ],
      "metadata": {
        "id": "ZendFNViUiJQ"
      },
      "execution_count": 6,
      "outputs": []
    },
    {
      "cell_type": "code",
      "source": [
        "df.show(4)"
      ],
      "metadata": {
        "colab": {
          "base_uri": "https://localhost:8080/"
        },
        "id": "XNBcUqCcVcgE",
        "outputId": "70c1ec1e-7886-4a0b-d944-d0688510bacf"
      },
      "execution_count": 7,
      "outputs": [
        {
          "output_type": "stream",
          "name": "stdout",
          "text": [
            "+---------+-----------+---------+-----------+---+------+-----------+-------------------------+----------+\n",
            "|Education|JoiningYear|     City|PaymentTier|Age|Gender|EverBenched|ExperienceInCurrentDomain|LeaveOrNot|\n",
            "+---------+-----------+---------+-----------+---+------+-----------+-------------------------+----------+\n",
            "|Bachelors|       2017|Bangalore|          3| 34|  Male|         No|                        0|         0|\n",
            "|Bachelors|       2013|     Pune|          1| 28|Female|         No|                        3|         1|\n",
            "|Bachelors|       2014|New Delhi|          3| 38|Female|         No|                        2|         0|\n",
            "|  Masters|       2016|Bangalore|          3| 27|  Male|         No|                        5|         1|\n",
            "+---------+-----------+---------+-----------+---+------+-----------+-------------------------+----------+\n",
            "only showing top 4 rows\n",
            "\n"
          ]
        }
      ]
    },
    {
      "cell_type": "code",
      "source": [
        "df.select(df['PaymentTier']).distinct().orderBy('PaymentTier').show()"
      ],
      "metadata": {
        "colab": {
          "base_uri": "https://localhost:8080/"
        },
        "id": "lO2ABEighCrt",
        "outputId": "fa32d512-ea23-49ae-e690-bedf22e59d95"
      },
      "execution_count": 8,
      "outputs": [
        {
          "output_type": "stream",
          "name": "stdout",
          "text": [
            "+-----------+\n",
            "|PaymentTier|\n",
            "+-----------+\n",
            "|          1|\n",
            "|          2|\n",
            "|          3|\n",
            "+-----------+\n",
            "\n"
          ]
        }
      ]
    },
    {
      "cell_type": "code",
      "source": [
        "df.filter('Age is not null').count()"
      ],
      "metadata": {
        "colab": {
          "base_uri": "https://localhost:8080/"
        },
        "id": "MVt7j0E_Vfyr",
        "outputId": "7d69c701-1d69-45c7-8c13-67483d90157d"
      },
      "execution_count": 9,
      "outputs": [
        {
          "output_type": "execute_result",
          "data": {
            "text/plain": [
              "4653"
            ]
          },
          "metadata": {},
          "execution_count": 9
        }
      ]
    },
    {
      "cell_type": "markdown",
      "source": [
        "#GroupBy operations\n"
      ],
      "metadata": {
        "id": "ap96hytEaCC1"
      }
    },
    {
      "cell_type": "code",
      "source": [
        "df.groupBy('Education').sum('Age').show()"
      ],
      "metadata": {
        "colab": {
          "base_uri": "https://localhost:8080/"
        },
        "id": "RgB7LopSZsoH",
        "outputId": "38e6e839-77ef-450d-d509-8be2ec9ed855"
      },
      "execution_count": 10,
      "outputs": [
        {
          "output_type": "stream",
          "name": "stdout",
          "text": [
            "+---------+--------+\n",
            "|Education|sum(Age)|\n",
            "+---------+--------+\n",
            "|  Masters|   25571|\n",
            "|Bachelors|  105952|\n",
            "|      PHD|    5244|\n",
            "+---------+--------+\n",
            "\n"
          ]
        }
      ]
    },
    {
      "cell_type": "code",
      "source": [
        "df.groupBy('Education').avg('Age').show()"
      ],
      "metadata": {
        "colab": {
          "base_uri": "https://localhost:8080/"
        },
        "id": "UnDZ5M1Den9C",
        "outputId": "8dfcda7e-4002-470f-9eed-90b7f1ad1a26"
      },
      "execution_count": 11,
      "outputs": [
        {
          "output_type": "stream",
          "name": "stdout",
          "text": [
            "+---------+------------------+\n",
            "|Education|          avg(Age)|\n",
            "+---------+------------------+\n",
            "|  Masters| 29.29095074455899|\n",
            "|Bachelors|29.422938072757567|\n",
            "|      PHD| 29.29608938547486|\n",
            "+---------+------------------+\n",
            "\n"
          ]
        }
      ]
    },
    {
      "cell_type": "code",
      "source": [
        "df.groupBy('City').max('Age').show()"
      ],
      "metadata": {
        "colab": {
          "base_uri": "https://localhost:8080/"
        },
        "id": "Wx7lnbnIe0RO",
        "outputId": "bd24959e-50ed-4cc3-96da-bca604c8c8ac"
      },
      "execution_count": 12,
      "outputs": [
        {
          "output_type": "stream",
          "name": "stdout",
          "text": [
            "+---------+--------+\n",
            "|     City|max(Age)|\n",
            "+---------+--------+\n",
            "|Bangalore|      41|\n",
            "|     Pune|      41|\n",
            "|New Delhi|      41|\n",
            "+---------+--------+\n",
            "\n"
          ]
        }
      ]
    },
    {
      "cell_type": "code",
      "source": [
        "df.groupBy('City').min('Age').show()"
      ],
      "metadata": {
        "colab": {
          "base_uri": "https://localhost:8080/"
        },
        "id": "5q-yZI3dfCe2",
        "outputId": "f02dd186-1241-4d53-85db-1909cb5b0218"
      },
      "execution_count": 13,
      "outputs": [
        {
          "output_type": "stream",
          "name": "stdout",
          "text": [
            "+---------+--------+\n",
            "|     City|min(Age)|\n",
            "+---------+--------+\n",
            "|Bangalore|      22|\n",
            "|     Pune|      22|\n",
            "|New Delhi|      22|\n",
            "+---------+--------+\n",
            "\n"
          ]
        }
      ]
    },
    {
      "cell_type": "code",
      "source": [
        "df.groupBy('City').avg('Age').show()"
      ],
      "metadata": {
        "colab": {
          "base_uri": "https://localhost:8080/"
        },
        "id": "pOpFPh7nfIbr",
        "outputId": "556dd192-0933-47fe-cfb7-15e54253053c"
      },
      "execution_count": 14,
      "outputs": [
        {
          "output_type": "stream",
          "name": "stdout",
          "text": [
            "+---------+------------------+\n",
            "|     City|          avg(Age)|\n",
            "+---------+------------------+\n",
            "|Bangalore|29.594254937163374|\n",
            "|     Pune| 29.28864353312303|\n",
            "|New Delhi|29.121002592912706|\n",
            "+---------+------------------+\n",
            "\n"
          ]
        }
      ]
    },
    {
      "cell_type": "code",
      "source": [
        "df.groupBy('Education').count().show()"
      ],
      "metadata": {
        "colab": {
          "base_uri": "https://localhost:8080/"
        },
        "id": "tolcxPn8fMz5",
        "outputId": "295629ab-e0e2-4b12-eb93-1d9cae46cf88"
      },
      "execution_count": 15,
      "outputs": [
        {
          "output_type": "stream",
          "name": "stdout",
          "text": [
            "+---------+-----+\n",
            "|Education|count|\n",
            "+---------+-----+\n",
            "|  Masters|  873|\n",
            "|Bachelors| 3601|\n",
            "|      PHD|  179|\n",
            "+---------+-----+\n",
            "\n"
          ]
        }
      ]
    },
    {
      "cell_type": "code",
      "source": [
        "df.groupBy('City').count().show()"
      ],
      "metadata": {
        "colab": {
          "base_uri": "https://localhost:8080/"
        },
        "id": "mlkQJ9aZgoUc",
        "outputId": "a5936f2b-3155-4463-90be-8ae01a6c2970"
      },
      "execution_count": 16,
      "outputs": [
        {
          "output_type": "stream",
          "name": "stdout",
          "text": [
            "+---------+-----+\n",
            "|     City|count|\n",
            "+---------+-----+\n",
            "|Bangalore| 2228|\n",
            "|     Pune| 1268|\n",
            "|New Delhi| 1157|\n",
            "+---------+-----+\n",
            "\n"
          ]
        }
      ]
    },
    {
      "cell_type": "code",
      "source": [
        "df.groupBy('City').max('PaymentTier').orderBy('City').show()"
      ],
      "metadata": {
        "colab": {
          "base_uri": "https://localhost:8080/"
        },
        "id": "O0OIHt06gxJA",
        "outputId": "84edd00b-911a-4e06-e4d1-10a797f98025"
      },
      "execution_count": 17,
      "outputs": [
        {
          "output_type": "stream",
          "name": "stdout",
          "text": [
            "+---------+----------------+\n",
            "|     City|max(PaymentTier)|\n",
            "+---------+----------------+\n",
            "|Bangalore|               3|\n",
            "|New Delhi|               3|\n",
            "|     Pune|               3|\n",
            "+---------+----------------+\n",
            "\n"
          ]
        }
      ]
    },
    {
      "cell_type": "code",
      "source": [
        "df.groupBy('City').min('PaymentTier').orderBy('City').show()"
      ],
      "metadata": {
        "colab": {
          "base_uri": "https://localhost:8080/"
        },
        "id": "iBUQ1v9Ghs8U",
        "outputId": "7faccd60-d423-4237-8733-edb79b20b018"
      },
      "execution_count": 18,
      "outputs": [
        {
          "output_type": "stream",
          "name": "stdout",
          "text": [
            "+---------+----------------+\n",
            "|     City|min(PaymentTier)|\n",
            "+---------+----------------+\n",
            "|Bangalore|               1|\n",
            "|New Delhi|               1|\n",
            "|     Pune|               1|\n",
            "+---------+----------------+\n",
            "\n"
          ]
        }
      ]
    },
    {
      "cell_type": "code",
      "source": [
        "user = spark.read.csv('/content/users.csv', header=True, inferSchema=True)"
      ],
      "metadata": {
        "id": "dseNfUdNh938"
      },
      "execution_count": 19,
      "outputs": []
    },
    {
      "cell_type": "code",
      "source": [
        "user.show(5)"
      ],
      "metadata": {
        "colab": {
          "base_uri": "https://localhost:8080/"
        },
        "id": "fflDS6B9AU8P",
        "outputId": "3397dc7d-94dc-4360-f6ab-0b82bb1b265d"
      },
      "execution_count": 27,
      "outputs": [
        {
          "output_type": "stream",
          "name": "stdout",
          "text": [
            "+-------+--------+------------------+--------+\n",
            "|user_id|    name|             email|password|\n",
            "+-------+--------+------------------+--------+\n",
            "|      1|  Nitish|  nitish@gmail.com|   p252h|\n",
            "|      2|Khushboo|khushboo@gmail.com|   hxn9b|\n",
            "|      3| Vartika| vartika@gmail.com|   9hu7j|\n",
            "|      4|   Ankit|   ankit@gmail.com|   lkko3|\n",
            "|      5|    Neha|    neha@gmail.com|   3i7qm|\n",
            "+-------+--------+------------------+--------+\n",
            "only showing top 5 rows\n",
            "\n"
          ]
        }
      ]
    },
    {
      "cell_type": "code",
      "source": [
        "restaurant = spark.read.csv('/content/restaurants.csv', header=True, inferSchema=True)"
      ],
      "metadata": {
        "id": "D81hFf3j_jlm"
      },
      "execution_count": 21,
      "outputs": []
    },
    {
      "cell_type": "code",
      "source": [
        "restaurant.show(5)"
      ],
      "metadata": {
        "colab": {
          "base_uri": "https://localhost:8080/"
        },
        "id": "spIzueK3AaMR",
        "outputId": "be7462a9-cf31-45ee-b0f7-95a4f60848f9"
      },
      "execution_count": 28,
      "outputs": [
        {
          "output_type": "stream",
          "name": "stdout",
          "text": [
            "+----+----------+------------+\n",
            "|r_id|    r_name|     cuisine|\n",
            "+----+----------+------------+\n",
            "|   1|   dominos|     Italian|\n",
            "|   2|       kfc|    American|\n",
            "|   3|      box8|North Indian|\n",
            "|   4|Dosa Plaza|South Indian|\n",
            "|   5|China Town|     Chinese|\n",
            "+----+----------+------------+\n",
            "\n"
          ]
        }
      ]
    },
    {
      "cell_type": "code",
      "source": [
        "order = spark.read.csv(\"/content/orders.csv\", header=True, inferSchema=True)"
      ],
      "metadata": {
        "id": "bLxUsDi9_xwO"
      },
      "execution_count": 22,
      "outputs": []
    },
    {
      "cell_type": "code",
      "source": [
        "order.show(5)"
      ],
      "metadata": {
        "colab": {
          "base_uri": "https://localhost:8080/"
        },
        "id": "5Edq7aOp__BX",
        "outputId": "7042efcb-1d66-4968-a8a0-035cb3dbeb66"
      },
      "execution_count": 24,
      "outputs": [
        {
          "output_type": "stream",
          "name": "stdout",
          "text": [
            "+--------+-------+----+------+----------+----------+-------------+---------------+-----------------+\n",
            "|order_id|user_id|r_id|amount|      date|partner_id|delivery_time|delivery_rating|restaurant_rating|\n",
            "+--------+-------+----+------+----------+----------+-------------+---------------+-----------------+\n",
            "|    1001|      1|   1|   550|2022-05-10|         1|           25|              5|                3|\n",
            "|    1002|      1|   2|   415|2022-05-26|         1|           19|              5|                2|\n",
            "|    1003|      1|   3|   240|2022-06-15|         5|           29|              4|             NULL|\n",
            "|    1004|      1|   3|   240|2022-06-29|         4|           42|              3|                5|\n",
            "|    1005|      1|   3|   220|2022-07-10|         1|           58|              1|                4|\n",
            "+--------+-------+----+------+----------+----------+-------------+---------------+-----------------+\n",
            "only showing top 5 rows\n",
            "\n"
          ]
        }
      ]
    },
    {
      "cell_type": "code",
      "source": [
        "order_detail = spark.read.csv(\"/content/order_details.csv\", header=True, inferSchema=True)"
      ],
      "metadata": {
        "id": "p26UWmPzABX_"
      },
      "execution_count": 25,
      "outputs": []
    },
    {
      "cell_type": "code",
      "source": [
        "order_detail.show(5)"
      ],
      "metadata": {
        "colab": {
          "base_uri": "https://localhost:8080/"
        },
        "id": "34HOhf1UAO1q",
        "outputId": "50da74cb-5949-49f1-f9ff-714ed200474d"
      },
      "execution_count": 26,
      "outputs": [
        {
          "output_type": "stream",
          "name": "stdout",
          "text": [
            "+---+--------+----+\n",
            "| id|order_id|f_id|\n",
            "+---+--------+----+\n",
            "|  1|    1001|   1|\n",
            "|  2|    1001|   3|\n",
            "|  3|    1002|   4|\n",
            "|  4|    1002|   3|\n",
            "|  5|    1003|   6|\n",
            "+---+--------+----+\n",
            "only showing top 5 rows\n",
            "\n"
          ]
        }
      ]
    },
    {
      "cell_type": "code",
      "source": [
        "restaurant.join(order, on = 'r_id',how='left').show()"
      ],
      "metadata": {
        "colab": {
          "base_uri": "https://localhost:8080/"
        },
        "id": "TxmkYHkiARHd",
        "outputId": "6282df39-962d-49db-bad6-6945858d7519"
      },
      "execution_count": 29,
      "outputs": [
        {
          "output_type": "stream",
          "name": "stdout",
          "text": [
            "+----+----------+------------+--------+-------+------+----------+----------+-------------+---------------+-----------------+\n",
            "|r_id|    r_name|     cuisine|order_id|user_id|amount|      date|partner_id|delivery_time|delivery_rating|restaurant_rating|\n",
            "+----+----------+------------+--------+-------+------+----------+----------+-------------+---------------+-----------------+\n",
            "|   1|   dominos|     Italian|    1022|      5|   550|2022-07-08|         1|           34|              5|                1|\n",
            "|   1|   dominos|     Italian|    1021|      5|   550|2022-07-01|         5|           22|              2|             NULL|\n",
            "|   1|   dominos|     Italian|    1011|      3|   450|2022-05-10|         2|           25|              3|                1|\n",
            "|   1|   dominos|     Italian|    1006|      2|   950|2022-06-10|         2|           16|              5|             NULL|\n",
            "|   1|   dominos|     Italian|    1001|      1|   550|2022-05-10|         1|           25|              5|                3|\n",
            "|   2|       kfc|    American|    1025|      5|   645|2022-07-28|         2|           44|              4|             NULL|\n",
            "|   2|       kfc|    American|    1024|      5|   645|2022-07-21|         2|           58|              2|                1|\n",
            "|   2|       kfc|    American|    1023|      5|   645|2022-07-15|         4|           38|              5|                1|\n",
            "|   2|       kfc|    American|    1015|      3|   230|2022-06-22|         3|           21|              5|             NULL|\n",
            "|   2|       kfc|    American|    1014|      3|   230|2022-06-11|         2|           55|              1|                2|\n",
            "|   2|       kfc|    American|    1013|      3|   230|2022-05-30|         4|           45|              3|             NULL|\n",
            "|   2|       kfc|    American|    1007|      2|   530|2022-06-23|         3|           60|              1|                5|\n",
            "|   2|       kfc|    American|    1002|      1|   415|2022-05-26|         1|           19|              5|                2|\n",
            "|   3|      box8|North Indian|    1008|      2|   240|2022-07-07|         5|           33|              4|                5|\n",
            "|   3|      box8|North Indian|    1005|      1|   220|2022-07-10|         1|           58|              1|                4|\n",
            "|   3|      box8|North Indian|    1004|      1|   240|2022-06-29|         4|           42|              3|                5|\n",
            "|   3|      box8|North Indian|    1003|      1|   240|2022-06-15|         5|           29|              4|             NULL|\n",
            "|   4|Dosa Plaza|South Indian|    1018|      4|   400|2022-06-15|         2|           40|              3|                5|\n",
            "|   4|Dosa Plaza|South Indian|    1017|      4|   300|2022-05-30|         1|           50|              1|             NULL|\n",
            "|   4|Dosa Plaza|South Indian|    1016|      4|   300|2022-05-15|         3|           31|              5|                5|\n",
            "+----+----------+------------+--------+-------+------+----------+----------+-------------+---------------+-----------------+\n",
            "only showing top 20 rows\n",
            "\n"
          ]
        }
      ]
    },
    {
      "cell_type": "code",
      "source": [],
      "metadata": {
        "id": "BjiWs7ChAzP-"
      },
      "execution_count": null,
      "outputs": []
    }
  ]
}
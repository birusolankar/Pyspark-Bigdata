{
  "nbformat": 4,
  "nbformat_minor": 0,
  "metadata": {
    "colab": {
      "provenance": [],
      "authorship_tag": "ABX9TyM47ad9ieYZPvCvyqL1Va3c",
      "include_colab_link": true
    },
    "kernelspec": {
      "name": "python3",
      "display_name": "Python 3"
    },
    "language_info": {
      "name": "python"
    }
  },
  "cells": [
    {
      "cell_type": "markdown",
      "metadata": {
        "id": "view-in-github",
        "colab_type": "text"
      },
      "source": [
        "<a href=\"https://colab.research.google.com/github/birusolankar/Pyspark-Bigdata/blob/main/Pyspark1.ipynb\" target=\"_parent\"><img src=\"https://colab.research.google.com/assets/colab-badge.svg\" alt=\"Open In Colab\"/></a>"
      ]
    },
    {
      "cell_type": "code",
      "execution_count": 1,
      "metadata": {
        "colab": {
          "base_uri": "https://localhost:8080/"
        },
        "id": "8To67V-9De9E",
        "outputId": "46247420-692b-47a2-af67-5e32a2f543e0"
      },
      "outputs": [
        {
          "output_type": "stream",
          "name": "stdout",
          "text": [
            "hello world\n"
          ]
        }
      ],
      "source": [
        "print('hello world')"
      ]
    },
    {
      "cell_type": "code",
      "source": [
        "import pandas as pd\n",
        "import numpy as np"
      ],
      "metadata": {
        "id": "8W-S_YnDDl29"
      },
      "execution_count": 2,
      "outputs": []
    },
    {
      "cell_type": "code",
      "source": [
        "emp = pd.read_csv(\"/content/Employee_1.csv\")"
      ],
      "metadata": {
        "id": "6mrSChqaEGIH"
      },
      "execution_count": 3,
      "outputs": []
    },
    {
      "cell_type": "code",
      "source": [
        "emp.head()"
      ],
      "metadata": {
        "colab": {
          "base_uri": "https://localhost:8080/",
          "height": 206
        },
        "id": "kPvu7nxCEK-1",
        "outputId": "6f7b57f2-7939-4904-e3c8-ab11c745c60c"
      },
      "execution_count": 4,
      "outputs": [
        {
          "output_type": "execute_result",
          "data": {
            "text/plain": [
              "   Education  JoiningYear       City  PaymentTier  Age  Gender EverBenched  \\\n",
              "0  Bachelors         2017  Bangalore            3   34    Male          No   \n",
              "1  Bachelors         2013       Pune            1   28  Female          No   \n",
              "2  Bachelors         2014  New Delhi            3   38  Female          No   \n",
              "3    Masters         2016  Bangalore            3   27    Male          No   \n",
              "4    Masters         2017       Pune            3   24    Male         Yes   \n",
              "\n",
              "   ExperienceInCurrentDomain  LeaveOrNot  \n",
              "0                          0           0  \n",
              "1                          3           1  \n",
              "2                          2           0  \n",
              "3                          5           1  \n",
              "4                          2           1  "
            ],
            "text/html": [
              "\n",
              "  <div id=\"df-3f8e061a-d101-4d40-9207-6b9b7d36ddae\" class=\"colab-df-container\">\n",
              "    <div>\n",
              "<style scoped>\n",
              "    .dataframe tbody tr th:only-of-type {\n",
              "        vertical-align: middle;\n",
              "    }\n",
              "\n",
              "    .dataframe tbody tr th {\n",
              "        vertical-align: top;\n",
              "    }\n",
              "\n",
              "    .dataframe thead th {\n",
              "        text-align: right;\n",
              "    }\n",
              "</style>\n",
              "<table border=\"1\" class=\"dataframe\">\n",
              "  <thead>\n",
              "    <tr style=\"text-align: right;\">\n",
              "      <th></th>\n",
              "      <th>Education</th>\n",
              "      <th>JoiningYear</th>\n",
              "      <th>City</th>\n",
              "      <th>PaymentTier</th>\n",
              "      <th>Age</th>\n",
              "      <th>Gender</th>\n",
              "      <th>EverBenched</th>\n",
              "      <th>ExperienceInCurrentDomain</th>\n",
              "      <th>LeaveOrNot</th>\n",
              "    </tr>\n",
              "  </thead>\n",
              "  <tbody>\n",
              "    <tr>\n",
              "      <th>0</th>\n",
              "      <td>Bachelors</td>\n",
              "      <td>2017</td>\n",
              "      <td>Bangalore</td>\n",
              "      <td>3</td>\n",
              "      <td>34</td>\n",
              "      <td>Male</td>\n",
              "      <td>No</td>\n",
              "      <td>0</td>\n",
              "      <td>0</td>\n",
              "    </tr>\n",
              "    <tr>\n",
              "      <th>1</th>\n",
              "      <td>Bachelors</td>\n",
              "      <td>2013</td>\n",
              "      <td>Pune</td>\n",
              "      <td>1</td>\n",
              "      <td>28</td>\n",
              "      <td>Female</td>\n",
              "      <td>No</td>\n",
              "      <td>3</td>\n",
              "      <td>1</td>\n",
              "    </tr>\n",
              "    <tr>\n",
              "      <th>2</th>\n",
              "      <td>Bachelors</td>\n",
              "      <td>2014</td>\n",
              "      <td>New Delhi</td>\n",
              "      <td>3</td>\n",
              "      <td>38</td>\n",
              "      <td>Female</td>\n",
              "      <td>No</td>\n",
              "      <td>2</td>\n",
              "      <td>0</td>\n",
              "    </tr>\n",
              "    <tr>\n",
              "      <th>3</th>\n",
              "      <td>Masters</td>\n",
              "      <td>2016</td>\n",
              "      <td>Bangalore</td>\n",
              "      <td>3</td>\n",
              "      <td>27</td>\n",
              "      <td>Male</td>\n",
              "      <td>No</td>\n",
              "      <td>5</td>\n",
              "      <td>1</td>\n",
              "    </tr>\n",
              "    <tr>\n",
              "      <th>4</th>\n",
              "      <td>Masters</td>\n",
              "      <td>2017</td>\n",
              "      <td>Pune</td>\n",
              "      <td>3</td>\n",
              "      <td>24</td>\n",
              "      <td>Male</td>\n",
              "      <td>Yes</td>\n",
              "      <td>2</td>\n",
              "      <td>1</td>\n",
              "    </tr>\n",
              "  </tbody>\n",
              "</table>\n",
              "</div>\n",
              "    <div class=\"colab-df-buttons\">\n",
              "\n",
              "  <div class=\"colab-df-container\">\n",
              "    <button class=\"colab-df-convert\" onclick=\"convertToInteractive('df-3f8e061a-d101-4d40-9207-6b9b7d36ddae')\"\n",
              "            title=\"Convert this dataframe to an interactive table.\"\n",
              "            style=\"display:none;\">\n",
              "\n",
              "  <svg xmlns=\"http://www.w3.org/2000/svg\" height=\"24px\" viewBox=\"0 -960 960 960\">\n",
              "    <path d=\"M120-120v-720h720v720H120Zm60-500h600v-160H180v160Zm220 220h160v-160H400v160Zm0 220h160v-160H400v160ZM180-400h160v-160H180v160Zm440 0h160v-160H620v160ZM180-180h160v-160H180v160Zm440 0h160v-160H620v160Z\"/>\n",
              "  </svg>\n",
              "    </button>\n",
              "\n",
              "  <style>\n",
              "    .colab-df-container {\n",
              "      display:flex;\n",
              "      gap: 12px;\n",
              "    }\n",
              "\n",
              "    .colab-df-convert {\n",
              "      background-color: #E8F0FE;\n",
              "      border: none;\n",
              "      border-radius: 50%;\n",
              "      cursor: pointer;\n",
              "      display: none;\n",
              "      fill: #1967D2;\n",
              "      height: 32px;\n",
              "      padding: 0 0 0 0;\n",
              "      width: 32px;\n",
              "    }\n",
              "\n",
              "    .colab-df-convert:hover {\n",
              "      background-color: #E2EBFA;\n",
              "      box-shadow: 0px 1px 2px rgba(60, 64, 67, 0.3), 0px 1px 3px 1px rgba(60, 64, 67, 0.15);\n",
              "      fill: #174EA6;\n",
              "    }\n",
              "\n",
              "    .colab-df-buttons div {\n",
              "      margin-bottom: 4px;\n",
              "    }\n",
              "\n",
              "    [theme=dark] .colab-df-convert {\n",
              "      background-color: #3B4455;\n",
              "      fill: #D2E3FC;\n",
              "    }\n",
              "\n",
              "    [theme=dark] .colab-df-convert:hover {\n",
              "      background-color: #434B5C;\n",
              "      box-shadow: 0px 1px 3px 1px rgba(0, 0, 0, 0.15);\n",
              "      filter: drop-shadow(0px 1px 2px rgba(0, 0, 0, 0.3));\n",
              "      fill: #FFFFFF;\n",
              "    }\n",
              "  </style>\n",
              "\n",
              "    <script>\n",
              "      const buttonEl =\n",
              "        document.querySelector('#df-3f8e061a-d101-4d40-9207-6b9b7d36ddae button.colab-df-convert');\n",
              "      buttonEl.style.display =\n",
              "        google.colab.kernel.accessAllowed ? 'block' : 'none';\n",
              "\n",
              "      async function convertToInteractive(key) {\n",
              "        const element = document.querySelector('#df-3f8e061a-d101-4d40-9207-6b9b7d36ddae');\n",
              "        const dataTable =\n",
              "          await google.colab.kernel.invokeFunction('convertToInteractive',\n",
              "                                                    [key], {});\n",
              "        if (!dataTable) return;\n",
              "\n",
              "        const docLinkHtml = 'Like what you see? Visit the ' +\n",
              "          '<a target=\"_blank\" href=https://colab.research.google.com/notebooks/data_table.ipynb>data table notebook</a>'\n",
              "          + ' to learn more about interactive tables.';\n",
              "        element.innerHTML = '';\n",
              "        dataTable['output_type'] = 'display_data';\n",
              "        await google.colab.output.renderOutput(dataTable, element);\n",
              "        const docLink = document.createElement('div');\n",
              "        docLink.innerHTML = docLinkHtml;\n",
              "        element.appendChild(docLink);\n",
              "      }\n",
              "    </script>\n",
              "  </div>\n",
              "\n",
              "\n",
              "<div id=\"df-02b0c68e-3d60-4d50-99b3-aef0c11aa338\">\n",
              "  <button class=\"colab-df-quickchart\" onclick=\"quickchart('df-02b0c68e-3d60-4d50-99b3-aef0c11aa338')\"\n",
              "            title=\"Suggest charts\"\n",
              "            style=\"display:none;\">\n",
              "\n",
              "<svg xmlns=\"http://www.w3.org/2000/svg\" height=\"24px\"viewBox=\"0 0 24 24\"\n",
              "     width=\"24px\">\n",
              "    <g>\n",
              "        <path d=\"M19 3H5c-1.1 0-2 .9-2 2v14c0 1.1.9 2 2 2h14c1.1 0 2-.9 2-2V5c0-1.1-.9-2-2-2zM9 17H7v-7h2v7zm4 0h-2V7h2v10zm4 0h-2v-4h2v4z\"/>\n",
              "    </g>\n",
              "</svg>\n",
              "  </button>\n",
              "\n",
              "<style>\n",
              "  .colab-df-quickchart {\n",
              "      --bg-color: #E8F0FE;\n",
              "      --fill-color: #1967D2;\n",
              "      --hover-bg-color: #E2EBFA;\n",
              "      --hover-fill-color: #174EA6;\n",
              "      --disabled-fill-color: #AAA;\n",
              "      --disabled-bg-color: #DDD;\n",
              "  }\n",
              "\n",
              "  [theme=dark] .colab-df-quickchart {\n",
              "      --bg-color: #3B4455;\n",
              "      --fill-color: #D2E3FC;\n",
              "      --hover-bg-color: #434B5C;\n",
              "      --hover-fill-color: #FFFFFF;\n",
              "      --disabled-bg-color: #3B4455;\n",
              "      --disabled-fill-color: #666;\n",
              "  }\n",
              "\n",
              "  .colab-df-quickchart {\n",
              "    background-color: var(--bg-color);\n",
              "    border: none;\n",
              "    border-radius: 50%;\n",
              "    cursor: pointer;\n",
              "    display: none;\n",
              "    fill: var(--fill-color);\n",
              "    height: 32px;\n",
              "    padding: 0;\n",
              "    width: 32px;\n",
              "  }\n",
              "\n",
              "  .colab-df-quickchart:hover {\n",
              "    background-color: var(--hover-bg-color);\n",
              "    box-shadow: 0 1px 2px rgba(60, 64, 67, 0.3), 0 1px 3px 1px rgba(60, 64, 67, 0.15);\n",
              "    fill: var(--button-hover-fill-color);\n",
              "  }\n",
              "\n",
              "  .colab-df-quickchart-complete:disabled,\n",
              "  .colab-df-quickchart-complete:disabled:hover {\n",
              "    background-color: var(--disabled-bg-color);\n",
              "    fill: var(--disabled-fill-color);\n",
              "    box-shadow: none;\n",
              "  }\n",
              "\n",
              "  .colab-df-spinner {\n",
              "    border: 2px solid var(--fill-color);\n",
              "    border-color: transparent;\n",
              "    border-bottom-color: var(--fill-color);\n",
              "    animation:\n",
              "      spin 1s steps(1) infinite;\n",
              "  }\n",
              "\n",
              "  @keyframes spin {\n",
              "    0% {\n",
              "      border-color: transparent;\n",
              "      border-bottom-color: var(--fill-color);\n",
              "      border-left-color: var(--fill-color);\n",
              "    }\n",
              "    20% {\n",
              "      border-color: transparent;\n",
              "      border-left-color: var(--fill-color);\n",
              "      border-top-color: var(--fill-color);\n",
              "    }\n",
              "    30% {\n",
              "      border-color: transparent;\n",
              "      border-left-color: var(--fill-color);\n",
              "      border-top-color: var(--fill-color);\n",
              "      border-right-color: var(--fill-color);\n",
              "    }\n",
              "    40% {\n",
              "      border-color: transparent;\n",
              "      border-right-color: var(--fill-color);\n",
              "      border-top-color: var(--fill-color);\n",
              "    }\n",
              "    60% {\n",
              "      border-color: transparent;\n",
              "      border-right-color: var(--fill-color);\n",
              "    }\n",
              "    80% {\n",
              "      border-color: transparent;\n",
              "      border-right-color: var(--fill-color);\n",
              "      border-bottom-color: var(--fill-color);\n",
              "    }\n",
              "    90% {\n",
              "      border-color: transparent;\n",
              "      border-bottom-color: var(--fill-color);\n",
              "    }\n",
              "  }\n",
              "</style>\n",
              "\n",
              "  <script>\n",
              "    async function quickchart(key) {\n",
              "      const quickchartButtonEl =\n",
              "        document.querySelector('#' + key + ' button');\n",
              "      quickchartButtonEl.disabled = true;  // To prevent multiple clicks.\n",
              "      quickchartButtonEl.classList.add('colab-df-spinner');\n",
              "      try {\n",
              "        const charts = await google.colab.kernel.invokeFunction(\n",
              "            'suggestCharts', [key], {});\n",
              "      } catch (error) {\n",
              "        console.error('Error during call to suggestCharts:', error);\n",
              "      }\n",
              "      quickchartButtonEl.classList.remove('colab-df-spinner');\n",
              "      quickchartButtonEl.classList.add('colab-df-quickchart-complete');\n",
              "    }\n",
              "    (() => {\n",
              "      let quickchartButtonEl =\n",
              "        document.querySelector('#df-02b0c68e-3d60-4d50-99b3-aef0c11aa338 button');\n",
              "      quickchartButtonEl.style.display =\n",
              "        google.colab.kernel.accessAllowed ? 'block' : 'none';\n",
              "    })();\n",
              "  </script>\n",
              "</div>\n",
              "    </div>\n",
              "  </div>\n"
            ]
          },
          "metadata": {},
          "execution_count": 4
        }
      ]
    },
    {
      "cell_type": "code",
      "source": [
        "pip install pyspark"
      ],
      "metadata": {
        "colab": {
          "base_uri": "https://localhost:8080/"
        },
        "id": "9jGhw7k_EPZp",
        "outputId": "024d03a1-0f41-4755-8282-11286eb650db"
      },
      "execution_count": 5,
      "outputs": [
        {
          "output_type": "stream",
          "name": "stdout",
          "text": [
            "Collecting pyspark\n",
            "  Downloading pyspark-3.5.0.tar.gz (316.9 MB)\n",
            "\u001b[2K     \u001b[90m━━━━━━━━━━━━━━━━━━━━━━━━━━━━━━━━━━━━━━━━\u001b[0m \u001b[32m316.9/316.9 MB\u001b[0m \u001b[31m3.6 MB/s\u001b[0m eta \u001b[36m0:00:00\u001b[0m\n",
            "\u001b[?25h  Preparing metadata (setup.py) ... \u001b[?25l\u001b[?25hdone\n",
            "Requirement already satisfied: py4j==0.10.9.7 in /usr/local/lib/python3.10/dist-packages (from pyspark) (0.10.9.7)\n",
            "Building wheels for collected packages: pyspark\n",
            "  Building wheel for pyspark (setup.py) ... \u001b[?25l\u001b[?25hdone\n",
            "  Created wheel for pyspark: filename=pyspark-3.5.0-py2.py3-none-any.whl size=317425345 sha256=0db0767cb5c6d9f8144b4dfb2b17a753df2ac156a79e239e22a40f6ea2cff4c6\n",
            "  Stored in directory: /root/.cache/pip/wheels/41/4e/10/c2cf2467f71c678cfc8a6b9ac9241e5e44a01940da8fbb17fc\n",
            "Successfully built pyspark\n",
            "Installing collected packages: pyspark\n",
            "Successfully installed pyspark-3.5.0\n"
          ]
        }
      ]
    },
    {
      "cell_type": "code",
      "source": [
        "from pyspark.sql import SparkSession"
      ],
      "metadata": {
        "id": "uylfHD6MEz4D"
      },
      "execution_count": 6,
      "outputs": []
    },
    {
      "cell_type": "code",
      "source": [
        "spark = SparkSession.builder.appName(\"day1\").getOrCreate()"
      ],
      "metadata": {
        "id": "yIEGF63rETZa"
      },
      "execution_count": 7,
      "outputs": []
    },
    {
      "cell_type": "code",
      "source": [
        "df = spark.read.csv(\"/content/Employee_1.csv\", header=True, inferSchema=True)"
      ],
      "metadata": {
        "id": "iGD_Uou0Exps"
      },
      "execution_count": 8,
      "outputs": []
    },
    {
      "cell_type": "code",
      "source": [
        "df.show(5)"
      ],
      "metadata": {
        "colab": {
          "base_uri": "https://localhost:8080/"
        },
        "id": "cfRyMjUrFND5",
        "outputId": "deb3e418-61f8-49ea-d19c-22a864e77a2f"
      },
      "execution_count": 9,
      "outputs": [
        {
          "output_type": "stream",
          "name": "stdout",
          "text": [
            "+---------+-----------+---------+-----------+---+------+-----------+-------------------------+----------+\n",
            "|Education|JoiningYear|     City|PaymentTier|Age|Gender|EverBenched|ExperienceInCurrentDomain|LeaveOrNot|\n",
            "+---------+-----------+---------+-----------+---+------+-----------+-------------------------+----------+\n",
            "|Bachelors|       2017|Bangalore|          3| 34|  Male|         No|                        0|         0|\n",
            "|Bachelors|       2013|     Pune|          1| 28|Female|         No|                        3|         1|\n",
            "|Bachelors|       2014|New Delhi|          3| 38|Female|         No|                        2|         0|\n",
            "|  Masters|       2016|Bangalore|          3| 27|  Male|         No|                        5|         1|\n",
            "|  Masters|       2017|     Pune|          3| 24|  Male|        Yes|                        2|         1|\n",
            "+---------+-----------+---------+-----------+---+------+-----------+-------------------------+----------+\n",
            "only showing top 5 rows\n",
            "\n"
          ]
        }
      ]
    },
    {
      "cell_type": "code",
      "source": [
        "df.printSchema()"
      ],
      "metadata": {
        "colab": {
          "base_uri": "https://localhost:8080/"
        },
        "id": "jKPTtPdCFRqh",
        "outputId": "3365861f-d223-4e0e-eeea-231e877a75d1"
      },
      "execution_count": 10,
      "outputs": [
        {
          "output_type": "stream",
          "name": "stdout",
          "text": [
            "root\n",
            " |-- Education: string (nullable = true)\n",
            " |-- JoiningYear: integer (nullable = true)\n",
            " |-- City: string (nullable = true)\n",
            " |-- PaymentTier: integer (nullable = true)\n",
            " |-- Age: integer (nullable = true)\n",
            " |-- Gender: string (nullable = true)\n",
            " |-- EverBenched: string (nullable = true)\n",
            " |-- ExperienceInCurrentDomain: integer (nullable = true)\n",
            " |-- LeaveOrNot: integer (nullable = true)\n",
            "\n"
          ]
        }
      ]
    },
    {
      "cell_type": "markdown",
      "source": [
        "#SELECTING COLUMNS"
      ],
      "metadata": {
        "id": "hXIJTq2YGuua"
      }
    },
    {
      "cell_type": "code",
      "source": [
        "# selecting all the columns\n",
        "df.columns"
      ],
      "metadata": {
        "colab": {
          "base_uri": "https://localhost:8080/"
        },
        "id": "1cc-tnwpFY1f",
        "outputId": "23d59f6a-b1ca-4ece-f966-e1c166d92e07"
      },
      "execution_count": 11,
      "outputs": [
        {
          "output_type": "execute_result",
          "data": {
            "text/plain": [
              "['Education',\n",
              " 'JoiningYear',\n",
              " 'City',\n",
              " 'PaymentTier',\n",
              " 'Age',\n",
              " 'Gender',\n",
              " 'EverBenched',\n",
              " 'ExperienceInCurrentDomain',\n",
              " 'LeaveOrNot']"
            ]
          },
          "metadata": {},
          "execution_count": 11
        }
      ]
    },
    {
      "cell_type": "code",
      "source": [
        "# selecting single columns\n",
        "df.select('Education').show()"
      ],
      "metadata": {
        "colab": {
          "base_uri": "https://localhost:8080/"
        },
        "id": "_z-i8EuLFjOo",
        "outputId": "4c253d66-02e3-448a-8a4f-242affc3ab2d"
      },
      "execution_count": 12,
      "outputs": [
        {
          "output_type": "stream",
          "name": "stdout",
          "text": [
            "+---------+\n",
            "|Education|\n",
            "+---------+\n",
            "|Bachelors|\n",
            "|Bachelors|\n",
            "|Bachelors|\n",
            "|  Masters|\n",
            "|  Masters|\n",
            "|Bachelors|\n",
            "|Bachelors|\n",
            "|Bachelors|\n",
            "|Bachelors|\n",
            "|  Masters|\n",
            "|  Masters|\n",
            "|Bachelors|\n",
            "|Bachelors|\n",
            "|Bachelors|\n",
            "|Bachelors|\n",
            "|Bachelors|\n",
            "|Bachelors|\n",
            "|Bachelors|\n",
            "|Bachelors|\n",
            "|Bachelors|\n",
            "+---------+\n",
            "only showing top 20 rows\n",
            "\n"
          ]
        }
      ]
    },
    {
      "cell_type": "code",
      "source": [
        "# method-2\n",
        "df.select(df['Education']).show()"
      ],
      "metadata": {
        "colab": {
          "base_uri": "https://localhost:8080/"
        },
        "id": "Om4YtT3VFwGh",
        "outputId": "563c78ee-4be7-44dd-8c5a-0ab3ee971916"
      },
      "execution_count": 13,
      "outputs": [
        {
          "output_type": "stream",
          "name": "stdout",
          "text": [
            "+---------+\n",
            "|Education|\n",
            "+---------+\n",
            "|Bachelors|\n",
            "|Bachelors|\n",
            "|Bachelors|\n",
            "|  Masters|\n",
            "|  Masters|\n",
            "|Bachelors|\n",
            "|Bachelors|\n",
            "|Bachelors|\n",
            "|Bachelors|\n",
            "|  Masters|\n",
            "|  Masters|\n",
            "|Bachelors|\n",
            "|Bachelors|\n",
            "|Bachelors|\n",
            "|Bachelors|\n",
            "|Bachelors|\n",
            "|Bachelors|\n",
            "|Bachelors|\n",
            "|Bachelors|\n",
            "|Bachelors|\n",
            "+---------+\n",
            "only showing top 20 rows\n",
            "\n"
          ]
        }
      ]
    },
    {
      "cell_type": "code",
      "source": [
        "# method-3\n",
        "df.select(df.Education).show()"
      ],
      "metadata": {
        "colab": {
          "base_uri": "https://localhost:8080/"
        },
        "id": "QNWNFxu_GApd",
        "outputId": "99e011fe-2b05-4ce9-feae-6ecf22eb73de"
      },
      "execution_count": 14,
      "outputs": [
        {
          "output_type": "stream",
          "name": "stdout",
          "text": [
            "+---------+\n",
            "|Education|\n",
            "+---------+\n",
            "|Bachelors|\n",
            "|Bachelors|\n",
            "|Bachelors|\n",
            "|  Masters|\n",
            "|  Masters|\n",
            "|Bachelors|\n",
            "|Bachelors|\n",
            "|Bachelors|\n",
            "|Bachelors|\n",
            "|  Masters|\n",
            "|  Masters|\n",
            "|Bachelors|\n",
            "|Bachelors|\n",
            "|Bachelors|\n",
            "|Bachelors|\n",
            "|Bachelors|\n",
            "|Bachelors|\n",
            "|Bachelors|\n",
            "|Bachelors|\n",
            "|Bachelors|\n",
            "+---------+\n",
            "only showing top 20 rows\n",
            "\n"
          ]
        }
      ]
    },
    {
      "cell_type": "code",
      "source": [
        "# selecting multiple columns\n",
        "df.select('Education', 'City', 'Age', 'Gender').show()"
      ],
      "metadata": {
        "colab": {
          "base_uri": "https://localhost:8080/"
        },
        "id": "S5fXrIzIGKEa",
        "outputId": "2b237ffd-93d2-412f-b6e3-2bd1cd47b668"
      },
      "execution_count": 15,
      "outputs": [
        {
          "output_type": "stream",
          "name": "stdout",
          "text": [
            "+---------+---------+---+------+\n",
            "|Education|     City|Age|Gender|\n",
            "+---------+---------+---+------+\n",
            "|Bachelors|Bangalore| 34|  Male|\n",
            "|Bachelors|     Pune| 28|Female|\n",
            "|Bachelors|New Delhi| 38|Female|\n",
            "|  Masters|Bangalore| 27|  Male|\n",
            "|  Masters|     Pune| 24|  Male|\n",
            "|Bachelors|Bangalore| 22|  Male|\n",
            "|Bachelors|New Delhi| 38|  Male|\n",
            "|Bachelors|Bangalore| 34|Female|\n",
            "|Bachelors|     Pune| 23|  Male|\n",
            "|  Masters|New Delhi| 37|  Male|\n",
            "|  Masters|Bangalore| 27|  Male|\n",
            "|Bachelors|     Pune| 34|  Male|\n",
            "|Bachelors|     Pune| 32|  Male|\n",
            "|Bachelors|Bangalore| 39|  Male|\n",
            "|Bachelors|Bangalore| 37|  Male|\n",
            "|Bachelors|Bangalore| 29|  Male|\n",
            "|Bachelors|Bangalore| 34|Female|\n",
            "|Bachelors|     Pune| 34|  Male|\n",
            "|Bachelors|     Pune| 30|Female|\n",
            "|Bachelors|New Delhi| 22|Female|\n",
            "+---------+---------+---+------+\n",
            "only showing top 20 rows\n",
            "\n"
          ]
        }
      ]
    },
    {
      "cell_type": "code",
      "source": [
        "df.select(['Education', 'City', 'Age', 'Gender']).show()"
      ],
      "metadata": {
        "colab": {
          "base_uri": "https://localhost:8080/"
        },
        "id": "SwMnGIfyGZNg",
        "outputId": "60c59862-fbf1-4446-a26e-b98feea49909"
      },
      "execution_count": 16,
      "outputs": [
        {
          "output_type": "stream",
          "name": "stdout",
          "text": [
            "+---------+---------+---+------+\n",
            "|Education|     City|Age|Gender|\n",
            "+---------+---------+---+------+\n",
            "|Bachelors|Bangalore| 34|  Male|\n",
            "|Bachelors|     Pune| 28|Female|\n",
            "|Bachelors|New Delhi| 38|Female|\n",
            "|  Masters|Bangalore| 27|  Male|\n",
            "|  Masters|     Pune| 24|  Male|\n",
            "|Bachelors|Bangalore| 22|  Male|\n",
            "|Bachelors|New Delhi| 38|  Male|\n",
            "|Bachelors|Bangalore| 34|Female|\n",
            "|Bachelors|     Pune| 23|  Male|\n",
            "|  Masters|New Delhi| 37|  Male|\n",
            "|  Masters|Bangalore| 27|  Male|\n",
            "|Bachelors|     Pune| 34|  Male|\n",
            "|Bachelors|     Pune| 32|  Male|\n",
            "|Bachelors|Bangalore| 39|  Male|\n",
            "|Bachelors|Bangalore| 37|  Male|\n",
            "|Bachelors|Bangalore| 29|  Male|\n",
            "|Bachelors|Bangalore| 34|Female|\n",
            "|Bachelors|     Pune| 34|  Male|\n",
            "|Bachelors|     Pune| 30|Female|\n",
            "|Bachelors|New Delhi| 22|Female|\n",
            "+---------+---------+---+------+\n",
            "only showing top 20 rows\n",
            "\n"
          ]
        }
      ]
    },
    {
      "cell_type": "code",
      "source": [
        "df.select(['Education', 'Age', 'Gender', 'JoiningYear']).show()"
      ],
      "metadata": {
        "colab": {
          "base_uri": "https://localhost:8080/"
        },
        "id": "nTa4lRGY-TkN",
        "outputId": "e147a94e-315b-41d6-f97f-5b7b7e03b481"
      },
      "execution_count": 17,
      "outputs": [
        {
          "output_type": "stream",
          "name": "stdout",
          "text": [
            "+---------+---+------+-----------+\n",
            "|Education|Age|Gender|JoiningYear|\n",
            "+---------+---+------+-----------+\n",
            "|Bachelors| 34|  Male|       2017|\n",
            "|Bachelors| 28|Female|       2013|\n",
            "|Bachelors| 38|Female|       2014|\n",
            "|  Masters| 27|  Male|       2016|\n",
            "|  Masters| 24|  Male|       2017|\n",
            "|Bachelors| 22|  Male|       2016|\n",
            "|Bachelors| 38|  Male|       2015|\n",
            "|Bachelors| 34|Female|       2016|\n",
            "|Bachelors| 23|  Male|       2016|\n",
            "|  Masters| 37|  Male|       2017|\n",
            "|  Masters| 27|  Male|       2012|\n",
            "|Bachelors| 34|  Male|       2016|\n",
            "|Bachelors| 32|  Male|       2018|\n",
            "|Bachelors| 39|  Male|       2016|\n",
            "|Bachelors| 37|  Male|       2012|\n",
            "|Bachelors| 29|  Male|       2017|\n",
            "|Bachelors| 34|Female|       2014|\n",
            "|Bachelors| 34|  Male|       2014|\n",
            "|Bachelors| 30|Female|       2015|\n",
            "|Bachelors| 22|Female|       2016|\n",
            "+---------+---+------+-----------+\n",
            "only showing top 20 rows\n",
            "\n"
          ]
        }
      ]
    },
    {
      "cell_type": "markdown",
      "source": [
        "#ADDING COLUMNS\n",
        "\n",
        "## withColumn"
      ],
      "metadata": {
        "id": "iVxi-917G16-"
      }
    },
    {
      "cell_type": "code",
      "source": [
        "from os import truncate\n",
        "# adding a new column from existing columns\n",
        "df.withColumn('New_Age', (df['Age'] + 5)).show(truncate=False)"
      ],
      "metadata": {
        "colab": {
          "base_uri": "https://localhost:8080/"
        },
        "id": "McB03lN5GpFI",
        "outputId": "b52be190-9105-41dc-da56-cf7a2ad6226f"
      },
      "execution_count": 18,
      "outputs": [
        {
          "output_type": "stream",
          "name": "stdout",
          "text": [
            "+---------+-----------+---------+-----------+---+------+-----------+-------------------------+----------+-------+\n",
            "|Education|JoiningYear|City     |PaymentTier|Age|Gender|EverBenched|ExperienceInCurrentDomain|LeaveOrNot|New_Age|\n",
            "+---------+-----------+---------+-----------+---+------+-----------+-------------------------+----------+-------+\n",
            "|Bachelors|2017       |Bangalore|3          |34 |Male  |No         |0                        |0         |39     |\n",
            "|Bachelors|2013       |Pune     |1          |28 |Female|No         |3                        |1         |33     |\n",
            "|Bachelors|2014       |New Delhi|3          |38 |Female|No         |2                        |0         |43     |\n",
            "|Masters  |2016       |Bangalore|3          |27 |Male  |No         |5                        |1         |32     |\n",
            "|Masters  |2017       |Pune     |3          |24 |Male  |Yes        |2                        |1         |29     |\n",
            "|Bachelors|2016       |Bangalore|3          |22 |Male  |No         |0                        |0         |27     |\n",
            "|Bachelors|2015       |New Delhi|3          |38 |Male  |No         |0                        |0         |43     |\n",
            "|Bachelors|2016       |Bangalore|3          |34 |Female|No         |2                        |1         |39     |\n",
            "|Bachelors|2016       |Pune     |3          |23 |Male  |No         |1                        |0         |28     |\n",
            "|Masters  |2017       |New Delhi|2          |37 |Male  |No         |2                        |0         |42     |\n",
            "|Masters  |2012       |Bangalore|3          |27 |Male  |No         |5                        |1         |32     |\n",
            "|Bachelors|2016       |Pune     |3          |34 |Male  |No         |3                        |0         |39     |\n",
            "|Bachelors|2018       |Pune     |3          |32 |Male  |Yes        |5                        |1         |37     |\n",
            "|Bachelors|2016       |Bangalore|3          |39 |Male  |No         |2                        |0         |44     |\n",
            "|Bachelors|2012       |Bangalore|3          |37 |Male  |No         |4                        |0         |42     |\n",
            "|Bachelors|2017       |Bangalore|1          |29 |Male  |No         |3                        |0         |34     |\n",
            "|Bachelors|2014       |Bangalore|3          |34 |Female|No         |2                        |0         |39     |\n",
            "|Bachelors|2014       |Pune     |3          |34 |Male  |No         |4                        |0         |39     |\n",
            "|Bachelors|2015       |Pune     |2          |30 |Female|No         |0                        |1         |35     |\n",
            "|Bachelors|2016       |New Delhi|2          |22 |Female|No         |0                        |1         |27     |\n",
            "+---------+-----------+---------+-----------+---+------+-----------+-------------------------+----------+-------+\n",
            "only showing top 20 rows\n",
            "\n"
          ]
        }
      ]
    },
    {
      "cell_type": "code",
      "source": [
        "df.withColumn('new_age', df['Age']+2).withColumn('newJoiningYear', df['JoiningYear']+2).show()"
      ],
      "metadata": {
        "colab": {
          "base_uri": "https://localhost:8080/"
        },
        "id": "wYX1aCyPHMVz",
        "outputId": "8dcfadd5-fa24-403f-82ac-83d6193432a6"
      },
      "execution_count": 19,
      "outputs": [
        {
          "output_type": "stream",
          "name": "stdout",
          "text": [
            "+---------+-----------+---------+-----------+---+------+-----------+-------------------------+----------+-------+--------------+\n",
            "|Education|JoiningYear|     City|PaymentTier|Age|Gender|EverBenched|ExperienceInCurrentDomain|LeaveOrNot|new_age|newJoiningYear|\n",
            "+---------+-----------+---------+-----------+---+------+-----------+-------------------------+----------+-------+--------------+\n",
            "|Bachelors|       2017|Bangalore|          3| 34|  Male|         No|                        0|         0|     36|          2019|\n",
            "|Bachelors|       2013|     Pune|          1| 28|Female|         No|                        3|         1|     30|          2015|\n",
            "|Bachelors|       2014|New Delhi|          3| 38|Female|         No|                        2|         0|     40|          2016|\n",
            "|  Masters|       2016|Bangalore|          3| 27|  Male|         No|                        5|         1|     29|          2018|\n",
            "|  Masters|       2017|     Pune|          3| 24|  Male|        Yes|                        2|         1|     26|          2019|\n",
            "|Bachelors|       2016|Bangalore|          3| 22|  Male|         No|                        0|         0|     24|          2018|\n",
            "|Bachelors|       2015|New Delhi|          3| 38|  Male|         No|                        0|         0|     40|          2017|\n",
            "|Bachelors|       2016|Bangalore|          3| 34|Female|         No|                        2|         1|     36|          2018|\n",
            "|Bachelors|       2016|     Pune|          3| 23|  Male|         No|                        1|         0|     25|          2018|\n",
            "|  Masters|       2017|New Delhi|          2| 37|  Male|         No|                        2|         0|     39|          2019|\n",
            "|  Masters|       2012|Bangalore|          3| 27|  Male|         No|                        5|         1|     29|          2014|\n",
            "|Bachelors|       2016|     Pune|          3| 34|  Male|         No|                        3|         0|     36|          2018|\n",
            "|Bachelors|       2018|     Pune|          3| 32|  Male|        Yes|                        5|         1|     34|          2020|\n",
            "|Bachelors|       2016|Bangalore|          3| 39|  Male|         No|                        2|         0|     41|          2018|\n",
            "|Bachelors|       2012|Bangalore|          3| 37|  Male|         No|                        4|         0|     39|          2014|\n",
            "|Bachelors|       2017|Bangalore|          1| 29|  Male|         No|                        3|         0|     31|          2019|\n",
            "|Bachelors|       2014|Bangalore|          3| 34|Female|         No|                        2|         0|     36|          2016|\n",
            "|Bachelors|       2014|     Pune|          3| 34|  Male|         No|                        4|         0|     36|          2016|\n",
            "|Bachelors|       2015|     Pune|          2| 30|Female|         No|                        0|         1|     32|          2017|\n",
            "|Bachelors|       2016|New Delhi|          2| 22|Female|         No|                        0|         1|     24|          2018|\n",
            "+---------+-----------+---------+-----------+---+------+-----------+-------------------------+----------+-------+--------------+\n",
            "only showing top 20 rows\n",
            "\n"
          ]
        }
      ]
    },
    {
      "cell_type": "code",
      "source": [
        "from pyspark.sql.functions import lit"
      ],
      "metadata": {
        "id": "MhpmZrq6PuHn"
      },
      "execution_count": 20,
      "outputs": []
    },
    {
      "cell_type": "code",
      "source": [
        "# adding a column with constant values\n",
        "df.withColumn('Bonus', lit('None')).show()"
      ],
      "metadata": {
        "colab": {
          "base_uri": "https://localhost:8080/"
        },
        "id": "ctl3gVzPPiav",
        "outputId": "b635700a-f731-46a2-9f06-00028caeb68b"
      },
      "execution_count": 21,
      "outputs": [
        {
          "output_type": "stream",
          "name": "stdout",
          "text": [
            "+---------+-----------+---------+-----------+---+------+-----------+-------------------------+----------+-----+\n",
            "|Education|JoiningYear|     City|PaymentTier|Age|Gender|EverBenched|ExperienceInCurrentDomain|LeaveOrNot|Bonus|\n",
            "+---------+-----------+---------+-----------+---+------+-----------+-------------------------+----------+-----+\n",
            "|Bachelors|       2017|Bangalore|          3| 34|  Male|         No|                        0|         0| None|\n",
            "|Bachelors|       2013|     Pune|          1| 28|Female|         No|                        3|         1| None|\n",
            "|Bachelors|       2014|New Delhi|          3| 38|Female|         No|                        2|         0| None|\n",
            "|  Masters|       2016|Bangalore|          3| 27|  Male|         No|                        5|         1| None|\n",
            "|  Masters|       2017|     Pune|          3| 24|  Male|        Yes|                        2|         1| None|\n",
            "|Bachelors|       2016|Bangalore|          3| 22|  Male|         No|                        0|         0| None|\n",
            "|Bachelors|       2015|New Delhi|          3| 38|  Male|         No|                        0|         0| None|\n",
            "|Bachelors|       2016|Bangalore|          3| 34|Female|         No|                        2|         1| None|\n",
            "|Bachelors|       2016|     Pune|          3| 23|  Male|         No|                        1|         0| None|\n",
            "|  Masters|       2017|New Delhi|          2| 37|  Male|         No|                        2|         0| None|\n",
            "|  Masters|       2012|Bangalore|          3| 27|  Male|         No|                        5|         1| None|\n",
            "|Bachelors|       2016|     Pune|          3| 34|  Male|         No|                        3|         0| None|\n",
            "|Bachelors|       2018|     Pune|          3| 32|  Male|        Yes|                        5|         1| None|\n",
            "|Bachelors|       2016|Bangalore|          3| 39|  Male|         No|                        2|         0| None|\n",
            "|Bachelors|       2012|Bangalore|          3| 37|  Male|         No|                        4|         0| None|\n",
            "|Bachelors|       2017|Bangalore|          1| 29|  Male|         No|                        3|         0| None|\n",
            "|Bachelors|       2014|Bangalore|          3| 34|Female|         No|                        2|         0| None|\n",
            "|Bachelors|       2014|     Pune|          3| 34|  Male|         No|                        4|         0| None|\n",
            "|Bachelors|       2015|     Pune|          2| 30|Female|         No|                        0|         1| None|\n",
            "|Bachelors|       2016|New Delhi|          2| 22|Female|         No|                        0|         1| None|\n",
            "+---------+-----------+---------+-----------+---+------+-----------+-------------------------+----------+-----+\n",
            "only showing top 20 rows\n",
            "\n"
          ]
        }
      ]
    },
    {
      "cell_type": "code",
      "source": [
        "from pyspark.sql import functions as f"
      ],
      "metadata": {
        "id": "tjiYM1OEkRIB"
      },
      "execution_count": 22,
      "outputs": []
    },
    {
      "cell_type": "code",
      "source": [
        "df.withColumn('Eduaction_upper', f.upper(df['Education'])).show()"
      ],
      "metadata": {
        "colab": {
          "base_uri": "https://localhost:8080/"
        },
        "id": "Jb0n6zDELv8A",
        "outputId": "6e93afdf-5191-4764-a98f-3405c6a0a9a0"
      },
      "execution_count": 23,
      "outputs": [
        {
          "output_type": "stream",
          "name": "stdout",
          "text": [
            "+---------+-----------+---------+-----------+---+------+-----------+-------------------------+----------+---------------+\n",
            "|Education|JoiningYear|     City|PaymentTier|Age|Gender|EverBenched|ExperienceInCurrentDomain|LeaveOrNot|Eduaction_upper|\n",
            "+---------+-----------+---------+-----------+---+------+-----------+-------------------------+----------+---------------+\n",
            "|Bachelors|       2017|Bangalore|          3| 34|  Male|         No|                        0|         0|      BACHELORS|\n",
            "|Bachelors|       2013|     Pune|          1| 28|Female|         No|                        3|         1|      BACHELORS|\n",
            "|Bachelors|       2014|New Delhi|          3| 38|Female|         No|                        2|         0|      BACHELORS|\n",
            "|  Masters|       2016|Bangalore|          3| 27|  Male|         No|                        5|         1|        MASTERS|\n",
            "|  Masters|       2017|     Pune|          3| 24|  Male|        Yes|                        2|         1|        MASTERS|\n",
            "|Bachelors|       2016|Bangalore|          3| 22|  Male|         No|                        0|         0|      BACHELORS|\n",
            "|Bachelors|       2015|New Delhi|          3| 38|  Male|         No|                        0|         0|      BACHELORS|\n",
            "|Bachelors|       2016|Bangalore|          3| 34|Female|         No|                        2|         1|      BACHELORS|\n",
            "|Bachelors|       2016|     Pune|          3| 23|  Male|         No|                        1|         0|      BACHELORS|\n",
            "|  Masters|       2017|New Delhi|          2| 37|  Male|         No|                        2|         0|        MASTERS|\n",
            "|  Masters|       2012|Bangalore|          3| 27|  Male|         No|                        5|         1|        MASTERS|\n",
            "|Bachelors|       2016|     Pune|          3| 34|  Male|         No|                        3|         0|      BACHELORS|\n",
            "|Bachelors|       2018|     Pune|          3| 32|  Male|        Yes|                        5|         1|      BACHELORS|\n",
            "|Bachelors|       2016|Bangalore|          3| 39|  Male|         No|                        2|         0|      BACHELORS|\n",
            "|Bachelors|       2012|Bangalore|          3| 37|  Male|         No|                        4|         0|      BACHELORS|\n",
            "|Bachelors|       2017|Bangalore|          1| 29|  Male|         No|                        3|         0|      BACHELORS|\n",
            "|Bachelors|       2014|Bangalore|          3| 34|Female|         No|                        2|         0|      BACHELORS|\n",
            "|Bachelors|       2014|     Pune|          3| 34|  Male|         No|                        4|         0|      BACHELORS|\n",
            "|Bachelors|       2015|     Pune|          2| 30|Female|         No|                        0|         1|      BACHELORS|\n",
            "|Bachelors|       2016|New Delhi|          2| 22|Female|         No|                        0|         1|      BACHELORS|\n",
            "+---------+-----------+---------+-----------+---+------+-----------+-------------------------+----------+---------------+\n",
            "only showing top 20 rows\n",
            "\n"
          ]
        }
      ]
    },
    {
      "cell_type": "code",
      "source": [
        "# adding multiple columns using lit\n",
        "\n",
        "df.withColumn('Bonus', lit('None')).withColumn('Department', lit('IT')).show()"
      ],
      "metadata": {
        "colab": {
          "base_uri": "https://localhost:8080/"
        },
        "id": "ed66KmrzLxrH",
        "outputId": "d064a171-59de-478f-c47e-4800d1316994"
      },
      "execution_count": 24,
      "outputs": [
        {
          "output_type": "stream",
          "name": "stdout",
          "text": [
            "+---------+-----------+---------+-----------+---+------+-----------+-------------------------+----------+-----+----------+\n",
            "|Education|JoiningYear|     City|PaymentTier|Age|Gender|EverBenched|ExperienceInCurrentDomain|LeaveOrNot|Bonus|Department|\n",
            "+---------+-----------+---------+-----------+---+------+-----------+-------------------------+----------+-----+----------+\n",
            "|Bachelors|       2017|Bangalore|          3| 34|  Male|         No|                        0|         0| None|        IT|\n",
            "|Bachelors|       2013|     Pune|          1| 28|Female|         No|                        3|         1| None|        IT|\n",
            "|Bachelors|       2014|New Delhi|          3| 38|Female|         No|                        2|         0| None|        IT|\n",
            "|  Masters|       2016|Bangalore|          3| 27|  Male|         No|                        5|         1| None|        IT|\n",
            "|  Masters|       2017|     Pune|          3| 24|  Male|        Yes|                        2|         1| None|        IT|\n",
            "|Bachelors|       2016|Bangalore|          3| 22|  Male|         No|                        0|         0| None|        IT|\n",
            "|Bachelors|       2015|New Delhi|          3| 38|  Male|         No|                        0|         0| None|        IT|\n",
            "|Bachelors|       2016|Bangalore|          3| 34|Female|         No|                        2|         1| None|        IT|\n",
            "|Bachelors|       2016|     Pune|          3| 23|  Male|         No|                        1|         0| None|        IT|\n",
            "|  Masters|       2017|New Delhi|          2| 37|  Male|         No|                        2|         0| None|        IT|\n",
            "|  Masters|       2012|Bangalore|          3| 27|  Male|         No|                        5|         1| None|        IT|\n",
            "|Bachelors|       2016|     Pune|          3| 34|  Male|         No|                        3|         0| None|        IT|\n",
            "|Bachelors|       2018|     Pune|          3| 32|  Male|        Yes|                        5|         1| None|        IT|\n",
            "|Bachelors|       2016|Bangalore|          3| 39|  Male|         No|                        2|         0| None|        IT|\n",
            "|Bachelors|       2012|Bangalore|          3| 37|  Male|         No|                        4|         0| None|        IT|\n",
            "|Bachelors|       2017|Bangalore|          1| 29|  Male|         No|                        3|         0| None|        IT|\n",
            "|Bachelors|       2014|Bangalore|          3| 34|Female|         No|                        2|         0| None|        IT|\n",
            "|Bachelors|       2014|     Pune|          3| 34|  Male|         No|                        4|         0| None|        IT|\n",
            "|Bachelors|       2015|     Pune|          2| 30|Female|         No|                        0|         1| None|        IT|\n",
            "|Bachelors|       2016|New Delhi|          2| 22|Female|         No|                        0|         1| None|        IT|\n",
            "+---------+-----------+---------+-----------+---+------+-----------+-------------------------+----------+-----+----------+\n",
            "only showing top 20 rows\n",
            "\n"
          ]
        }
      ]
    },
    {
      "cell_type": "code",
      "source": [
        "# add column by concatinating from existing columns---> f.concat_ws\n",
        "df.withColumn('concated_column', f.concat_ws('-', 'Education', 'JoiningYear')).show()"
      ],
      "metadata": {
        "colab": {
          "base_uri": "https://localhost:8080/"
        },
        "id": "vXRMJfz7LxVK",
        "outputId": "951b0706-0dc5-4c77-eee4-a219be0ddc10"
      },
      "execution_count": 25,
      "outputs": [
        {
          "output_type": "stream",
          "name": "stdout",
          "text": [
            "+---------+-----------+---------+-----------+---+------+-----------+-------------------------+----------+---------------+\n",
            "|Education|JoiningYear|     City|PaymentTier|Age|Gender|EverBenched|ExperienceInCurrentDomain|LeaveOrNot|concated_column|\n",
            "+---------+-----------+---------+-----------+---+------+-----------+-------------------------+----------+---------------+\n",
            "|Bachelors|       2017|Bangalore|          3| 34|  Male|         No|                        0|         0| Bachelors-2017|\n",
            "|Bachelors|       2013|     Pune|          1| 28|Female|         No|                        3|         1| Bachelors-2013|\n",
            "|Bachelors|       2014|New Delhi|          3| 38|Female|         No|                        2|         0| Bachelors-2014|\n",
            "|  Masters|       2016|Bangalore|          3| 27|  Male|         No|                        5|         1|   Masters-2016|\n",
            "|  Masters|       2017|     Pune|          3| 24|  Male|        Yes|                        2|         1|   Masters-2017|\n",
            "|Bachelors|       2016|Bangalore|          3| 22|  Male|         No|                        0|         0| Bachelors-2016|\n",
            "|Bachelors|       2015|New Delhi|          3| 38|  Male|         No|                        0|         0| Bachelors-2015|\n",
            "|Bachelors|       2016|Bangalore|          3| 34|Female|         No|                        2|         1| Bachelors-2016|\n",
            "|Bachelors|       2016|     Pune|          3| 23|  Male|         No|                        1|         0| Bachelors-2016|\n",
            "|  Masters|       2017|New Delhi|          2| 37|  Male|         No|                        2|         0|   Masters-2017|\n",
            "|  Masters|       2012|Bangalore|          3| 27|  Male|         No|                        5|         1|   Masters-2012|\n",
            "|Bachelors|       2016|     Pune|          3| 34|  Male|         No|                        3|         0| Bachelors-2016|\n",
            "|Bachelors|       2018|     Pune|          3| 32|  Male|        Yes|                        5|         1| Bachelors-2018|\n",
            "|Bachelors|       2016|Bangalore|          3| 39|  Male|         No|                        2|         0| Bachelors-2016|\n",
            "|Bachelors|       2012|Bangalore|          3| 37|  Male|         No|                        4|         0| Bachelors-2012|\n",
            "|Bachelors|       2017|Bangalore|          1| 29|  Male|         No|                        3|         0| Bachelors-2017|\n",
            "|Bachelors|       2014|Bangalore|          3| 34|Female|         No|                        2|         0| Bachelors-2014|\n",
            "|Bachelors|       2014|     Pune|          3| 34|  Male|         No|                        4|         0| Bachelors-2014|\n",
            "|Bachelors|       2015|     Pune|          2| 30|Female|         No|                        0|         1| Bachelors-2015|\n",
            "|Bachelors|       2016|New Delhi|          2| 22|Female|         No|                        0|         1| Bachelors-2016|\n",
            "+---------+-----------+---------+-----------+---+------+-----------+-------------------------+----------+---------------+\n",
            "only showing top 20 rows\n",
            "\n"
          ]
        }
      ]
    },
    {
      "cell_type": "code",
      "source": [
        "# adding a column with condition\n",
        "# when\n",
        "from pyspark.sql.functions import when"
      ],
      "metadata": {
        "id": "iLFnEHm6MKaZ"
      },
      "execution_count": 26,
      "outputs": []
    },
    {
      "cell_type": "code",
      "source": [
        "df.withColumn('Experience_band', \\\n",
        "              when(df['ExperienceInCurrentDomain']<1, lit('Fresher'))\\\n",
        "              .when((df['ExperienceInCurrentDomain']>1) & (df['ExperienceInCurrentDomain']<= 5), lit('Senior'))\\\n",
        "              .when(df['ExperienceInCurrentDomain']>5, lit('Expert'))).show()"
      ],
      "metadata": {
        "colab": {
          "base_uri": "https://localhost:8080/"
        },
        "id": "aU_E3KsgMKVP",
        "outputId": "b2e4e676-d619-4b78-f5b6-2352c0db1528"
      },
      "execution_count": 27,
      "outputs": [
        {
          "output_type": "stream",
          "name": "stdout",
          "text": [
            "+---------+-----------+---------+-----------+---+------+-----------+-------------------------+----------+---------------+\n",
            "|Education|JoiningYear|     City|PaymentTier|Age|Gender|EverBenched|ExperienceInCurrentDomain|LeaveOrNot|Experience_band|\n",
            "+---------+-----------+---------+-----------+---+------+-----------+-------------------------+----------+---------------+\n",
            "|Bachelors|       2017|Bangalore|          3| 34|  Male|         No|                        0|         0|        Fresher|\n",
            "|Bachelors|       2013|     Pune|          1| 28|Female|         No|                        3|         1|         Senior|\n",
            "|Bachelors|       2014|New Delhi|          3| 38|Female|         No|                        2|         0|         Senior|\n",
            "|  Masters|       2016|Bangalore|          3| 27|  Male|         No|                        5|         1|         Senior|\n",
            "|  Masters|       2017|     Pune|          3| 24|  Male|        Yes|                        2|         1|         Senior|\n",
            "|Bachelors|       2016|Bangalore|          3| 22|  Male|         No|                        0|         0|        Fresher|\n",
            "|Bachelors|       2015|New Delhi|          3| 38|  Male|         No|                        0|         0|        Fresher|\n",
            "|Bachelors|       2016|Bangalore|          3| 34|Female|         No|                        2|         1|         Senior|\n",
            "|Bachelors|       2016|     Pune|          3| 23|  Male|         No|                        1|         0|           NULL|\n",
            "|  Masters|       2017|New Delhi|          2| 37|  Male|         No|                        2|         0|         Senior|\n",
            "|  Masters|       2012|Bangalore|          3| 27|  Male|         No|                        5|         1|         Senior|\n",
            "|Bachelors|       2016|     Pune|          3| 34|  Male|         No|                        3|         0|         Senior|\n",
            "|Bachelors|       2018|     Pune|          3| 32|  Male|        Yes|                        5|         1|         Senior|\n",
            "|Bachelors|       2016|Bangalore|          3| 39|  Male|         No|                        2|         0|         Senior|\n",
            "|Bachelors|       2012|Bangalore|          3| 37|  Male|         No|                        4|         0|         Senior|\n",
            "|Bachelors|       2017|Bangalore|          1| 29|  Male|         No|                        3|         0|         Senior|\n",
            "|Bachelors|       2014|Bangalore|          3| 34|Female|         No|                        2|         0|         Senior|\n",
            "|Bachelors|       2014|     Pune|          3| 34|  Male|         No|                        4|         0|         Senior|\n",
            "|Bachelors|       2015|     Pune|          2| 30|Female|         No|                        0|         1|        Fresher|\n",
            "|Bachelors|       2016|New Delhi|          2| 22|Female|         No|                        0|         1|        Fresher|\n",
            "+---------+-----------+---------+-----------+---+------+-----------+-------------------------+----------+---------------+\n",
            "only showing top 20 rows\n",
            "\n"
          ]
        }
      ]
    },
    {
      "cell_type": "code",
      "source": [
        "df.withColumn('City_specilaity', \\\n",
        "              when(df['City'] == 'Pune', lit('City in Maharashtra'))\\\n",
        "              .when(df['City'] == 'Bangalore', lit('Silicon Valley of India'))\\\n",
        "              .when(df['City'] == 'New Delhi', lit('Capital Of India'))\n",
        "              ).show(truncate = False)"
      ],
      "metadata": {
        "colab": {
          "base_uri": "https://localhost:8080/"
        },
        "id": "tJHbunQAQKjA",
        "outputId": "fa00ef33-872a-4313-ad54-4036a478374a"
      },
      "execution_count": 28,
      "outputs": [
        {
          "output_type": "stream",
          "name": "stdout",
          "text": [
            "+---------+-----------+---------+-----------+---+------+-----------+-------------------------+----------+-----------------------+\n",
            "|Education|JoiningYear|City     |PaymentTier|Age|Gender|EverBenched|ExperienceInCurrentDomain|LeaveOrNot|City_specilaity        |\n",
            "+---------+-----------+---------+-----------+---+------+-----------+-------------------------+----------+-----------------------+\n",
            "|Bachelors|2017       |Bangalore|3          |34 |Male  |No         |0                        |0         |Silicon Valley of India|\n",
            "|Bachelors|2013       |Pune     |1          |28 |Female|No         |3                        |1         |City in Maharashtra    |\n",
            "|Bachelors|2014       |New Delhi|3          |38 |Female|No         |2                        |0         |Capital Of India       |\n",
            "|Masters  |2016       |Bangalore|3          |27 |Male  |No         |5                        |1         |Silicon Valley of India|\n",
            "|Masters  |2017       |Pune     |3          |24 |Male  |Yes        |2                        |1         |City in Maharashtra    |\n",
            "|Bachelors|2016       |Bangalore|3          |22 |Male  |No         |0                        |0         |Silicon Valley of India|\n",
            "|Bachelors|2015       |New Delhi|3          |38 |Male  |No         |0                        |0         |Capital Of India       |\n",
            "|Bachelors|2016       |Bangalore|3          |34 |Female|No         |2                        |1         |Silicon Valley of India|\n",
            "|Bachelors|2016       |Pune     |3          |23 |Male  |No         |1                        |0         |City in Maharashtra    |\n",
            "|Masters  |2017       |New Delhi|2          |37 |Male  |No         |2                        |0         |Capital Of India       |\n",
            "|Masters  |2012       |Bangalore|3          |27 |Male  |No         |5                        |1         |Silicon Valley of India|\n",
            "|Bachelors|2016       |Pune     |3          |34 |Male  |No         |3                        |0         |City in Maharashtra    |\n",
            "|Bachelors|2018       |Pune     |3          |32 |Male  |Yes        |5                        |1         |City in Maharashtra    |\n",
            "|Bachelors|2016       |Bangalore|3          |39 |Male  |No         |2                        |0         |Silicon Valley of India|\n",
            "|Bachelors|2012       |Bangalore|3          |37 |Male  |No         |4                        |0         |Silicon Valley of India|\n",
            "|Bachelors|2017       |Bangalore|1          |29 |Male  |No         |3                        |0         |Silicon Valley of India|\n",
            "|Bachelors|2014       |Bangalore|3          |34 |Female|No         |2                        |0         |Silicon Valley of India|\n",
            "|Bachelors|2014       |Pune     |3          |34 |Male  |No         |4                        |0         |City in Maharashtra    |\n",
            "|Bachelors|2015       |Pune     |2          |30 |Female|No         |0                        |1         |City in Maharashtra    |\n",
            "|Bachelors|2016       |New Delhi|2          |22 |Female|No         |0                        |1         |Capital Of India       |\n",
            "+---------+-----------+---------+-----------+---+------+-----------+-------------------------+----------+-----------------------+\n",
            "only showing top 20 rows\n",
            "\n"
          ]
        }
      ]
    },
    {
      "cell_type": "code",
      "source": [
        "# new way to add column in dataframe\n",
        "if 'emp_id' not in df.columns:\n",
        "  df.withColumn('emp_id', lit(1)).show()\n",
        "else:\n",
        "  pass"
      ],
      "metadata": {
        "colab": {
          "base_uri": "https://localhost:8080/"
        },
        "id": "VZluQ-vFSSPo",
        "outputId": "c378f250-1105-49b7-b2c2-905a0135d3fd"
      },
      "execution_count": 29,
      "outputs": [
        {
          "output_type": "stream",
          "name": "stdout",
          "text": [
            "+---------+-----------+---------+-----------+---+------+-----------+-------------------------+----------+------+\n",
            "|Education|JoiningYear|     City|PaymentTier|Age|Gender|EverBenched|ExperienceInCurrentDomain|LeaveOrNot|emp_id|\n",
            "+---------+-----------+---------+-----------+---+------+-----------+-------------------------+----------+------+\n",
            "|Bachelors|       2017|Bangalore|          3| 34|  Male|         No|                        0|         0|     1|\n",
            "|Bachelors|       2013|     Pune|          1| 28|Female|         No|                        3|         1|     1|\n",
            "|Bachelors|       2014|New Delhi|          3| 38|Female|         No|                        2|         0|     1|\n",
            "|  Masters|       2016|Bangalore|          3| 27|  Male|         No|                        5|         1|     1|\n",
            "|  Masters|       2017|     Pune|          3| 24|  Male|        Yes|                        2|         1|     1|\n",
            "|Bachelors|       2016|Bangalore|          3| 22|  Male|         No|                        0|         0|     1|\n",
            "|Bachelors|       2015|New Delhi|          3| 38|  Male|         No|                        0|         0|     1|\n",
            "|Bachelors|       2016|Bangalore|          3| 34|Female|         No|                        2|         1|     1|\n",
            "|Bachelors|       2016|     Pune|          3| 23|  Male|         No|                        1|         0|     1|\n",
            "|  Masters|       2017|New Delhi|          2| 37|  Male|         No|                        2|         0|     1|\n",
            "|  Masters|       2012|Bangalore|          3| 27|  Male|         No|                        5|         1|     1|\n",
            "|Bachelors|       2016|     Pune|          3| 34|  Male|         No|                        3|         0|     1|\n",
            "|Bachelors|       2018|     Pune|          3| 32|  Male|        Yes|                        5|         1|     1|\n",
            "|Bachelors|       2016|Bangalore|          3| 39|  Male|         No|                        2|         0|     1|\n",
            "|Bachelors|       2012|Bangalore|          3| 37|  Male|         No|                        4|         0|     1|\n",
            "|Bachelors|       2017|Bangalore|          1| 29|  Male|         No|                        3|         0|     1|\n",
            "|Bachelors|       2014|Bangalore|          3| 34|Female|         No|                        2|         0|     1|\n",
            "|Bachelors|       2014|     Pune|          3| 34|  Male|         No|                        4|         0|     1|\n",
            "|Bachelors|       2015|     Pune|          2| 30|Female|         No|                        0|         1|     1|\n",
            "|Bachelors|       2016|New Delhi|          2| 22|Female|         No|                        0|         1|     1|\n",
            "+---------+-----------+---------+-----------+---+------+-----------+-------------------------+----------+------+\n",
            "only showing top 20 rows\n",
            "\n"
          ]
        }
      ]
    },
    {
      "cell_type": "code",
      "source": [
        "df.select('ExperienceInCurrentDomain').distinct().show()"
      ],
      "metadata": {
        "colab": {
          "base_uri": "https://localhost:8080/"
        },
        "id": "b1eed8aDMKLr",
        "outputId": "ed9a47e3-8492-4ae5-eb22-99958ad15a28"
      },
      "execution_count": 30,
      "outputs": [
        {
          "output_type": "stream",
          "name": "stdout",
          "text": [
            "+-------------------------+\n",
            "|ExperienceInCurrentDomain|\n",
            "+-------------------------+\n",
            "|                        1|\n",
            "|                        6|\n",
            "|                        3|\n",
            "|                        5|\n",
            "|                        4|\n",
            "|                        7|\n",
            "|                        2|\n",
            "|                        0|\n",
            "+-------------------------+\n",
            "\n"
          ]
        }
      ]
    },
    {
      "cell_type": "code",
      "source": [
        "df.select('Education').distinct().show()"
      ],
      "metadata": {
        "colab": {
          "base_uri": "https://localhost:8080/"
        },
        "id": "J-4-WvN8P5os",
        "outputId": "3c74c375-8ecf-4de7-d23d-de8bb335d183"
      },
      "execution_count": 31,
      "outputs": [
        {
          "output_type": "stream",
          "name": "stdout",
          "text": [
            "+---------+\n",
            "|Education|\n",
            "+---------+\n",
            "|  Masters|\n",
            "|Bachelors|\n",
            "|      PHD|\n",
            "+---------+\n",
            "\n"
          ]
        }
      ]
    },
    {
      "cell_type": "code",
      "source": [
        "df.select('City').distinct().show()"
      ],
      "metadata": {
        "colab": {
          "base_uri": "https://localhost:8080/"
        },
        "id": "juOuWItuQCS6",
        "outputId": "1f9085e5-f202-40c6-c544-3b3367cbe069"
      },
      "execution_count": 32,
      "outputs": [
        {
          "output_type": "stream",
          "name": "stdout",
          "text": [
            "+---------+\n",
            "|     City|\n",
            "+---------+\n",
            "|Bangalore|\n",
            "|     Pune|\n",
            "|New Delhi|\n",
            "+---------+\n",
            "\n"
          ]
        }
      ]
    },
    {
      "cell_type": "code",
      "source": [],
      "metadata": {
        "id": "PgRmvlw_QCQ2"
      },
      "execution_count": 32,
      "outputs": []
    },
    {
      "cell_type": "markdown",
      "source": [
        "#Renaming a existing column\n",
        "\n",
        "##withCoulmnRenamed"
      ],
      "metadata": {
        "id": "99iNof_lRE2O"
      }
    },
    {
      "cell_type": "code",
      "source": [
        "# single column to be renamed\n",
        "df.withColumnRenamed('ExperienceInCurrentDomain', 'Experience').show()"
      ],
      "metadata": {
        "colab": {
          "base_uri": "https://localhost:8080/"
        },
        "id": "w9m-w1_qPtEg",
        "outputId": "71100041-b22c-4ce8-85ed-1d9369905726"
      },
      "execution_count": 33,
      "outputs": [
        {
          "output_type": "stream",
          "name": "stdout",
          "text": [
            "+---------+-----------+---------+-----------+---+------+-----------+----------+----------+\n",
            "|Education|JoiningYear|     City|PaymentTier|Age|Gender|EverBenched|Experience|LeaveOrNot|\n",
            "+---------+-----------+---------+-----------+---+------+-----------+----------+----------+\n",
            "|Bachelors|       2017|Bangalore|          3| 34|  Male|         No|         0|         0|\n",
            "|Bachelors|       2013|     Pune|          1| 28|Female|         No|         3|         1|\n",
            "|Bachelors|       2014|New Delhi|          3| 38|Female|         No|         2|         0|\n",
            "|  Masters|       2016|Bangalore|          3| 27|  Male|         No|         5|         1|\n",
            "|  Masters|       2017|     Pune|          3| 24|  Male|        Yes|         2|         1|\n",
            "|Bachelors|       2016|Bangalore|          3| 22|  Male|         No|         0|         0|\n",
            "|Bachelors|       2015|New Delhi|          3| 38|  Male|         No|         0|         0|\n",
            "|Bachelors|       2016|Bangalore|          3| 34|Female|         No|         2|         1|\n",
            "|Bachelors|       2016|     Pune|          3| 23|  Male|         No|         1|         0|\n",
            "|  Masters|       2017|New Delhi|          2| 37|  Male|         No|         2|         0|\n",
            "|  Masters|       2012|Bangalore|          3| 27|  Male|         No|         5|         1|\n",
            "|Bachelors|       2016|     Pune|          3| 34|  Male|         No|         3|         0|\n",
            "|Bachelors|       2018|     Pune|          3| 32|  Male|        Yes|         5|         1|\n",
            "|Bachelors|       2016|Bangalore|          3| 39|  Male|         No|         2|         0|\n",
            "|Bachelors|       2012|Bangalore|          3| 37|  Male|         No|         4|         0|\n",
            "|Bachelors|       2017|Bangalore|          1| 29|  Male|         No|         3|         0|\n",
            "|Bachelors|       2014|Bangalore|          3| 34|Female|         No|         2|         0|\n",
            "|Bachelors|       2014|     Pune|          3| 34|  Male|         No|         4|         0|\n",
            "|Bachelors|       2015|     Pune|          2| 30|Female|         No|         0|         1|\n",
            "|Bachelors|       2016|New Delhi|          2| 22|Female|         No|         0|         1|\n",
            "+---------+-----------+---------+-----------+---+------+-----------+----------+----------+\n",
            "only showing top 20 rows\n",
            "\n"
          ]
        }
      ]
    },
    {
      "cell_type": "code",
      "source": [
        "df.describe().show()"
      ],
      "metadata": {
        "colab": {
          "base_uri": "https://localhost:8080/"
        },
        "id": "h9GZYmG07f9L",
        "outputId": "700e4f32-6114-49cd-a2bf-b556ea39b03a"
      },
      "execution_count": 34,
      "outputs": [
        {
          "output_type": "stream",
          "name": "stdout",
          "text": [
            "+-------+---------+------------------+---------+------------------+------------------+------+-----------+-------------------------+------------------+\n",
            "|summary|Education|       JoiningYear|     City|       PaymentTier|               Age|Gender|EverBenched|ExperienceInCurrentDomain|        LeaveOrNot|\n",
            "+-------+---------+------------------+---------+------------------+------------------+------+-----------+-------------------------+------------------+\n",
            "|  count|     4653|              4653|     4653|              4653|              4653|  4653|       4653|                     4653|              4653|\n",
            "|   mean|     NULL|2015.0629701267999|     NULL|2.6982591876208897|29.393294648613796|  NULL|       NULL|        2.905652267354395|0.3438641736514077|\n",
            "| stddev|     NULL|1.8633768286863406|     NULL|0.5614354643364917|  4.82608700912605|  NULL|       NULL|       1.5582403309268575|0.4750474751488102|\n",
            "|    min|Bachelors|              2012|Bangalore|                 1|                22|Female|         No|                        0|                 0|\n",
            "|    max|      PHD|              2018|     Pune|                 3|                41|  Male|        Yes|                        7|                 1|\n",
            "+-------+---------+------------------+---------+------------------+------------------+------+-----------+-------------------------+------------------+\n",
            "\n"
          ]
        }
      ]
    },
    {
      "cell_type": "code",
      "source": [
        "from pyspark.sql import functions as F\n",
        "\n",
        "df.agg(F.max(\"Education\")).show()"
      ],
      "metadata": {
        "colab": {
          "base_uri": "https://localhost:8080/"
        },
        "id": "JLWeSIkh_8xM",
        "outputId": "12513259-a65b-4a50-fe58-86101bca65ba"
      },
      "execution_count": 35,
      "outputs": [
        {
          "output_type": "stream",
          "name": "stdout",
          "text": [
            "+--------------+\n",
            "|max(Education)|\n",
            "+--------------+\n",
            "|           PHD|\n",
            "+--------------+\n",
            "\n"
          ]
        }
      ]
    },
    {
      "cell_type": "code",
      "source": [
        "# python pandas\n",
        "emp.agg({\n",
        "    'Education':['max', 'min'],\n",
        "    'JoiningYear':['mean', 'min', 'max']\n",
        "})"
      ],
      "metadata": {
        "colab": {
          "base_uri": "https://localhost:8080/",
          "height": 143
        },
        "id": "8ESsqiEQ-nHv",
        "outputId": "8db0f859-d681-4177-eecf-717b390f3ad2"
      },
      "execution_count": 36,
      "outputs": [
        {
          "output_type": "execute_result",
          "data": {
            "text/plain": [
              "      Education  JoiningYear\n",
              "max         PHD   2018.00000\n",
              "min   Bachelors   2012.00000\n",
              "mean        NaN   2015.06297"
            ],
            "text/html": [
              "\n",
              "  <div id=\"df-e2ef9426-e5bb-4c0c-8580-2646f978cf3f\" class=\"colab-df-container\">\n",
              "    <div>\n",
              "<style scoped>\n",
              "    .dataframe tbody tr th:only-of-type {\n",
              "        vertical-align: middle;\n",
              "    }\n",
              "\n",
              "    .dataframe tbody tr th {\n",
              "        vertical-align: top;\n",
              "    }\n",
              "\n",
              "    .dataframe thead th {\n",
              "        text-align: right;\n",
              "    }\n",
              "</style>\n",
              "<table border=\"1\" class=\"dataframe\">\n",
              "  <thead>\n",
              "    <tr style=\"text-align: right;\">\n",
              "      <th></th>\n",
              "      <th>Education</th>\n",
              "      <th>JoiningYear</th>\n",
              "    </tr>\n",
              "  </thead>\n",
              "  <tbody>\n",
              "    <tr>\n",
              "      <th>max</th>\n",
              "      <td>PHD</td>\n",
              "      <td>2018.00000</td>\n",
              "    </tr>\n",
              "    <tr>\n",
              "      <th>min</th>\n",
              "      <td>Bachelors</td>\n",
              "      <td>2012.00000</td>\n",
              "    </tr>\n",
              "    <tr>\n",
              "      <th>mean</th>\n",
              "      <td>NaN</td>\n",
              "      <td>2015.06297</td>\n",
              "    </tr>\n",
              "  </tbody>\n",
              "</table>\n",
              "</div>\n",
              "    <div class=\"colab-df-buttons\">\n",
              "\n",
              "  <div class=\"colab-df-container\">\n",
              "    <button class=\"colab-df-convert\" onclick=\"convertToInteractive('df-e2ef9426-e5bb-4c0c-8580-2646f978cf3f')\"\n",
              "            title=\"Convert this dataframe to an interactive table.\"\n",
              "            style=\"display:none;\">\n",
              "\n",
              "  <svg xmlns=\"http://www.w3.org/2000/svg\" height=\"24px\" viewBox=\"0 -960 960 960\">\n",
              "    <path d=\"M120-120v-720h720v720H120Zm60-500h600v-160H180v160Zm220 220h160v-160H400v160Zm0 220h160v-160H400v160ZM180-400h160v-160H180v160Zm440 0h160v-160H620v160ZM180-180h160v-160H180v160Zm440 0h160v-160H620v160Z\"/>\n",
              "  </svg>\n",
              "    </button>\n",
              "\n",
              "  <style>\n",
              "    .colab-df-container {\n",
              "      display:flex;\n",
              "      gap: 12px;\n",
              "    }\n",
              "\n",
              "    .colab-df-convert {\n",
              "      background-color: #E8F0FE;\n",
              "      border: none;\n",
              "      border-radius: 50%;\n",
              "      cursor: pointer;\n",
              "      display: none;\n",
              "      fill: #1967D2;\n",
              "      height: 32px;\n",
              "      padding: 0 0 0 0;\n",
              "      width: 32px;\n",
              "    }\n",
              "\n",
              "    .colab-df-convert:hover {\n",
              "      background-color: #E2EBFA;\n",
              "      box-shadow: 0px 1px 2px rgba(60, 64, 67, 0.3), 0px 1px 3px 1px rgba(60, 64, 67, 0.15);\n",
              "      fill: #174EA6;\n",
              "    }\n",
              "\n",
              "    .colab-df-buttons div {\n",
              "      margin-bottom: 4px;\n",
              "    }\n",
              "\n",
              "    [theme=dark] .colab-df-convert {\n",
              "      background-color: #3B4455;\n",
              "      fill: #D2E3FC;\n",
              "    }\n",
              "\n",
              "    [theme=dark] .colab-df-convert:hover {\n",
              "      background-color: #434B5C;\n",
              "      box-shadow: 0px 1px 3px 1px rgba(0, 0, 0, 0.15);\n",
              "      filter: drop-shadow(0px 1px 2px rgba(0, 0, 0, 0.3));\n",
              "      fill: #FFFFFF;\n",
              "    }\n",
              "  </style>\n",
              "\n",
              "    <script>\n",
              "      const buttonEl =\n",
              "        document.querySelector('#df-e2ef9426-e5bb-4c0c-8580-2646f978cf3f button.colab-df-convert');\n",
              "      buttonEl.style.display =\n",
              "        google.colab.kernel.accessAllowed ? 'block' : 'none';\n",
              "\n",
              "      async function convertToInteractive(key) {\n",
              "        const element = document.querySelector('#df-e2ef9426-e5bb-4c0c-8580-2646f978cf3f');\n",
              "        const dataTable =\n",
              "          await google.colab.kernel.invokeFunction('convertToInteractive',\n",
              "                                                    [key], {});\n",
              "        if (!dataTable) return;\n",
              "\n",
              "        const docLinkHtml = 'Like what you see? Visit the ' +\n",
              "          '<a target=\"_blank\" href=https://colab.research.google.com/notebooks/data_table.ipynb>data table notebook</a>'\n",
              "          + ' to learn more about interactive tables.';\n",
              "        element.innerHTML = '';\n",
              "        dataTable['output_type'] = 'display_data';\n",
              "        await google.colab.output.renderOutput(dataTable, element);\n",
              "        const docLink = document.createElement('div');\n",
              "        docLink.innerHTML = docLinkHtml;\n",
              "        element.appendChild(docLink);\n",
              "      }\n",
              "    </script>\n",
              "  </div>\n",
              "\n",
              "\n",
              "<div id=\"df-2f5f904d-2e96-4c7a-83a0-c59866d002fb\">\n",
              "  <button class=\"colab-df-quickchart\" onclick=\"quickchart('df-2f5f904d-2e96-4c7a-83a0-c59866d002fb')\"\n",
              "            title=\"Suggest charts\"\n",
              "            style=\"display:none;\">\n",
              "\n",
              "<svg xmlns=\"http://www.w3.org/2000/svg\" height=\"24px\"viewBox=\"0 0 24 24\"\n",
              "     width=\"24px\">\n",
              "    <g>\n",
              "        <path d=\"M19 3H5c-1.1 0-2 .9-2 2v14c0 1.1.9 2 2 2h14c1.1 0 2-.9 2-2V5c0-1.1-.9-2-2-2zM9 17H7v-7h2v7zm4 0h-2V7h2v10zm4 0h-2v-4h2v4z\"/>\n",
              "    </g>\n",
              "</svg>\n",
              "  </button>\n",
              "\n",
              "<style>\n",
              "  .colab-df-quickchart {\n",
              "      --bg-color: #E8F0FE;\n",
              "      --fill-color: #1967D2;\n",
              "      --hover-bg-color: #E2EBFA;\n",
              "      --hover-fill-color: #174EA6;\n",
              "      --disabled-fill-color: #AAA;\n",
              "      --disabled-bg-color: #DDD;\n",
              "  }\n",
              "\n",
              "  [theme=dark] .colab-df-quickchart {\n",
              "      --bg-color: #3B4455;\n",
              "      --fill-color: #D2E3FC;\n",
              "      --hover-bg-color: #434B5C;\n",
              "      --hover-fill-color: #FFFFFF;\n",
              "      --disabled-bg-color: #3B4455;\n",
              "      --disabled-fill-color: #666;\n",
              "  }\n",
              "\n",
              "  .colab-df-quickchart {\n",
              "    background-color: var(--bg-color);\n",
              "    border: none;\n",
              "    border-radius: 50%;\n",
              "    cursor: pointer;\n",
              "    display: none;\n",
              "    fill: var(--fill-color);\n",
              "    height: 32px;\n",
              "    padding: 0;\n",
              "    width: 32px;\n",
              "  }\n",
              "\n",
              "  .colab-df-quickchart:hover {\n",
              "    background-color: var(--hover-bg-color);\n",
              "    box-shadow: 0 1px 2px rgba(60, 64, 67, 0.3), 0 1px 3px 1px rgba(60, 64, 67, 0.15);\n",
              "    fill: var(--button-hover-fill-color);\n",
              "  }\n",
              "\n",
              "  .colab-df-quickchart-complete:disabled,\n",
              "  .colab-df-quickchart-complete:disabled:hover {\n",
              "    background-color: var(--disabled-bg-color);\n",
              "    fill: var(--disabled-fill-color);\n",
              "    box-shadow: none;\n",
              "  }\n",
              "\n",
              "  .colab-df-spinner {\n",
              "    border: 2px solid var(--fill-color);\n",
              "    border-color: transparent;\n",
              "    border-bottom-color: var(--fill-color);\n",
              "    animation:\n",
              "      spin 1s steps(1) infinite;\n",
              "  }\n",
              "\n",
              "  @keyframes spin {\n",
              "    0% {\n",
              "      border-color: transparent;\n",
              "      border-bottom-color: var(--fill-color);\n",
              "      border-left-color: var(--fill-color);\n",
              "    }\n",
              "    20% {\n",
              "      border-color: transparent;\n",
              "      border-left-color: var(--fill-color);\n",
              "      border-top-color: var(--fill-color);\n",
              "    }\n",
              "    30% {\n",
              "      border-color: transparent;\n",
              "      border-left-color: var(--fill-color);\n",
              "      border-top-color: var(--fill-color);\n",
              "      border-right-color: var(--fill-color);\n",
              "    }\n",
              "    40% {\n",
              "      border-color: transparent;\n",
              "      border-right-color: var(--fill-color);\n",
              "      border-top-color: var(--fill-color);\n",
              "    }\n",
              "    60% {\n",
              "      border-color: transparent;\n",
              "      border-right-color: var(--fill-color);\n",
              "    }\n",
              "    80% {\n",
              "      border-color: transparent;\n",
              "      border-right-color: var(--fill-color);\n",
              "      border-bottom-color: var(--fill-color);\n",
              "    }\n",
              "    90% {\n",
              "      border-color: transparent;\n",
              "      border-bottom-color: var(--fill-color);\n",
              "    }\n",
              "  }\n",
              "</style>\n",
              "\n",
              "  <script>\n",
              "    async function quickchart(key) {\n",
              "      const quickchartButtonEl =\n",
              "        document.querySelector('#' + key + ' button');\n",
              "      quickchartButtonEl.disabled = true;  // To prevent multiple clicks.\n",
              "      quickchartButtonEl.classList.add('colab-df-spinner');\n",
              "      try {\n",
              "        const charts = await google.colab.kernel.invokeFunction(\n",
              "            'suggestCharts', [key], {});\n",
              "      } catch (error) {\n",
              "        console.error('Error during call to suggestCharts:', error);\n",
              "      }\n",
              "      quickchartButtonEl.classList.remove('colab-df-spinner');\n",
              "      quickchartButtonEl.classList.add('colab-df-quickchart-complete');\n",
              "    }\n",
              "    (() => {\n",
              "      let quickchartButtonEl =\n",
              "        document.querySelector('#df-2f5f904d-2e96-4c7a-83a0-c59866d002fb button');\n",
              "      quickchartButtonEl.style.display =\n",
              "        google.colab.kernel.accessAllowed ? 'block' : 'none';\n",
              "    })();\n",
              "  </script>\n",
              "</div>\n",
              "    </div>\n",
              "  </div>\n"
            ]
          },
          "metadata": {},
          "execution_count": 36
        }
      ]
    },
    {
      "cell_type": "code",
      "source": [
        "# converting string to upper case\n",
        "\n",
        "from pyspark.sql import functions as f"
      ],
      "metadata": {
        "id": "q5YRjnBP-_xt"
      },
      "execution_count": 37,
      "outputs": []
    },
    {
      "cell_type": "code",
      "source": [
        "df.withColumn('Eduaction_upper', f.upper(df['Education'])).show()"
      ],
      "metadata": {
        "colab": {
          "base_uri": "https://localhost:8080/"
        },
        "id": "k0rB47PILVOM",
        "outputId": "67bc8e31-33db-43da-cdb5-d677f37feee0"
      },
      "execution_count": 38,
      "outputs": [
        {
          "output_type": "stream",
          "name": "stdout",
          "text": [
            "+---------+-----------+---------+-----------+---+------+-----------+-------------------------+----------+---------------+\n",
            "|Education|JoiningYear|     City|PaymentTier|Age|Gender|EverBenched|ExperienceInCurrentDomain|LeaveOrNot|Eduaction_upper|\n",
            "+---------+-----------+---------+-----------+---+------+-----------+-------------------------+----------+---------------+\n",
            "|Bachelors|       2017|Bangalore|          3| 34|  Male|         No|                        0|         0|      BACHELORS|\n",
            "|Bachelors|       2013|     Pune|          1| 28|Female|         No|                        3|         1|      BACHELORS|\n",
            "|Bachelors|       2014|New Delhi|          3| 38|Female|         No|                        2|         0|      BACHELORS|\n",
            "|  Masters|       2016|Bangalore|          3| 27|  Male|         No|                        5|         1|        MASTERS|\n",
            "|  Masters|       2017|     Pune|          3| 24|  Male|        Yes|                        2|         1|        MASTERS|\n",
            "|Bachelors|       2016|Bangalore|          3| 22|  Male|         No|                        0|         0|      BACHELORS|\n",
            "|Bachelors|       2015|New Delhi|          3| 38|  Male|         No|                        0|         0|      BACHELORS|\n",
            "|Bachelors|       2016|Bangalore|          3| 34|Female|         No|                        2|         1|      BACHELORS|\n",
            "|Bachelors|       2016|     Pune|          3| 23|  Male|         No|                        1|         0|      BACHELORS|\n",
            "|  Masters|       2017|New Delhi|          2| 37|  Male|         No|                        2|         0|        MASTERS|\n",
            "|  Masters|       2012|Bangalore|          3| 27|  Male|         No|                        5|         1|        MASTERS|\n",
            "|Bachelors|       2016|     Pune|          3| 34|  Male|         No|                        3|         0|      BACHELORS|\n",
            "|Bachelors|       2018|     Pune|          3| 32|  Male|        Yes|                        5|         1|      BACHELORS|\n",
            "|Bachelors|       2016|Bangalore|          3| 39|  Male|         No|                        2|         0|      BACHELORS|\n",
            "|Bachelors|       2012|Bangalore|          3| 37|  Male|         No|                        4|         0|      BACHELORS|\n",
            "|Bachelors|       2017|Bangalore|          1| 29|  Male|         No|                        3|         0|      BACHELORS|\n",
            "|Bachelors|       2014|Bangalore|          3| 34|Female|         No|                        2|         0|      BACHELORS|\n",
            "|Bachelors|       2014|     Pune|          3| 34|  Male|         No|                        4|         0|      BACHELORS|\n",
            "|Bachelors|       2015|     Pune|          2| 30|Female|         No|                        0|         1|      BACHELORS|\n",
            "|Bachelors|       2016|New Delhi|          2| 22|Female|         No|                        0|         1|      BACHELORS|\n",
            "+---------+-----------+---------+-----------+---+------+-----------+-------------------------+----------+---------------+\n",
            "only showing top 20 rows\n",
            "\n"
          ]
        }
      ]
    },
    {
      "cell_type": "markdown",
      "source": [
        "# DROPPING A COLUMN\n"
      ],
      "metadata": {
        "id": "mBUOdYZedq2d"
      }
    },
    {
      "cell_type": "code",
      "source": [
        "df.drop(df['Education']).show()"
      ],
      "metadata": {
        "colab": {
          "base_uri": "https://localhost:8080/"
        },
        "id": "47d0zi2cLfFa",
        "outputId": "908c418e-8c79-4fcc-90a9-e95289a73dee"
      },
      "execution_count": 39,
      "outputs": [
        {
          "output_type": "stream",
          "name": "stdout",
          "text": [
            "+-----------+---------+-----------+---+------+-----------+-------------------------+----------+\n",
            "|JoiningYear|     City|PaymentTier|Age|Gender|EverBenched|ExperienceInCurrentDomain|LeaveOrNot|\n",
            "+-----------+---------+-----------+---+------+-----------+-------------------------+----------+\n",
            "|       2017|Bangalore|          3| 34|  Male|         No|                        0|         0|\n",
            "|       2013|     Pune|          1| 28|Female|         No|                        3|         1|\n",
            "|       2014|New Delhi|          3| 38|Female|         No|                        2|         0|\n",
            "|       2016|Bangalore|          3| 27|  Male|         No|                        5|         1|\n",
            "|       2017|     Pune|          3| 24|  Male|        Yes|                        2|         1|\n",
            "|       2016|Bangalore|          3| 22|  Male|         No|                        0|         0|\n",
            "|       2015|New Delhi|          3| 38|  Male|         No|                        0|         0|\n",
            "|       2016|Bangalore|          3| 34|Female|         No|                        2|         1|\n",
            "|       2016|     Pune|          3| 23|  Male|         No|                        1|         0|\n",
            "|       2017|New Delhi|          2| 37|  Male|         No|                        2|         0|\n",
            "|       2012|Bangalore|          3| 27|  Male|         No|                        5|         1|\n",
            "|       2016|     Pune|          3| 34|  Male|         No|                        3|         0|\n",
            "|       2018|     Pune|          3| 32|  Male|        Yes|                        5|         1|\n",
            "|       2016|Bangalore|          3| 39|  Male|         No|                        2|         0|\n",
            "|       2012|Bangalore|          3| 37|  Male|         No|                        4|         0|\n",
            "|       2017|Bangalore|          1| 29|  Male|         No|                        3|         0|\n",
            "|       2014|Bangalore|          3| 34|Female|         No|                        2|         0|\n",
            "|       2014|     Pune|          3| 34|  Male|         No|                        4|         0|\n",
            "|       2015|     Pune|          2| 30|Female|         No|                        0|         1|\n",
            "|       2016|New Delhi|          2| 22|Female|         No|                        0|         1|\n",
            "+-----------+---------+-----------+---+------+-----------+-------------------------+----------+\n",
            "only showing top 20 rows\n",
            "\n"
          ]
        }
      ]
    },
    {
      "cell_type": "code",
      "source": [
        "df.drop('Education').show()"
      ],
      "metadata": {
        "colab": {
          "base_uri": "https://localhost:8080/"
        },
        "id": "zTB_4UBRd0Qw",
        "outputId": "afd17641-0417-44c8-aab5-dc00c836be25"
      },
      "execution_count": 40,
      "outputs": [
        {
          "output_type": "stream",
          "name": "stdout",
          "text": [
            "+-----------+---------+-----------+---+------+-----------+-------------------------+----------+\n",
            "|JoiningYear|     City|PaymentTier|Age|Gender|EverBenched|ExperienceInCurrentDomain|LeaveOrNot|\n",
            "+-----------+---------+-----------+---+------+-----------+-------------------------+----------+\n",
            "|       2017|Bangalore|          3| 34|  Male|         No|                        0|         0|\n",
            "|       2013|     Pune|          1| 28|Female|         No|                        3|         1|\n",
            "|       2014|New Delhi|          3| 38|Female|         No|                        2|         0|\n",
            "|       2016|Bangalore|          3| 27|  Male|         No|                        5|         1|\n",
            "|       2017|     Pune|          3| 24|  Male|        Yes|                        2|         1|\n",
            "|       2016|Bangalore|          3| 22|  Male|         No|                        0|         0|\n",
            "|       2015|New Delhi|          3| 38|  Male|         No|                        0|         0|\n",
            "|       2016|Bangalore|          3| 34|Female|         No|                        2|         1|\n",
            "|       2016|     Pune|          3| 23|  Male|         No|                        1|         0|\n",
            "|       2017|New Delhi|          2| 37|  Male|         No|                        2|         0|\n",
            "|       2012|Bangalore|          3| 27|  Male|         No|                        5|         1|\n",
            "|       2016|     Pune|          3| 34|  Male|         No|                        3|         0|\n",
            "|       2018|     Pune|          3| 32|  Male|        Yes|                        5|         1|\n",
            "|       2016|Bangalore|          3| 39|  Male|         No|                        2|         0|\n",
            "|       2012|Bangalore|          3| 37|  Male|         No|                        4|         0|\n",
            "|       2017|Bangalore|          1| 29|  Male|         No|                        3|         0|\n",
            "|       2014|Bangalore|          3| 34|Female|         No|                        2|         0|\n",
            "|       2014|     Pune|          3| 34|  Male|         No|                        4|         0|\n",
            "|       2015|     Pune|          2| 30|Female|         No|                        0|         1|\n",
            "|       2016|New Delhi|          2| 22|Female|         No|                        0|         1|\n",
            "+-----------+---------+-----------+---+------+-----------+-------------------------+----------+\n",
            "only showing top 20 rows\n",
            "\n"
          ]
        }
      ]
    },
    {
      "cell_type": "code",
      "source": [
        "# dropping a more than one column\n",
        "df.drop('Education', 'JoiningYear').show()"
      ],
      "metadata": {
        "colab": {
          "base_uri": "https://localhost:8080/"
        },
        "id": "mpOSJLGQd5Mf",
        "outputId": "6f24bdf0-8578-408d-e0a0-7480b5027a1b"
      },
      "execution_count": 41,
      "outputs": [
        {
          "output_type": "stream",
          "name": "stdout",
          "text": [
            "+---------+-----------+---+------+-----------+-------------------------+----------+\n",
            "|     City|PaymentTier|Age|Gender|EverBenched|ExperienceInCurrentDomain|LeaveOrNot|\n",
            "+---------+-----------+---+------+-----------+-------------------------+----------+\n",
            "|Bangalore|          3| 34|  Male|         No|                        0|         0|\n",
            "|     Pune|          1| 28|Female|         No|                        3|         1|\n",
            "|New Delhi|          3| 38|Female|         No|                        2|         0|\n",
            "|Bangalore|          3| 27|  Male|         No|                        5|         1|\n",
            "|     Pune|          3| 24|  Male|        Yes|                        2|         1|\n",
            "|Bangalore|          3| 22|  Male|         No|                        0|         0|\n",
            "|New Delhi|          3| 38|  Male|         No|                        0|         0|\n",
            "|Bangalore|          3| 34|Female|         No|                        2|         1|\n",
            "|     Pune|          3| 23|  Male|         No|                        1|         0|\n",
            "|New Delhi|          2| 37|  Male|         No|                        2|         0|\n",
            "|Bangalore|          3| 27|  Male|         No|                        5|         1|\n",
            "|     Pune|          3| 34|  Male|         No|                        3|         0|\n",
            "|     Pune|          3| 32|  Male|        Yes|                        5|         1|\n",
            "|Bangalore|          3| 39|  Male|         No|                        2|         0|\n",
            "|Bangalore|          3| 37|  Male|         No|                        4|         0|\n",
            "|Bangalore|          1| 29|  Male|         No|                        3|         0|\n",
            "|Bangalore|          3| 34|Female|         No|                        2|         0|\n",
            "|     Pune|          3| 34|  Male|         No|                        4|         0|\n",
            "|     Pune|          2| 30|Female|         No|                        0|         1|\n",
            "|New Delhi|          2| 22|Female|         No|                        0|         1|\n",
            "+---------+-----------+---+------+-----------+-------------------------+----------+\n",
            "only showing top 20 rows\n",
            "\n"
          ]
        }
      ]
    },
    {
      "cell_type": "markdown",
      "source": [
        "# DROP NULL VALUES\n",
        "\n",
        "'''df.na.drop(how=any)-- drops rows which conatins null values\n",
        "\n",
        "df.na.drop(how=all)-- all the values should be null\n",
        "\n",
        "df.na.drop(subset = 'name of the column to be dropped')\n",
        "\n",
        "df.na.drop(thresh = 1/2/3)-- does not drops rows with null at least values mentioned in as number'''"
      ],
      "metadata": {
        "id": "LhZj-V4alm-O"
      }
    },
    {
      "cell_type": "code",
      "source": [
        "df.select('ExperienceInCurrentDomain').count()"
      ],
      "metadata": {
        "colab": {
          "base_uri": "https://localhost:8080/"
        },
        "id": "1gUWTZf6d-v3",
        "outputId": "3b77e48a-2d2f-4ed2-a5f2-3a2bfa04db3e"
      },
      "execution_count": 42,
      "outputs": [
        {
          "output_type": "execute_result",
          "data": {
            "text/plain": [
              "4653"
            ]
          },
          "metadata": {},
          "execution_count": 42
        }
      ]
    },
    {
      "cell_type": "code",
      "source": [
        "df.na.drop(subset = 'ExperienceInCurrentDomain').count()"
      ],
      "metadata": {
        "colab": {
          "base_uri": "https://localhost:8080/"
        },
        "id": "dIIpaHGdeay1",
        "outputId": "cf67e7c6-1759-4841-b94c-f5444a90bf0e"
      },
      "execution_count": 43,
      "outputs": [
        {
          "output_type": "execute_result",
          "data": {
            "text/plain": [
              "4653"
            ]
          },
          "metadata": {},
          "execution_count": 43
        }
      ]
    },
    {
      "cell_type": "code",
      "source": [
        "df.na.drop(thresh = 7).show()"
      ],
      "metadata": {
        "colab": {
          "base_uri": "https://localhost:8080/"
        },
        "id": "IGD9QPpdgWTN",
        "outputId": "9b1a0a14-2d68-48ad-98f4-25696c07b860"
      },
      "execution_count": 44,
      "outputs": [
        {
          "output_type": "stream",
          "name": "stdout",
          "text": [
            "+---------+-----------+---------+-----------+---+------+-----------+-------------------------+----------+\n",
            "|Education|JoiningYear|     City|PaymentTier|Age|Gender|EverBenched|ExperienceInCurrentDomain|LeaveOrNot|\n",
            "+---------+-----------+---------+-----------+---+------+-----------+-------------------------+----------+\n",
            "|Bachelors|       2017|Bangalore|          3| 34|  Male|         No|                        0|         0|\n",
            "|Bachelors|       2013|     Pune|          1| 28|Female|         No|                        3|         1|\n",
            "|Bachelors|       2014|New Delhi|          3| 38|Female|         No|                        2|         0|\n",
            "|  Masters|       2016|Bangalore|          3| 27|  Male|         No|                        5|         1|\n",
            "|  Masters|       2017|     Pune|          3| 24|  Male|        Yes|                        2|         1|\n",
            "|Bachelors|       2016|Bangalore|          3| 22|  Male|         No|                        0|         0|\n",
            "|Bachelors|       2015|New Delhi|          3| 38|  Male|         No|                        0|         0|\n",
            "|Bachelors|       2016|Bangalore|          3| 34|Female|         No|                        2|         1|\n",
            "|Bachelors|       2016|     Pune|          3| 23|  Male|         No|                        1|         0|\n",
            "|  Masters|       2017|New Delhi|          2| 37|  Male|         No|                        2|         0|\n",
            "|  Masters|       2012|Bangalore|          3| 27|  Male|         No|                        5|         1|\n",
            "|Bachelors|       2016|     Pune|          3| 34|  Male|         No|                        3|         0|\n",
            "|Bachelors|       2018|     Pune|          3| 32|  Male|        Yes|                        5|         1|\n",
            "|Bachelors|       2016|Bangalore|          3| 39|  Male|         No|                        2|         0|\n",
            "|Bachelors|       2012|Bangalore|          3| 37|  Male|         No|                        4|         0|\n",
            "|Bachelors|       2017|Bangalore|          1| 29|  Male|         No|                        3|         0|\n",
            "|Bachelors|       2014|Bangalore|          3| 34|Female|         No|                        2|         0|\n",
            "|Bachelors|       2014|     Pune|          3| 34|  Male|         No|                        4|         0|\n",
            "|Bachelors|       2015|     Pune|          2| 30|Female|         No|                        0|         1|\n",
            "|Bachelors|       2016|New Delhi|          2| 22|Female|         No|                        0|         1|\n",
            "+---------+-----------+---------+-----------+---+------+-----------+-------------------------+----------+\n",
            "only showing top 20 rows\n",
            "\n"
          ]
        }
      ]
    },
    {
      "cell_type": "code",
      "source": [
        "df.na.drop(thresh = 7).count()"
      ],
      "metadata": {
        "colab": {
          "base_uri": "https://localhost:8080/"
        },
        "id": "eyTNH_YVjg4j",
        "outputId": "c708afef-f2a1-44f2-fd02-cdc5d2e30201"
      },
      "execution_count": 45,
      "outputs": [
        {
          "output_type": "execute_result",
          "data": {
            "text/plain": [
              "4653"
            ]
          },
          "metadata": {},
          "execution_count": 45
        }
      ]
    },
    {
      "cell_type": "code",
      "source": [
        "df.na.drop(subset = ['Education', 'JoiningYear', 'City', 'Gender']).count()"
      ],
      "metadata": {
        "colab": {
          "base_uri": "https://localhost:8080/"
        },
        "id": "QxrKHSXzksKW",
        "outputId": "4e1cefee-9372-4ea5-9836-97fa766e107c"
      },
      "execution_count": 46,
      "outputs": [
        {
          "output_type": "execute_result",
          "data": {
            "text/plain": [
              "4653"
            ]
          },
          "metadata": {},
          "execution_count": 46
        }
      ]
    },
    {
      "cell_type": "markdown",
      "source": [
        "##drop_duplicates()\n",
        "###df.drop_duplicates()"
      ],
      "metadata": {
        "id": "Gzppv4raJ__l"
      }
    },
    {
      "cell_type": "code",
      "source": [
        "df.drop_duplicates().show()"
      ],
      "metadata": {
        "colab": {
          "base_uri": "https://localhost:8080/"
        },
        "id": "xLii6IeJk4hJ",
        "outputId": "0b6ce52e-ad54-4417-af30-e5f2358e135d"
      },
      "execution_count": 47,
      "outputs": [
        {
          "output_type": "stream",
          "name": "stdout",
          "text": [
            "+---------+-----------+---------+-----------+---+------+-----------+-------------------------+----------+\n",
            "|Education|JoiningYear|     City|PaymentTier|Age|Gender|EverBenched|ExperienceInCurrentDomain|LeaveOrNot|\n",
            "+---------+-----------+---------+-----------+---+------+-----------+-------------------------+----------+\n",
            "|      PHD|       2012|New Delhi|          3| 27|  Male|         No|                        5|         0|\n",
            "|      PHD|       2018|Bangalore|          3| 26|  Male|         No|                        4|         1|\n",
            "|  Masters|       2017|     Pune|          2| 24|Female|         No|                        2|         0|\n",
            "|Bachelors|       2013|Bangalore|          3| 28|Female|         No|                        4|         1|\n",
            "|Bachelors|       2018|Bangalore|          3| 26|  Male|        Yes|                        4|         1|\n",
            "|  Masters|       2015|New Delhi|          3| 29|  Male|         No|                        2|         0|\n",
            "|Bachelors|       2012|Bangalore|          3| 29|  Male|         No|                        2|         1|\n",
            "|Bachelors|       2016|Bangalore|          3| 28|  Male|        Yes|                        2|         0|\n",
            "|      PHD|       2018|New Delhi|          2| 30|Female|         No|                        4|         1|\n",
            "|Bachelors|       2015|     Pune|          3| 28|  Male|         No|                        5|         0|\n",
            "|Bachelors|       2015|     Pune|          3| 29|  Male|         No|                        0|         0|\n",
            "|Bachelors|       2017|New Delhi|          2| 39|  Male|         No|                        2|         0|\n",
            "|Bachelors|       2018|     Pune|          3| 40|  Male|         No|                        0|         1|\n",
            "|Bachelors|       2017|Bangalore|          3| 39|Female|         No|                        3|         0|\n",
            "|Bachelors|       2015|Bangalore|          3| 31|  Male|         No|                        4|         0|\n",
            "|Bachelors|       2017|New Delhi|          2| 33|  Male|         No|                        3|         0|\n",
            "|Bachelors|       2014|Bangalore|          3| 27|  Male|         No|                        5|         1|\n",
            "|  Masters|       2014|     Pune|          2| 27|Female|         No|                        5|         0|\n",
            "|Bachelors|       2018|     Pune|          3| 26|  Male|        Yes|                        4|         1|\n",
            "|  Masters|       2017|New Delhi|          1| 26|Female|         No|                        4|         1|\n",
            "+---------+-----------+---------+-----------+---+------+-----------+-------------------------+----------+\n",
            "only showing top 20 rows\n",
            "\n"
          ]
        }
      ]
    },
    {
      "cell_type": "code",
      "source": [
        "df.drop_duplicates(subset=['Education', 'JoiningYear']).show()"
      ],
      "metadata": {
        "colab": {
          "base_uri": "https://localhost:8080/"
        },
        "id": "UGXQ6zASKKGU",
        "outputId": "4e82745b-abfa-4c1b-bbde-68bebe9764a1"
      },
      "execution_count": 48,
      "outputs": [
        {
          "output_type": "stream",
          "name": "stdout",
          "text": [
            "+---------+-----------+---------+-----------+---+------+-----------+-------------------------+----------+\n",
            "|Education|JoiningYear|     City|PaymentTier|Age|Gender|EverBenched|ExperienceInCurrentDomain|LeaveOrNot|\n",
            "+---------+-----------+---------+-----------+---+------+-----------+-------------------------+----------+\n",
            "|Bachelors|       2012|Bangalore|          3| 37|  Male|         No|                        4|         0|\n",
            "|Bachelors|       2013|     Pune|          1| 28|Female|         No|                        3|         1|\n",
            "|Bachelors|       2014|New Delhi|          3| 38|Female|         No|                        2|         0|\n",
            "|Bachelors|       2015|New Delhi|          3| 38|  Male|         No|                        0|         0|\n",
            "|Bachelors|       2016|Bangalore|          3| 22|  Male|         No|                        0|         0|\n",
            "|Bachelors|       2017|Bangalore|          3| 34|  Male|         No|                        0|         0|\n",
            "|Bachelors|       2018|     Pune|          3| 32|  Male|        Yes|                        5|         1|\n",
            "|  Masters|       2012|Bangalore|          3| 27|  Male|         No|                        5|         1|\n",
            "|  Masters|       2013|New Delhi|          3| 35|  Male|         No|                        2|         0|\n",
            "|  Masters|       2014|     Pune|          3| 39|Female|         No|                        2|         0|\n",
            "|  Masters|       2015|     Pune|          2| 32|Female|         No|                        4|         0|\n",
            "|  Masters|       2016|Bangalore|          3| 27|  Male|         No|                        5|         1|\n",
            "|  Masters|       2017|     Pune|          3| 24|  Male|        Yes|                        2|         1|\n",
            "|  Masters|       2018|New Delhi|          3| 26|  Male|         No|                        4|         1|\n",
            "|      PHD|       2012|New Delhi|          3| 27|  Male|         No|                        5|         0|\n",
            "|      PHD|       2013|New Delhi|          3| 25|  Male|         No|                        3|         0|\n",
            "|      PHD|       2014|Bangalore|          3| 24|Female|         No|                        2|         0|\n",
            "|      PHD|       2015|New Delhi|          1| 37|  Male|         No|                        1|         0|\n",
            "|      PHD|       2016|New Delhi|          2| 28|  Male|         No|                        3|         1|\n",
            "|      PHD|       2017|New Delhi|          3| 34|  Male|         No|                        2|         0|\n",
            "+---------+-----------+---------+-----------+---+------+-----------+-------------------------+----------+\n",
            "only showing top 20 rows\n",
            "\n"
          ]
        }
      ]
    },
    {
      "cell_type": "markdown",
      "source": [
        "# FILLING NULL VALUES"
      ],
      "metadata": {
        "id": "2xK6vNamKXNv"
      }
    },
    {
      "cell_type": "code",
      "source": [
        "df.na.fill(value='not available', subset='Education').show()"
      ],
      "metadata": {
        "colab": {
          "base_uri": "https://localhost:8080/"
        },
        "id": "Ubu13iZGKURx",
        "outputId": "37159468-cf45-47c0-bdac-20d661923f32"
      },
      "execution_count": 49,
      "outputs": [
        {
          "output_type": "stream",
          "name": "stdout",
          "text": [
            "+---------+-----------+---------+-----------+---+------+-----------+-------------------------+----------+\n",
            "|Education|JoiningYear|     City|PaymentTier|Age|Gender|EverBenched|ExperienceInCurrentDomain|LeaveOrNot|\n",
            "+---------+-----------+---------+-----------+---+------+-----------+-------------------------+----------+\n",
            "|Bachelors|       2017|Bangalore|          3| 34|  Male|         No|                        0|         0|\n",
            "|Bachelors|       2013|     Pune|          1| 28|Female|         No|                        3|         1|\n",
            "|Bachelors|       2014|New Delhi|          3| 38|Female|         No|                        2|         0|\n",
            "|  Masters|       2016|Bangalore|          3| 27|  Male|         No|                        5|         1|\n",
            "|  Masters|       2017|     Pune|          3| 24|  Male|        Yes|                        2|         1|\n",
            "|Bachelors|       2016|Bangalore|          3| 22|  Male|         No|                        0|         0|\n",
            "|Bachelors|       2015|New Delhi|          3| 38|  Male|         No|                        0|         0|\n",
            "|Bachelors|       2016|Bangalore|          3| 34|Female|         No|                        2|         1|\n",
            "|Bachelors|       2016|     Pune|          3| 23|  Male|         No|                        1|         0|\n",
            "|  Masters|       2017|New Delhi|          2| 37|  Male|         No|                        2|         0|\n",
            "|  Masters|       2012|Bangalore|          3| 27|  Male|         No|                        5|         1|\n",
            "|Bachelors|       2016|     Pune|          3| 34|  Male|         No|                        3|         0|\n",
            "|Bachelors|       2018|     Pune|          3| 32|  Male|        Yes|                        5|         1|\n",
            "|Bachelors|       2016|Bangalore|          3| 39|  Male|         No|                        2|         0|\n",
            "|Bachelors|       2012|Bangalore|          3| 37|  Male|         No|                        4|         0|\n",
            "|Bachelors|       2017|Bangalore|          1| 29|  Male|         No|                        3|         0|\n",
            "|Bachelors|       2014|Bangalore|          3| 34|Female|         No|                        2|         0|\n",
            "|Bachelors|       2014|     Pune|          3| 34|  Male|         No|                        4|         0|\n",
            "|Bachelors|       2015|     Pune|          2| 30|Female|         No|                        0|         1|\n",
            "|Bachelors|       2016|New Delhi|          2| 22|Female|         No|                        0|         1|\n",
            "+---------+-----------+---------+-----------+---+------+-----------+-------------------------+----------+\n",
            "only showing top 20 rows\n",
            "\n"
          ]
        }
      ]
    },
    {
      "cell_type": "code",
      "source": [
        "df.na.fill(value = {\n",
        "    'Education':'not available',\n",
        "    'JoiningYear':'None',\n",
        "    'City':'Chennai'\n",
        "}).show()"
      ],
      "metadata": {
        "colab": {
          "base_uri": "https://localhost:8080/"
        },
        "id": "PTY9O8eJKvk9",
        "outputId": "a71fcdf9-b46c-4d3d-926d-ec4c25af44b6"
      },
      "execution_count": 50,
      "outputs": [
        {
          "output_type": "stream",
          "name": "stdout",
          "text": [
            "+---------+-----------+---------+-----------+---+------+-----------+-------------------------+----------+\n",
            "|Education|JoiningYear|     City|PaymentTier|Age|Gender|EverBenched|ExperienceInCurrentDomain|LeaveOrNot|\n",
            "+---------+-----------+---------+-----------+---+------+-----------+-------------------------+----------+\n",
            "|Bachelors|       2017|Bangalore|          3| 34|  Male|         No|                        0|         0|\n",
            "|Bachelors|       2013|     Pune|          1| 28|Female|         No|                        3|         1|\n",
            "|Bachelors|       2014|New Delhi|          3| 38|Female|         No|                        2|         0|\n",
            "|  Masters|       2016|Bangalore|          3| 27|  Male|         No|                        5|         1|\n",
            "|  Masters|       2017|     Pune|          3| 24|  Male|        Yes|                        2|         1|\n",
            "|Bachelors|       2016|Bangalore|          3| 22|  Male|         No|                        0|         0|\n",
            "|Bachelors|       2015|New Delhi|          3| 38|  Male|         No|                        0|         0|\n",
            "|Bachelors|       2016|Bangalore|          3| 34|Female|         No|                        2|         1|\n",
            "|Bachelors|       2016|     Pune|          3| 23|  Male|         No|                        1|         0|\n",
            "|  Masters|       2017|New Delhi|          2| 37|  Male|         No|                        2|         0|\n",
            "|  Masters|       2012|Bangalore|          3| 27|  Male|         No|                        5|         1|\n",
            "|Bachelors|       2016|     Pune|          3| 34|  Male|         No|                        3|         0|\n",
            "|Bachelors|       2018|     Pune|          3| 32|  Male|        Yes|                        5|         1|\n",
            "|Bachelors|       2016|Bangalore|          3| 39|  Male|         No|                        2|         0|\n",
            "|Bachelors|       2012|Bangalore|          3| 37|  Male|         No|                        4|         0|\n",
            "|Bachelors|       2017|Bangalore|          1| 29|  Male|         No|                        3|         0|\n",
            "|Bachelors|       2014|Bangalore|          3| 34|Female|         No|                        2|         0|\n",
            "|Bachelors|       2014|     Pune|          3| 34|  Male|         No|                        4|         0|\n",
            "|Bachelors|       2015|     Pune|          2| 30|Female|         No|                        0|         1|\n",
            "|Bachelors|       2016|New Delhi|          2| 22|Female|         No|                        0|         1|\n",
            "+---------+-----------+---------+-----------+---+------+-----------+-------------------------+----------+\n",
            "only showing top 20 rows\n",
            "\n"
          ]
        }
      ]
    },
    {
      "cell_type": "code",
      "source": [
        "from pyspark.ml.feature import Imputer"
      ],
      "metadata": {
        "id": "Q20QkkB9LNYg"
      },
      "execution_count": 74,
      "outputs": []
    },
    {
      "cell_type": "code",
      "source": [
        "#measures of centraly are --> mean, mode, median"
      ],
      "metadata": {
        "id": "FLjbaljENCkX"
      },
      "execution_count": 61,
      "outputs": []
    },
    {
      "cell_type": "code",
      "source": [
        "Imputer = Imputer(inputCols = ['PaymentTier', 'Age', 'ExperienceInCurrentDomain'], outputCols = ['New_PaymentTier', 'New_Age', 'New_ExperienceInCurrentDomain']).setStrategy('mean')"
      ],
      "metadata": {
        "id": "kEnos3DfLzar"
      },
      "execution_count": 59,
      "outputs": []
    },
    {
      "cell_type": "code",
      "source": [
        "Imputer.fit(df).transform(df).show()"
      ],
      "metadata": {
        "colab": {
          "base_uri": "https://localhost:8080/"
        },
        "id": "ljKJY-nlMdj6",
        "outputId": "37aad855-c6f9-4eeb-eac2-f74509a259b1"
      },
      "execution_count": 60,
      "outputs": [
        {
          "output_type": "stream",
          "name": "stdout",
          "text": [
            "+---------+-----------+---------+-----------+---+------+-----------+-------------------------+----------+---------------+-------+-----------------------------+\n",
            "|Education|JoiningYear|     City|PaymentTier|Age|Gender|EverBenched|ExperienceInCurrentDomain|LeaveOrNot|New_PaymentTier|New_Age|New_ExperienceInCurrentDomain|\n",
            "+---------+-----------+---------+-----------+---+------+-----------+-------------------------+----------+---------------+-------+-----------------------------+\n",
            "|Bachelors|       2017|Bangalore|          3| 34|  Male|         No|                        0|         0|              3|     34|                            0|\n",
            "|Bachelors|       2013|     Pune|          1| 28|Female|         No|                        3|         1|              1|     28|                            3|\n",
            "|Bachelors|       2014|New Delhi|          3| 38|Female|         No|                        2|         0|              3|     38|                            2|\n",
            "|  Masters|       2016|Bangalore|          3| 27|  Male|         No|                        5|         1|              3|     27|                            5|\n",
            "|  Masters|       2017|     Pune|          3| 24|  Male|        Yes|                        2|         1|              3|     24|                            2|\n",
            "|Bachelors|       2016|Bangalore|          3| 22|  Male|         No|                        0|         0|              3|     22|                            0|\n",
            "|Bachelors|       2015|New Delhi|          3| 38|  Male|         No|                        0|         0|              3|     38|                            0|\n",
            "|Bachelors|       2016|Bangalore|          3| 34|Female|         No|                        2|         1|              3|     34|                            2|\n",
            "|Bachelors|       2016|     Pune|          3| 23|  Male|         No|                        1|         0|              3|     23|                            1|\n",
            "|  Masters|       2017|New Delhi|          2| 37|  Male|         No|                        2|         0|              2|     37|                            2|\n",
            "|  Masters|       2012|Bangalore|          3| 27|  Male|         No|                        5|         1|              3|     27|                            5|\n",
            "|Bachelors|       2016|     Pune|          3| 34|  Male|         No|                        3|         0|              3|     34|                            3|\n",
            "|Bachelors|       2018|     Pune|          3| 32|  Male|        Yes|                        5|         1|              3|     32|                            5|\n",
            "|Bachelors|       2016|Bangalore|          3| 39|  Male|         No|                        2|         0|              3|     39|                            2|\n",
            "|Bachelors|       2012|Bangalore|          3| 37|  Male|         No|                        4|         0|              3|     37|                            4|\n",
            "|Bachelors|       2017|Bangalore|          1| 29|  Male|         No|                        3|         0|              1|     29|                            3|\n",
            "|Bachelors|       2014|Bangalore|          3| 34|Female|         No|                        2|         0|              3|     34|                            2|\n",
            "|Bachelors|       2014|     Pune|          3| 34|  Male|         No|                        4|         0|              3|     34|                            4|\n",
            "|Bachelors|       2015|     Pune|          2| 30|Female|         No|                        0|         1|              2|     30|                            0|\n",
            "|Bachelors|       2016|New Delhi|          2| 22|Female|         No|                        0|         1|              2|     22|                            0|\n",
            "+---------+-----------+---------+-----------+---+------+-----------+-------------------------+----------+---------------+-------+-----------------------------+\n",
            "only showing top 20 rows\n",
            "\n"
          ]
        }
      ]
    },
    {
      "cell_type": "code",
      "source": [
        "output_columns = ['PaymentTier', 'Age', 'ExperienceInCurrentDomain']"
      ],
      "metadata": {
        "id": "GdWRVQIcNgAv"
      },
      "execution_count": 68,
      "outputs": []
    },
    {
      "cell_type": "code",
      "source": [
        "# method-2 impute null values\n",
        "output_columns = ['PaymentTier', 'Age', 'ExperienceInCurrentDomain']\n",
        "\n",
        "imputer = Imputer(inputCols = output_columns, outputCols = [\"{}_imputed\".format(column) for column in output_columns]).setStrategy('mean')"
      ],
      "metadata": {
        "id": "R81A_9hHMw31"
      },
      "execution_count": 75,
      "outputs": []
    },
    {
      "cell_type": "code",
      "source": [
        "imputer.fit(df).transform(df).show()"
      ],
      "metadata": {
        "colab": {
          "base_uri": "https://localhost:8080/"
        },
        "id": "hzWTZVktOHCl",
        "outputId": "7150c772-64cb-4f72-c293-50b93403bab5"
      },
      "execution_count": 76,
      "outputs": [
        {
          "output_type": "stream",
          "name": "stdout",
          "text": [
            "+---------+-----------+---------+-----------+---+------+-----------+-------------------------+----------+-------------------+-----------+---------------------------------+\n",
            "|Education|JoiningYear|     City|PaymentTier|Age|Gender|EverBenched|ExperienceInCurrentDomain|LeaveOrNot|PaymentTier_imputed|Age_imputed|ExperienceInCurrentDomain_imputed|\n",
            "+---------+-----------+---------+-----------+---+------+-----------+-------------------------+----------+-------------------+-----------+---------------------------------+\n",
            "|Bachelors|       2017|Bangalore|          3| 34|  Male|         No|                        0|         0|                  3|         34|                                0|\n",
            "|Bachelors|       2013|     Pune|          1| 28|Female|         No|                        3|         1|                  1|         28|                                3|\n",
            "|Bachelors|       2014|New Delhi|          3| 38|Female|         No|                        2|         0|                  3|         38|                                2|\n",
            "|  Masters|       2016|Bangalore|          3| 27|  Male|         No|                        5|         1|                  3|         27|                                5|\n",
            "|  Masters|       2017|     Pune|          3| 24|  Male|        Yes|                        2|         1|                  3|         24|                                2|\n",
            "|Bachelors|       2016|Bangalore|          3| 22|  Male|         No|                        0|         0|                  3|         22|                                0|\n",
            "|Bachelors|       2015|New Delhi|          3| 38|  Male|         No|                        0|         0|                  3|         38|                                0|\n",
            "|Bachelors|       2016|Bangalore|          3| 34|Female|         No|                        2|         1|                  3|         34|                                2|\n",
            "|Bachelors|       2016|     Pune|          3| 23|  Male|         No|                        1|         0|                  3|         23|                                1|\n",
            "|  Masters|       2017|New Delhi|          2| 37|  Male|         No|                        2|         0|                  2|         37|                                2|\n",
            "|  Masters|       2012|Bangalore|          3| 27|  Male|         No|                        5|         1|                  3|         27|                                5|\n",
            "|Bachelors|       2016|     Pune|          3| 34|  Male|         No|                        3|         0|                  3|         34|                                3|\n",
            "|Bachelors|       2018|     Pune|          3| 32|  Male|        Yes|                        5|         1|                  3|         32|                                5|\n",
            "|Bachelors|       2016|Bangalore|          3| 39|  Male|         No|                        2|         0|                  3|         39|                                2|\n",
            "|Bachelors|       2012|Bangalore|          3| 37|  Male|         No|                        4|         0|                  3|         37|                                4|\n",
            "|Bachelors|       2017|Bangalore|          1| 29|  Male|         No|                        3|         0|                  1|         29|                                3|\n",
            "|Bachelors|       2014|Bangalore|          3| 34|Female|         No|                        2|         0|                  3|         34|                                2|\n",
            "|Bachelors|       2014|     Pune|          3| 34|  Male|         No|                        4|         0|                  3|         34|                                4|\n",
            "|Bachelors|       2015|     Pune|          2| 30|Female|         No|                        0|         1|                  2|         30|                                0|\n",
            "|Bachelors|       2016|New Delhi|          2| 22|Female|         No|                        0|         1|                  2|         22|                                0|\n",
            "+---------+-----------+---------+-----------+---+------+-----------+-------------------------+----------+-------------------+-----------+---------------------------------+\n",
            "only showing top 20 rows\n",
            "\n"
          ]
        }
      ]
    },
    {
      "cell_type": "markdown",
      "source": [
        "# FILTER"
      ],
      "metadata": {
        "id": "yQ_3PnktQz_i"
      }
    },
    {
      "cell_type": "code",
      "source": [
        "df.filter('Education is null').show()"
      ],
      "metadata": {
        "colab": {
          "base_uri": "https://localhost:8080/"
        },
        "id": "amFT4ssiQENO",
        "outputId": "a874596f-0f7d-4c15-c279-8e678b427b08"
      },
      "execution_count": 78,
      "outputs": [
        {
          "output_type": "stream",
          "name": "stdout",
          "text": [
            "+---------+-----------+----+-----------+---+------+-----------+-------------------------+----------+\n",
            "|Education|JoiningYear|City|PaymentTier|Age|Gender|EverBenched|ExperienceInCurrentDomain|LeaveOrNot|\n",
            "+---------+-----------+----+-----------+---+------+-----------+-------------------------+----------+\n",
            "+---------+-----------+----+-----------+---+------+-----------+-------------------------+----------+\n",
            "\n"
          ]
        }
      ]
    },
    {
      "cell_type": "code",
      "source": [
        "df.filter(df['Education'] == 'Masters').show()"
      ],
      "metadata": {
        "colab": {
          "base_uri": "https://localhost:8080/"
        },
        "id": "66F3uxSkQhb0",
        "outputId": "fa120bfd-5e57-4cd9-f2f4-340702357a7c"
      },
      "execution_count": 79,
      "outputs": [
        {
          "output_type": "stream",
          "name": "stdout",
          "text": [
            "+---------+-----------+---------+-----------+---+------+-----------+-------------------------+----------+\n",
            "|Education|JoiningYear|     City|PaymentTier|Age|Gender|EverBenched|ExperienceInCurrentDomain|LeaveOrNot|\n",
            "+---------+-----------+---------+-----------+---+------+-----------+-------------------------+----------+\n",
            "|  Masters|       2016|Bangalore|          3| 27|  Male|         No|                        5|         1|\n",
            "|  Masters|       2017|     Pune|          3| 24|  Male|        Yes|                        2|         1|\n",
            "|  Masters|       2017|New Delhi|          2| 37|  Male|         No|                        2|         0|\n",
            "|  Masters|       2012|Bangalore|          3| 27|  Male|         No|                        5|         1|\n",
            "|  Masters|       2017|New Delhi|          2| 28|  Male|         No|                        4|         0|\n",
            "|  Masters|       2017|New Delhi|          2| 30|Female|         No|                        2|         0|\n",
            "|  Masters|       2017|New Delhi|          2| 23|  Male|         No|                        1|         0|\n",
            "|  Masters|       2013|New Delhi|          3| 35|  Male|         No|                        2|         0|\n",
            "|  Masters|       2017|New Delhi|          2| 34|  Male|         No|                        0|         0|\n",
            "|  Masters|       2014|     Pune|          3| 39|Female|         No|                        2|         0|\n",
            "|  Masters|       2017|     Pune|          2| 36|  Male|         No|                        2|         1|\n",
            "|  Masters|       2013|New Delhi|          3| 29|  Male|         No|                        3|         0|\n",
            "|  Masters|       2017|Bangalore|          3| 40|Female|         No|                        2|         1|\n",
            "|  Masters|       2017|Bangalore|          3| 31|  Male|         No|                        4|         0|\n",
            "|  Masters|       2017|New Delhi|          2| 25|Female|         No|                        3|         1|\n",
            "|  Masters|       2015|     Pune|          2| 32|Female|         No|                        4|         0|\n",
            "|  Masters|       2012|New Delhi|          3| 32|  Male|         No|                        2|         0|\n",
            "|  Masters|       2013|New Delhi|          3| 36|  Male|         No|                        2|         0|\n",
            "|  Masters|       2012|     Pune|          3| 25|  Male|         No|                        3|         1|\n",
            "|  Masters|       2017|New Delhi|          3| 26|Female|         No|                        4|         1|\n",
            "+---------+-----------+---------+-----------+---+------+-----------+-------------------------+----------+\n",
            "only showing top 20 rows\n",
            "\n"
          ]
        }
      ]
    },
    {
      "cell_type": "code",
      "source": [
        "df.filter((df['ExperienceInCurrentDomain']<=5) & (df['ExperienceInCurrentDomain']>=2)).show()"
      ],
      "metadata": {
        "colab": {
          "base_uri": "https://localhost:8080/"
        },
        "id": "n3G8LIFDRHFk",
        "outputId": "808f2436-205b-4bc1-8707-87a3a45d3e29"
      },
      "execution_count": 84,
      "outputs": [
        {
          "output_type": "stream",
          "name": "stdout",
          "text": [
            "+---------+-----------+---------+-----------+---+------+-----------+-------------------------+----------+\n",
            "|Education|JoiningYear|     City|PaymentTier|Age|Gender|EverBenched|ExperienceInCurrentDomain|LeaveOrNot|\n",
            "+---------+-----------+---------+-----------+---+------+-----------+-------------------------+----------+\n",
            "|Bachelors|       2013|     Pune|          1| 28|Female|         No|                        3|         1|\n",
            "|Bachelors|       2014|New Delhi|          3| 38|Female|         No|                        2|         0|\n",
            "|  Masters|       2016|Bangalore|          3| 27|  Male|         No|                        5|         1|\n",
            "|  Masters|       2017|     Pune|          3| 24|  Male|        Yes|                        2|         1|\n",
            "|Bachelors|       2016|Bangalore|          3| 34|Female|         No|                        2|         1|\n",
            "|  Masters|       2017|New Delhi|          2| 37|  Male|         No|                        2|         0|\n",
            "|  Masters|       2012|Bangalore|          3| 27|  Male|         No|                        5|         1|\n",
            "|Bachelors|       2016|     Pune|          3| 34|  Male|         No|                        3|         0|\n",
            "|Bachelors|       2018|     Pune|          3| 32|  Male|        Yes|                        5|         1|\n",
            "|Bachelors|       2016|Bangalore|          3| 39|  Male|         No|                        2|         0|\n",
            "|Bachelors|       2012|Bangalore|          3| 37|  Male|         No|                        4|         0|\n",
            "|Bachelors|       2017|Bangalore|          1| 29|  Male|         No|                        3|         0|\n",
            "|Bachelors|       2014|Bangalore|          3| 34|Female|         No|                        2|         0|\n",
            "|Bachelors|       2014|     Pune|          3| 34|  Male|         No|                        4|         0|\n",
            "|  Masters|       2017|New Delhi|          2| 28|  Male|         No|                        4|         0|\n",
            "|Bachelors|       2017|New Delhi|          2| 36|  Male|         No|                        3|         0|\n",
            "|Bachelors|       2015|Bangalore|          3| 27|  Male|        Yes|                        5|         0|\n",
            "|Bachelors|       2017|Bangalore|          3| 29|  Male|         No|                        4|         0|\n",
            "|Bachelors|       2016|Bangalore|          3| 37|  Male|         No|                        2|         0|\n",
            "|Bachelors|       2013|     Pune|          2| 31|Female|         No|                        2|         1|\n",
            "+---------+-----------+---------+-----------+---+------+-----------+-------------------------+----------+\n",
            "only showing top 20 rows\n",
            "\n"
          ]
        }
      ]
    },
    {
      "cell_type": "code",
      "source": [
        "df.filter('ExperienceInCurrentDomain is null').show()"
      ],
      "metadata": {
        "colab": {
          "base_uri": "https://localhost:8080/"
        },
        "id": "gcscO3R3RSwL",
        "outputId": "53a6c653-7691-465c-c128-887ab1683500"
      },
      "execution_count": 85,
      "outputs": [
        {
          "output_type": "stream",
          "name": "stdout",
          "text": [
            "+---------+-----------+----+-----------+---+------+-----------+-------------------------+----------+\n",
            "|Education|JoiningYear|City|PaymentTier|Age|Gender|EverBenched|ExperienceInCurrentDomain|LeaveOrNot|\n",
            "+---------+-----------+----+-----------+---+------+-----------+-------------------------+----------+\n",
            "+---------+-----------+----+-----------+---+------+-----------+-------------------------+----------+\n",
            "\n"
          ]
        }
      ]
    },
    {
      "cell_type": "code",
      "source": [
        "df.filter((df['Age']<29) | (df['Age']>20)).show()"
      ],
      "metadata": {
        "colab": {
          "base_uri": "https://localhost:8080/"
        },
        "id": "yMdOBQOCRvlw",
        "outputId": "db30d0a1-52e3-430c-9f3c-6ad704abebbc"
      },
      "execution_count": 86,
      "outputs": [
        {
          "output_type": "stream",
          "name": "stdout",
          "text": [
            "+---------+-----------+---------+-----------+---+------+-----------+-------------------------+----------+\n",
            "|Education|JoiningYear|     City|PaymentTier|Age|Gender|EverBenched|ExperienceInCurrentDomain|LeaveOrNot|\n",
            "+---------+-----------+---------+-----------+---+------+-----------+-------------------------+----------+\n",
            "|Bachelors|       2017|Bangalore|          3| 34|  Male|         No|                        0|         0|\n",
            "|Bachelors|       2013|     Pune|          1| 28|Female|         No|                        3|         1|\n",
            "|Bachelors|       2014|New Delhi|          3| 38|Female|         No|                        2|         0|\n",
            "|  Masters|       2016|Bangalore|          3| 27|  Male|         No|                        5|         1|\n",
            "|  Masters|       2017|     Pune|          3| 24|  Male|        Yes|                        2|         1|\n",
            "|Bachelors|       2016|Bangalore|          3| 22|  Male|         No|                        0|         0|\n",
            "|Bachelors|       2015|New Delhi|          3| 38|  Male|         No|                        0|         0|\n",
            "|Bachelors|       2016|Bangalore|          3| 34|Female|         No|                        2|         1|\n",
            "|Bachelors|       2016|     Pune|          3| 23|  Male|         No|                        1|         0|\n",
            "|  Masters|       2017|New Delhi|          2| 37|  Male|         No|                        2|         0|\n",
            "|  Masters|       2012|Bangalore|          3| 27|  Male|         No|                        5|         1|\n",
            "|Bachelors|       2016|     Pune|          3| 34|  Male|         No|                        3|         0|\n",
            "|Bachelors|       2018|     Pune|          3| 32|  Male|        Yes|                        5|         1|\n",
            "|Bachelors|       2016|Bangalore|          3| 39|  Male|         No|                        2|         0|\n",
            "|Bachelors|       2012|Bangalore|          3| 37|  Male|         No|                        4|         0|\n",
            "|Bachelors|       2017|Bangalore|          1| 29|  Male|         No|                        3|         0|\n",
            "|Bachelors|       2014|Bangalore|          3| 34|Female|         No|                        2|         0|\n",
            "|Bachelors|       2014|     Pune|          3| 34|  Male|         No|                        4|         0|\n",
            "|Bachelors|       2015|     Pune|          2| 30|Female|         No|                        0|         1|\n",
            "|Bachelors|       2016|New Delhi|          2| 22|Female|         No|                        0|         1|\n",
            "+---------+-----------+---------+-----------+---+------+-----------+-------------------------+----------+\n",
            "only showing top 20 rows\n",
            "\n"
          ]
        }
      ]
    },
    {
      "cell_type": "code",
      "source": [
        "df.filter('Age is not null').show()"
      ],
      "metadata": {
        "colab": {
          "base_uri": "https://localhost:8080/"
        },
        "id": "tlNFDNF6R7X-",
        "outputId": "b10d25d7-98e4-4d9a-bee2-778463b4ab82"
      },
      "execution_count": 88,
      "outputs": [
        {
          "output_type": "stream",
          "name": "stdout",
          "text": [
            "+---------+-----------+---------+-----------+---+------+-----------+-------------------------+----------+\n",
            "|Education|JoiningYear|     City|PaymentTier|Age|Gender|EverBenched|ExperienceInCurrentDomain|LeaveOrNot|\n",
            "+---------+-----------+---------+-----------+---+------+-----------+-------------------------+----------+\n",
            "|Bachelors|       2017|Bangalore|          3| 34|  Male|         No|                        0|         0|\n",
            "|Bachelors|       2013|     Pune|          1| 28|Female|         No|                        3|         1|\n",
            "|Bachelors|       2014|New Delhi|          3| 38|Female|         No|                        2|         0|\n",
            "|  Masters|       2016|Bangalore|          3| 27|  Male|         No|                        5|         1|\n",
            "|  Masters|       2017|     Pune|          3| 24|  Male|        Yes|                        2|         1|\n",
            "|Bachelors|       2016|Bangalore|          3| 22|  Male|         No|                        0|         0|\n",
            "|Bachelors|       2015|New Delhi|          3| 38|  Male|         No|                        0|         0|\n",
            "|Bachelors|       2016|Bangalore|          3| 34|Female|         No|                        2|         1|\n",
            "|Bachelors|       2016|     Pune|          3| 23|  Male|         No|                        1|         0|\n",
            "|  Masters|       2017|New Delhi|          2| 37|  Male|         No|                        2|         0|\n",
            "|  Masters|       2012|Bangalore|          3| 27|  Male|         No|                        5|         1|\n",
            "|Bachelors|       2016|     Pune|          3| 34|  Male|         No|                        3|         0|\n",
            "|Bachelors|       2018|     Pune|          3| 32|  Male|        Yes|                        5|         1|\n",
            "|Bachelors|       2016|Bangalore|          3| 39|  Male|         No|                        2|         0|\n",
            "|Bachelors|       2012|Bangalore|          3| 37|  Male|         No|                        4|         0|\n",
            "|Bachelors|       2017|Bangalore|          1| 29|  Male|         No|                        3|         0|\n",
            "|Bachelors|       2014|Bangalore|          3| 34|Female|         No|                        2|         0|\n",
            "|Bachelors|       2014|     Pune|          3| 34|  Male|         No|                        4|         0|\n",
            "|Bachelors|       2015|     Pune|          2| 30|Female|         No|                        0|         1|\n",
            "|Bachelors|       2016|New Delhi|          2| 22|Female|         No|                        0|         1|\n",
            "+---------+-----------+---------+-----------+---+------+-----------+-------------------------+----------+\n",
            "only showing top 20 rows\n",
            "\n"
          ]
        }
      ]
    },
    {
      "cell_type": "code",
      "source": [
        "df.filter(df['Age'].isNull()).count()"
      ],
      "metadata": {
        "colab": {
          "base_uri": "https://localhost:8080/"
        },
        "id": "i6cyK8PQSFL9",
        "outputId": "cb3c1f42-a919-43ad-ae30-8568d7e08e75"
      },
      "execution_count": 89,
      "outputs": [
        {
          "output_type": "execute_result",
          "data": {
            "text/plain": [
              "0"
            ]
          },
          "metadata": {},
          "execution_count": 89
        }
      ]
    },
    {
      "cell_type": "code",
      "source": [
        "df.filter(df['Age'].isNotNull()).count()"
      ],
      "metadata": {
        "colab": {
          "base_uri": "https://localhost:8080/"
        },
        "id": "BPoR4K8KSMBp",
        "outputId": "63832520-bcb5-4543-a30c-775461f57a66"
      },
      "execution_count": 90,
      "outputs": [
        {
          "output_type": "execute_result",
          "data": {
            "text/plain": [
              "4653"
            ]
          },
          "metadata": {},
          "execution_count": 90
        }
      ]
    },
    {
      "cell_type": "code",
      "source": [
        "df.filter(df['Age'] == 25).count()"
      ],
      "metadata": {
        "colab": {
          "base_uri": "https://localhost:8080/"
        },
        "id": "wH43kRbzSRlX",
        "outputId": "010f02e9-19cf-4fa4-baa8-5380c995246a"
      },
      "execution_count": 91,
      "outputs": [
        {
          "output_type": "execute_result",
          "data": {
            "text/plain": [
              "418"
            ]
          },
          "metadata": {},
          "execution_count": 91
        }
      ]
    },
    {
      "cell_type": "code",
      "source": [
        "df.filter(df['Age'] != 25).count()"
      ],
      "metadata": {
        "colab": {
          "base_uri": "https://localhost:8080/"
        },
        "id": "plJRykD1SaMa",
        "outputId": "bac97cc8-638e-4293-86c6-44eb71dcf625"
      },
      "execution_count": 92,
      "outputs": [
        {
          "output_type": "execute_result",
          "data": {
            "text/plain": [
              "4235"
            ]
          },
          "metadata": {},
          "execution_count": 92
        }
      ]
    },
    {
      "cell_type": "code",
      "source": [
        "df.filter('City is not null and Age is null').count()"
      ],
      "metadata": {
        "colab": {
          "base_uri": "https://localhost:8080/"
        },
        "id": "FnRvkxDTSia8",
        "outputId": "451d7395-fb98-44c1-9307-15893fe42ff1"
      },
      "execution_count": 93,
      "outputs": [
        {
          "output_type": "execute_result",
          "data": {
            "text/plain": [
              "0"
            ]
          },
          "metadata": {},
          "execution_count": 93
        }
      ]
    },
    {
      "cell_type": "code",
      "source": [
        "df.filter('City is null or Age is not null').count()"
      ],
      "metadata": {
        "colab": {
          "base_uri": "https://localhost:8080/"
        },
        "id": "12y_g_7yStNn",
        "outputId": "75c106cb-742e-4c47-a70f-002d8c8bf7ac"
      },
      "execution_count": 94,
      "outputs": [
        {
          "output_type": "execute_result",
          "data": {
            "text/plain": [
              "4653"
            ]
          },
          "metadata": {},
          "execution_count": 94
        }
      ]
    },
    {
      "cell_type": "code",
      "source": [
        "df.filter(df['Age'].isNull() & df['City'].isNotNull()).count()"
      ],
      "metadata": {
        "colab": {
          "base_uri": "https://localhost:8080/"
        },
        "id": "jU--Kl-bS2EU",
        "outputId": "e4a680aa-6fb7-494a-a47d-0c8df713ee7a"
      },
      "execution_count": 95,
      "outputs": [
        {
          "output_type": "execute_result",
          "data": {
            "text/plain": [
              "0"
            ]
          },
          "metadata": {},
          "execution_count": 95
        }
      ]
    },
    {
      "cell_type": "code",
      "source": [
        "df.filter(df.Age.isNull()).count()"
      ],
      "metadata": {
        "colab": {
          "base_uri": "https://localhost:8080/"
        },
        "id": "j6uFfiIxTA2x",
        "outputId": "a60d61bb-a37d-4897-d94e-c2222f4776fe"
      },
      "execution_count": 96,
      "outputs": [
        {
          "output_type": "execute_result",
          "data": {
            "text/plain": [
              "0"
            ]
          },
          "metadata": {},
          "execution_count": 96
        }
      ]
    },
    {
      "cell_type": "code",
      "source": [
        "df.filter(df.Age.isNotNull()).count()"
      ],
      "metadata": {
        "colab": {
          "base_uri": "https://localhost:8080/"
        },
        "id": "yfQaAq3XTKQc",
        "outputId": "69464e7c-505a-4841-e212-fb339d640244"
      },
      "execution_count": 97,
      "outputs": [
        {
          "output_type": "execute_result",
          "data": {
            "text/plain": [
              "4653"
            ]
          },
          "metadata": {},
          "execution_count": 97
        }
      ]
    },
    {
      "cell_type": "code",
      "source": [
        "from pyspark.sql.functions import col"
      ],
      "metadata": {
        "id": "ILxK9S6KTPQW"
      },
      "execution_count": 98,
      "outputs": []
    },
    {
      "cell_type": "code",
      "source": [
        "df.filter(col('Age')==25).count()"
      ],
      "metadata": {
        "colab": {
          "base_uri": "https://localhost:8080/"
        },
        "id": "0MHfIhGfTa7i",
        "outputId": "eb508426-ad18-4ac1-f632-19b4a0ef351d"
      },
      "execution_count": 99,
      "outputs": [
        {
          "output_type": "execute_result",
          "data": {
            "text/plain": [
              "418"
            ]
          },
          "metadata": {},
          "execution_count": 99
        }
      ]
    },
    {
      "cell_type": "code",
      "source": [
        "list1 = ['amit', 25, 'rohit', 28]"
      ],
      "metadata": {
        "id": "OU9ibLgETggH"
      },
      "execution_count": 100,
      "outputs": []
    },
    {
      "cell_type": "code",
      "source": [
        "df.filter(df['Age'].isin(list1)).count()"
      ],
      "metadata": {
        "colab": {
          "base_uri": "https://localhost:8080/"
        },
        "id": "qnoba9j1Tq3a",
        "outputId": "43638ef1-8a26-4d31-81b5-374d5a095c3a"
      },
      "execution_count": 101,
      "outputs": [
        {
          "output_type": "execute_result",
          "data": {
            "text/plain": [
              "1048"
            ]
          },
          "metadata": {},
          "execution_count": 101
        }
      ]
    },
    {
      "cell_type": "code",
      "source": [],
      "metadata": {
        "id": "nvd1b13rTx5s"
      },
      "execution_count": null,
      "outputs": []
    }
  ]
}
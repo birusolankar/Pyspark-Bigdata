{
  "nbformat": 4,
  "nbformat_minor": 0,
  "metadata": {
    "colab": {
      "provenance": [],
      "authorship_tag": "ABX9TyO+0qbXh5thPIQbXG8JGp5F",
      "include_colab_link": true
    },
    "kernelspec": {
      "name": "python3",
      "display_name": "Python 3"
    },
    "language_info": {
      "name": "python"
    }
  },
  "cells": [
    {
      "cell_type": "markdown",
      "metadata": {
        "id": "view-in-github",
        "colab_type": "text"
      },
      "source": [
        "<a href=\"https://colab.research.google.com/github/birusolankar/Pyspark-Bigdata/blob/main/Pyspark1.ipynb\" target=\"_parent\"><img src=\"https://colab.research.google.com/assets/colab-badge.svg\" alt=\"Open In Colab\"/></a>"
      ]
    },
    {
      "cell_type": "code",
      "execution_count": 1,
      "metadata": {
        "colab": {
          "base_uri": "https://localhost:8080/"
        },
        "id": "8To67V-9De9E",
        "outputId": "5f2cd751-c133-4f8c-b545-fa3abfbd5db5"
      },
      "outputs": [
        {
          "output_type": "stream",
          "name": "stdout",
          "text": [
            "hello world\n"
          ]
        }
      ],
      "source": [
        "print('hello world')"
      ]
    },
    {
      "cell_type": "code",
      "source": [
        "import pandas as pd\n",
        "import numpy as np"
      ],
      "metadata": {
        "id": "8W-S_YnDDl29"
      },
      "execution_count": 2,
      "outputs": []
    },
    {
      "cell_type": "code",
      "source": [
        "emp = pd.read_csv(\"/content/Employee.csv\")"
      ],
      "metadata": {
        "id": "6mrSChqaEGIH"
      },
      "execution_count": 4,
      "outputs": []
    },
    {
      "cell_type": "code",
      "source": [
        "emp.head()"
      ],
      "metadata": {
        "colab": {
          "base_uri": "https://localhost:8080/",
          "height": 206
        },
        "id": "kPvu7nxCEK-1",
        "outputId": "7cbe913f-eccf-4b01-9678-955a2c203dfb"
      },
      "execution_count": 5,
      "outputs": [
        {
          "output_type": "execute_result",
          "data": {
            "text/plain": [
              "   Education  JoiningYear       City  PaymentTier  Age  Gender EverBenched  \\\n",
              "0  Bachelors         2017  Bangalore            3   34    Male          No   \n",
              "1  Bachelors         2013       Pune            1   28  Female          No   \n",
              "2  Bachelors         2014  New Delhi            3   38  Female          No   \n",
              "3    Masters         2016  Bangalore            3   27    Male          No   \n",
              "4    Masters         2017       Pune            3   24    Male         Yes   \n",
              "\n",
              "   ExperienceInCurrentDomain  LeaveOrNot  \n",
              "0                          0           0  \n",
              "1                          3           1  \n",
              "2                          2           0  \n",
              "3                          5           1  \n",
              "4                          2           1  "
            ],
            "text/html": [
              "\n",
              "  <div id=\"df-6cad7635-7029-4280-b00b-d6b4adaaa6e8\" class=\"colab-df-container\">\n",
              "    <div>\n",
              "<style scoped>\n",
              "    .dataframe tbody tr th:only-of-type {\n",
              "        vertical-align: middle;\n",
              "    }\n",
              "\n",
              "    .dataframe tbody tr th {\n",
              "        vertical-align: top;\n",
              "    }\n",
              "\n",
              "    .dataframe thead th {\n",
              "        text-align: right;\n",
              "    }\n",
              "</style>\n",
              "<table border=\"1\" class=\"dataframe\">\n",
              "  <thead>\n",
              "    <tr style=\"text-align: right;\">\n",
              "      <th></th>\n",
              "      <th>Education</th>\n",
              "      <th>JoiningYear</th>\n",
              "      <th>City</th>\n",
              "      <th>PaymentTier</th>\n",
              "      <th>Age</th>\n",
              "      <th>Gender</th>\n",
              "      <th>EverBenched</th>\n",
              "      <th>ExperienceInCurrentDomain</th>\n",
              "      <th>LeaveOrNot</th>\n",
              "    </tr>\n",
              "  </thead>\n",
              "  <tbody>\n",
              "    <tr>\n",
              "      <th>0</th>\n",
              "      <td>Bachelors</td>\n",
              "      <td>2017</td>\n",
              "      <td>Bangalore</td>\n",
              "      <td>3</td>\n",
              "      <td>34</td>\n",
              "      <td>Male</td>\n",
              "      <td>No</td>\n",
              "      <td>0</td>\n",
              "      <td>0</td>\n",
              "    </tr>\n",
              "    <tr>\n",
              "      <th>1</th>\n",
              "      <td>Bachelors</td>\n",
              "      <td>2013</td>\n",
              "      <td>Pune</td>\n",
              "      <td>1</td>\n",
              "      <td>28</td>\n",
              "      <td>Female</td>\n",
              "      <td>No</td>\n",
              "      <td>3</td>\n",
              "      <td>1</td>\n",
              "    </tr>\n",
              "    <tr>\n",
              "      <th>2</th>\n",
              "      <td>Bachelors</td>\n",
              "      <td>2014</td>\n",
              "      <td>New Delhi</td>\n",
              "      <td>3</td>\n",
              "      <td>38</td>\n",
              "      <td>Female</td>\n",
              "      <td>No</td>\n",
              "      <td>2</td>\n",
              "      <td>0</td>\n",
              "    </tr>\n",
              "    <tr>\n",
              "      <th>3</th>\n",
              "      <td>Masters</td>\n",
              "      <td>2016</td>\n",
              "      <td>Bangalore</td>\n",
              "      <td>3</td>\n",
              "      <td>27</td>\n",
              "      <td>Male</td>\n",
              "      <td>No</td>\n",
              "      <td>5</td>\n",
              "      <td>1</td>\n",
              "    </tr>\n",
              "    <tr>\n",
              "      <th>4</th>\n",
              "      <td>Masters</td>\n",
              "      <td>2017</td>\n",
              "      <td>Pune</td>\n",
              "      <td>3</td>\n",
              "      <td>24</td>\n",
              "      <td>Male</td>\n",
              "      <td>Yes</td>\n",
              "      <td>2</td>\n",
              "      <td>1</td>\n",
              "    </tr>\n",
              "  </tbody>\n",
              "</table>\n",
              "</div>\n",
              "    <div class=\"colab-df-buttons\">\n",
              "\n",
              "  <div class=\"colab-df-container\">\n",
              "    <button class=\"colab-df-convert\" onclick=\"convertToInteractive('df-6cad7635-7029-4280-b00b-d6b4adaaa6e8')\"\n",
              "            title=\"Convert this dataframe to an interactive table.\"\n",
              "            style=\"display:none;\">\n",
              "\n",
              "  <svg xmlns=\"http://www.w3.org/2000/svg\" height=\"24px\" viewBox=\"0 -960 960 960\">\n",
              "    <path d=\"M120-120v-720h720v720H120Zm60-500h600v-160H180v160Zm220 220h160v-160H400v160Zm0 220h160v-160H400v160ZM180-400h160v-160H180v160Zm440 0h160v-160H620v160ZM180-180h160v-160H180v160Zm440 0h160v-160H620v160Z\"/>\n",
              "  </svg>\n",
              "    </button>\n",
              "\n",
              "  <style>\n",
              "    .colab-df-container {\n",
              "      display:flex;\n",
              "      gap: 12px;\n",
              "    }\n",
              "\n",
              "    .colab-df-convert {\n",
              "      background-color: #E8F0FE;\n",
              "      border: none;\n",
              "      border-radius: 50%;\n",
              "      cursor: pointer;\n",
              "      display: none;\n",
              "      fill: #1967D2;\n",
              "      height: 32px;\n",
              "      padding: 0 0 0 0;\n",
              "      width: 32px;\n",
              "    }\n",
              "\n",
              "    .colab-df-convert:hover {\n",
              "      background-color: #E2EBFA;\n",
              "      box-shadow: 0px 1px 2px rgba(60, 64, 67, 0.3), 0px 1px 3px 1px rgba(60, 64, 67, 0.15);\n",
              "      fill: #174EA6;\n",
              "    }\n",
              "\n",
              "    .colab-df-buttons div {\n",
              "      margin-bottom: 4px;\n",
              "    }\n",
              "\n",
              "    [theme=dark] .colab-df-convert {\n",
              "      background-color: #3B4455;\n",
              "      fill: #D2E3FC;\n",
              "    }\n",
              "\n",
              "    [theme=dark] .colab-df-convert:hover {\n",
              "      background-color: #434B5C;\n",
              "      box-shadow: 0px 1px 3px 1px rgba(0, 0, 0, 0.15);\n",
              "      filter: drop-shadow(0px 1px 2px rgba(0, 0, 0, 0.3));\n",
              "      fill: #FFFFFF;\n",
              "    }\n",
              "  </style>\n",
              "\n",
              "    <script>\n",
              "      const buttonEl =\n",
              "        document.querySelector('#df-6cad7635-7029-4280-b00b-d6b4adaaa6e8 button.colab-df-convert');\n",
              "      buttonEl.style.display =\n",
              "        google.colab.kernel.accessAllowed ? 'block' : 'none';\n",
              "\n",
              "      async function convertToInteractive(key) {\n",
              "        const element = document.querySelector('#df-6cad7635-7029-4280-b00b-d6b4adaaa6e8');\n",
              "        const dataTable =\n",
              "          await google.colab.kernel.invokeFunction('convertToInteractive',\n",
              "                                                    [key], {});\n",
              "        if (!dataTable) return;\n",
              "\n",
              "        const docLinkHtml = 'Like what you see? Visit the ' +\n",
              "          '<a target=\"_blank\" href=https://colab.research.google.com/notebooks/data_table.ipynb>data table notebook</a>'\n",
              "          + ' to learn more about interactive tables.';\n",
              "        element.innerHTML = '';\n",
              "        dataTable['output_type'] = 'display_data';\n",
              "        await google.colab.output.renderOutput(dataTable, element);\n",
              "        const docLink = document.createElement('div');\n",
              "        docLink.innerHTML = docLinkHtml;\n",
              "        element.appendChild(docLink);\n",
              "      }\n",
              "    </script>\n",
              "  </div>\n",
              "\n",
              "\n",
              "<div id=\"df-ff0e4319-d268-47e4-90db-dc6e6f3cf6a5\">\n",
              "  <button class=\"colab-df-quickchart\" onclick=\"quickchart('df-ff0e4319-d268-47e4-90db-dc6e6f3cf6a5')\"\n",
              "            title=\"Suggest charts\"\n",
              "            style=\"display:none;\">\n",
              "\n",
              "<svg xmlns=\"http://www.w3.org/2000/svg\" height=\"24px\"viewBox=\"0 0 24 24\"\n",
              "     width=\"24px\">\n",
              "    <g>\n",
              "        <path d=\"M19 3H5c-1.1 0-2 .9-2 2v14c0 1.1.9 2 2 2h14c1.1 0 2-.9 2-2V5c0-1.1-.9-2-2-2zM9 17H7v-7h2v7zm4 0h-2V7h2v10zm4 0h-2v-4h2v4z\"/>\n",
              "    </g>\n",
              "</svg>\n",
              "  </button>\n",
              "\n",
              "<style>\n",
              "  .colab-df-quickchart {\n",
              "      --bg-color: #E8F0FE;\n",
              "      --fill-color: #1967D2;\n",
              "      --hover-bg-color: #E2EBFA;\n",
              "      --hover-fill-color: #174EA6;\n",
              "      --disabled-fill-color: #AAA;\n",
              "      --disabled-bg-color: #DDD;\n",
              "  }\n",
              "\n",
              "  [theme=dark] .colab-df-quickchart {\n",
              "      --bg-color: #3B4455;\n",
              "      --fill-color: #D2E3FC;\n",
              "      --hover-bg-color: #434B5C;\n",
              "      --hover-fill-color: #FFFFFF;\n",
              "      --disabled-bg-color: #3B4455;\n",
              "      --disabled-fill-color: #666;\n",
              "  }\n",
              "\n",
              "  .colab-df-quickchart {\n",
              "    background-color: var(--bg-color);\n",
              "    border: none;\n",
              "    border-radius: 50%;\n",
              "    cursor: pointer;\n",
              "    display: none;\n",
              "    fill: var(--fill-color);\n",
              "    height: 32px;\n",
              "    padding: 0;\n",
              "    width: 32px;\n",
              "  }\n",
              "\n",
              "  .colab-df-quickchart:hover {\n",
              "    background-color: var(--hover-bg-color);\n",
              "    box-shadow: 0 1px 2px rgba(60, 64, 67, 0.3), 0 1px 3px 1px rgba(60, 64, 67, 0.15);\n",
              "    fill: var(--button-hover-fill-color);\n",
              "  }\n",
              "\n",
              "  .colab-df-quickchart-complete:disabled,\n",
              "  .colab-df-quickchart-complete:disabled:hover {\n",
              "    background-color: var(--disabled-bg-color);\n",
              "    fill: var(--disabled-fill-color);\n",
              "    box-shadow: none;\n",
              "  }\n",
              "\n",
              "  .colab-df-spinner {\n",
              "    border: 2px solid var(--fill-color);\n",
              "    border-color: transparent;\n",
              "    border-bottom-color: var(--fill-color);\n",
              "    animation:\n",
              "      spin 1s steps(1) infinite;\n",
              "  }\n",
              "\n",
              "  @keyframes spin {\n",
              "    0% {\n",
              "      border-color: transparent;\n",
              "      border-bottom-color: var(--fill-color);\n",
              "      border-left-color: var(--fill-color);\n",
              "    }\n",
              "    20% {\n",
              "      border-color: transparent;\n",
              "      border-left-color: var(--fill-color);\n",
              "      border-top-color: var(--fill-color);\n",
              "    }\n",
              "    30% {\n",
              "      border-color: transparent;\n",
              "      border-left-color: var(--fill-color);\n",
              "      border-top-color: var(--fill-color);\n",
              "      border-right-color: var(--fill-color);\n",
              "    }\n",
              "    40% {\n",
              "      border-color: transparent;\n",
              "      border-right-color: var(--fill-color);\n",
              "      border-top-color: var(--fill-color);\n",
              "    }\n",
              "    60% {\n",
              "      border-color: transparent;\n",
              "      border-right-color: var(--fill-color);\n",
              "    }\n",
              "    80% {\n",
              "      border-color: transparent;\n",
              "      border-right-color: var(--fill-color);\n",
              "      border-bottom-color: var(--fill-color);\n",
              "    }\n",
              "    90% {\n",
              "      border-color: transparent;\n",
              "      border-bottom-color: var(--fill-color);\n",
              "    }\n",
              "  }\n",
              "</style>\n",
              "\n",
              "  <script>\n",
              "    async function quickchart(key) {\n",
              "      const quickchartButtonEl =\n",
              "        document.querySelector('#' + key + ' button');\n",
              "      quickchartButtonEl.disabled = true;  // To prevent multiple clicks.\n",
              "      quickchartButtonEl.classList.add('colab-df-spinner');\n",
              "      try {\n",
              "        const charts = await google.colab.kernel.invokeFunction(\n",
              "            'suggestCharts', [key], {});\n",
              "      } catch (error) {\n",
              "        console.error('Error during call to suggestCharts:', error);\n",
              "      }\n",
              "      quickchartButtonEl.classList.remove('colab-df-spinner');\n",
              "      quickchartButtonEl.classList.add('colab-df-quickchart-complete');\n",
              "    }\n",
              "    (() => {\n",
              "      let quickchartButtonEl =\n",
              "        document.querySelector('#df-ff0e4319-d268-47e4-90db-dc6e6f3cf6a5 button');\n",
              "      quickchartButtonEl.style.display =\n",
              "        google.colab.kernel.accessAllowed ? 'block' : 'none';\n",
              "    })();\n",
              "  </script>\n",
              "</div>\n",
              "    </div>\n",
              "  </div>\n"
            ]
          },
          "metadata": {},
          "execution_count": 5
        }
      ]
    },
    {
      "cell_type": "code",
      "source": [
        "pip install pyspark"
      ],
      "metadata": {
        "colab": {
          "base_uri": "https://localhost:8080/"
        },
        "id": "9jGhw7k_EPZp",
        "outputId": "f134b691-3ad7-4d02-cd5b-8379d3f812ee"
      },
      "execution_count": 6,
      "outputs": [
        {
          "output_type": "stream",
          "name": "stdout",
          "text": [
            "Collecting pyspark\n",
            "  Downloading pyspark-3.5.0.tar.gz (316.9 MB)\n",
            "\u001b[2K     \u001b[90m━━━━━━━━━━━━━━━━━━━━━━━━━━━━━━━━━━━━━━━━\u001b[0m \u001b[32m316.9/316.9 MB\u001b[0m \u001b[31m2.6 MB/s\u001b[0m eta \u001b[36m0:00:00\u001b[0m\n",
            "\u001b[?25h  Preparing metadata (setup.py) ... \u001b[?25l\u001b[?25hdone\n",
            "Requirement already satisfied: py4j==0.10.9.7 in /usr/local/lib/python3.10/dist-packages (from pyspark) (0.10.9.7)\n",
            "Building wheels for collected packages: pyspark\n",
            "  Building wheel for pyspark (setup.py) ... \u001b[?25l\u001b[?25hdone\n",
            "  Created wheel for pyspark: filename=pyspark-3.5.0-py2.py3-none-any.whl size=317425345 sha256=4cf3a1ce7d6743dcd507748a0a86415a6239c9ab58404b294be05c4a09ad25dc\n",
            "  Stored in directory: /root/.cache/pip/wheels/41/4e/10/c2cf2467f71c678cfc8a6b9ac9241e5e44a01940da8fbb17fc\n",
            "Successfully built pyspark\n",
            "Installing collected packages: pyspark\n",
            "Successfully installed pyspark-3.5.0\n"
          ]
        }
      ]
    },
    {
      "cell_type": "code",
      "source": [
        "from pyspark.sql import SparkSession"
      ],
      "metadata": {
        "id": "uylfHD6MEz4D"
      },
      "execution_count": 10,
      "outputs": []
    },
    {
      "cell_type": "code",
      "source": [
        "spark = SparkSession.builder.appName(\"day1\").getOrCreate()"
      ],
      "metadata": {
        "id": "yIEGF63rETZa"
      },
      "execution_count": 12,
      "outputs": []
    },
    {
      "cell_type": "code",
      "source": [
        "df = spark.read.csv(\"/content/Employee.csv\", header=True, inferSchema=True)"
      ],
      "metadata": {
        "id": "iGD_Uou0Exps"
      },
      "execution_count": 18,
      "outputs": []
    },
    {
      "cell_type": "code",
      "source": [
        "df.show(5)"
      ],
      "metadata": {
        "colab": {
          "base_uri": "https://localhost:8080/"
        },
        "id": "cfRyMjUrFND5",
        "outputId": "f387b311-8d0f-4445-f8bf-36eafc226ebd"
      },
      "execution_count": 19,
      "outputs": [
        {
          "output_type": "stream",
          "name": "stdout",
          "text": [
            "+---------+-----------+---------+-----------+---+------+-----------+-------------------------+----------+\n",
            "|Education|JoiningYear|     City|PaymentTier|Age|Gender|EverBenched|ExperienceInCurrentDomain|LeaveOrNot|\n",
            "+---------+-----------+---------+-----------+---+------+-----------+-------------------------+----------+\n",
            "|Bachelors|       2017|Bangalore|          3| 34|  Male|         No|                        0|         0|\n",
            "|Bachelors|       2013|     Pune|          1| 28|Female|         No|                        3|         1|\n",
            "|Bachelors|       2014|New Delhi|          3| 38|Female|         No|                        2|         0|\n",
            "|  Masters|       2016|Bangalore|          3| 27|  Male|         No|                        5|         1|\n",
            "|  Masters|       2017|     Pune|          3| 24|  Male|        Yes|                        2|         1|\n",
            "+---------+-----------+---------+-----------+---+------+-----------+-------------------------+----------+\n",
            "only showing top 5 rows\n",
            "\n"
          ]
        }
      ]
    },
    {
      "cell_type": "code",
      "source": [
        "df.printSchema()"
      ],
      "metadata": {
        "colab": {
          "base_uri": "https://localhost:8080/"
        },
        "id": "jKPTtPdCFRqh",
        "outputId": "618cf353-fd51-4fcb-e91e-cbfb95b0347f"
      },
      "execution_count": 20,
      "outputs": [
        {
          "output_type": "stream",
          "name": "stdout",
          "text": [
            "root\n",
            " |-- Education: string (nullable = true)\n",
            " |-- JoiningYear: integer (nullable = true)\n",
            " |-- City: string (nullable = true)\n",
            " |-- PaymentTier: integer (nullable = true)\n",
            " |-- Age: integer (nullable = true)\n",
            " |-- Gender: string (nullable = true)\n",
            " |-- EverBenched: string (nullable = true)\n",
            " |-- ExperienceInCurrentDomain: integer (nullable = true)\n",
            " |-- LeaveOrNot: integer (nullable = true)\n",
            "\n"
          ]
        }
      ]
    },
    {
      "cell_type": "markdown",
      "source": [
        "#SELECTING COLUMNS"
      ],
      "metadata": {
        "id": "hXIJTq2YGuua"
      }
    },
    {
      "cell_type": "code",
      "source": [
        "# selecting all the columns\n",
        "df.columns"
      ],
      "metadata": {
        "colab": {
          "base_uri": "https://localhost:8080/"
        },
        "id": "1cc-tnwpFY1f",
        "outputId": "4fecca51-da2c-40da-f22c-8ddcd7af55cb"
      },
      "execution_count": 21,
      "outputs": [
        {
          "output_type": "execute_result",
          "data": {
            "text/plain": [
              "['Education',\n",
              " 'JoiningYear',\n",
              " 'City',\n",
              " 'PaymentTier',\n",
              " 'Age',\n",
              " 'Gender',\n",
              " 'EverBenched',\n",
              " 'ExperienceInCurrentDomain',\n",
              " 'LeaveOrNot']"
            ]
          },
          "metadata": {},
          "execution_count": 21
        }
      ]
    },
    {
      "cell_type": "code",
      "source": [
        "# selecting single columns\n",
        "df.select('Education').show()"
      ],
      "metadata": {
        "colab": {
          "base_uri": "https://localhost:8080/"
        },
        "id": "_z-i8EuLFjOo",
        "outputId": "21b8afa9-6d12-46f1-c698-ac941a177ae8"
      },
      "execution_count": 22,
      "outputs": [
        {
          "output_type": "stream",
          "name": "stdout",
          "text": [
            "+---------+\n",
            "|Education|\n",
            "+---------+\n",
            "|Bachelors|\n",
            "|Bachelors|\n",
            "|Bachelors|\n",
            "|  Masters|\n",
            "|  Masters|\n",
            "|Bachelors|\n",
            "|Bachelors|\n",
            "|Bachelors|\n",
            "|Bachelors|\n",
            "|  Masters|\n",
            "|  Masters|\n",
            "|Bachelors|\n",
            "|Bachelors|\n",
            "|Bachelors|\n",
            "|Bachelors|\n",
            "|Bachelors|\n",
            "|Bachelors|\n",
            "|Bachelors|\n",
            "|Bachelors|\n",
            "|Bachelors|\n",
            "+---------+\n",
            "only showing top 20 rows\n",
            "\n"
          ]
        }
      ]
    },
    {
      "cell_type": "code",
      "source": [
        "# method-2\n",
        "df.select(df['Education']).show()"
      ],
      "metadata": {
        "colab": {
          "base_uri": "https://localhost:8080/"
        },
        "id": "Om4YtT3VFwGh",
        "outputId": "d6dd8f9c-def2-4118-f863-62061d4601ad"
      },
      "execution_count": 23,
      "outputs": [
        {
          "output_type": "stream",
          "name": "stdout",
          "text": [
            "+---------+\n",
            "|Education|\n",
            "+---------+\n",
            "|Bachelors|\n",
            "|Bachelors|\n",
            "|Bachelors|\n",
            "|  Masters|\n",
            "|  Masters|\n",
            "|Bachelors|\n",
            "|Bachelors|\n",
            "|Bachelors|\n",
            "|Bachelors|\n",
            "|  Masters|\n",
            "|  Masters|\n",
            "|Bachelors|\n",
            "|Bachelors|\n",
            "|Bachelors|\n",
            "|Bachelors|\n",
            "|Bachelors|\n",
            "|Bachelors|\n",
            "|Bachelors|\n",
            "|Bachelors|\n",
            "|Bachelors|\n",
            "+---------+\n",
            "only showing top 20 rows\n",
            "\n"
          ]
        }
      ]
    },
    {
      "cell_type": "code",
      "source": [
        "# method-3\n",
        "df.select(df.Education).show()"
      ],
      "metadata": {
        "colab": {
          "base_uri": "https://localhost:8080/"
        },
        "id": "QNWNFxu_GApd",
        "outputId": "3cd340f7-2411-4cb1-9f78-3ca8487ad06b"
      },
      "execution_count": 24,
      "outputs": [
        {
          "output_type": "stream",
          "name": "stdout",
          "text": [
            "+---------+\n",
            "|Education|\n",
            "+---------+\n",
            "|Bachelors|\n",
            "|Bachelors|\n",
            "|Bachelors|\n",
            "|  Masters|\n",
            "|  Masters|\n",
            "|Bachelors|\n",
            "|Bachelors|\n",
            "|Bachelors|\n",
            "|Bachelors|\n",
            "|  Masters|\n",
            "|  Masters|\n",
            "|Bachelors|\n",
            "|Bachelors|\n",
            "|Bachelors|\n",
            "|Bachelors|\n",
            "|Bachelors|\n",
            "|Bachelors|\n",
            "|Bachelors|\n",
            "|Bachelors|\n",
            "|Bachelors|\n",
            "+---------+\n",
            "only showing top 20 rows\n",
            "\n"
          ]
        }
      ]
    },
    {
      "cell_type": "code",
      "source": [
        "# selecting multiple columns\n",
        "df.select('Education', 'City', 'Age', 'Gender').show()"
      ],
      "metadata": {
        "colab": {
          "base_uri": "https://localhost:8080/"
        },
        "id": "S5fXrIzIGKEa",
        "outputId": "4cb24248-f120-4955-9640-4aa270c0a90b"
      },
      "execution_count": 25,
      "outputs": [
        {
          "output_type": "stream",
          "name": "stdout",
          "text": [
            "+---------+---------+---+------+\n",
            "|Education|     City|Age|Gender|\n",
            "+---------+---------+---+------+\n",
            "|Bachelors|Bangalore| 34|  Male|\n",
            "|Bachelors|     Pune| 28|Female|\n",
            "|Bachelors|New Delhi| 38|Female|\n",
            "|  Masters|Bangalore| 27|  Male|\n",
            "|  Masters|     Pune| 24|  Male|\n",
            "|Bachelors|Bangalore| 22|  Male|\n",
            "|Bachelors|New Delhi| 38|  Male|\n",
            "|Bachelors|Bangalore| 34|Female|\n",
            "|Bachelors|     Pune| 23|  Male|\n",
            "|  Masters|New Delhi| 37|  Male|\n",
            "|  Masters|Bangalore| 27|  Male|\n",
            "|Bachelors|     Pune| 34|  Male|\n",
            "|Bachelors|     Pune| 32|  Male|\n",
            "|Bachelors|Bangalore| 39|  Male|\n",
            "|Bachelors|Bangalore| 37|  Male|\n",
            "|Bachelors|Bangalore| 29|  Male|\n",
            "|Bachelors|Bangalore| 34|Female|\n",
            "|Bachelors|     Pune| 34|  Male|\n",
            "|Bachelors|     Pune| 30|Female|\n",
            "|Bachelors|New Delhi| 22|Female|\n",
            "+---------+---------+---+------+\n",
            "only showing top 20 rows\n",
            "\n"
          ]
        }
      ]
    },
    {
      "cell_type": "code",
      "source": [
        "df.select(['Education', 'City', 'Age', 'Gender']).show()"
      ],
      "metadata": {
        "colab": {
          "base_uri": "https://localhost:8080/"
        },
        "id": "SwMnGIfyGZNg",
        "outputId": "2ae111e6-59f8-43da-d2f2-9e0e53a1f305"
      },
      "execution_count": 26,
      "outputs": [
        {
          "output_type": "stream",
          "name": "stdout",
          "text": [
            "+---------+---------+---+------+\n",
            "|Education|     City|Age|Gender|\n",
            "+---------+---------+---+------+\n",
            "|Bachelors|Bangalore| 34|  Male|\n",
            "|Bachelors|     Pune| 28|Female|\n",
            "|Bachelors|New Delhi| 38|Female|\n",
            "|  Masters|Bangalore| 27|  Male|\n",
            "|  Masters|     Pune| 24|  Male|\n",
            "|Bachelors|Bangalore| 22|  Male|\n",
            "|Bachelors|New Delhi| 38|  Male|\n",
            "|Bachelors|Bangalore| 34|Female|\n",
            "|Bachelors|     Pune| 23|  Male|\n",
            "|  Masters|New Delhi| 37|  Male|\n",
            "|  Masters|Bangalore| 27|  Male|\n",
            "|Bachelors|     Pune| 34|  Male|\n",
            "|Bachelors|     Pune| 32|  Male|\n",
            "|Bachelors|Bangalore| 39|  Male|\n",
            "|Bachelors|Bangalore| 37|  Male|\n",
            "|Bachelors|Bangalore| 29|  Male|\n",
            "|Bachelors|Bangalore| 34|Female|\n",
            "|Bachelors|     Pune| 34|  Male|\n",
            "|Bachelors|     Pune| 30|Female|\n",
            "|Bachelors|New Delhi| 22|Female|\n",
            "+---------+---------+---+------+\n",
            "only showing top 20 rows\n",
            "\n"
          ]
        }
      ]
    },
    {
      "cell_type": "markdown",
      "source": [
        "#ADDING COLUMNS\n",
        "\n",
        "## withColumn"
      ],
      "metadata": {
        "id": "iVxi-917G16-"
      }
    },
    {
      "cell_type": "code",
      "source": [
        "from os import truncate\n",
        "# adding a new column from existing columns\n",
        "df.withColumn('New_Age', (df['Age'] + 5)).show(truncate=False)"
      ],
      "metadata": {
        "colab": {
          "base_uri": "https://localhost:8080/"
        },
        "id": "McB03lN5GpFI",
        "outputId": "8a3997e7-56c7-4f17-c5af-3d4b8870325e"
      },
      "execution_count": 31,
      "outputs": [
        {
          "output_type": "stream",
          "name": "stdout",
          "text": [
            "+---------+-----------+---------+-----------+---+------+-----------+-------------------------+----------+-------+\n",
            "|Education|JoiningYear|City     |PaymentTier|Age|Gender|EverBenched|ExperienceInCurrentDomain|LeaveOrNot|New_Age|\n",
            "+---------+-----------+---------+-----------+---+------+-----------+-------------------------+----------+-------+\n",
            "|Bachelors|2017       |Bangalore|3          |34 |Male  |No         |0                        |0         |39     |\n",
            "|Bachelors|2013       |Pune     |1          |28 |Female|No         |3                        |1         |33     |\n",
            "|Bachelors|2014       |New Delhi|3          |38 |Female|No         |2                        |0         |43     |\n",
            "|Masters  |2016       |Bangalore|3          |27 |Male  |No         |5                        |1         |32     |\n",
            "|Masters  |2017       |Pune     |3          |24 |Male  |Yes        |2                        |1         |29     |\n",
            "|Bachelors|2016       |Bangalore|3          |22 |Male  |No         |0                        |0         |27     |\n",
            "|Bachelors|2015       |New Delhi|3          |38 |Male  |No         |0                        |0         |43     |\n",
            "|Bachelors|2016       |Bangalore|3          |34 |Female|No         |2                        |1         |39     |\n",
            "|Bachelors|2016       |Pune     |3          |23 |Male  |No         |1                        |0         |28     |\n",
            "|Masters  |2017       |New Delhi|2          |37 |Male  |No         |2                        |0         |42     |\n",
            "|Masters  |2012       |Bangalore|3          |27 |Male  |No         |5                        |1         |32     |\n",
            "|Bachelors|2016       |Pune     |3          |34 |Male  |No         |3                        |0         |39     |\n",
            "|Bachelors|2018       |Pune     |3          |32 |Male  |Yes        |5                        |1         |37     |\n",
            "|Bachelors|2016       |Bangalore|3          |39 |Male  |No         |2                        |0         |44     |\n",
            "|Bachelors|2012       |Bangalore|3          |37 |Male  |No         |4                        |0         |42     |\n",
            "|Bachelors|2017       |Bangalore|1          |29 |Male  |No         |3                        |0         |34     |\n",
            "|Bachelors|2014       |Bangalore|3          |34 |Female|No         |2                        |0         |39     |\n",
            "|Bachelors|2014       |Pune     |3          |34 |Male  |No         |4                        |0         |39     |\n",
            "|Bachelors|2015       |Pune     |2          |30 |Female|No         |0                        |1         |35     |\n",
            "|Bachelors|2016       |New Delhi|2          |22 |Female|No         |0                        |1         |27     |\n",
            "+---------+-----------+---------+-----------+---+------+-----------+-------------------------+----------+-------+\n",
            "only showing top 20 rows\n",
            "\n"
          ]
        }
      ]
    },
    {
      "cell_type": "code",
      "source": [
        "df.withColumn('new_age', df['Age']+2).withColumn('newJoiningYear', df['JoiningYear']+2).show()"
      ],
      "metadata": {
        "colab": {
          "base_uri": "https://localhost:8080/"
        },
        "id": "wYX1aCyPHMVz",
        "outputId": "404e34da-43a0-4597-c73a-ca98ae8ad93d"
      },
      "execution_count": 33,
      "outputs": [
        {
          "output_type": "stream",
          "name": "stdout",
          "text": [
            "+---------+-----------+---------+-----------+---+------+-----------+-------------------------+----------+-------+--------------+\n",
            "|Education|JoiningYear|     City|PaymentTier|Age|Gender|EverBenched|ExperienceInCurrentDomain|LeaveOrNot|new_age|newJoiningYear|\n",
            "+---------+-----------+---------+-----------+---+------+-----------+-------------------------+----------+-------+--------------+\n",
            "|Bachelors|       2017|Bangalore|          3| 34|  Male|         No|                        0|         0|     36|          2019|\n",
            "|Bachelors|       2013|     Pune|          1| 28|Female|         No|                        3|         1|     30|          2015|\n",
            "|Bachelors|       2014|New Delhi|          3| 38|Female|         No|                        2|         0|     40|          2016|\n",
            "|  Masters|       2016|Bangalore|          3| 27|  Male|         No|                        5|         1|     29|          2018|\n",
            "|  Masters|       2017|     Pune|          3| 24|  Male|        Yes|                        2|         1|     26|          2019|\n",
            "|Bachelors|       2016|Bangalore|          3| 22|  Male|         No|                        0|         0|     24|          2018|\n",
            "|Bachelors|       2015|New Delhi|          3| 38|  Male|         No|                        0|         0|     40|          2017|\n",
            "|Bachelors|       2016|Bangalore|          3| 34|Female|         No|                        2|         1|     36|          2018|\n",
            "|Bachelors|       2016|     Pune|          3| 23|  Male|         No|                        1|         0|     25|          2018|\n",
            "|  Masters|       2017|New Delhi|          2| 37|  Male|         No|                        2|         0|     39|          2019|\n",
            "|  Masters|       2012|Bangalore|          3| 27|  Male|         No|                        5|         1|     29|          2014|\n",
            "|Bachelors|       2016|     Pune|          3| 34|  Male|         No|                        3|         0|     36|          2018|\n",
            "|Bachelors|       2018|     Pune|          3| 32|  Male|        Yes|                        5|         1|     34|          2020|\n",
            "|Bachelors|       2016|Bangalore|          3| 39|  Male|         No|                        2|         0|     41|          2018|\n",
            "|Bachelors|       2012|Bangalore|          3| 37|  Male|         No|                        4|         0|     39|          2014|\n",
            "|Bachelors|       2017|Bangalore|          1| 29|  Male|         No|                        3|         0|     31|          2019|\n",
            "|Bachelors|       2014|Bangalore|          3| 34|Female|         No|                        2|         0|     36|          2016|\n",
            "|Bachelors|       2014|     Pune|          3| 34|  Male|         No|                        4|         0|     36|          2016|\n",
            "|Bachelors|       2015|     Pune|          2| 30|Female|         No|                        0|         1|     32|          2017|\n",
            "|Bachelors|       2016|New Delhi|          2| 22|Female|         No|                        0|         1|     24|          2018|\n",
            "+---------+-----------+---------+-----------+---+------+-----------+-------------------------+----------+-------+--------------+\n",
            "only showing top 20 rows\n",
            "\n"
          ]
        }
      ]
    },
    {
      "cell_type": "code",
      "source": [
        "from pyspark.sql.functions import lit"
      ],
      "metadata": {
        "id": "MhpmZrq6PuHn"
      },
      "execution_count": 35,
      "outputs": []
    },
    {
      "cell_type": "code",
      "source": [
        "# adding a column with constant values\n",
        "df.withColumn('Bonus', lit('None')).show()"
      ],
      "metadata": {
        "colab": {
          "base_uri": "https://localhost:8080/"
        },
        "id": "ctl3gVzPPiav",
        "outputId": "fbc304c0-e050-42b8-d59f-e59a94d4f709"
      },
      "execution_count": 36,
      "outputs": [
        {
          "output_type": "stream",
          "name": "stdout",
          "text": [
            "+---------+-----------+---------+-----------+---+------+-----------+-------------------------+----------+-----+\n",
            "|Education|JoiningYear|     City|PaymentTier|Age|Gender|EverBenched|ExperienceInCurrentDomain|LeaveOrNot|Bonus|\n",
            "+---------+-----------+---------+-----------+---+------+-----------+-------------------------+----------+-----+\n",
            "|Bachelors|       2017|Bangalore|          3| 34|  Male|         No|                        0|         0| None|\n",
            "|Bachelors|       2013|     Pune|          1| 28|Female|         No|                        3|         1| None|\n",
            "|Bachelors|       2014|New Delhi|          3| 38|Female|         No|                        2|         0| None|\n",
            "|  Masters|       2016|Bangalore|          3| 27|  Male|         No|                        5|         1| None|\n",
            "|  Masters|       2017|     Pune|          3| 24|  Male|        Yes|                        2|         1| None|\n",
            "|Bachelors|       2016|Bangalore|          3| 22|  Male|         No|                        0|         0| None|\n",
            "|Bachelors|       2015|New Delhi|          3| 38|  Male|         No|                        0|         0| None|\n",
            "|Bachelors|       2016|Bangalore|          3| 34|Female|         No|                        2|         1| None|\n",
            "|Bachelors|       2016|     Pune|          3| 23|  Male|         No|                        1|         0| None|\n",
            "|  Masters|       2017|New Delhi|          2| 37|  Male|         No|                        2|         0| None|\n",
            "|  Masters|       2012|Bangalore|          3| 27|  Male|         No|                        5|         1| None|\n",
            "|Bachelors|       2016|     Pune|          3| 34|  Male|         No|                        3|         0| None|\n",
            "|Bachelors|       2018|     Pune|          3| 32|  Male|        Yes|                        5|         1| None|\n",
            "|Bachelors|       2016|Bangalore|          3| 39|  Male|         No|                        2|         0| None|\n",
            "|Bachelors|       2012|Bangalore|          3| 37|  Male|         No|                        4|         0| None|\n",
            "|Bachelors|       2017|Bangalore|          1| 29|  Male|         No|                        3|         0| None|\n",
            "|Bachelors|       2014|Bangalore|          3| 34|Female|         No|                        2|         0| None|\n",
            "|Bachelors|       2014|     Pune|          3| 34|  Male|         No|                        4|         0| None|\n",
            "|Bachelors|       2015|     Pune|          2| 30|Female|         No|                        0|         1| None|\n",
            "|Bachelors|       2016|New Delhi|          2| 22|Female|         No|                        0|         1| None|\n",
            "+---------+-----------+---------+-----------+---+------+-----------+-------------------------+----------+-----+\n",
            "only showing top 20 rows\n",
            "\n"
          ]
        }
      ]
    },
    {
      "cell_type": "markdown",
      "source": [
        "#Renaming a existing column\n",
        "\n",
        "##withCoulmnRenamed"
      ],
      "metadata": {
        "id": "99iNof_lRE2O"
      }
    },
    {
      "cell_type": "code",
      "source": [],
      "metadata": {
        "id": "w9m-w1_qPtEg"
      },
      "execution_count": null,
      "outputs": []
    }
  ]
}
{
  "nbformat": 4,
  "nbformat_minor": 0,
  "metadata": {
    "colab": {
      "provenance": [],
      "include_colab_link": true
    },
    "kernelspec": {
      "name": "python3",
      "display_name": "Python 3"
    },
    "language_info": {
      "name": "python"
    }
  },
  "cells": [
    {
      "cell_type": "markdown",
      "metadata": {
        "id": "view-in-github",
        "colab_type": "text"
      },
      "source": [
        "<a href=\"https://colab.research.google.com/github/birusolankar/Pyspark-Bigdata/blob/main/Pyspark_Day_1.ipynb\" target=\"_parent\"><img src=\"https://colab.research.google.com/assets/colab-badge.svg\" alt=\"Open In Colab\"/></a>"
      ]
    },
    {
      "cell_type": "code",
      "execution_count": null,
      "metadata": {
        "colab": {
          "base_uri": "https://localhost:8080/"
        },
        "id": "aj_JKPdY9KIG",
        "outputId": "330a7caa-7a41-4eb9-ab9f-3846853c450a"
      },
      "outputs": [
        {
          "output_type": "stream",
          "name": "stdout",
          "text": [
            "Looking in indexes: https://pypi.org/simple, https://us-python.pkg.dev/colab-wheels/public/simple/\n",
            "Collecting pyspark\n",
            "  Downloading pyspark-3.4.0.tar.gz (310.8 MB)\n",
            "\u001b[2K     \u001b[90m━━━━━━━━━━━━━━━━━━━━━━━━━━━━━━━━━━━━━━━\u001b[0m \u001b[32m310.8/310.8 MB\u001b[0m \u001b[31m4.4 MB/s\u001b[0m eta \u001b[36m0:00:00\u001b[0m\n",
            "\u001b[?25h  Preparing metadata (setup.py) ... \u001b[?25l\u001b[?25hdone\n",
            "Requirement already satisfied: py4j==0.10.9.7 in /usr/local/lib/python3.10/dist-packages (from pyspark) (0.10.9.7)\n",
            "Building wheels for collected packages: pyspark\n",
            "  Building wheel for pyspark (setup.py) ... \u001b[?25l\u001b[?25hdone\n",
            "  Created wheel for pyspark: filename=pyspark-3.4.0-py2.py3-none-any.whl size=311317130 sha256=e8f931251b690ed6429cf8a524fcd4987c0ea5015ddabbb32121f19140d06cb0\n",
            "  Stored in directory: /root/.cache/pip/wheels/7b/1b/4b/3363a1d04368e7ff0d408e57ff57966fcdf00583774e761327\n",
            "Successfully built pyspark\n",
            "Installing collected packages: pyspark\n",
            "Successfully installed pyspark-3.4.0\n"
          ]
        }
      ],
      "source": [
        "!pip install pyspark\n"
      ]
    },
    {
      "cell_type": "code",
      "source": [
        "from pyspark.sql import SparkSession"
      ],
      "metadata": {
        "id": "QRRp8heUQHT-"
      },
      "execution_count": null,
      "outputs": []
    },
    {
      "cell_type": "code",
      "source": [
        "\n",
        "# creating a spark application with name day_1_training\n",
        "spark = SparkSession.builder.appName('Day_1_training').getOrCreate()"
      ],
      "metadata": {
        "id": "c3t8dGwDQ5nd"
      },
      "execution_count": null,
      "outputs": []
    },
    {
      "cell_type": "code",
      "source": [
        "spark"
      ],
      "metadata": {
        "colab": {
          "base_uri": "https://localhost:8080/",
          "height": 219
        },
        "id": "XSyI4-IVRN-v",
        "outputId": "4e2eae16-3204-44a2-b989-6b9c0ca6d5ae"
      },
      "execution_count": null,
      "outputs": [
        {
          "output_type": "execute_result",
          "data": {
            "text/plain": [
              "<pyspark.sql.session.SparkSession at 0x7eff3b58ecb0>"
            ],
            "text/html": [
              "\n",
              "            <div>\n",
              "                <p><b>SparkSession - in-memory</b></p>\n",
              "                \n",
              "        <div>\n",
              "            <p><b>SparkContext</b></p>\n",
              "\n",
              "            <p><a href=\"http://740b95552ceb:4040\">Spark UI</a></p>\n",
              "\n",
              "            <dl>\n",
              "              <dt>Version</dt>\n",
              "                <dd><code>v3.4.0</code></dd>\n",
              "              <dt>Master</dt>\n",
              "                <dd><code>local[*]</code></dd>\n",
              "              <dt>AppName</dt>\n",
              "                <dd><code>Day_1_training</code></dd>\n",
              "            </dl>\n",
              "        </div>\n",
              "        \n",
              "            </div>\n",
              "        "
            ]
          },
          "metadata": {},
          "execution_count": 4
        }
      ]
    },
    {
      "cell_type": "code",
      "source": [
        "# reading data source\n",
        "# Method -1 to read csv file\n",
        "# while reading spark reads as string so in order to have orginal data type of columns we need to make inferschema =True\n",
        "df1 = spark.read.csv('/content/Tutorial_1.csv', header = True, inferSchema=True)"
      ],
      "metadata": {
        "id": "8VOXtbEhRqhZ"
      },
      "execution_count": null,
      "outputs": []
    },
    {
      "cell_type": "code",
      "source": [
        "df1.show()"
      ],
      "metadata": {
        "colab": {
          "base_uri": "https://localhost:8080/"
        },
        "id": "fy8hJaMx-Sg0",
        "outputId": "b0d09e88-f807-496b-ff01-ffee724927c0"
      },
      "execution_count": null,
      "outputs": [
        {
          "output_type": "stream",
          "name": "stdout",
          "text": [
            "+-------+---+\n",
            "|   Name|Age|\n",
            "+-------+---+\n",
            "|   Amit| 31|\n",
            "| Ashish| 29|\n",
            "| Suresh| 33|\n",
            "| Jayesh| 26|\n",
            "|Karthik| 28|\n",
            "+-------+---+\n",
            "\n"
          ]
        }
      ]
    },
    {
      "cell_type": "code",
      "source": [
        "# lets see the type  of dataframe\n",
        "type(df1)"
      ],
      "metadata": {
        "colab": {
          "base_uri": "https://localhost:8080/"
        },
        "id": "ar43o48U-Zow",
        "outputId": "9bcf7c45-85b4-4282-826e-9f20c0acb9ff"
      },
      "execution_count": null,
      "outputs": [
        {
          "output_type": "execute_result",
          "data": {
            "text/plain": [
              "pyspark.sql.dataframe.DataFrame"
            ]
          },
          "metadata": {},
          "execution_count": 7
        }
      ]
    },
    {
      "cell_type": "code",
      "source": [
        "print(type(5))\n",
        "print(type('Biru'))"
      ],
      "metadata": {
        "colab": {
          "base_uri": "https://localhost:8080/"
        },
        "id": "LyT1sJhPF8Ve",
        "outputId": "927eaaf0-ee8a-4fde-d855-305c6b1e95c4"
      },
      "execution_count": null,
      "outputs": [
        {
          "output_type": "stream",
          "name": "stdout",
          "text": [
            "<class 'int'>\n",
            "<class 'str'>\n"
          ]
        }
      ]
    },
    {
      "cell_type": "code",
      "source": [
        "# fetching the columns name\n",
        "df1.columns"
      ],
      "metadata": {
        "colab": {
          "base_uri": "https://localhost:8080/"
        },
        "id": "XnM6fxaDG-_j",
        "outputId": "9942167a-4b7d-4be0-c5d3-0aaa006d97f6"
      },
      "execution_count": null,
      "outputs": [
        {
          "output_type": "execute_result",
          "data": {
            "text/plain": [
              "['Name', 'Age']"
            ]
          },
          "metadata": {},
          "execution_count": 9
        }
      ]
    },
    {
      "cell_type": "code",
      "source": [
        "# Method-2 for reading csv file\n",
        "df1 = spark.read.option('header', 'true').csv('/content/Tutorial_1.csv')"
      ],
      "metadata": {
        "id": "p3Oia7ONHd_m"
      },
      "execution_count": null,
      "outputs": []
    },
    {
      "cell_type": "code",
      "source": [
        "df1.show()"
      ],
      "metadata": {
        "colab": {
          "base_uri": "https://localhost:8080/"
        },
        "id": "GzI5nqXQJXzX",
        "outputId": "98a780fe-f334-4419-d23f-baf783de9ef1"
      },
      "execution_count": null,
      "outputs": [
        {
          "output_type": "stream",
          "name": "stdout",
          "text": [
            "+-------+---+\n",
            "|   Name|Age|\n",
            "+-------+---+\n",
            "|   Amit| 31|\n",
            "| Ashish| 29|\n",
            "| Suresh| 33|\n",
            "| Jayesh| 26|\n",
            "|Karthik| 28|\n",
            "+-------+---+\n",
            "\n"
          ]
        }
      ]
    },
    {
      "cell_type": "code",
      "source": [
        "# reading top few records\n",
        "df1.head(4)"
      ],
      "metadata": {
        "colab": {
          "base_uri": "https://localhost:8080/"
        },
        "id": "ANROAY0RJaAG",
        "outputId": "44361118-1993-45c6-8f76-f8364fe6ae89"
      },
      "execution_count": null,
      "outputs": [
        {
          "output_type": "execute_result",
          "data": {
            "text/plain": [
              "[Row(Name='Amit', Age='31'),\n",
              " Row(Name='Ashish', Age='29'),\n",
              " Row(Name='Suresh', Age='33'),\n",
              " Row(Name='Jayesh', Age='26')]"
            ]
          },
          "metadata": {},
          "execution_count": 12
        }
      ]
    },
    {
      "cell_type": "code",
      "source": [
        "# data type of individual columns\n",
        "# Identify the data type of columns in dataframe\n",
        "df1.printSchema()"
      ],
      "metadata": {
        "colab": {
          "base_uri": "https://localhost:8080/"
        },
        "id": "gmm7BinpJ8wg",
        "outputId": "05e44465-68ba-4a97-df4c-f95939117d39"
      },
      "execution_count": null,
      "outputs": [
        {
          "output_type": "stream",
          "name": "stdout",
          "text": [
            "root\n",
            " |-- Name: string (nullable = true)\n",
            " |-- Age: string (nullable = true)\n",
            "\n"
          ]
        }
      ]
    },
    {
      "cell_type": "code",
      "source": [
        "df1.dtypes # alternate way to check data type of columns"
      ],
      "metadata": {
        "colab": {
          "base_uri": "https://localhost:8080/"
        },
        "id": "j9ptbefXKPrw",
        "outputId": "fabcce80-6a68-4c42-807d-3dfcd7cee0b2"
      },
      "execution_count": null,
      "outputs": [
        {
          "output_type": "execute_result",
          "data": {
            "text/plain": [
              "[('Name', 'string'), ('Age', 'string')]"
            ]
          },
          "metadata": {},
          "execution_count": 14
        }
      ]
    },
    {
      "cell_type": "code",
      "source": [
        "\n"
      ],
      "metadata": {
        "id": "Nc4bxm-0Loa9"
      },
      "execution_count": null,
      "outputs": []
    },
    {
      "cell_type": "markdown",
      "source": [
        "# Pyspark DataFrames"
      ],
      "metadata": {
        "id": "8qvoUwjXMHbf"
      }
    },
    {
      "cell_type": "code",
      "source": [
        "# Select specific columns in Dataframe\n",
        "# single column\n",
        "df1.select('Name').show()\n",
        "# multiple column\n",
        "df1.select(['Name', 'Age']).show()"
      ],
      "metadata": {
        "colab": {
          "base_uri": "https://localhost:8080/"
        },
        "id": "VTNMwATqMIgQ",
        "outputId": "5afa6758-cea1-4e79-9737-2bb144324fa6"
      },
      "execution_count": null,
      "outputs": [
        {
          "output_type": "stream",
          "name": "stdout",
          "text": [
            "+-------+\n",
            "|   Name|\n",
            "+-------+\n",
            "|   Amit|\n",
            "| Ashish|\n",
            "| Suresh|\n",
            "| Jayesh|\n",
            "|Karthik|\n",
            "+-------+\n",
            "\n",
            "+-------+---+\n",
            "|   Name|Age|\n",
            "+-------+---+\n",
            "|   Amit| 31|\n",
            "| Ashish| 29|\n",
            "| Suresh| 33|\n",
            "| Jayesh| 26|\n",
            "|Karthik| 28|\n",
            "+-------+---+\n",
            "\n"
          ]
        }
      ]
    },
    {
      "cell_type": "code",
      "source": [
        "#"
      ],
      "metadata": {
        "id": "09G9r74rqNon"
      },
      "execution_count": null,
      "outputs": []
    },
    {
      "cell_type": "code",
      "source": [
        "df2 = spark.read.csv(\"/content/Tutorial_2.csv\", header = True, inferSchema = True)"
      ],
      "metadata": {
        "id": "pfx_orclMY7y"
      },
      "execution_count": null,
      "outputs": []
    },
    {
      "cell_type": "code",
      "source": [
        "df2.show()"
      ],
      "metadata": {
        "colab": {
          "base_uri": "https://localhost:8080/"
        },
        "id": "Bmd37R-oMtQX",
        "outputId": "7739ec6b-2667-4014-91f5-8f7d5ece1b9a"
      },
      "execution_count": null,
      "outputs": [
        {
          "output_type": "stream",
          "name": "stdout",
          "text": [
            "+---------+---+----------+\n",
            "|     Name|Age|Experience|\n",
            "+---------+---+----------+\n",
            "|     Amit| 22|       1.5|\n",
            "|    Ankit| 25|       2.0|\n",
            "|   Ashish| 18|       1.0|\n",
            "|    Vijay| 29|       3.0|\n",
            "|Sudarshan| 35|       5.0|\n",
            "|    Ketan| 33|       7.0|\n",
            "+---------+---+----------+\n",
            "\n"
          ]
        }
      ]
    },
    {
      "cell_type": "code",
      "source": [
        "df2.select('Age','Experience').show()\n",
        "# here spark reads columns in a string"
      ],
      "metadata": {
        "colab": {
          "base_uri": "https://localhost:8080/"
        },
        "id": "jLz3CC3vMxNP",
        "outputId": "11340cf6-2059-4168-9fc3-6cd1b23de7e3"
      },
      "execution_count": null,
      "outputs": [
        {
          "output_type": "stream",
          "name": "stdout",
          "text": [
            "+---+----------+\n",
            "|Age|Experience|\n",
            "+---+----------+\n",
            "| 22|       1.5|\n",
            "| 25|       2.0|\n",
            "| 18|       1.0|\n",
            "| 29|       3.0|\n",
            "| 35|       5.0|\n",
            "| 33|       7.0|\n",
            "+---+----------+\n",
            "\n"
          ]
        }
      ]
    },
    {
      "cell_type": "code",
      "source": [
        "# what is colums\n",
        "df2['Name'] # returns columns object"
      ],
      "metadata": {
        "colab": {
          "base_uri": "https://localhost:8080/"
        },
        "id": "en9p-o-CM2Qz",
        "outputId": "16ad4d97-967a-41d2-d046-e2abd4a1bcd9"
      },
      "execution_count": null,
      "outputs": [
        {
          "output_type": "execute_result",
          "data": {
            "text/plain": [
              "Column<'Name'>"
            ]
          },
          "metadata": {},
          "execution_count": 19
        }
      ]
    },
    {
      "cell_type": "code",
      "source": [
        "# getting columns from different methods\n",
        "df2.select(df2['Name']).show()"
      ],
      "metadata": {
        "colab": {
          "base_uri": "https://localhost:8080/"
        },
        "id": "v3BjnwVbNH8A",
        "outputId": "e09cf65c-4865-41d3-c0e3-1d7ff612380e"
      },
      "execution_count": null,
      "outputs": [
        {
          "output_type": "stream",
          "name": "stdout",
          "text": [
            "+---------+\n",
            "|     Name|\n",
            "+---------+\n",
            "|     Amit|\n",
            "|    Ankit|\n",
            "|   Ashish|\n",
            "|    Vijay|\n",
            "|Sudarshan|\n",
            "|    Ketan|\n",
            "+---------+\n",
            "\n"
          ]
        }
      ]
    },
    {
      "cell_type": "code",
      "source": [
        "df2.select(['Name', 'Age']).show() # here spark reads columns in a list which is more optimised way to read the columns\n",
        "# when we have 100 of columns using list of columns is beneficial to read the columns"
      ],
      "metadata": {
        "colab": {
          "base_uri": "https://localhost:8080/"
        },
        "id": "HBeOoBPxNP4r",
        "outputId": "adacdbe1-14c3-4dc8-ee96-bfb2291f03bd"
      },
      "execution_count": null,
      "outputs": [
        {
          "output_type": "stream",
          "name": "stdout",
          "text": [
            "+---------+---+\n",
            "|     Name|Age|\n",
            "+---------+---+\n",
            "|     Amit| 22|\n",
            "|    Ankit| 25|\n",
            "|   Ashish| 18|\n",
            "|    Vijay| 29|\n",
            "|Sudarshan| 35|\n",
            "|    Ketan| 33|\n",
            "+---------+---+\n",
            "\n"
          ]
        }
      ]
    },
    {
      "cell_type": "code",
      "source": [
        "# pyspark is more advantageous than pandas\n",
        "# pandas is meant for low volumes of data --> process data in sequential order\n",
        "# and pyspark is meant for large volumes of data"
      ],
      "metadata": {
        "id": "7TG_dc_zNoyo"
      },
      "execution_count": null,
      "outputs": []
    },
    {
      "cell_type": "code",
      "source": [
        "df2.show()"
      ],
      "metadata": {
        "colab": {
          "base_uri": "https://localhost:8080/"
        },
        "id": "VAO3pDQxOj2l",
        "outputId": "05c5bc16-57ae-4db7-962a-aff11c095301"
      },
      "execution_count": null,
      "outputs": [
        {
          "output_type": "stream",
          "name": "stdout",
          "text": [
            "+---------+---+----------+\n",
            "|     Name|Age|Experience|\n",
            "+---------+---+----------+\n",
            "|     Amit| 22|       1.5|\n",
            "|    Ankit| 25|       2.0|\n",
            "|   Ashish| 18|       1.0|\n",
            "|    Vijay| 29|       3.0|\n",
            "|Sudarshan| 35|       5.0|\n",
            "|    Ketan| 33|       7.0|\n",
            "+---------+---+----------+\n",
            "\n"
          ]
        }
      ]
    },
    {
      "cell_type": "code",
      "source": [
        "# statistical information of a data\n",
        "df2.describe().show()"
      ],
      "metadata": {
        "colab": {
          "base_uri": "https://localhost:8080/"
        },
        "id": "G91HxcyqOpxU",
        "outputId": "e52b7ae3-ab39-41db-d151-761f347a55a6"
      },
      "execution_count": null,
      "outputs": [
        {
          "output_type": "stream",
          "name": "stdout",
          "text": [
            "+-------+-----+----------------+-----------------+\n",
            "|summary| Name|             Age|       Experience|\n",
            "+-------+-----+----------------+-----------------+\n",
            "|  count|    6|               6|                6|\n",
            "|   mean| null|            27.0|             3.25|\n",
            "| stddev| null|6.54217089351845|2.318404623873926|\n",
            "|    min| Amit|              18|              1.0|\n",
            "|    max|Vijay|              35|              7.0|\n",
            "+-------+-----+----------------+-----------------+\n",
            "\n"
          ]
        }
      ]
    },
    {
      "cell_type": "code",
      "source": [
        "# Adding a columns\n",
        "# it takes two arguments 1--> new column to be added  and  2--> from which columns it to be derived--> from existing columns\n",
        "df2.withColumn('New_age', df2['Age']*2).show()"
      ],
      "metadata": {
        "colab": {
          "base_uri": "https://localhost:8080/"
        },
        "id": "q0SL9t0LOxXZ",
        "outputId": "84b23c2d-5e9a-40d2-b1cf-77d4e53ae67d"
      },
      "execution_count": null,
      "outputs": [
        {
          "output_type": "stream",
          "name": "stdout",
          "text": [
            "+---------+---+----------+-------+\n",
            "|     Name|Age|Experience|New_age|\n",
            "+---------+---+----------+-------+\n",
            "|     Amit| 22|       1.5|     44|\n",
            "|    Ankit| 25|       2.0|     50|\n",
            "|   Ashish| 18|       1.0|     36|\n",
            "|    Vijay| 29|       3.0|     58|\n",
            "|Sudarshan| 35|       5.0|     70|\n",
            "|    Ketan| 33|       7.0|     66|\n",
            "+---------+---+----------+-------+\n",
            "\n"
          ]
        }
      ]
    },
    {
      "cell_type": "code",
      "source": [
        "help(df2.withColumn)"
      ],
      "metadata": {
        "colab": {
          "base_uri": "https://localhost:8080/"
        },
        "id": "NnS6yMGyPc27",
        "outputId": "98ce0ba8-aad9-4d3f-fe99-e9f09bc877e0"
      },
      "execution_count": null,
      "outputs": [
        {
          "output_type": "stream",
          "name": "stdout",
          "text": [
            "Help on method withColumn in module pyspark.sql.dataframe:\n",
            "\n",
            "withColumn(colName: str, col: pyspark.sql.column.Column) -> 'DataFrame' method of pyspark.sql.dataframe.DataFrame instance\n",
            "    Returns a new :class:`DataFrame` by adding a column or replacing the\n",
            "    existing column that has the same name.\n",
            "    \n",
            "    The column expression must be an expression over this :class:`DataFrame`; attempting to add\n",
            "    a column from some other :class:`DataFrame` will raise an error.\n",
            "    \n",
            "    .. versionadded:: 1.3.0\n",
            "    \n",
            "    .. versionchanged:: 3.4.0\n",
            "        Supports Spark Connect.\n",
            "    \n",
            "    Parameters\n",
            "    ----------\n",
            "    colName : str\n",
            "        string, name of the new column.\n",
            "    col : :class:`Column`\n",
            "        a :class:`Column` expression for the new column.\n",
            "    \n",
            "    Returns\n",
            "    -------\n",
            "    :class:`DataFrame`\n",
            "        DataFrame with new or replaced column.\n",
            "    \n",
            "    Notes\n",
            "    -----\n",
            "    This method introduces a projection internally. Therefore, calling it multiple\n",
            "    times, for instance, via loops in order to add multiple columns can generate big\n",
            "    plans which can cause performance issues and even `StackOverflowException`.\n",
            "    To avoid this, use :func:`select` with multiple columns at once.\n",
            "    \n",
            "    Examples\n",
            "    --------\n",
            "    >>> df = spark.createDataFrame([(2, \"Alice\"), (5, \"Bob\")], schema=[\"age\", \"name\"])\n",
            "    >>> df.withColumn('age2', df.age + 2).show()\n",
            "    +---+-----+----+\n",
            "    |age| name|age2|\n",
            "    +---+-----+----+\n",
            "    |  2|Alice|   4|\n",
            "    |  5|  Bob|   7|\n",
            "    +---+-----+----+\n",
            "\n"
          ]
        }
      ]
    },
    {
      "cell_type": "code",
      "source": [
        "df2.show()"
      ],
      "metadata": {
        "colab": {
          "base_uri": "https://localhost:8080/"
        },
        "id": "Eux2NXtEPy5K",
        "outputId": "56407147-9c9c-47c2-e93c-794a42388908"
      },
      "execution_count": null,
      "outputs": [
        {
          "output_type": "stream",
          "name": "stdout",
          "text": [
            "+---------+---+----------+\n",
            "|     Name|Age|Experience|\n",
            "+---------+---+----------+\n",
            "|     Amit| 22|       1.5|\n",
            "|    Ankit| 25|       2.0|\n",
            "|   Ashish| 18|       1.0|\n",
            "|    Vijay| 29|       3.0|\n",
            "|Sudarshan| 35|       5.0|\n",
            "|    Ketan| 33|       7.0|\n",
            "+---------+---+----------+\n",
            "\n"
          ]
        }
      ]
    },
    {
      "cell_type": "code",
      "source": [
        "# in place operations --> we can perform operations on our data but but original data is not changed until and unless we modify it"
      ],
      "metadata": {
        "id": "PZtgJLiKQfLK"
      },
      "execution_count": null,
      "outputs": []
    },
    {
      "cell_type": "code",
      "source": [
        "df2.describe()"
      ],
      "metadata": {
        "colab": {
          "base_uri": "https://localhost:8080/"
        },
        "id": "-BzaGqXnQwPI",
        "outputId": "ab34ab83-5b46-4e26-fa91-14364325a92f"
      },
      "execution_count": null,
      "outputs": [
        {
          "output_type": "execute_result",
          "data": {
            "text/plain": [
              "DataFrame[summary: string, Name: string, Age: string, Experience: string]"
            ]
          },
          "metadata": {},
          "execution_count": 29
        }
      ]
    },
    {
      "cell_type": "code",
      "source": [
        "\n",
        "df2.show()"
      ],
      "metadata": {
        "colab": {
          "base_uri": "https://localhost:8080/"
        },
        "id": "-d2epeHcQ1l8",
        "outputId": "881d3829-4fef-4121-8452-af506dd332ad"
      },
      "execution_count": null,
      "outputs": [
        {
          "output_type": "stream",
          "name": "stdout",
          "text": [
            "+---------+---+----------+\n",
            "|     Name|Age|Experience|\n",
            "+---------+---+----------+\n",
            "|     Amit| 22|       1.5|\n",
            "|    Ankit| 25|       2.0|\n",
            "|   Ashish| 18|       1.0|\n",
            "|    Vijay| 29|       3.0|\n",
            "|Sudarshan| 35|       5.0|\n",
            "|    Ketan| 33|       7.0|\n",
            "+---------+---+----------+\n",
            "\n"
          ]
        }
      ]
    },
    {
      "cell_type": "code",
      "source": [
        "# adding new columns more than one\n",
        "# this process is called chaining method\n",
        "df2.withColumn('New_Age', df2['Age']+2).withColumn('New_Experience', df2['Experience']+5).show()"
      ],
      "metadata": {
        "colab": {
          "base_uri": "https://localhost:8080/"
        },
        "id": "7LV5ObN_RTie",
        "outputId": "b52b2d9f-bd0a-4fd9-c6e8-ef20476c9695"
      },
      "execution_count": null,
      "outputs": [
        {
          "output_type": "stream",
          "name": "stdout",
          "text": [
            "+---------+---+----------+-------+--------------+\n",
            "|     Name|Age|Experience|New_Age|New_Experience|\n",
            "+---------+---+----------+-------+--------------+\n",
            "|     Amit| 22|       1.5|     24|           6.5|\n",
            "|    Ankit| 25|       2.0|     27|           7.0|\n",
            "|   Ashish| 18|       1.0|     20|           6.0|\n",
            "|    Vijay| 29|       3.0|     31|           8.0|\n",
            "|Sudarshan| 35|       5.0|     37|          10.0|\n",
            "|    Ketan| 33|       7.0|     35|          12.0|\n",
            "+---------+---+----------+-------+--------------+\n",
            "\n"
          ]
        }
      ]
    },
    {
      "cell_type": "code",
      "source": [
        "# Add a constant (default) value in a column\n",
        "from pyspark.sql.functions import lit\n",
        "\n",
        "df2.withColumn('Bonus', lit('None')).show()"
      ],
      "metadata": {
        "colab": {
          "base_uri": "https://localhost:8080/"
        },
        "id": "krXWy1fcS7Nd",
        "outputId": "ebb4ff34-f99c-4eca-c1e3-81ed02913618"
      },
      "execution_count": null,
      "outputs": [
        {
          "output_type": "stream",
          "name": "stdout",
          "text": [
            "+---------+---+----------+-----+\n",
            "|     Name|Age|Experience|Bonus|\n",
            "+---------+---+----------+-----+\n",
            "|     Amit| 22|       1.5| None|\n",
            "|    Ankit| 25|       2.0| None|\n",
            "|   Ashish| 18|       1.0| None|\n",
            "|    Vijay| 29|       3.0| None|\n",
            "|Sudarshan| 35|       5.0| None|\n",
            "|    Ketan| 33|       7.0| None|\n",
            "+---------+---+----------+-----+\n",
            "\n"
          ]
        }
      ]
    },
    {
      "cell_type": "code",
      "source": [
        "from pyspark.sql import functions as f"
      ],
      "metadata": {
        "id": "aXuHSTTjWpKv"
      },
      "execution_count": null,
      "outputs": []
    },
    {
      "cell_type": "code",
      "source": [
        "\n",
        "df2.withColumn('Name_upper', f.upper(df2['Name'])).show()"
      ],
      "metadata": {
        "colab": {
          "base_uri": "https://localhost:8080/"
        },
        "id": "Ex50rAoSWpNR",
        "outputId": "2a6a357e-9797-458d-abc9-98963b318400"
      },
      "execution_count": null,
      "outputs": [
        {
          "output_type": "stream",
          "name": "stdout",
          "text": [
            "+---------+---+----------+----------+\n",
            "|     Name|Age|Experience|Name_upper|\n",
            "+---------+---+----------+----------+\n",
            "|     Amit| 22|       1.5|      AMIT|\n",
            "|    Ankit| 25|       2.0|     ANKIT|\n",
            "|   Ashish| 18|       1.0|    ASHISH|\n",
            "|    Vijay| 29|       3.0|     VIJAY|\n",
            "|Sudarshan| 35|       5.0| SUDARSHAN|\n",
            "|    Ketan| 33|       7.0|     KETAN|\n",
            "+---------+---+----------+----------+\n",
            "\n"
          ]
        }
      ]
    },
    {
      "cell_type": "code",
      "source": [
        "# withColumn--> adds columns or modifies existing columns\n",
        "df2.withColumn('Name_upper', f.upper('Name')).show()"
      ],
      "metadata": {
        "colab": {
          "base_uri": "https://localhost:8080/"
        },
        "id": "f13nCnp5WpPv",
        "outputId": "d3258a6d-c4c9-4112-e2bc-a441e58f8a39"
      },
      "execution_count": null,
      "outputs": [
        {
          "output_type": "stream",
          "name": "stdout",
          "text": [
            "+---------+---+----------+----------+\n",
            "|     Name|Age|Experience|Name_upper|\n",
            "+---------+---+----------+----------+\n",
            "|     Amit| 22|       1.5|      AMIT|\n",
            "|    Ankit| 25|       2.0|     ANKIT|\n",
            "|   Ashish| 18|       1.0|    ASHISH|\n",
            "|    Vijay| 29|       3.0|     VIJAY|\n",
            "|Sudarshan| 35|       5.0| SUDARSHAN|\n",
            "|    Ketan| 33|       7.0|     KETAN|\n",
            "+---------+---+----------+----------+\n",
            "\n"
          ]
        }
      ]
    },
    {
      "cell_type": "code",
      "source": [
        "df2.show()"
      ],
      "metadata": {
        "colab": {
          "base_uri": "https://localhost:8080/"
        },
        "id": "zwume8bkWpS4",
        "outputId": "9437eb9d-b78a-4857-c597-0b4e35c60737"
      },
      "execution_count": null,
      "outputs": [
        {
          "output_type": "stream",
          "name": "stdout",
          "text": [
            "+---------+---+----------+\n",
            "|     Name|Age|Experience|\n",
            "+---------+---+----------+\n",
            "|     Amit| 22|       1.5|\n",
            "|    Ankit| 25|       2.0|\n",
            "|   Ashish| 18|       1.0|\n",
            "|    Vijay| 29|       3.0|\n",
            "|Sudarshan| 35|       5.0|\n",
            "|    Ketan| 33|       7.0|\n",
            "+---------+---+----------+\n",
            "\n"
          ]
        }
      ]
    },
    {
      "cell_type": "code",
      "source": [
        "# we can add multiple columns using withColumn\n",
        "# lit is used when we have to add a constant value to the dataframe\n",
        "df2.withColumn(\"Bonus\", lit('None')).withColumn(\"Dept\", lit('IT')).show()"
      ],
      "metadata": {
        "colab": {
          "base_uri": "https://localhost:8080/"
        },
        "id": "zP_ZPh8X5BQ4",
        "outputId": "0d9951dc-20fa-4834-832c-21780fb6e085"
      },
      "execution_count": null,
      "outputs": [
        {
          "output_type": "stream",
          "name": "stdout",
          "text": [
            "+---------+---+----------+-----+----+\n",
            "|     Name|Age|Experience|Bonus|Dept|\n",
            "+---------+---+----------+-----+----+\n",
            "|     Amit| 22|       1.5| None|  IT|\n",
            "|    Ankit| 25|       2.0| None|  IT|\n",
            "|   Ashish| 18|       1.0| None|  IT|\n",
            "|    Vijay| 29|       3.0| None|  IT|\n",
            "|Sudarshan| 35|       5.0| None|  IT|\n",
            "|    Ketan| 33|       7.0| None|  IT|\n",
            "+---------+---+----------+-----+----+\n",
            "\n"
          ]
        }
      ]
    },
    {
      "cell_type": "code",
      "source": [
        "#help(lit)"
      ],
      "metadata": {
        "id": "I2LHvkCt598o"
      },
      "execution_count": null,
      "outputs": []
    },
    {
      "cell_type": "code",
      "source": [
        "# using select we can add a column--> an alternate method to withColumn\n",
        "df2.select('Name', 'Age', 'Experience', lit('None').alias('Bonus')).show()"
      ],
      "metadata": {
        "colab": {
          "base_uri": "https://localhost:8080/"
        },
        "id": "5MGYPYb-91Sp",
        "outputId": "e36a2dc6-6653-48af-f497-fadda38ea477"
      },
      "execution_count": null,
      "outputs": [
        {
          "output_type": "stream",
          "name": "stdout",
          "text": [
            "+---------+---+----------+-----+\n",
            "|     Name|Age|Experience|Bonus|\n",
            "+---------+---+----------+-----+\n",
            "|     Amit| 22|       1.5| None|\n",
            "|    Ankit| 25|       2.0| None|\n",
            "|   Ashish| 18|       1.0| None|\n",
            "|    Vijay| 29|       3.0| None|\n",
            "|Sudarshan| 35|       5.0| None|\n",
            "|    Ketan| 33|       7.0| None|\n",
            "+---------+---+----------+-----+\n",
            "\n"
          ]
        }
      ]
    },
    {
      "cell_type": "code",
      "source": [
        "df2.withColumn('New_Experience', df2.Experience*2).show()"
      ],
      "metadata": {
        "colab": {
          "base_uri": "https://localhost:8080/"
        },
        "id": "V50fC6OX-X7Y",
        "outputId": "c050ca61-07a1-4fa3-b41b-c9420d4cfa7f"
      },
      "execution_count": null,
      "outputs": [
        {
          "output_type": "stream",
          "name": "stdout",
          "text": [
            "+---------+---+----------+--------------+\n",
            "|     Name|Age|Experience|New_Experience|\n",
            "+---------+---+----------+--------------+\n",
            "|     Amit| 22|       1.5|           3.0|\n",
            "|    Ankit| 25|       2.0|           4.0|\n",
            "|   Ashish| 18|       1.0|           2.0|\n",
            "|    Vijay| 29|       3.0|           6.0|\n",
            "|Sudarshan| 35|       5.0|          10.0|\n",
            "|    Ketan| 33|       7.0|          14.0|\n",
            "+---------+---+----------+--------------+\n",
            "\n"
          ]
        }
      ]
    },
    {
      "cell_type": "code",
      "source": [
        "# add coloumn by concatinating from existing columns---> f.concat_ws\n",
        "df2.withColumn(\"Concate_column\", f.concat_ws(',', 'Name', 'age')).show() #----> with seperator"
      ],
      "metadata": {
        "colab": {
          "base_uri": "https://localhost:8080/"
        },
        "id": "PT6snwxO_HBn",
        "outputId": "055f17dc-2d14-4f33-a198-79947bf4201c"
      },
      "execution_count": null,
      "outputs": [
        {
          "output_type": "stream",
          "name": "stdout",
          "text": [
            "+---------+---+----------+--------------+\n",
            "|     Name|Age|Experience|Concate_column|\n",
            "+---------+---+----------+--------------+\n",
            "|     Amit| 22|       1.5|       Amit,22|\n",
            "|    Ankit| 25|       2.0|      Ankit,25|\n",
            "|   Ashish| 18|       1.0|     Ashish,18|\n",
            "|    Vijay| 29|       3.0|      Vijay,29|\n",
            "|Sudarshan| 35|       5.0|  Sudarshan,35|\n",
            "|    Ketan| 33|       7.0|      Ketan,33|\n",
            "+---------+---+----------+--------------+\n",
            "\n"
          ]
        }
      ]
    },
    {
      "cell_type": "code",
      "source": [
        "df2.withColumn(\"Concate_column\", f.concat_ws('', 'Name', 'age')).show() #---> without separation"
      ],
      "metadata": {
        "colab": {
          "base_uri": "https://localhost:8080/"
        },
        "id": "1DNNhjpPB04U",
        "outputId": "4843ded9-c58f-479d-cf37-a16302a29e97"
      },
      "execution_count": null,
      "outputs": [
        {
          "output_type": "stream",
          "name": "stdout",
          "text": [
            "+---------+---+----------+--------------+\n",
            "|     Name|Age|Experience|Concate_column|\n",
            "+---------+---+----------+--------------+\n",
            "|     Amit| 22|       1.5|        Amit22|\n",
            "|    Ankit| 25|       2.0|       Ankit25|\n",
            "|   Ashish| 18|       1.0|      Ashish18|\n",
            "|    Vijay| 29|       3.0|       Vijay29|\n",
            "|Sudarshan| 35|       5.0|   Sudarshan35|\n",
            "|    Ketan| 33|       7.0|       Ketan33|\n",
            "+---------+---+----------+--------------+\n",
            "\n"
          ]
        }
      ]
    },
    {
      "cell_type": "code",
      "source": [
        "# help(f.concat_ws)\n",
        "df2.show()"
      ],
      "metadata": {
        "colab": {
          "base_uri": "https://localhost:8080/"
        },
        "id": "A5_3YVXFBc4W",
        "outputId": "ceef7400-26dc-453c-e39a-de16c4bd599e"
      },
      "execution_count": null,
      "outputs": [
        {
          "output_type": "stream",
          "name": "stdout",
          "text": [
            "+---------+---+----------+\n",
            "|     Name|Age|Experience|\n",
            "+---------+---+----------+\n",
            "|     Amit| 22|       1.5|\n",
            "|    Ankit| 25|       2.0|\n",
            "|   Ashish| 18|       1.0|\n",
            "|    Vijay| 29|       3.0|\n",
            "|Sudarshan| 35|       5.0|\n",
            "|    Ketan| 33|       7.0|\n",
            "+---------+---+----------+\n",
            "\n"
          ]
        }
      ]
    },
    {
      "cell_type": "code",
      "source": [
        "df2.withColumn(\"Concated_column\", f.concat_ws('-', 'Name', 'Age')).show()"
      ],
      "metadata": {
        "colab": {
          "base_uri": "https://localhost:8080/"
        },
        "id": "N28ThSFgBgo9",
        "outputId": "ce295866-2bb8-4aa0-e8a1-e65f5de2fa13"
      },
      "execution_count": null,
      "outputs": [
        {
          "output_type": "stream",
          "name": "stdout",
          "text": [
            "+---------+---+----------+---------------+\n",
            "|     Name|Age|Experience|Concated_column|\n",
            "+---------+---+----------+---------------+\n",
            "|     Amit| 22|       1.5|        Amit-22|\n",
            "|    Ankit| 25|       2.0|       Ankit-25|\n",
            "|   Ashish| 18|       1.0|      Ashish-18|\n",
            "|    Vijay| 29|       3.0|       Vijay-29|\n",
            "|Sudarshan| 35|       5.0|   Sudarshan-35|\n",
            "|    Ketan| 33|       7.0|       Ketan-33|\n",
            "+---------+---+----------+---------------+\n",
            "\n"
          ]
        }
      ]
    },
    {
      "cell_type": "code",
      "source": [
        "#help(f.concat)"
      ],
      "metadata": {
        "id": "oyNNn2q0Kra8"
      },
      "execution_count": null,
      "outputs": []
    },
    {
      "cell_type": "code",
      "source": [
        "# adding column with condition"
      ],
      "metadata": {
        "id": "i76Uyue2K95j"
      },
      "execution_count": null,
      "outputs": []
    },
    {
      "cell_type": "code",
      "source": [
        "\n",
        "from pyspark.sql.functions import when"
      ],
      "metadata": {
        "id": "QKdaU5wgb3gu"
      },
      "execution_count": null,
      "outputs": []
    },
    {
      "cell_type": "code",
      "source": [
        "df2.show()"
      ],
      "metadata": {
        "colab": {
          "base_uri": "https://localhost:8080/"
        },
        "id": "JZDmnKH9jFGe",
        "outputId": "531a37a1-fd52-4b51-b9db-35238f42aedb"
      },
      "execution_count": null,
      "outputs": [
        {
          "output_type": "stream",
          "name": "stdout",
          "text": [
            "+---------+---+----------+\n",
            "|     Name|Age|Experience|\n",
            "+---------+---+----------+\n",
            "|     Amit| 22|       1.5|\n",
            "|    Ankit| 25|       2.0|\n",
            "|   Ashish| 18|       1.0|\n",
            "|    Vijay| 29|       3.0|\n",
            "|Sudarshan| 35|       5.0|\n",
            "|    Ketan| 33|       7.0|\n",
            "+---------+---+----------+\n",
            "\n"
          ]
        }
      ]
    },
    {
      "cell_type": "code",
      "source": [
        "\n",
        "df2.withColumn(\"Employee_band\", \\\n",
        "               when(df2['Experience'] <= 1.0, lit('Fresher')) \\\n",
        "               .when((df2['Experience'] > 1.0)  & (df2['Experience'] <= 5.0), lit('Intermediate')) \\\n",
        "               .when(df2['Experience'] > 5.0, lit('Expert'))\n",
        "               ).show()"
      ],
      "metadata": {
        "colab": {
          "base_uri": "https://localhost:8080/"
        },
        "id": "uZokrKV1iZl-",
        "outputId": "41b73b5a-d2bb-442b-fe25-aef1a78a2e5a"
      },
      "execution_count": null,
      "outputs": [
        {
          "output_type": "stream",
          "name": "stdout",
          "text": [
            "+---------+---+----------+-------------+\n",
            "|     Name|Age|Experience|Employee_band|\n",
            "+---------+---+----------+-------------+\n",
            "|     Amit| 22|       1.5| Intermediate|\n",
            "|    Ankit| 25|       2.0| Intermediate|\n",
            "|   Ashish| 18|       1.0|      Fresher|\n",
            "|    Vijay| 29|       3.0| Intermediate|\n",
            "|Sudarshan| 35|       5.0| Intermediate|\n",
            "|    Ketan| 33|       7.0|       Expert|\n",
            "+---------+---+----------+-------------+\n",
            "\n"
          ]
        }
      ]
    },
    {
      "cell_type": "code",
      "source": [
        "# adding column\n",
        "df2.show()"
      ],
      "metadata": {
        "id": "9T_Ht3lXj2wG"
      },
      "execution_count": null,
      "outputs": []
    },
    {
      "cell_type": "code",
      "source": [
        "from pyspark.sql.functions import when"
      ],
      "metadata": {
        "id": "V7krhYDiCMnx"
      },
      "execution_count": null,
      "outputs": []
    },
    {
      "cell_type": "code",
      "source": [
        "if 'Salary' not in df2.columns:\n",
        "  df2.withColumn(\"Salary\", lit('None')).show()\n",
        "else:\n",
        "  pass"
      ],
      "metadata": {
        "colab": {
          "base_uri": "https://localhost:8080/"
        },
        "id": "zVDjnzZHDrc_",
        "outputId": "5c7b6fa9-a19e-46c9-f207-8285c63ae687"
      },
      "execution_count": null,
      "outputs": [
        {
          "output_type": "stream",
          "name": "stdout",
          "text": [
            "+---------+---+----------+------+\n",
            "|     Name|Age|Experience|Salary|\n",
            "+---------+---+----------+------+\n",
            "|     Amit| 22|       1.5|  None|\n",
            "|    Ankit| 25|       2.0|  None|\n",
            "|   Ashish| 18|       1.0|  None|\n",
            "|    Vijay| 29|       3.0|  None|\n",
            "|Sudarshan| 35|       5.0|  None|\n",
            "|    Ketan| 33|       7.0|  None|\n",
            "+---------+---+----------+------+\n",
            "\n"
          ]
        }
      ]
    },
    {
      "cell_type": "code",
      "source": [
        "df2.printSchema()"
      ],
      "metadata": {
        "colab": {
          "base_uri": "https://localhost:8080/"
        },
        "id": "9jhOVU0RD__b",
        "outputId": "5592b4fc-8c58-4366-b47f-a936ef012fed"
      },
      "execution_count": null,
      "outputs": [
        {
          "output_type": "stream",
          "name": "stdout",
          "text": [
            "root\n",
            " |-- Name: string (nullable = true)\n",
            " |-- Age: integer (nullable = true)\n",
            " |-- Experience: double (nullable = true)\n",
            "\n"
          ]
        }
      ]
    },
    {
      "cell_type": "code",
      "source": [
        "# we cannot convert string to interger but we can convert interger to string\n",
        "# Changing datatype of an existing column\n",
        "\n",
        "from pyspark.sql.types import FloatType\n",
        "from pyspark.sql.functions import col\n",
        "\n",
        "df2.withColumn('Age', col('Age').cast(FloatType())).printSchema()"
      ],
      "metadata": {
        "colab": {
          "base_uri": "https://localhost:8080/"
        },
        "id": "_jgd2YklEgDp",
        "outputId": "b2055a8d-790e-418a-98a1-d27d9719c81c"
      },
      "execution_count": null,
      "outputs": [
        {
          "output_type": "stream",
          "name": "stdout",
          "text": [
            "root\n",
            " |-- Name: string (nullable = true)\n",
            " |-- Age: float (nullable = true)\n",
            " |-- Experience: double (nullable = true)\n",
            "\n"
          ]
        }
      ]
    },
    {
      "cell_type": "code",
      "source": [
        "# Dropping a column\n",
        "\n",
        "df2.drop(df2['Age']).show()#---> original dataframe remains same"
      ],
      "metadata": {
        "colab": {
          "base_uri": "https://localhost:8080/"
        },
        "id": "FnHjip6VFC1k",
        "outputId": "68b9cab2-8c4c-49d5-ad6c-0636dc8026a3"
      },
      "execution_count": null,
      "outputs": [
        {
          "output_type": "stream",
          "name": "stdout",
          "text": [
            "+---------+----------+\n",
            "|     Name|Experience|\n",
            "+---------+----------+\n",
            "|     Amit|       1.5|\n",
            "|    Ankit|       2.0|\n",
            "|   Ashish|       1.0|\n",
            "|    Vijay|       3.0|\n",
            "|Sudarshan|       5.0|\n",
            "|    Ketan|       7.0|\n",
            "+---------+----------+\n",
            "\n"
          ]
        }
      ]
    },
    {
      "cell_type": "code",
      "source": [
        "df2.show()"
      ],
      "metadata": {
        "colab": {
          "base_uri": "https://localhost:8080/"
        },
        "id": "vtWoUHcuF0Ph",
        "outputId": "e18311e6-6472-49fb-f3c4-e05893ce037c"
      },
      "execution_count": null,
      "outputs": [
        {
          "output_type": "stream",
          "name": "stdout",
          "text": [
            "+---------+---+----------+\n",
            "|     Name|Age|Experience|\n",
            "+---------+---+----------+\n",
            "|     Amit| 22|       1.5|\n",
            "|    Ankit| 25|       2.0|\n",
            "|   Ashish| 18|       1.0|\n",
            "|    Vijay| 29|       3.0|\n",
            "|Sudarshan| 35|       5.0|\n",
            "|    Ketan| 33|       7.0|\n",
            "+---------+---+----------+\n",
            "\n"
          ]
        }
      ]
    },
    {
      "cell_type": "code",
      "source": [
        "df2.drop('Age').show() #----> df2 is intact"
      ],
      "metadata": {
        "colab": {
          "base_uri": "https://localhost:8080/"
        },
        "id": "fem6kuF1F4uo",
        "outputId": "97f26dbf-b4ee-47b9-c79e-304fc3fa523a"
      },
      "execution_count": null,
      "outputs": [
        {
          "output_type": "stream",
          "name": "stdout",
          "text": [
            "+---------+----------+\n",
            "|     Name|Experience|\n",
            "+---------+----------+\n",
            "|     Amit|       1.5|\n",
            "|    Ankit|       2.0|\n",
            "|   Ashish|       1.0|\n",
            "|    Vijay|       3.0|\n",
            "|Sudarshan|       5.0|\n",
            "|    Ketan|       7.0|\n",
            "+---------+----------+\n",
            "\n"
          ]
        }
      ]
    },
    {
      "cell_type": "code",
      "source": [
        "spark"
      ],
      "metadata": {
        "colab": {
          "base_uri": "https://localhost:8080/",
          "height": 219
        },
        "id": "V9G9sz6EGCMX",
        "outputId": "5604a317-de57-4a7c-9198-4e0a2de02375"
      },
      "execution_count": null,
      "outputs": [
        {
          "output_type": "execute_result",
          "data": {
            "text/plain": [
              "<pyspark.sql.session.SparkSession at 0x7eff3b58ecb0>"
            ],
            "text/html": [
              "\n",
              "            <div>\n",
              "                <p><b>SparkSession - in-memory</b></p>\n",
              "                \n",
              "        <div>\n",
              "            <p><b>SparkContext</b></p>\n",
              "\n",
              "            <p><a href=\"http://740b95552ceb:4040\">Spark UI</a></p>\n",
              "\n",
              "            <dl>\n",
              "              <dt>Version</dt>\n",
              "                <dd><code>v3.4.0</code></dd>\n",
              "              <dt>Master</dt>\n",
              "                <dd><code>local[*]</code></dd>\n",
              "              <dt>AppName</dt>\n",
              "                <dd><code>Day_1_training</code></dd>\n",
              "            </dl>\n",
              "        </div>\n",
              "        \n",
              "            </div>\n",
              "        "
            ]
          },
          "metadata": {},
          "execution_count": 61
        }
      ]
    },
    {
      "cell_type": "code",
      "source": [
        "# dropping multiple columns\n",
        "\n",
        "df2.drop(\"Age\", \"Experience\").show()"
      ],
      "metadata": {
        "colab": {
          "base_uri": "https://localhost:8080/"
        },
        "id": "8tmWOt3ZGU7D",
        "outputId": "0ad9be0b-bdc2-48ce-e417-8466e9bbe72e"
      },
      "execution_count": null,
      "outputs": [
        {
          "output_type": "stream",
          "name": "stdout",
          "text": [
            "+---------+\n",
            "|     Name|\n",
            "+---------+\n",
            "|     Amit|\n",
            "|    Ankit|\n",
            "|   Ashish|\n",
            "|    Vijay|\n",
            "|Sudarshan|\n",
            "|    Ketan|\n",
            "+---------+\n",
            "\n"
          ]
        }
      ]
    },
    {
      "cell_type": "code",
      "source": [
        "# Renaming columns\n",
        "\n",
        "\n",
        "df2.withColumnRenamed('Name', 'New_name').show()"
      ],
      "metadata": {
        "colab": {
          "base_uri": "https://localhost:8080/"
        },
        "id": "-LuLbKAkGjq5",
        "outputId": "e9ec538a-c437-42eb-bd46-478585be86c5"
      },
      "execution_count": null,
      "outputs": [
        {
          "output_type": "stream",
          "name": "stdout",
          "text": [
            "+---------+---+----------+\n",
            "| New_name|Age|Experience|\n",
            "+---------+---+----------+\n",
            "|     Amit| 22|       1.5|\n",
            "|    Ankit| 25|       2.0|\n",
            "|   Ashish| 18|       1.0|\n",
            "|    Vijay| 29|       3.0|\n",
            "|Sudarshan| 35|       5.0|\n",
            "|    Ketan| 33|       7.0|\n",
            "+---------+---+----------+\n",
            "\n"
          ]
        }
      ]
    },
    {
      "cell_type": "code",
      "source": [
        "# renaming multiple column with the chaining\n",
        "\n",
        "df2.withColumnRenamed(\"Name\", \"New_name\").withColumnRenamed(\"Age\", \"New_Age\").show()"
      ],
      "metadata": {
        "colab": {
          "base_uri": "https://localhost:8080/"
        },
        "id": "wDSSP8a_GxCu",
        "outputId": "1e5dc2a7-d86b-451d-f787-e627a12758ce"
      },
      "execution_count": null,
      "outputs": [
        {
          "output_type": "stream",
          "name": "stdout",
          "text": [
            "+---------+-------+----------+\n",
            "| New_name|New_Age|Experience|\n",
            "+---------+-------+----------+\n",
            "|     Amit|     22|       1.5|\n",
            "|    Ankit|     25|       2.0|\n",
            "|   Ashish|     18|       1.0|\n",
            "|    Vijay|     29|       3.0|\n",
            "|Sudarshan|     35|       5.0|\n",
            "|    Ketan|     33|       7.0|\n",
            "+---------+-------+----------+\n",
            "\n"
          ]
        }
      ]
    },
    {
      "cell_type": "code",
      "source": [
        "df = spark.read.csv('/content/Tutorial_3.csv', header = True, inferSchema =True)"
      ],
      "metadata": {
        "id": "xietd5KtHMBt"
      },
      "execution_count": null,
      "outputs": []
    },
    {
      "cell_type": "code",
      "source": [
        "df.show()"
      ],
      "metadata": {
        "colab": {
          "base_uri": "https://localhost:8080/"
        },
        "id": "yTefDgzdLN2-",
        "outputId": "1abe73e1-2888-4f02-c367-76dfde77f323"
      },
      "execution_count": null,
      "outputs": [
        {
          "output_type": "stream",
          "name": "stdout",
          "text": [
            "+---------+----+----------+------+\n",
            "|     Name| Age|Experience|Salary|\n",
            "+---------+----+----------+------+\n",
            "|     Amit|  22|       1.5| 12000|\n",
            "|     Amit|  22|       1.5| 12000|\n",
            "|    Ankit|  25|      null|  null|\n",
            "|   Ashish|null|       1.0| 15000|\n",
            "|    Vijay|  29|      null| 17000|\n",
            "|Sudarshan|null|       5.0|  null|\n",
            "|    Ketan|  33|      null| 23000|\n",
            "|     null|  36|       8.0|  null|\n",
            "|     null|  41|      null| 34000|\n",
            "|     null|null|      null|  null|\n",
            "|     Ajit|  43|      10.0| 40000|\n",
            "|     Ajit|  43|      10.0| 40000|\n",
            "+---------+----+----------+------+\n",
            "\n"
          ]
        }
      ]
    },
    {
      "cell_type": "code",
      "source": [
        "# drop all the records which have null values\n",
        "df.na.drop().show()"
      ],
      "metadata": {
        "colab": {
          "base_uri": "https://localhost:8080/"
        },
        "id": "JN2H-thoLUr4",
        "outputId": "08571af4-31a8-4778-9238-e70e1a91b4e0"
      },
      "execution_count": null,
      "outputs": [
        {
          "output_type": "stream",
          "name": "stdout",
          "text": [
            "+----+---+----------+------+\n",
            "|Name|Age|Experience|Salary|\n",
            "+----+---+----------+------+\n",
            "|Amit| 22|       1.5| 12000|\n",
            "|Amit| 22|       1.5| 12000|\n",
            "|Ajit| 43|      10.0| 40000|\n",
            "|Ajit| 43|      10.0| 40000|\n",
            "+----+---+----------+------+\n",
            "\n"
          ]
        }
      ]
    },
    {
      "cell_type": "code",
      "source": [
        "df.na.drop(how = 'any').show() # how---> it is a condition if there is any column conatins null that row will be dropped"
      ],
      "metadata": {
        "colab": {
          "base_uri": "https://localhost:8080/"
        },
        "id": "ZU50q2zuLn7o",
        "outputId": "1a49fbd6-894f-47f5-e170-29605203fc31"
      },
      "execution_count": null,
      "outputs": [
        {
          "output_type": "stream",
          "name": "stdout",
          "text": [
            "+----+---+----------+------+\n",
            "|Name|Age|Experience|Salary|\n",
            "+----+---+----------+------+\n",
            "|Amit| 22|       1.5| 12000|\n",
            "|Amit| 22|       1.5| 12000|\n",
            "|Ajit| 43|      10.0| 40000|\n",
            "|Ajit| 43|      10.0| 40000|\n",
            "+----+---+----------+------+\n",
            "\n"
          ]
        }
      ]
    },
    {
      "cell_type": "code",
      "source": [
        "# how = 'all'---> the row which contains null records in all the rows that will be deleted\n",
        "df.na.drop(how='all').show()"
      ],
      "metadata": {
        "colab": {
          "base_uri": "https://localhost:8080/"
        },
        "id": "7sDiCR_nMEQO",
        "outputId": "06f3f7b0-b1bb-41f2-e370-b2d56c045923"
      },
      "execution_count": null,
      "outputs": [
        {
          "output_type": "stream",
          "name": "stdout",
          "text": [
            "+---------+----+----------+------+\n",
            "|     Name| Age|Experience|Salary|\n",
            "+---------+----+----------+------+\n",
            "|     Amit|  22|       1.5| 12000|\n",
            "|     Amit|  22|       1.5| 12000|\n",
            "|    Ankit|  25|      null|  null|\n",
            "|   Ashish|null|       1.0| 15000|\n",
            "|    Vijay|  29|      null| 17000|\n",
            "|Sudarshan|null|       5.0|  null|\n",
            "|    Ketan|  33|      null| 23000|\n",
            "|     null|  36|       8.0|  null|\n",
            "|     null|  41|      null| 34000|\n",
            "|     Ajit|  43|      10.0| 40000|\n",
            "|     Ajit|  43|      10.0| 40000|\n",
            "+---------+----+----------+------+\n",
            "\n"
          ]
        }
      ]
    },
    {
      "cell_type": "code",
      "source": [
        "# thresh parameter --> it first checks how many non null values should be in a column\n",
        "df.na.drop(thresh = None).show()"
      ],
      "metadata": {
        "colab": {
          "base_uri": "https://localhost:8080/"
        },
        "id": "1PzF_HC2MULw",
        "outputId": "d3682a14-adba-45bc-f050-5ed45919cc1d"
      },
      "execution_count": null,
      "outputs": [
        {
          "output_type": "stream",
          "name": "stdout",
          "text": [
            "+----+---+----------+------+\n",
            "|Name|Age|Experience|Salary|\n",
            "+----+---+----------+------+\n",
            "|Amit| 22|       1.5| 12000|\n",
            "|Amit| 22|       1.5| 12000|\n",
            "|Ajit| 43|      10.0| 40000|\n",
            "|Ajit| 43|      10.0| 40000|\n",
            "+----+---+----------+------+\n",
            "\n"
          ]
        }
      ]
    },
    {
      "cell_type": "code",
      "source": [
        "# thresh parameter --> checks at least one non null value--> if it has one non null value that record cannot be deleted\n",
        "df.na.drop(thresh = 1).show()"
      ],
      "metadata": {
        "colab": {
          "base_uri": "https://localhost:8080/"
        },
        "id": "060MpwckMlZg",
        "outputId": "fce63c2d-4472-4d49-ead9-340df0056aa0"
      },
      "execution_count": null,
      "outputs": [
        {
          "output_type": "stream",
          "name": "stdout",
          "text": [
            "+---------+----+----------+------+\n",
            "|     Name| Age|Experience|Salary|\n",
            "+---------+----+----------+------+\n",
            "|     Amit|  22|       1.5| 12000|\n",
            "|     Amit|  22|       1.5| 12000|\n",
            "|    Ankit|  25|      null|  null|\n",
            "|   Ashish|null|       1.0| 15000|\n",
            "|    Vijay|  29|      null| 17000|\n",
            "|Sudarshan|null|       5.0|  null|\n",
            "|    Ketan|  33|      null| 23000|\n",
            "|     null|  36|       8.0|  null|\n",
            "|     null|  41|      null| 34000|\n",
            "|     Ajit|  43|      10.0| 40000|\n",
            "|     Ajit|  43|      10.0| 40000|\n",
            "+---------+----+----------+------+\n",
            "\n"
          ]
        }
      ]
    },
    {
      "cell_type": "code",
      "source": [
        "# thresh -2 --. checks for two non null values\n",
        "# thresh = 3--> checks for three non null values and so on\n",
        "df.na.drop(thresh = 3).show()"
      ],
      "metadata": {
        "colab": {
          "base_uri": "https://localhost:8080/"
        },
        "id": "arJ5ijZJM5__",
        "outputId": "2edfca63-4d0b-4dc4-d64c-22480c98a3b3"
      },
      "execution_count": null,
      "outputs": [
        {
          "output_type": "stream",
          "name": "stdout",
          "text": [
            "+------+----+----------+------+\n",
            "|  Name| Age|Experience|Salary|\n",
            "+------+----+----------+------+\n",
            "|  Amit|  22|       1.5| 12000|\n",
            "|  Amit|  22|       1.5| 12000|\n",
            "|Ashish|null|       1.0| 15000|\n",
            "| Vijay|  29|      null| 17000|\n",
            "| Ketan|  33|      null| 23000|\n",
            "|  Ajit|  43|      10.0| 40000|\n",
            "|  Ajit|  43|      10.0| 40000|\n",
            "+------+----+----------+------+\n",
            "\n"
          ]
        }
      ]
    },
    {
      "cell_type": "code",
      "source": [
        "df.show()"
      ],
      "metadata": {
        "colab": {
          "base_uri": "https://localhost:8080/"
        },
        "id": "jlSDliU5SjBJ",
        "outputId": "1eedb660-af33-41fe-f947-8fa98253276a"
      },
      "execution_count": null,
      "outputs": [
        {
          "output_type": "stream",
          "name": "stdout",
          "text": [
            "+---------+----+----------+------+\n",
            "|     Name| Age|Experience|Salary|\n",
            "+---------+----+----------+------+\n",
            "|     Amit|  22|       1.5| 12000|\n",
            "|     Amit|  22|       1.5| 12000|\n",
            "|    Ankit|  25|      null|  null|\n",
            "|   Ashish|null|       1.0| 15000|\n",
            "|    Vijay|  29|      null| 17000|\n",
            "|Sudarshan|null|       5.0|  null|\n",
            "|    Ketan|  33|      null| 23000|\n",
            "|     null|  36|       8.0|  null|\n",
            "|     null|  41|      null| 34000|\n",
            "|     null|null|      null|  null|\n",
            "|     Ajit|  43|      10.0| 40000|\n",
            "|     Ajit|  43|      10.0| 40000|\n",
            "+---------+----+----------+------+\n",
            "\n"
          ]
        }
      ]
    },
    {
      "cell_type": "code",
      "source": [
        "#subset--> used for dropping null values from a specified column\n",
        "df.na.drop(subset = \"Experience\").show()"
      ],
      "metadata": {
        "colab": {
          "base_uri": "https://localhost:8080/"
        },
        "id": "T0meIzozNj3C",
        "outputId": "94df1f5b-489e-4d97-d24b-d2bb3f6c633f"
      },
      "execution_count": null,
      "outputs": [
        {
          "output_type": "stream",
          "name": "stdout",
          "text": [
            "+---------+----+----------+------+\n",
            "|     Name| Age|Experience|Salary|\n",
            "+---------+----+----------+------+\n",
            "|     Amit|  22|       1.5| 12000|\n",
            "|     Amit|  22|       1.5| 12000|\n",
            "|   Ashish|null|       1.0| 15000|\n",
            "|Sudarshan|null|       5.0|  null|\n",
            "|     null|  36|       8.0|  null|\n",
            "|     Ajit|  43|      10.0| 40000|\n",
            "|     Ajit|  43|      10.0| 40000|\n",
            "+---------+----+----------+------+\n",
            "\n"
          ]
        }
      ]
    },
    {
      "cell_type": "code",
      "source": [
        "df.na.drop(subset = ['Name', 'Experience']).show()"
      ],
      "metadata": {
        "colab": {
          "base_uri": "https://localhost:8080/"
        },
        "id": "6ibd9YdZSSLb",
        "outputId": "34ecca83-9cbd-4e91-e5bb-539ab84b5a03"
      },
      "execution_count": null,
      "outputs": [
        {
          "output_type": "stream",
          "name": "stdout",
          "text": [
            "+---------+----+----------+------+\n",
            "|     Name| Age|Experience|Salary|\n",
            "+---------+----+----------+------+\n",
            "|     Amit|  22|       1.5| 12000|\n",
            "|     Amit|  22|       1.5| 12000|\n",
            "|   Ashish|null|       1.0| 15000|\n",
            "|Sudarshan|null|       5.0|  null|\n",
            "|     Ajit|  43|      10.0| 40000|\n",
            "|     Ajit|  43|      10.0| 40000|\n",
            "+---------+----+----------+------+\n",
            "\n"
          ]
        }
      ]
    },
    {
      "cell_type": "code",
      "source": [
        "# duplicates\n",
        "# removes duplicates from all the column\n",
        "df.drop_duplicates().show()"
      ],
      "metadata": {
        "colab": {
          "base_uri": "https://localhost:8080/"
        },
        "id": "sPoHTi84Sd2R",
        "outputId": "ca896134-657f-43d3-d7f1-34e7c46105a7"
      },
      "execution_count": null,
      "outputs": [
        {
          "output_type": "stream",
          "name": "stdout",
          "text": [
            "+---------+----+----------+------+\n",
            "|     Name| Age|Experience|Salary|\n",
            "+---------+----+----------+------+\n",
            "|     Amit|  22|       1.5| 12000|\n",
            "|     null|  41|      null| 34000|\n",
            "|    Ankit|  25|      null|  null|\n",
            "|     null|null|      null|  null|\n",
            "|    Ketan|  33|      null| 23000|\n",
            "|   Ashish|null|       1.0| 15000|\n",
            "|Sudarshan|null|       5.0|  null|\n",
            "|     Ajit|  43|      10.0| 40000|\n",
            "|    Vijay|  29|      null| 17000|\n",
            "|     null|  36|       8.0|  null|\n",
            "+---------+----+----------+------+\n",
            "\n"
          ]
        }
      ]
    },
    {
      "cell_type": "code",
      "source": [
        "# subset ---> used for removing duplicates from a specified column\n",
        "df.drop_duplicates(subset = ['Name']).show()"
      ],
      "metadata": {
        "colab": {
          "base_uri": "https://localhost:8080/"
        },
        "id": "76KOhPjCTEEM",
        "outputId": "aa71327a-f1a2-483a-c0fa-1dfdd689e47a"
      },
      "execution_count": null,
      "outputs": [
        {
          "output_type": "stream",
          "name": "stdout",
          "text": [
            "+---------+----+----------+------+\n",
            "|     Name| Age|Experience|Salary|\n",
            "+---------+----+----------+------+\n",
            "|     null|  36|       8.0|  null|\n",
            "|Sudarshan|null|       5.0|  null|\n",
            "|    Vijay|  29|      null| 17000|\n",
            "|    Ankit|  25|      null|  null|\n",
            "|   Ashish|null|       1.0| 15000|\n",
            "|     Ajit|  43|      10.0| 40000|\n",
            "|     Amit|  22|       1.5| 12000|\n",
            "|    Ketan|  33|      null| 23000|\n",
            "+---------+----+----------+------+\n",
            "\n"
          ]
        }
      ]
    },
    {
      "cell_type": "code",
      "source": [
        "df.drop_duplicates(subset = ['Name']).show()"
      ],
      "metadata": {
        "colab": {
          "base_uri": "https://localhost:8080/"
        },
        "id": "o57hHTPKTSGq",
        "outputId": "a6a178da-9fe7-41a7-fa50-79eeaf9c8358"
      },
      "execution_count": null,
      "outputs": [
        {
          "output_type": "stream",
          "name": "stdout",
          "text": [
            "+---------+----+----------+------+\n",
            "|     Name| Age|Experience|Salary|\n",
            "+---------+----+----------+------+\n",
            "|     null|  36|       8.0|  null|\n",
            "|Sudarshan|null|       5.0|  null|\n",
            "|    Vijay|  29|      null| 17000|\n",
            "|    Ankit|  25|      null|  null|\n",
            "|   Ashish|null|       1.0| 15000|\n",
            "|     Ajit|  43|      10.0| 40000|\n",
            "|     Amit|  22|       1.5| 12000|\n",
            "|    Ketan|  33|      null| 23000|\n",
            "+---------+----+----------+------+\n",
            "\n"
          ]
        }
      ]
    },
    {
      "cell_type": "code",
      "source": [
        "# Filling null values\n",
        "\n",
        "# fill null values in entire DF\n",
        "df.na.fill('not available').show()\n",
        "# before filling the null values data tyep of column will be checked\n",
        "# not available is a string because of this we see this value only in  Name column and not in others columns data"
      ],
      "metadata": {
        "colab": {
          "base_uri": "https://localhost:8080/"
        },
        "id": "EQvYFB9fTyYh",
        "outputId": "1f3c0596-894a-4157-e0af-24357f05d157"
      },
      "execution_count": null,
      "outputs": [
        {
          "output_type": "stream",
          "name": "stdout",
          "text": [
            "+-------------+----+----------+------+\n",
            "|         Name| Age|Experience|Salary|\n",
            "+-------------+----+----------+------+\n",
            "|         Amit|  22|       1.5| 12000|\n",
            "|         Amit|  22|       1.5| 12000|\n",
            "|        Ankit|  25|      null|  null|\n",
            "|       Ashish|null|       1.0| 15000|\n",
            "|        Vijay|  29|      null| 17000|\n",
            "|    Sudarshan|null|       5.0|  null|\n",
            "|        Ketan|  33|      null| 23000|\n",
            "|not available|  36|       8.0|  null|\n",
            "|not available|  41|      null| 34000|\n",
            "|not available|null|      null|  null|\n",
            "|         Ajit|  43|      10.0| 40000|\n",
            "|         Ajit|  43|      10.0| 40000|\n",
            "+-------------+----+----------+------+\n",
            "\n"
          ]
        }
      ]
    },
    {
      "cell_type": "code",
      "source": [
        "df.na.fill(value = 0, subset = ['Age', 'Experience']).show()"
      ],
      "metadata": {
        "id": "r-I8_riZWCZ9",
        "colab": {
          "base_uri": "https://localhost:8080/"
        },
        "outputId": "ba28f488-7565-47a8-a24e-691cf7e02bd1"
      },
      "execution_count": null,
      "outputs": [
        {
          "output_type": "stream",
          "name": "stdout",
          "text": [
            "+---------+---+----------+------+\n",
            "|     Name|Age|Experience|Salary|\n",
            "+---------+---+----------+------+\n",
            "|     Amit| 22|       1.5| 12000|\n",
            "|     Amit| 22|       1.5| 12000|\n",
            "|    Ankit| 25|       0.0|  null|\n",
            "|   Ashish|  0|       1.0| 15000|\n",
            "|    Vijay| 29|       0.0| 17000|\n",
            "|Sudarshan|  0|       5.0|  null|\n",
            "|    Ketan| 33|       0.0| 23000|\n",
            "|     null| 36|       8.0|  null|\n",
            "|     null| 41|       0.0| 34000|\n",
            "|     null|  0|       0.0|  null|\n",
            "|     Ajit| 43|      10.0| 40000|\n",
            "|     Ajit| 43|      10.0| 40000|\n",
            "+---------+---+----------+------+\n",
            "\n"
          ]
        }
      ]
    },
    {
      "cell_type": "code",
      "source": [
        "# filling different values in a different columns after removing null values using dictionary\n",
        "df.na.fill(value = {'Name': 'Not available',\n",
        "                    'Age': 0,\n",
        "                    'Experience':-89,\n",
        "                    'Salary': -99}).show()"
      ],
      "metadata": {
        "colab": {
          "base_uri": "https://localhost:8080/"
        },
        "id": "B_ibgunxXOof",
        "outputId": "517127bc-1962-41d6-8131-b97eeff682a6"
      },
      "execution_count": null,
      "outputs": [
        {
          "output_type": "stream",
          "name": "stdout",
          "text": [
            "+-------------+---+----------+------+\n",
            "|         Name|Age|Experience|Salary|\n",
            "+-------------+---+----------+------+\n",
            "|         Amit| 22|       1.5| 12000|\n",
            "|         Amit| 22|       1.5| 12000|\n",
            "|        Ankit| 25|     -89.0|   -99|\n",
            "|       Ashish|  0|       1.0| 15000|\n",
            "|        Vijay| 29|     -89.0| 17000|\n",
            "|    Sudarshan|  0|       5.0|   -99|\n",
            "|        Ketan| 33|     -89.0| 23000|\n",
            "|Not available| 36|       8.0|   -99|\n",
            "|Not available| 41|     -89.0| 34000|\n",
            "|Not available|  0|     -89.0|   -99|\n",
            "|         Ajit| 43|      10.0| 40000|\n",
            "|         Ajit| 43|      10.0| 40000|\n",
            "+-------------+---+----------+------+\n",
            "\n"
          ]
        }
      ]
    },
    {
      "cell_type": "code",
      "source": [
        "# Fill null values with an value of age mean column\n",
        "\n",
        "from pyspark.ml.feature import Imputer"
      ],
      "metadata": {
        "id": "WcVLi_HXX43d"
      },
      "execution_count": null,
      "outputs": []
    },
    {
      "cell_type": "code",
      "source": [
        "#help(Imputer)"
      ],
      "metadata": {
        "id": "Oddy95YJaEZQ"
      },
      "execution_count": null,
      "outputs": []
    },
    {
      "cell_type": "code",
      "source": [
        "df.show()"
      ],
      "metadata": {
        "colab": {
          "base_uri": "https://localhost:8080/"
        },
        "id": "PxxHNxpebrL1",
        "outputId": "6902419d-b07c-45da-c5e6-f0215ee4d87a"
      },
      "execution_count": null,
      "outputs": [
        {
          "output_type": "stream",
          "name": "stdout",
          "text": [
            "+---------+----+----------+------+\n",
            "|     Name| Age|Experience|Salary|\n",
            "+---------+----+----------+------+\n",
            "|     Amit|  22|       1.5| 12000|\n",
            "|     Amit|  22|       1.5| 12000|\n",
            "|    Ankit|  25|      null|  null|\n",
            "|   Ashish|null|       1.0| 15000|\n",
            "|    Vijay|  29|      null| 17000|\n",
            "|Sudarshan|null|       5.0|  null|\n",
            "|    Ketan|  33|      null| 23000|\n",
            "|     null|  36|       8.0|  null|\n",
            "|     null|  41|      null| 34000|\n",
            "|     null|null|      null|  null|\n",
            "|     Ajit|  43|      10.0| 40000|\n",
            "|     Ajit|  43|      10.0| 40000|\n",
            "+---------+----+----------+------+\n",
            "\n"
          ]
        }
      ]
    },
    {
      "cell_type": "code",
      "source": [
        "# measure of central tendency---> mean, median, mode\n",
        "imputer = Imputer(inputCols=[\"Age\", \"Experience\", \"Salary\"], outputCols=[\"Age_imputed\", \"Experience_imputed\", \"Salary_imputed\"]).setStrategy('mean')"
      ],
      "metadata": {
        "id": "C5Uj7iuZaKQO"
      },
      "execution_count": null,
      "outputs": []
    },
    {
      "cell_type": "code",
      "source": [
        "imputer.fit(df).transform(df).show()"
      ],
      "metadata": {
        "colab": {
          "base_uri": "https://localhost:8080/"
        },
        "id": "EqpDWSUbbKkb",
        "outputId": "51163341-65ed-49b9-9e6b-37d94206bc91"
      },
      "execution_count": null,
      "outputs": [
        {
          "output_type": "stream",
          "name": "stdout",
          "text": [
            "+---------+----+----------+------+-----------+------------------+--------------+\n",
            "|     Name| Age|Experience|Salary|Age_imputed|Experience_imputed|Salary_imputed|\n",
            "+---------+----+----------+------+-----------+------------------+--------------+\n",
            "|     Amit|  22|       1.5| 12000|         22|               1.5|         12000|\n",
            "|     Amit|  22|       1.5| 12000|         22|               1.5|         12000|\n",
            "|    Ankit|  25|      null|  null|         25| 5.285714285714286|         24125|\n",
            "|   Ashish|null|       1.0| 15000|         32|               1.0|         15000|\n",
            "|    Vijay|  29|      null| 17000|         29| 5.285714285714286|         17000|\n",
            "|Sudarshan|null|       5.0|  null|         32|               5.0|         24125|\n",
            "|    Ketan|  33|      null| 23000|         33| 5.285714285714286|         23000|\n",
            "|     null|  36|       8.0|  null|         36|               8.0|         24125|\n",
            "|     null|  41|      null| 34000|         41| 5.285714285714286|         34000|\n",
            "|     null|null|      null|  null|         32| 5.285714285714286|         24125|\n",
            "|     Ajit|  43|      10.0| 40000|         43|              10.0|         40000|\n",
            "|     Ajit|  43|      10.0| 40000|         43|              10.0|         40000|\n",
            "+---------+----+----------+------+-----------+------------------+--------------+\n",
            "\n"
          ]
        }
      ]
    },
    {
      "cell_type": "code",
      "source": [
        "# median\n",
        "imputer = Imputer(inputCols=[\"Age\", \"Experience\", \"Salary\"], outputCols=[\"Age_imputed\", \"Experience_imputed\", \"Salary_imputed\"]).setStrategy(\"median\")\n"
      ],
      "metadata": {
        "id": "V-zv9tWscpuy"
      },
      "execution_count": null,
      "outputs": []
    },
    {
      "cell_type": "code",
      "source": [
        "imputer.fit(df).transform(df).show()"
      ],
      "metadata": {
        "colab": {
          "base_uri": "https://localhost:8080/"
        },
        "id": "p2W2cViAeA3H",
        "outputId": "5b57c7bd-2693-44c6-cbaf-83f95aaf28c8"
      },
      "execution_count": null,
      "outputs": [
        {
          "output_type": "stream",
          "name": "stdout",
          "text": [
            "+---------+----+----------+------+-----------+------------------+--------------+\n",
            "|     Name| Age|Experience|Salary|Age_imputed|Experience_imputed|Salary_imputed|\n",
            "+---------+----+----------+------+-----------+------------------+--------------+\n",
            "|     Amit|  22|       1.5| 12000|         22|               1.5|         12000|\n",
            "|     Amit|  22|       1.5| 12000|         22|               1.5|         12000|\n",
            "|    Ankit|  25|      null|  null|         25|               5.0|         17000|\n",
            "|   Ashish|null|       1.0| 15000|         33|               1.0|         15000|\n",
            "|    Vijay|  29|      null| 17000|         29|               5.0|         17000|\n",
            "|Sudarshan|null|       5.0|  null|         33|               5.0|         17000|\n",
            "|    Ketan|  33|      null| 23000|         33|               5.0|         23000|\n",
            "|     null|  36|       8.0|  null|         36|               8.0|         17000|\n",
            "|     null|  41|      null| 34000|         41|               5.0|         34000|\n",
            "|     null|null|      null|  null|         33|               5.0|         17000|\n",
            "|     Ajit|  43|      10.0| 40000|         43|              10.0|         40000|\n",
            "|     Ajit|  43|      10.0| 40000|         43|              10.0|         40000|\n",
            "+---------+----+----------+------+-----------+------------------+--------------+\n",
            "\n"
          ]
        }
      ]
    },
    {
      "cell_type": "code",
      "source": [
        "# mode\n",
        "imputer = Imputer(inputCols=[\"Age\", \"Experience\", \"Salary\"], outputCols=[\"Age_imputed\", \"Experience_imputed\", \"Salary_imputed\"]).setStrategy(\"mode\")\n"
      ],
      "metadata": {
        "id": "I0ZSeVi1eKho"
      },
      "execution_count": null,
      "outputs": []
    },
    {
      "cell_type": "code",
      "source": [
        "imputer.fit(df).transform(df).show()"
      ],
      "metadata": {
        "colab": {
          "base_uri": "https://localhost:8080/"
        },
        "id": "ygSePMckei-G",
        "outputId": "3590d62d-4fde-4d8a-d4e3-a5c06a997c39"
      },
      "execution_count": null,
      "outputs": [
        {
          "output_type": "stream",
          "name": "stdout",
          "text": [
            "+---------+----+----------+------+-----------+------------------+--------------+\n",
            "|     Name| Age|Experience|Salary|Age_imputed|Experience_imputed|Salary_imputed|\n",
            "+---------+----+----------+------+-----------+------------------+--------------+\n",
            "|     Amit|  22|       1.5| 12000|         22|               1.5|         12000|\n",
            "|     Amit|  22|       1.5| 12000|         22|               1.5|         12000|\n",
            "|    Ankit|  25|      null|  null|         25|               1.5|         12000|\n",
            "|   Ashish|null|       1.0| 15000|         22|               1.0|         15000|\n",
            "|    Vijay|  29|      null| 17000|         29|               1.5|         17000|\n",
            "|Sudarshan|null|       5.0|  null|         22|               5.0|         12000|\n",
            "|    Ketan|  33|      null| 23000|         33|               1.5|         23000|\n",
            "|     null|  36|       8.0|  null|         36|               8.0|         12000|\n",
            "|     null|  41|      null| 34000|         41|               1.5|         34000|\n",
            "|     null|null|      null|  null|         22|               1.5|         12000|\n",
            "|     Ajit|  43|      10.0| 40000|         43|              10.0|         40000|\n",
            "|     Ajit|  43|      10.0| 40000|         43|              10.0|         40000|\n",
            "+---------+----+----------+------+-----------+------------------+--------------+\n",
            "\n"
          ]
        }
      ]
    },
    {
      "cell_type": "code",
      "source": [
        "# Method-2\n",
        "# suppose if we have 100s columns it becomes difficult to hard code all the output coulmns instead of\n",
        "# it we can iterte over it input cols and add new cols to our DF\n",
        "imputer = Imputer(inputCols=[\"Age\", \"Experience\", \"Salary\"], outputCols=[\"{}_imputed\".format(column) for column in [\"Age\", \"Experience\", \"Salary\"]]).setStrategy('mean')"
      ],
      "metadata": {
        "id": "mllRuKwzenyZ"
      },
      "execution_count": null,
      "outputs": []
    },
    {
      "cell_type": "code",
      "source": [
        "imputer.fit(df).transform(df).show()"
      ],
      "metadata": {
        "colab": {
          "base_uri": "https://localhost:8080/"
        },
        "id": "5EznBJm_gYrQ",
        "outputId": "66863cb8-b33c-48c8-fcb7-5aba09bf4bed"
      },
      "execution_count": null,
      "outputs": [
        {
          "output_type": "stream",
          "name": "stdout",
          "text": [
            "+---------+----+----------+------+-----------+------------------+--------------+\n",
            "|     Name| Age|Experience|Salary|Age_imputed|Experience_imputed|Salary_imputed|\n",
            "+---------+----+----------+------+-----------+------------------+--------------+\n",
            "|     Amit|  22|       1.5| 12000|         22|               1.5|         12000|\n",
            "|     Amit|  22|       1.5| 12000|         22|               1.5|         12000|\n",
            "|    Ankit|  25|      null|  null|         25| 5.285714285714286|         24125|\n",
            "|   Ashish|null|       1.0| 15000|         32|               1.0|         15000|\n",
            "|    Vijay|  29|      null| 17000|         29| 5.285714285714286|         17000|\n",
            "|Sudarshan|null|       5.0|  null|         32|               5.0|         24125|\n",
            "|    Ketan|  33|      null| 23000|         33| 5.285714285714286|         23000|\n",
            "|     null|  36|       8.0|  null|         36|               8.0|         24125|\n",
            "|     null|  41|      null| 34000|         41| 5.285714285714286|         34000|\n",
            "|     null|null|      null|  null|         32| 5.285714285714286|         24125|\n",
            "|     Ajit|  43|      10.0| 40000|         43|              10.0|         40000|\n",
            "|     Ajit|  43|      10.0| 40000|         43|              10.0|         40000|\n",
            "+---------+----+----------+------+-----------+------------------+--------------+\n",
            "\n"
          ]
        }
      ]
    },
    {
      "cell_type": "code",
      "source": [
        "output_columns = [\"Age\", \"Experience\", \"Salary\"]"
      ],
      "metadata": {
        "id": "-DGoiW7JgpLi"
      },
      "execution_count": null,
      "outputs": []
    },
    {
      "cell_type": "code",
      "source": [
        "# Method -3 we can create an object of an output columns and we can use that inside Imputer functions as follows\n",
        "imputer = Imputer(inputCols=[\"Age\", \"Experience\", \"Salary\"], outputCols=[\"{}_imputed\".format(column) for column in output_columns]).setStrategy('median')"
      ],
      "metadata": {
        "id": "U4Hq9aFEgdeP"
      },
      "execution_count": null,
      "outputs": []
    },
    {
      "cell_type": "code",
      "source": [
        "imputer.fit(df).transform(df).show()"
      ],
      "metadata": {
        "colab": {
          "base_uri": "https://localhost:8080/"
        },
        "id": "rtupkOPchAl3",
        "outputId": "c2f4dd19-19df-414f-915e-2d8acf35d538"
      },
      "execution_count": null,
      "outputs": [
        {
          "output_type": "stream",
          "name": "stdout",
          "text": [
            "+---------+----+----------+------+-----------+------------------+--------------+\n",
            "|     Name| Age|Experience|Salary|Age_imputed|Experience_imputed|Salary_imputed|\n",
            "+---------+----+----------+------+-----------+------------------+--------------+\n",
            "|     Amit|  22|       1.5| 12000|         22|               1.5|         12000|\n",
            "|     Amit|  22|       1.5| 12000|         22|               1.5|         12000|\n",
            "|    Ankit|  25|      null|  null|         25|               5.0|         17000|\n",
            "|   Ashish|null|       1.0| 15000|         33|               1.0|         15000|\n",
            "|    Vijay|  29|      null| 17000|         29|               5.0|         17000|\n",
            "|Sudarshan|null|       5.0|  null|         33|               5.0|         17000|\n",
            "|    Ketan|  33|      null| 23000|         33|               5.0|         23000|\n",
            "|     null|  36|       8.0|  null|         36|               8.0|         17000|\n",
            "|     null|  41|      null| 34000|         41|               5.0|         34000|\n",
            "|     null|null|      null|  null|         33|               5.0|         17000|\n",
            "|     Ajit|  43|      10.0| 40000|         43|              10.0|         40000|\n",
            "|     Ajit|  43|      10.0| 40000|         43|              10.0|         40000|\n",
            "+---------+----+----------+------+-----------+------------------+--------------+\n",
            "\n"
          ]
        }
      ]
    },
    {
      "cell_type": "code",
      "source": [
        "# Filter\n",
        "# &, |, ==\n",
        "\n",
        "# Single condition\n",
        "df.filter(df['Age']< 29).show()"
      ],
      "metadata": {
        "colab": {
          "base_uri": "https://localhost:8080/"
        },
        "id": "0z16PiVFhJt0",
        "outputId": "211532c8-df09-435c-f88a-7eb900c6f497"
      },
      "execution_count": null,
      "outputs": [
        {
          "output_type": "stream",
          "name": "stdout",
          "text": [
            "+-----+---+----------+------+\n",
            "| Name|Age|Experience|Salary|\n",
            "+-----+---+----------+------+\n",
            "| Amit| 22|       1.5| 12000|\n",
            "| Amit| 22|       1.5| 12000|\n",
            "|Ankit| 25|      null|  null|\n",
            "+-----+---+----------+------+\n",
            "\n"
          ]
        }
      ]
    },
    {
      "cell_type": "code",
      "source": [
        "df.filter('Age<29').show()"
      ],
      "metadata": {
        "colab": {
          "base_uri": "https://localhost:8080/"
        },
        "id": "qXpywVEojFx-",
        "outputId": "26f78e10-0889-457a-e48c-0f3f957e8a16"
      },
      "execution_count": null,
      "outputs": [
        {
          "output_type": "stream",
          "name": "stdout",
          "text": [
            "+-----+---+----------+------+\n",
            "| Name|Age|Experience|Salary|\n",
            "+-----+---+----------+------+\n",
            "| Amit| 22|       1.5| 12000|\n",
            "| Amit| 22|       1.5| 12000|\n",
            "|Ankit| 25|      null|  null|\n",
            "+-----+---+----------+------+\n",
            "\n"
          ]
        }
      ]
    },
    {
      "cell_type": "code",
      "source": [
        "# Multiple conditions\n",
        "df.filter((df['age']<29) & (df['Age']>20)).show()"
      ],
      "metadata": {
        "colab": {
          "base_uri": "https://localhost:8080/"
        },
        "id": "xVRSn0o2jSXU",
        "outputId": "ad426b61-97ec-48db-f55d-1b5d8a90fa53"
      },
      "execution_count": null,
      "outputs": [
        {
          "output_type": "stream",
          "name": "stdout",
          "text": [
            "+-----+---+----------+------+\n",
            "| Name|Age|Experience|Salary|\n",
            "+-----+---+----------+------+\n",
            "| Amit| 22|       1.5| 12000|\n",
            "| Amit| 22|       1.5| 12000|\n",
            "|Ankit| 25|      null|  null|\n",
            "+-----+---+----------+------+\n",
            "\n"
          ]
        }
      ]
    },
    {
      "cell_type": "code",
      "source": [
        "df.filter((df['age']<29) | (df['Age']>20)).show()"
      ],
      "metadata": {
        "colab": {
          "base_uri": "https://localhost:8080/"
        },
        "id": "QJLiSz_NjxZe",
        "outputId": "c597c297-cc1f-44e0-e154-ee867947c87f"
      },
      "execution_count": null,
      "outputs": [
        {
          "output_type": "stream",
          "name": "stdout",
          "text": [
            "+-----+---+----------+------+\n",
            "| Name|Age|Experience|Salary|\n",
            "+-----+---+----------+------+\n",
            "| Amit| 22|       1.5| 12000|\n",
            "| Amit| 22|       1.5| 12000|\n",
            "|Ankit| 25|      null|  null|\n",
            "|Vijay| 29|      null| 17000|\n",
            "|Ketan| 33|      null| 23000|\n",
            "| null| 36|       8.0|  null|\n",
            "| null| 41|      null| 34000|\n",
            "| Ajit| 43|      10.0| 40000|\n",
            "| Ajit| 43|      10.0| 40000|\n",
            "+-----+---+----------+------+\n",
            "\n"
          ]
        }
      ]
    },
    {
      "cell_type": "code",
      "source": [
        "# Comparision\n",
        "\n",
        "df.filter(df['Age']==22).show()"
      ],
      "metadata": {
        "colab": {
          "base_uri": "https://localhost:8080/"
        },
        "id": "HKCgpHu5j50O",
        "outputId": "cbc0bad8-df33-483b-e661-f6b04be359f2"
      },
      "execution_count": null,
      "outputs": [
        {
          "output_type": "stream",
          "name": "stdout",
          "text": [
            "+----+---+----------+------+\n",
            "|Name|Age|Experience|Salary|\n",
            "+----+---+----------+------+\n",
            "|Amit| 22|       1.5| 12000|\n",
            "|Amit| 22|       1.5| 12000|\n",
            "+----+---+----------+------+\n",
            "\n"
          ]
        }
      ]
    },
    {
      "cell_type": "code",
      "source": [
        "# Not condtion\n",
        "# Method\n",
        "df.filter(df['Age'] !=25).show()"
      ],
      "metadata": {
        "colab": {
          "base_uri": "https://localhost:8080/"
        },
        "id": "6b7yMV0nkFn1",
        "outputId": "d29250cf-67eb-4872-be0f-7ce958dc7b7e"
      },
      "execution_count": null,
      "outputs": [
        {
          "output_type": "stream",
          "name": "stdout",
          "text": [
            "+-----+---+----------+------+\n",
            "| Name|Age|Experience|Salary|\n",
            "+-----+---+----------+------+\n",
            "| Amit| 22|       1.5| 12000|\n",
            "| Amit| 22|       1.5| 12000|\n",
            "|Vijay| 29|      null| 17000|\n",
            "|Ketan| 33|      null| 23000|\n",
            "| null| 36|       8.0|  null|\n",
            "| null| 41|      null| 34000|\n",
            "| Ajit| 43|      10.0| 40000|\n",
            "| Ajit| 43|      10.0| 40000|\n",
            "+-----+---+----------+------+\n",
            "\n"
          ]
        }
      ]
    },
    {
      "cell_type": "code",
      "source": [
        "# Method- 2\n",
        "\n",
        "df.filter(~(df['Age']==25)).show()"
      ],
      "metadata": {
        "colab": {
          "base_uri": "https://localhost:8080/"
        },
        "id": "eJP06XsnkZmM",
        "outputId": "54e874e5-9afd-4960-f2b6-9e4b6fe58108"
      },
      "execution_count": null,
      "outputs": [
        {
          "output_type": "stream",
          "name": "stdout",
          "text": [
            "+-----+---+----------+------+\n",
            "| Name|Age|Experience|Salary|\n",
            "+-----+---+----------+------+\n",
            "| Amit| 22|       1.5| 12000|\n",
            "| Amit| 22|       1.5| 12000|\n",
            "|Vijay| 29|      null| 17000|\n",
            "|Ketan| 33|      null| 23000|\n",
            "| null| 36|       8.0|  null|\n",
            "| null| 41|      null| 34000|\n",
            "| Ajit| 43|      10.0| 40000|\n",
            "| Ajit| 43|      10.0| 40000|\n",
            "+-----+---+----------+------+\n",
            "\n"
          ]
        }
      ]
    },
    {
      "cell_type": "code",
      "source": [
        "# Finding null values in a specific column\n",
        "# Method- 1\n",
        "\n",
        "df.filter('Name is null').show()"
      ],
      "metadata": {
        "colab": {
          "base_uri": "https://localhost:8080/"
        },
        "id": "AHrJtwfbklLO",
        "outputId": "89af7eaf-1225-472e-f911-55065a9bf39d"
      },
      "execution_count": null,
      "outputs": [
        {
          "output_type": "stream",
          "name": "stdout",
          "text": [
            "+----+----+----------+------+\n",
            "|Name| Age|Experience|Salary|\n",
            "+----+----+----------+------+\n",
            "|null|  36|       8.0|  null|\n",
            "|null|  41|      null| 34000|\n",
            "|null|null|      null|  null|\n",
            "+----+----+----------+------+\n",
            "\n"
          ]
        }
      ]
    },
    {
      "cell_type": "code",
      "source": [
        "# Method- 2\n",
        "df.filter(df['Age'].isNull()).show()"
      ],
      "metadata": {
        "colab": {
          "base_uri": "https://localhost:8080/"
        },
        "id": "gxkGMjC0nOUr",
        "outputId": "efc457ab-109d-44f7-d170-9657dbda2cbb"
      },
      "execution_count": null,
      "outputs": [
        {
          "output_type": "stream",
          "name": "stdout",
          "text": [
            "+---------+----+----------+------+\n",
            "|     Name| Age|Experience|Salary|\n",
            "+---------+----+----------+------+\n",
            "|   Ashish|null|       1.0| 15000|\n",
            "|Sudarshan|null|       5.0|  null|\n",
            "|     null|null|      null|  null|\n",
            "+---------+----+----------+------+\n",
            "\n"
          ]
        }
      ]
    },
    {
      "cell_type": "code",
      "source": [
        "df.filter(df.Age.isNull()).show()"
      ],
      "metadata": {
        "colab": {
          "base_uri": "https://localhost:8080/"
        },
        "id": "AixQrdUknjEh",
        "outputId": "58967fd7-9b7b-40d0-a1b4-b61e3de079df"
      },
      "execution_count": null,
      "outputs": [
        {
          "output_type": "stream",
          "name": "stdout",
          "text": [
            "+---------+----+----------+------+\n",
            "|     Name| Age|Experience|Salary|\n",
            "+---------+----+----------+------+\n",
            "|   Ashish|null|       1.0| 15000|\n",
            "|Sudarshan|null|       5.0|  null|\n",
            "|     null|null|      null|  null|\n",
            "+---------+----+----------+------+\n",
            "\n"
          ]
        }
      ]
    },
    {
      "cell_type": "code",
      "source": [
        "# finding null values in a multiple columns\n",
        "df.filter(\"Name is null and Age is null\").show()"
      ],
      "metadata": {
        "colab": {
          "base_uri": "https://localhost:8080/"
        },
        "id": "Uv7cN57gnrHQ",
        "outputId": "1021b66c-53d8-428a-9565-3f31e7ca2906"
      },
      "execution_count": null,
      "outputs": [
        {
          "output_type": "stream",
          "name": "stdout",
          "text": [
            "+----+----+----------+------+\n",
            "|Name| Age|Experience|Salary|\n",
            "+----+----+----------+------+\n",
            "|null|null|      null|  null|\n",
            "+----+----+----------+------+\n",
            "\n"
          ]
        }
      ]
    },
    {
      "cell_type": "code",
      "source": [
        "df.filter(df['Name'].isNull() & df['Age'].isNull()).show()"
      ],
      "metadata": {
        "colab": {
          "base_uri": "https://localhost:8080/"
        },
        "id": "TALOXZZtn_rB",
        "outputId": "c0c75257-6e64-4572-a0ac-ec8b6dfe49d0"
      },
      "execution_count": null,
      "outputs": [
        {
          "output_type": "stream",
          "name": "stdout",
          "text": [
            "+----+----+----------+------+\n",
            "|Name| Age|Experience|Salary|\n",
            "+----+----+----------+------+\n",
            "|null|null|      null|  null|\n",
            "+----+----+----------+------+\n",
            "\n"
          ]
        }
      ]
    },
    {
      "cell_type": "code",
      "source": [],
      "metadata": {
        "id": "OL-0SgGJodDz"
      },
      "execution_count": null,
      "outputs": []
    }
  ]
}
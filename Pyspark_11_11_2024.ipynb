{
  "nbformat": 4,
  "nbformat_minor": 0,
  "metadata": {
    "colab": {
      "provenance": [],
      "authorship_tag": "ABX9TyP6kzN+wM1PH/y7jm8FN2mK",
      "include_colab_link": true
    },
    "kernelspec": {
      "name": "python3",
      "display_name": "Python 3"
    },
    "language_info": {
      "name": "python"
    }
  },
  "cells": [
    {
      "cell_type": "markdown",
      "metadata": {
        "id": "view-in-github",
        "colab_type": "text"
      },
      "source": [
        "<a href=\"https://colab.research.google.com/github/birusolankar/Pyspark-Bigdata/blob/main/Pyspark_11_11_2024.ipynb\" target=\"_parent\"><img src=\"https://colab.research.google.com/assets/colab-badge.svg\" alt=\"Open In Colab\"/></a>"
      ]
    },
    {
      "cell_type": "code",
      "source": [
        "print(\"hello world\")"
      ],
      "metadata": {
        "colab": {
          "base_uri": "https://localhost:8080/"
        },
        "id": "Mq3-6YbTbp1K",
        "outputId": "f9f1d522-d6bf-4f20-fab2-49317ba138cf"
      },
      "execution_count": 1,
      "outputs": [
        {
          "output_type": "stream",
          "name": "stdout",
          "text": [
            "hello world\n"
          ]
        }
      ]
    },
    {
      "cell_type": "code",
      "source": [
        "from pyspark.sql import SparkSession\n",
        "from pyspark.sql.types import StructType, StructField, StringType,IntegerType"
      ],
      "metadata": {
        "id": "964HMaNjcgwZ"
      },
      "execution_count": 4,
      "outputs": []
    },
    {
      "cell_type": "code",
      "source": [
        "spark = SparkSession.builder.appName('test').getOrCreate()"
      ],
      "metadata": {
        "id": "8W1F3RfbeTSl"
      },
      "execution_count": 5,
      "outputs": []
    },
    {
      "cell_type": "code",
      "source": [
        "data = [\n",
        "    ('Biru', 100, 'Pune'),\n",
        "    ('Merah', 200, 'Mumbai'),\n",
        "    ('Hijau', 300, 'Delhi'),\n",
        "    ('Kuning', 400, 'Pune'),\n",
        "    ('Ungu', 500, 'Chennai'),\n",
        "    ('Oranye', 600, 'Bangalore'),\n",
        "    ('Putih', 700, 'Hyderabad'),\n",
        "    ('Hitam', 800, 'Mumbai'),\n",
        "    ('Abu-abu', 900, 'Hyderabad'),\n",
        "    ('Coklat', 1000, 'Pune')\n",
        "    ]\n",
        "columns = ['Name', 'Id', 'City']"
      ],
      "metadata": {
        "id": "IH-OVBOlbsIr"
      },
      "execution_count": 18,
      "outputs": []
    },
    {
      "cell_type": "code",
      "source": [],
      "metadata": {
        "id": "4ZydtpsIkdD6"
      },
      "execution_count": null,
      "outputs": []
    },
    {
      "cell_type": "code",
      "source": [
        "df1 = spark.createDataFrame(data = data, schema = columns)"
      ],
      "metadata": {
        "id": "zv5JGlN8ejhl"
      },
      "execution_count": 19,
      "outputs": []
    },
    {
      "cell_type": "code",
      "source": [
        "df1.show()"
      ],
      "metadata": {
        "colab": {
          "base_uri": "https://localhost:8080/"
        },
        "id": "9VQqtVzteojx",
        "outputId": "3241f00b-aa59-45a2-d45b-adcc1a038ce4"
      },
      "execution_count": 20,
      "outputs": [
        {
          "output_type": "stream",
          "name": "stdout",
          "text": [
            "+-------+----+---------+\n",
            "|   Name|  Id|     City|\n",
            "+-------+----+---------+\n",
            "|   Biru| 100|     Pune|\n",
            "|  Merah| 200|   Mumbai|\n",
            "|  Hijau| 300|    Delhi|\n",
            "| Kuning| 400|     Pune|\n",
            "|   Ungu| 500|  Chennai|\n",
            "| Oranye| 600|Bangalore|\n",
            "|  Putih| 700|Hyderabad|\n",
            "|  Hitam| 800|   Mumbai|\n",
            "|Abu-abu| 900|Hyderabad|\n",
            "| Coklat|1000|     Pune|\n",
            "+-------+----+---------+\n",
            "\n"
          ]
        }
      ]
    },
    {
      "cell_type": "code",
      "source": [
        "data = [\n",
        "    (1, 10000, 100),\n",
        "    (2, 20000, 200),\n",
        "    (3, 30000, 300),\n",
        "    (4, 40000, 400),\n",
        "    (5, 50000, 500),\n",
        "    (6, 60000, 600),\n",
        "    (7, 70000, 700)\n",
        "]\n",
        "\n",
        "columns = ['Department_Id', 'Salary', 'Id']\n",
        "\n",
        "df2 = spark.createDataFrame(data, columns)"
      ],
      "metadata": {
        "id": "kHHwVwvMfMKa"
      },
      "execution_count": 21,
      "outputs": []
    },
    {
      "cell_type": "code",
      "source": [
        "df2.show()"
      ],
      "metadata": {
        "colab": {
          "base_uri": "https://localhost:8080/"
        },
        "id": "hGqRtBvDgZPY",
        "outputId": "94839fa0-df21-43ed-f4ac-f4f41729dfee"
      },
      "execution_count": 22,
      "outputs": [
        {
          "output_type": "stream",
          "name": "stdout",
          "text": [
            "+-------------+------+---+\n",
            "|Department_Id|Salary| Id|\n",
            "+-------------+------+---+\n",
            "|            1| 10000|100|\n",
            "|            2| 20000|200|\n",
            "|            3| 30000|300|\n",
            "|            4| 40000|400|\n",
            "|            5| 50000|500|\n",
            "|            6| 60000|600|\n",
            "|            7| 70000|700|\n",
            "+-------------+------+---+\n",
            "\n"
          ]
        }
      ]
    },
    {
      "cell_type": "code",
      "source": [
        "from pyspark.sql.functions import col, lit\n",
        "from pyspark.sql.window import Window\n",
        "from pyspark.sql import functions as f\n",
        "from pyspark.sql.functions import *"
      ],
      "metadata": {
        "id": "n1UeTuoUg1Gy"
      },
      "execution_count": 53,
      "outputs": []
    },
    {
      "cell_type": "code",
      "source": [
        "# union and unionall\n",
        "pune = df1.filter(col('City') == 'Pune')\n",
        "mumbai = df1.filter(col('City') == 'Mumbai')\n",
        "\n",
        "pune.unionAll(mumbai).show()\n",
        "pune.union(mumbai).show()"
      ],
      "metadata": {
        "colab": {
          "base_uri": "https://localhost:8080/"
        },
        "id": "W92yWJwxlWer",
        "outputId": "3a46c231-d666-4d7d-ffd4-57393d7b9352"
      },
      "execution_count": 50,
      "outputs": [
        {
          "output_type": "stream",
          "name": "stdout",
          "text": [
            "+------+----+------+\n",
            "|  Name|  Id|  City|\n",
            "+------+----+------+\n",
            "|  Biru| 100|  Pune|\n",
            "|Kuning| 400|  Pune|\n",
            "|Coklat|1000|  Pune|\n",
            "| Merah| 200|Mumbai|\n",
            "| Hitam| 800|Mumbai|\n",
            "+------+----+------+\n",
            "\n",
            "+------+----+------+\n",
            "|  Name|  Id|  City|\n",
            "+------+----+------+\n",
            "|  Biru| 100|  Pune|\n",
            "|Kuning| 400|  Pune|\n",
            "|Coklat|1000|  Pune|\n",
            "| Merah| 200|Mumbai|\n",
            "| Hitam| 800|Mumbai|\n",
            "+------+----+------+\n",
            "\n"
          ]
        }
      ]
    },
    {
      "cell_type": "code",
      "source": [
        "# join\n",
        "df1.join(df2, how = 'inner', on = 'Id') \\\n",
        "            .withColumn('dense_rank', f.dense_rank().over(Window.partitionBy('City') \\\n",
        "            .orderBy(col('Salary').desc()))) \\\n",
        "            .filter(col('dense_rank')==1) \\\n",
        "            .orderBy(col('Department_Id').asc()).show()\n",
        "            #.filter(col('city') == 'Pune').show()"
      ],
      "metadata": {
        "colab": {
          "base_uri": "https://localhost:8080/"
        },
        "id": "fVszM4eshvcD",
        "outputId": "725870ff-3a15-4ba6-c355-2be783e108a8"
      },
      "execution_count": 42,
      "outputs": [
        {
          "output_type": "stream",
          "name": "stdout",
          "text": [
            "+---+------+---------+-------------+------+----------+\n",
            "| Id|  Name|     City|Department_Id|Salary|dense_rank|\n",
            "+---+------+---------+-------------+------+----------+\n",
            "|200| Merah|   Mumbai|            2| 20000|         1|\n",
            "|300| Hijau|    Delhi|            3| 30000|         1|\n",
            "|400|Kuning|     Pune|            4| 40000|         1|\n",
            "|500|  Ungu|  Chennai|            5| 50000|         1|\n",
            "|600|Oranye|Bangalore|            6| 60000|         1|\n",
            "|700| Putih|Hyderabad|            7| 70000|         1|\n",
            "+---+------+---------+-------------+------+----------+\n",
            "\n"
          ]
        }
      ]
    },
    {
      "cell_type": "code",
      "source": [
        "df1.join(df2, how = 'left', on = 'Id').filter(col('City') == 'Pune').show()"
      ],
      "metadata": {
        "colab": {
          "base_uri": "https://localhost:8080/"
        },
        "id": "DF7VQOYVgbdq",
        "outputId": "35c62d6e-c703-43ec-b588-f8f6e0e7cd6a"
      },
      "execution_count": 30,
      "outputs": [
        {
          "output_type": "stream",
          "name": "stdout",
          "text": [
            "+----+------+----+-------------+------+\n",
            "|  Id|  Name|City|Department_Id|Salary|\n",
            "+----+------+----+-------------+------+\n",
            "| 100|  Biru|Pune|            1| 10000|\n",
            "| 400|Kuning|Pune|            4| 40000|\n",
            "|1000|Coklat|Pune|         NULL|  NULL|\n",
            "+----+------+----+-------------+------+\n",
            "\n"
          ]
        }
      ]
    },
    {
      "cell_type": "code",
      "source": [
        "# like\n",
        "df1.select(col('city').like('%ra%')).show()"
      ],
      "metadata": {
        "colab": {
          "base_uri": "https://localhost:8080/"
        },
        "id": "haZW3FuTgpHw",
        "outputId": "610c9457-c9f6-4439-f47f-8b5845ff9227"
      },
      "execution_count": 56,
      "outputs": [
        {
          "output_type": "stream",
          "name": "stdout",
          "text": [
            "+--------------+\n",
            "|city LIKE %ra%|\n",
            "+--------------+\n",
            "|         false|\n",
            "|         false|\n",
            "|         false|\n",
            "|         false|\n",
            "|         false|\n",
            "|         false|\n",
            "|          true|\n",
            "|         false|\n",
            "|          true|\n",
            "|         false|\n",
            "+--------------+\n",
            "\n"
          ]
        }
      ]
    },
    {
      "cell_type": "code",
      "source": [
        "string = 'principal component analysis'"
      ],
      "metadata": {
        "id": "YQOmkRmbljLi"
      },
      "execution_count": 57,
      "outputs": []
    },
    {
      "cell_type": "code",
      "source": [
        "string.split()"
      ],
      "metadata": {
        "colab": {
          "base_uri": "https://localhost:8080/"
        },
        "id": "8YjL3J-xm4SR",
        "outputId": "ae8368fb-d81c-4365-d1e6-4a54075ca1f5"
      },
      "execution_count": 61,
      "outputs": [
        {
          "output_type": "execute_result",
          "data": {
            "text/plain": [
              "['principal', 'component', 'analysis']"
            ]
          },
          "metadata": {},
          "execution_count": 61
        }
      ]
    },
    {
      "cell_type": "code",
      "source": [],
      "metadata": {
        "id": "Q22Or9S9m6hl"
      },
      "execution_count": null,
      "outputs": []
    }
  ]
}
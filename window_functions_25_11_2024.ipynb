{
  "nbformat": 4,
  "nbformat_minor": 0,
  "metadata": {
    "colab": {
      "provenance": [],
      "authorship_tag": "ABX9TyO2DwrO4zpRAKceZdL/k/jE",
      "include_colab_link": true
    },
    "kernelspec": {
      "name": "python3",
      "display_name": "Python 3"
    },
    "language_info": {
      "name": "python"
    }
  },
  "cells": [
    {
      "cell_type": "markdown",
      "metadata": {
        "id": "view-in-github",
        "colab_type": "text"
      },
      "source": [
        "<a href=\"https://colab.research.google.com/github/birusolankar/Pyspark-Bigdata/blob/main/window_functions_25_11_2024.ipynb\" target=\"_parent\"><img src=\"https://colab.research.google.com/assets/colab-badge.svg\" alt=\"Open In Colab\"/></a>"
      ]
    },
    {
      "cell_type": "code",
      "execution_count": 3,
      "metadata": {
        "id": "jkHdb0tXTyWO"
      },
      "outputs": [],
      "source": [
        "from pyspark.sql import SparkSession\n"
      ]
    },
    {
      "cell_type": "code",
      "source": [
        "spark = SparkSession.builder.appName(\"window_function\").getOrCreate()"
      ],
      "metadata": {
        "id": "hgcjbJ2pUISK"
      },
      "execution_count": 4,
      "outputs": []
    },
    {
      "cell_type": "code",
      "source": [
        "simpleData = ((\"James\", \"Sales\", 3000), \\\n",
        "    (\"Michael\", \"Sales\", 4600),  \\\n",
        "    (\"Robert\", \"Sales\", 4100),   \\\n",
        "    (\"Maria\", \"Finance\", 3000),  \\\n",
        "    (\"James\", \"Sales\", 3000),    \\\n",
        "    (\"Scott\", \"Finance\", 3300),  \\\n",
        "    (\"Jen\", \"Finance\", 3900),    \\\n",
        "    (\"Jeff\", \"Marketing\", 3000), \\\n",
        "    (\"Kumar\", \"Marketing\", 2000),\\\n",
        "    (\"Saif\", \"Sales\", 4100) \\\n",
        "  )\n",
        "\n",
        "columns = ['Employee_name', 'department', 'salary']\n",
        "\n",
        "df = spark.createDataFrame(data = simpleData, schema = columns)"
      ],
      "metadata": {
        "id": "2J1vE5unUVa4"
      },
      "execution_count": 5,
      "outputs": []
    },
    {
      "cell_type": "code",
      "source": [
        "df.show()"
      ],
      "metadata": {
        "colab": {
          "base_uri": "https://localhost:8080/"
        },
        "id": "SfqPTuspUpT3",
        "outputId": "0613aac2-5be5-4427-9fd5-8cfe3c0ef958"
      },
      "execution_count": 6,
      "outputs": [
        {
          "output_type": "stream",
          "name": "stdout",
          "text": [
            "+-------------+----------+------+\n",
            "|Employee_name|department|salary|\n",
            "+-------------+----------+------+\n",
            "|        James|     Sales|  3000|\n",
            "|      Michael|     Sales|  4600|\n",
            "|       Robert|     Sales|  4100|\n",
            "|        Maria|   Finance|  3000|\n",
            "|        James|     Sales|  3000|\n",
            "|        Scott|   Finance|  3300|\n",
            "|          Jen|   Finance|  3900|\n",
            "|         Jeff| Marketing|  3000|\n",
            "|        Kumar| Marketing|  2000|\n",
            "|         Saif|     Sales|  4100|\n",
            "+-------------+----------+------+\n",
            "\n"
          ]
        }
      ]
    },
    {
      "cell_type": "code",
      "source": [
        "from pyspark.sql import functions as f\n",
        "from pyspark.sql.window import Window\n",
        "from pyspark.sql.functions import col"
      ],
      "metadata": {
        "id": "Fpn5srrJUr79"
      },
      "execution_count": 9,
      "outputs": []
    },
    {
      "cell_type": "code",
      "source": [
        "df.withColumn('dense_rank', f.dense_rank().over(Window.partitionBy(col('department')).orderBy(col('salary').desc()))).show()"
      ],
      "metadata": {
        "colab": {
          "base_uri": "https://localhost:8080/"
        },
        "id": "wi5uO2RMU7zn",
        "outputId": "acd4d2a5-eecf-4770-8d59-b97516419593"
      },
      "execution_count": 11,
      "outputs": [
        {
          "output_type": "stream",
          "name": "stdout",
          "text": [
            "+-------------+----------+------+----------+\n",
            "|Employee_name|department|salary|dense_rank|\n",
            "+-------------+----------+------+----------+\n",
            "|          Jen|   Finance|  3900|         1|\n",
            "|        Scott|   Finance|  3300|         2|\n",
            "|        Maria|   Finance|  3000|         3|\n",
            "|         Jeff| Marketing|  3000|         1|\n",
            "|        Kumar| Marketing|  2000|         2|\n",
            "|      Michael|     Sales|  4600|         1|\n",
            "|       Robert|     Sales|  4100|         2|\n",
            "|         Saif|     Sales|  4100|         2|\n",
            "|        James|     Sales|  3000|         3|\n",
            "|        James|     Sales|  3000|         3|\n",
            "+-------------+----------+------+----------+\n",
            "\n"
          ]
        }
      ]
    },
    {
      "cell_type": "code",
      "source": [
        "df.withColumn('dense_rank', f.dense_rank().over(Window.partitionBy(col('department')).orderBy(col('salary').desc()))) \\\n",
        ".filter(col('dense_rank') == 1).show()"
      ],
      "metadata": {
        "colab": {
          "base_uri": "https://localhost:8080/"
        },
        "id": "YiPVXc2VVz89",
        "outputId": "11b337ff-aaa2-42df-d5b2-1a36149b0825"
      },
      "execution_count": 12,
      "outputs": [
        {
          "output_type": "stream",
          "name": "stdout",
          "text": [
            "+-------------+----------+------+----------+\n",
            "|Employee_name|department|salary|dense_rank|\n",
            "+-------------+----------+------+----------+\n",
            "|          Jen|   Finance|  3900|         1|\n",
            "|         Jeff| Marketing|  3000|         1|\n",
            "|      Michael|     Sales|  4600|         1|\n",
            "+-------------+----------+------+----------+\n",
            "\n"
          ]
        }
      ]
    },
    {
      "cell_type": "code",
      "source": [
        "df.withColumn('dense_rank', f.dense_rank().over(Window.partitionBy(col('department')).orderBy(col('salary').desc()))) \\\n",
        ".withColumn('rank', f.rank().over(Window.partitionBy(col('department')).orderBy(col('salary').desc()))) \\\n",
        ".withColumn('row_number', f.row_number().over(Window.partitionBy(col('department')).orderBy(col('salary').desc()))) \\\n",
        ".show()"
      ],
      "metadata": {
        "colab": {
          "base_uri": "https://localhost:8080/"
        },
        "id": "vj1jSV-PWY3g",
        "outputId": "c5096cde-3071-4f14-cec1-bd6038941b54"
      },
      "execution_count": 13,
      "outputs": [
        {
          "output_type": "stream",
          "name": "stdout",
          "text": [
            "+-------------+----------+------+----------+----+----------+\n",
            "|Employee_name|department|salary|dense_rank|rank|row_number|\n",
            "+-------------+----------+------+----------+----+----------+\n",
            "|          Jen|   Finance|  3900|         1|   1|         1|\n",
            "|        Scott|   Finance|  3300|         2|   2|         2|\n",
            "|        Maria|   Finance|  3000|         3|   3|         3|\n",
            "|         Jeff| Marketing|  3000|         1|   1|         1|\n",
            "|        Kumar| Marketing|  2000|         2|   2|         2|\n",
            "|      Michael|     Sales|  4600|         1|   1|         1|\n",
            "|       Robert|     Sales|  4100|         2|   2|         2|\n",
            "|         Saif|     Sales|  4100|         2|   2|         3|\n",
            "|        James|     Sales|  3000|         3|   4|         4|\n",
            "|        James|     Sales|  3000|         3|   4|         5|\n",
            "+-------------+----------+------+----------+----+----------+\n",
            "\n"
          ]
        }
      ]
    },
    {
      "cell_type": "code",
      "source": [
        "df.withColumn('lag', f.lag('salary', 1).over(Window.partitionBy(col('department')).orderBy('salary'))).show()"
      ],
      "metadata": {
        "colab": {
          "base_uri": "https://localhost:8080/"
        },
        "id": "awa1jxM7W0bl",
        "outputId": "aee15a8f-0a81-4cd3-d058-64f3548d089f"
      },
      "execution_count": 16,
      "outputs": [
        {
          "output_type": "stream",
          "name": "stdout",
          "text": [
            "+-------------+----------+------+----+\n",
            "|Employee_name|department|salary| lag|\n",
            "+-------------+----------+------+----+\n",
            "|        Maria|   Finance|  3000|NULL|\n",
            "|        Scott|   Finance|  3300|3000|\n",
            "|          Jen|   Finance|  3900|3300|\n",
            "|        Kumar| Marketing|  2000|NULL|\n",
            "|         Jeff| Marketing|  3000|2000|\n",
            "|        James|     Sales|  3000|NULL|\n",
            "|        James|     Sales|  3000|3000|\n",
            "|       Robert|     Sales|  4100|3000|\n",
            "|         Saif|     Sales|  4100|4100|\n",
            "|      Michael|     Sales|  4600|4100|\n",
            "+-------------+----------+------+----+\n",
            "\n"
          ]
        }
      ]
    },
    {
      "cell_type": "code",
      "source": [
        "df.withColumn('lag', f.lead('salary', 1).over(Window.partitionBy(col('department')).orderBy('salary'))).show()"
      ],
      "metadata": {
        "colab": {
          "base_uri": "https://localhost:8080/"
        },
        "id": "-UVgEyOuYmbR",
        "outputId": "40ff8050-13ed-4d66-d3f7-20a5c130f51b"
      },
      "execution_count": 17,
      "outputs": [
        {
          "output_type": "stream",
          "name": "stdout",
          "text": [
            "+-------------+----------+------+----+\n",
            "|Employee_name|department|salary| lag|\n",
            "+-------------+----------+------+----+\n",
            "|        Maria|   Finance|  3000|3300|\n",
            "|        Scott|   Finance|  3300|3900|\n",
            "|          Jen|   Finance|  3900|NULL|\n",
            "|        Kumar| Marketing|  2000|3000|\n",
            "|         Jeff| Marketing|  3000|NULL|\n",
            "|        James|     Sales|  3000|3000|\n",
            "|        James|     Sales|  3000|4100|\n",
            "|       Robert|     Sales|  4100|4100|\n",
            "|         Saif|     Sales|  4100|4600|\n",
            "|      Michael|     Sales|  4600|NULL|\n",
            "+-------------+----------+------+----+\n",
            "\n"
          ]
        }
      ]
    },
    {
      "cell_type": "code",
      "source": [],
      "metadata": {
        "id": "uyyMmWrqZFZc"
      },
      "execution_count": null,
      "outputs": []
    }
  ]
}
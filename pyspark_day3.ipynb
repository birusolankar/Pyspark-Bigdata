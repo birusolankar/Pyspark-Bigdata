{
  "nbformat": 4,
  "nbformat_minor": 0,
  "metadata": {
    "colab": {
      "provenance": [],
      "include_colab_link": true
    },
    "kernelspec": {
      "name": "python3",
      "display_name": "Python 3"
    },
    "language_info": {
      "name": "python"
    }
  },
  "cells": [
    {
      "cell_type": "markdown",
      "metadata": {
        "id": "view-in-github",
        "colab_type": "text"
      },
      "source": [
        "<a href=\"https://colab.research.google.com/github/birusolankar/Pyspark-Bigdata/blob/main/pyspark_day3.ipynb\" target=\"_parent\"><img src=\"https://colab.research.google.com/assets/colab-badge.svg\" alt=\"Open In Colab\"/></a>"
      ]
    },
    {
      "cell_type": "code",
      "execution_count": null,
      "metadata": {
        "colab": {
          "base_uri": "https://localhost:8080/"
        },
        "id": "LwG7e7fxoXO8",
        "outputId": "9b538965-7751-41f1-c20f-55bde848b14f"
      },
      "outputs": [
        {
          "output_type": "stream",
          "name": "stdout",
          "text": [
            "Looking in indexes: https://pypi.org/simple, https://us-python.pkg.dev/colab-wheels/public/simple/\n",
            "Collecting pyspark\n",
            "  Downloading pyspark-3.4.0.tar.gz (310.8 MB)\n",
            "\u001b[2K     \u001b[90m━━━━━━━━━━━━━━━━━━━━━━━━━━━━━━━━━━━━━━━\u001b[0m \u001b[32m310.8/310.8 MB\u001b[0m \u001b[31m3.1 MB/s\u001b[0m eta \u001b[36m0:00:00\u001b[0m\n",
            "\u001b[?25h  Preparing metadata (setup.py) ... \u001b[?25l\u001b[?25hdone\n",
            "Requirement already satisfied: py4j==0.10.9.7 in /usr/local/lib/python3.10/dist-packages (from pyspark) (0.10.9.7)\n",
            "Building wheels for collected packages: pyspark\n",
            "  Building wheel for pyspark (setup.py) ... \u001b[?25l\u001b[?25hdone\n",
            "  Created wheel for pyspark: filename=pyspark-3.4.0-py2.py3-none-any.whl size=311317130 sha256=fdc07170c753ab3d69922405dc01654afe61923e315d042908e94e5c3d724b2e\n",
            "  Stored in directory: /root/.cache/pip/wheels/7b/1b/4b/3363a1d04368e7ff0d408e57ff57966fcdf00583774e761327\n",
            "Successfully built pyspark\n",
            "Installing collected packages: pyspark\n",
            "Successfully installed pyspark-3.4.0\n"
          ]
        }
      ],
      "source": [
        "  pip install pyspark"
      ]
    },
    {
      "cell_type": "code",
      "source": [
        "from pyspark.sql import SparkSession"
      ],
      "metadata": {
        "id": "FkFXOCxp1OwF"
      },
      "execution_count": null,
      "outputs": []
    },
    {
      "cell_type": "code",
      "source": [
        "spark = SparkSession.builder.appName(\"Day3\").getOrCreate()"
      ],
      "metadata": {
        "id": "EYmXiTdY5U_l"
      },
      "execution_count": null,
      "outputs": []
    },
    {
      "cell_type": "code",
      "source": [
        "df = spark.read.csv(\"/content/array.csv\", header= True, inferSchema = True)"
      ],
      "metadata": {
        "id": "_qIlpa9x868y"
      },
      "execution_count": null,
      "outputs": []
    },
    {
      "cell_type": "code",
      "source": [
        "df.show(truncate = False)"
      ],
      "metadata": {
        "colab": {
          "base_uri": "https://localhost:8080/"
        },
        "id": "s6Ky3YJLdfvL",
        "outputId": "402f6554-10ce-4912-a263-463238e99754"
      },
      "execution_count": null,
      "outputs": [
        {
          "output_type": "stream",
          "name": "stdout",
          "text": [
            "+-----+-------------------------------+\n",
            "|name |data                           |\n",
            "+-----+-------------------------------+\n",
            "|Tom  |10|40|20|10|30                 |\n",
            "|Jenny|100|800|200|100|300|200|500|300|\n",
            "+-----+-------------------------------+\n",
            "\n"
          ]
        }
      ]
    },
    {
      "cell_type": "code",
      "source": [
        "df.printSchema()"
      ],
      "metadata": {
        "colab": {
          "base_uri": "https://localhost:8080/"
        },
        "id": "LTK-2Vj9dpX9",
        "outputId": "2d1be1df-0834-49ec-e937-92c2e511ef4a"
      },
      "execution_count": null,
      "outputs": [
        {
          "output_type": "stream",
          "name": "stdout",
          "text": [
            "root\n",
            " |-- name: string (nullable = true)\n",
            " |-- data: string (nullable = true)\n",
            "\n"
          ]
        }
      ]
    },
    {
      "cell_type": "code",
      "source": [
        "from pyspark.sql import functions as f"
      ],
      "metadata": {
        "id": "6mUCilryfpAL"
      },
      "execution_count": null,
      "outputs": []
    },
    {
      "cell_type": "code",
      "source": [
        "# add new column --->which list of values from data\n",
        "df.withColumn(\"data_array\", f.split(\"data\",r\"\\|\")).show(truncate = False)"
      ],
      "metadata": {
        "colab": {
          "base_uri": "https://localhost:8080/"
        },
        "id": "VDa7IIXvd80X",
        "outputId": "1ba62fdd-845f-45ad-ffce-8bb8ea17cf67"
      },
      "execution_count": null,
      "outputs": [
        {
          "output_type": "stream",
          "name": "stdout",
          "text": [
            "+-----+-------------------------------+----------------------------------------+\n",
            "|name |data                           |data_array                              |\n",
            "+-----+-------------------------------+----------------------------------------+\n",
            "|Tom  |10|40|20|10|30                 |[10, 40, 20, 10, 30]                    |\n",
            "|Jenny|100|800|200|100|300|200|500|300|[100, 800, 200, 100, 300, 200, 500, 300]|\n",
            "+-----+-------------------------------+----------------------------------------+\n",
            "\n"
          ]
        }
      ]
    },
    {
      "cell_type": "code",
      "source": [
        "# size, array_max, array_min\n",
        "\n",
        "df.withColumn(\"data_array\", f.split(\"data\",r\"\\|\")).withColumn(\"size_array\", f.size(\"data_array\")).show(truncate=False)"
      ],
      "metadata": {
        "colab": {
          "base_uri": "https://localhost:8080/"
        },
        "id": "o3Ct3bhJgKZm",
        "outputId": "7e4f8a69-3575-4a2b-f24c-7bc4e19f9367"
      },
      "execution_count": null,
      "outputs": [
        {
          "output_type": "stream",
          "name": "stdout",
          "text": [
            "+-----+-------------------------------+----------------------------------------+----------+\n",
            "|name |data                           |data_array                              |size_array|\n",
            "+-----+-------------------------------+----------------------------------------+----------+\n",
            "|Tom  |10|40|20|10|30                 |[10, 40, 20, 10, 30]                    |5         |\n",
            "|Jenny|100|800|200|100|300|200|500|300|[100, 800, 200, 100, 300, 200, 500, 300]|8         |\n",
            "+-----+-------------------------------+----------------------------------------+----------+\n",
            "\n"
          ]
        }
      ]
    },
    {
      "cell_type": "code",
      "source": [
        "df.withColumn(\"data_array\", f.split(\"data\", r\"\\|\")).withColumn(\"array_size\", f.size(\"data_array\")).withColumn(\"array_max\", f.array_max(\"data_array\")).show(truncate=False)"
      ],
      "metadata": {
        "colab": {
          "base_uri": "https://localhost:8080/"
        },
        "id": "__GifarV0nK0",
        "outputId": "bc41399b-9c17-48c7-8ab0-28bc7cb7b04b"
      },
      "execution_count": null,
      "outputs": [
        {
          "output_type": "stream",
          "name": "stdout",
          "text": [
            "+-----+-------------------------------+----------------------------------------+----------+---------+\n",
            "|name |data                           |data_array                              |array_size|array_max|\n",
            "+-----+-------------------------------+----------------------------------------+----------+---------+\n",
            "|Tom  |10|40|20|10|30                 |[10, 40, 20, 10, 30]                    |5         |40       |\n",
            "|Jenny|100|800|200|100|300|200|500|300|[100, 800, 200, 100, 300, 200, 500, 300]|8         |800      |\n",
            "+-----+-------------------------------+----------------------------------------+----------+---------+\n",
            "\n"
          ]
        }
      ]
    },
    {
      "cell_type": "code",
      "source": [
        "df.withColumn(\"data_array\", f.split(\"data\", r\"\\|\")).withColumn(\"array_size\", f.size(\"data_array\")).withColumn(\"array_min\", f.array_min(\"data_array\")).show(truncate=False)"
      ],
      "metadata": {
        "colab": {
          "base_uri": "https://localhost:8080/"
        },
        "id": "R2O0JFQx3NSZ",
        "outputId": "22a0bc8a-97cb-49ad-df6d-ff022b0db13e"
      },
      "execution_count": null,
      "outputs": [
        {
          "output_type": "stream",
          "name": "stdout",
          "text": [
            "+-----+-------------------------------+----------------------------------------+----------+---------+\n",
            "|name |data                           |data_array                              |array_size|array_min|\n",
            "+-----+-------------------------------+----------------------------------------+----------+---------+\n",
            "|Tom  |10|40|20|10|30                 |[10, 40, 20, 10, 30]                    |5         |10       |\n",
            "|Jenny|100|800|200|100|300|200|500|300|[100, 800, 200, 100, 300, 200, 500, 300]|8         |100      |\n",
            "+-----+-------------------------------+----------------------------------------+----------+---------+\n",
            "\n"
          ]
        }
      ]
    },
    {
      "cell_type": "code",
      "source": [
        "df.withColumn(\"data_array\", f.split(\"data\", r\"\\|\")).withColumn(\"array_size\", f.size(\"data_array\")).withColumn(\"array_max\", f.array_max(\"data_array\")).withColumn(\"array_min\", f.array_min(\"data_array\")).show(truncate=False)"
      ],
      "metadata": {
        "colab": {
          "base_uri": "https://localhost:8080/"
        },
        "id": "v8PcozAd31xX",
        "outputId": "a49cc72b-14df-40d2-d3bb-eba8ceb4e683"
      },
      "execution_count": null,
      "outputs": [
        {
          "output_type": "stream",
          "name": "stdout",
          "text": [
            "+-----+-------------------------------+----------------------------------------+----------+---------+---------+\n",
            "|name |data                           |data_array                              |array_size|array_max|array_min|\n",
            "+-----+-------------------------------+----------------------------------------+----------+---------+---------+\n",
            "|Tom  |10|40|20|10|30                 |[10, 40, 20, 10, 30]                    |5         |40       |10       |\n",
            "|Jenny|100|800|200|100|300|200|500|300|[100, 800, 200, 100, 300, 200, 500, 300]|8         |800      |100      |\n",
            "+-----+-------------------------------+----------------------------------------+----------+---------+---------+\n",
            "\n"
          ]
        }
      ]
    },
    {
      "cell_type": "code",
      "source": [
        "from pyspark.sql.functions import element_at"
      ],
      "metadata": {
        "id": "2y63KxH0SqdH"
      },
      "execution_count": null,
      "outputs": []
    },
    {
      "cell_type": "markdown",
      "source": [
        "#size\n",
        "#array_max\n",
        "#array_min"
      ],
      "metadata": {
        "id": "ia8OjhcKYhcX"
      }
    },
    {
      "cell_type": "code",
      "source": [
        "df.withColumn(\"data_array\", f.split(\"data\", r\"\\|\")).\\\n",
        "withColumn(\"array_size\", f.size(\"data_array\")).\\\n",
        "withColumn(\"array_max\", f.array_max(\"data_array\")).\\\n",
        "withColumn(\"array_min\", f.array_min(\"data_array\")).\\\n",
        "withColumn(\"element_at\", f.element_at(\"data_array\", 2)).\\\n",
        "show(truncate=False)"
      ],
      "metadata": {
        "colab": {
          "base_uri": "https://localhost:8080/"
        },
        "id": "3pobENPc4ZC2",
        "outputId": "cbb21671-ab04-485c-b889-4d63bb43ac0a"
      },
      "execution_count": null,
      "outputs": [
        {
          "output_type": "stream",
          "name": "stdout",
          "text": [
            "+-----+-------------------------------+----------------------------------------+----------+---------+---------+----------+\n",
            "|name |data                           |data_array                              |array_size|array_max|array_min|element_at|\n",
            "+-----+-------------------------------+----------------------------------------+----------+---------+---------+----------+\n",
            "|Tom  |10|40|20|10|30                 |[10, 40, 20, 10, 30]                    |5         |40       |10       |40        |\n",
            "|Jenny|100|800|200|100|300|200|500|300|[100, 800, 200, 100, 300, 200, 500, 300]|8         |800      |100      |800       |\n",
            "+-----+-------------------------------+----------------------------------------+----------+---------+---------+----------+\n",
            "\n"
          ]
        }
      ]
    },
    {
      "cell_type": "markdown",
      "source": [
        "# Element_at"
      ],
      "metadata": {
        "id": "osBfGB4bYcY5"
      }
    },
    {
      "cell_type": "code",
      "source": [
        "# finding element in an array that is index of an element\n",
        "# element_at----> it is functions used to find the index of the element in an array\n",
        "df.withColumn(\"data_array\", f.split(\"data\", r\"\\|\")).\\\n",
        "withColumn(\"array_size\", f.size(\"data_array\")).\\\n",
        "withColumn(\"array_max\", f.array_max(\"data_array\")).\\\n",
        "withColumn(\"array_min\", f.array_min(\"data_array\")).\\\n",
        "withColumn(\"element_at\", f.element_at(\"data_array\", 2)).\\\n",
        "show(truncate = False)"
      ],
      "metadata": {
        "colab": {
          "base_uri": "https://localhost:8080/"
        },
        "id": "ea5v7fBKRpQN",
        "outputId": "dcd0c7a2-3e99-490d-b514-c1bffa03409d"
      },
      "execution_count": null,
      "outputs": [
        {
          "output_type": "stream",
          "name": "stdout",
          "text": [
            "+-----+-------------------------------+----------------------------------------+----------+---------+---------+----------+\n",
            "|name |data                           |data_array                              |array_size|array_max|array_min|element_at|\n",
            "+-----+-------------------------------+----------------------------------------+----------+---------+---------+----------+\n",
            "|Tom  |10|40|20|10|30                 |[10, 40, 20, 10, 30]                    |5         |40       |10       |40        |\n",
            "|Jenny|100|800|200|100|300|200|500|300|[100, 800, 200, 100, 300, 200, 500, 300]|8         |800      |100      |800       |\n",
            "+-----+-------------------------------+----------------------------------------+----------+---------+---------+----------+\n",
            "\n"
          ]
        }
      ]
    },
    {
      "cell_type": "markdown",
      "source": [
        "# array_contains"
      ],
      "metadata": {
        "id": "J_nulBfcYreF"
      }
    },
    {
      "cell_type": "code",
      "source": [
        "# array contains---> it is a function used to check whether particular value present in array or not\n",
        "# it returns boolean vlaue--> if value present it returns true or if value not present returns false\n",
        "\n",
        "df.withColumn(\"data_array\", f.split(\"data\", r\"\\|\")).\\\n",
        "withColumn(\"array_size\", f.size(\"data_array\")).\\\n",
        "withColumn(\"array_max\", f.array_max(\"data_array\")).\\\n",
        "withColumn(\"array_contains\", f.array_contains(\"data_array\", '50')).\\\n",
        "show(truncate = False)\n"
      ],
      "metadata": {
        "colab": {
          "base_uri": "https://localhost:8080/"
        },
        "id": "WxbG-GdaTqIY",
        "outputId": "c38530fc-87a5-47e5-c1d8-a04281bc9e34"
      },
      "execution_count": null,
      "outputs": [
        {
          "output_type": "stream",
          "name": "stdout",
          "text": [
            "+-----+-------------------------------+----------------------------------------+----------+---------+--------------+\n",
            "|name |data                           |data_array                              |array_size|array_max|array_contains|\n",
            "+-----+-------------------------------+----------------------------------------+----------+---------+--------------+\n",
            "|Tom  |10|40|20|10|30                 |[10, 40, 20, 10, 30]                    |5         |40       |false         |\n",
            "|Jenny|100|800|200|100|300|200|500|300|[100, 800, 200, 100, 300, 200, 500, 300]|8         |800      |false         |\n",
            "+-----+-------------------------------+----------------------------------------+----------+---------+--------------+\n",
            "\n"
          ]
        }
      ]
    },
    {
      "cell_type": "code",
      "source": [
        "df.withColumn(\"data_array\", f.split(\"data\", r\"\\|\")).\\\n",
        "withColumn(\"array_size\", f.size(\"data_array\")).\\\n",
        "withColumn(\"array_max\", f.array_max(\"data_array\")).\\\n",
        "withColumn(\"array_contains\", f.array_contains(\"data_array\", '40')).\\\n",
        "show(truncate = False)"
      ],
      "metadata": {
        "colab": {
          "base_uri": "https://localhost:8080/"
        },
        "id": "UGlFDDQHVIA_",
        "outputId": "4078465b-a750-4aa3-ed9a-dd36e57bbedf"
      },
      "execution_count": null,
      "outputs": [
        {
          "output_type": "stream",
          "name": "stdout",
          "text": [
            "+-----+-------------------------------+----------------------------------------+----------+---------+--------------+\n",
            "|name |data                           |data_array                              |array_size|array_max|array_contains|\n",
            "+-----+-------------------------------+----------------------------------------+----------+---------+--------------+\n",
            "|Tom  |10|40|20|10|30                 |[10, 40, 20, 10, 30]                    |5         |40       |true          |\n",
            "|Jenny|100|800|200|100|300|200|500|300|[100, 800, 200, 100, 300, 200, 500, 300]|8         |800      |false         |\n",
            "+-----+-------------------------------+----------------------------------------+----------+---------+--------------+\n",
            "\n"
          ]
        }
      ]
    },
    {
      "cell_type": "markdown",
      "source": [
        "# reverse--> reverses the array"
      ],
      "metadata": {
        "id": "SzDiZuSOYu0Q"
      }
    },
    {
      "cell_type": "code",
      "source": [
        "# reverse---> it is function used to reverse the array\n",
        "\n",
        "df.withColumn(\"data_array\", f.split(\"data\", r\"\\|\")).\\\n",
        "withColumn(\"array_size\", f.size(\"data_array\")).\\\n",
        "withColumn(\"array_reverse\", f.reverse(\"data_array\")).\\\n",
        "show(truncate = False)"
      ],
      "metadata": {
        "colab": {
          "base_uri": "https://localhost:8080/"
        },
        "id": "aeWg9ZGKVymO",
        "outputId": "e908a222-1b31-4e26-e3ba-5c62819a5b8e"
      },
      "execution_count": null,
      "outputs": [
        {
          "output_type": "stream",
          "name": "stdout",
          "text": [
            "+-----+-------------------------------+----------------------------------------+----------+----------------------------------------+\n",
            "|name |data                           |data_array                              |array_size|array_reverse                           |\n",
            "+-----+-------------------------------+----------------------------------------+----------+----------------------------------------+\n",
            "|Tom  |10|40|20|10|30                 |[10, 40, 20, 10, 30]                    |5         |[30, 10, 20, 40, 10]                    |\n",
            "|Jenny|100|800|200|100|300|200|500|300|[100, 800, 200, 100, 300, 200, 500, 300]|8         |[300, 500, 200, 300, 100, 200, 800, 100]|\n",
            "+-----+-------------------------------+----------------------------------------+----------+----------------------------------------+\n",
            "\n"
          ]
        }
      ]
    },
    {
      "cell_type": "markdown",
      "source": [
        "# array_position"
      ],
      "metadata": {
        "id": "VDRKF8ALZB6b"
      }
    },
    {
      "cell_type": "code",
      "source": [
        "# array_position ---> it is function gives the position of an element in an array\n",
        "# if element present in an array gives the position of an arry\n",
        "# if not present element in an array returns 0\n",
        "df.withColumn(\"data_array\", f.split(\"data\", r\"\\|\")).\\\n",
        "withColumn(\"array_size\", f.size(\"data_array\")).\\\n",
        "withColumn(\"array_position\", f.array_position(\"data_array\", '800')).\\\n",
        "show(truncate = False)"
      ],
      "metadata": {
        "colab": {
          "base_uri": "https://localhost:8080/"
        },
        "id": "R5_Rt3YyXbxv",
        "outputId": "eedef372-4190-41b7-f38e-98c35af24dcf"
      },
      "execution_count": null,
      "outputs": [
        {
          "output_type": "stream",
          "name": "stdout",
          "text": [
            "+-----+-------------------------------+----------------------------------------+----------+--------------+\n",
            "|name |data                           |data_array                              |array_size|array_position|\n",
            "+-----+-------------------------------+----------------------------------------+----------+--------------+\n",
            "|Tom  |10|40|20|10|30                 |[10, 40, 20, 10, 30]                    |5         |0             |\n",
            "|Jenny|100|800|200|100|300|200|500|300|[100, 800, 200, 100, 300, 200, 500, 300]|8         |2             |\n",
            "+-----+-------------------------------+----------------------------------------+----------+--------------+\n",
            "\n"
          ]
        }
      ]
    },
    {
      "cell_type": "markdown",
      "source": [
        "# array_sort"
      ],
      "metadata": {
        "id": "jYN6igaiZV-x"
      }
    },
    {
      "cell_type": "code",
      "source": [
        "# array_sort---> it sorts the arrya in an asxending order by default\n",
        "\n",
        "df.withColumn(\"data_array\", f.split(\"data\", r\"\\|\")).\\\n",
        "withColumn(\"array_size\", f.size(\"data_array\")).\\\n",
        "withColumn(\"array_sort\", f.array_sort(\"data_array\")).\\\n",
        "show(truncate = False)"
      ],
      "metadata": {
        "colab": {
          "base_uri": "https://localhost:8080/"
        },
        "id": "Jy8VJtQeX_5p",
        "outputId": "76131314-7037-4941-f2fa-243b5818e4b7"
      },
      "execution_count": null,
      "outputs": [
        {
          "output_type": "stream",
          "name": "stdout",
          "text": [
            "+-----+-------------------------------+----------------------------------------+----------+----------------------------------------+\n",
            "|name |data                           |data_array                              |array_size|array_sort                              |\n",
            "+-----+-------------------------------+----------------------------------------+----------+----------------------------------------+\n",
            "|Tom  |10|40|20|10|30                 |[10, 40, 20, 10, 30]                    |5         |[10, 10, 20, 30, 40]                    |\n",
            "|Jenny|100|800|200|100|300|200|500|300|[100, 800, 200, 100, 300, 200, 500, 300]|8         |[100, 100, 200, 200, 300, 300, 500, 800]|\n",
            "+-----+-------------------------------+----------------------------------------+----------+----------------------------------------+\n",
            "\n"
          ]
        }
      ]
    },
    {
      "cell_type": "code",
      "source": [
        "help(f.array_distinct)"
      ],
      "metadata": {
        "colab": {
          "base_uri": "https://localhost:8080/"
        },
        "id": "HTKPTX-DZjSb",
        "outputId": "11116bc3-7d28-4c46-cc03-7db9846c936c"
      },
      "execution_count": null,
      "outputs": [
        {
          "output_type": "stream",
          "name": "stdout",
          "text": [
            "Help on function array_distinct in module pyspark.sql.functions:\n",
            "\n",
            "array_distinct(col: 'ColumnOrName') -> pyspark.sql.column.Column\n",
            "    Collection function: removes duplicate values from the array.\n",
            "    \n",
            "    .. versionadded:: 2.4.0\n",
            "    \n",
            "    .. versionchanged:: 3.4.0\n",
            "        Supports Spark Connect.\n",
            "    \n",
            "    Parameters\n",
            "    ----------\n",
            "    col : :class:`~pyspark.sql.Column` or str\n",
            "        name of column or expression\n",
            "    \n",
            "    Returns\n",
            "    -------\n",
            "    :class:`~pyspark.sql.Column`\n",
            "        an array of unique values.\n",
            "    \n",
            "    Examples\n",
            "    --------\n",
            "    >>> df = spark.createDataFrame([([1, 2, 3, 2],), ([4, 5, 5, 4],)], ['data'])\n",
            "    >>> df.select(array_distinct(df.data)).collect()\n",
            "    [Row(array_distinct(data)=[1, 2, 3]), Row(array_distinct(data)=[4, 5])]\n",
            "\n"
          ]
        }
      ]
    },
    {
      "cell_type": "markdown",
      "source": [
        "# array_distinct"
      ],
      "metadata": {
        "id": "VEDkWC7xbVFa"
      }
    },
    {
      "cell_type": "code",
      "source": [
        "# array_distinct --> it returns distinct element from the array\n",
        "df.withColumn(\"data_array\", f.split(\"data\", r\"\\|\")).\\\n",
        "withColumn(\"array_size\", f.size(\"data_array\")).\\\n",
        "withColumn(\"array_distinct\", f.array_distinct(\"data_array\")).\\\n",
        "withColumn(\"array_sort\", f.array_sort(\"array_distinct\")).\\\n",
        "show(truncate = False)"
      ],
      "metadata": {
        "colab": {
          "base_uri": "https://localhost:8080/"
        },
        "id": "7Qokpqy-as0Z",
        "outputId": "eaefacc9-58bf-4e7d-86cc-d02b7ed518c6"
      },
      "execution_count": null,
      "outputs": [
        {
          "output_type": "stream",
          "name": "stdout",
          "text": [
            "+-----+-------------------------------+----------------------------------------+----------+-------------------------+-------------------------+\n",
            "|name |data                           |data_array                              |array_size|array_distinct           |array_sort               |\n",
            "+-----+-------------------------------+----------------------------------------+----------+-------------------------+-------------------------+\n",
            "|Tom  |10|40|20|10|30                 |[10, 40, 20, 10, 30]                    |5         |[10, 40, 20, 30]         |[10, 20, 30, 40]         |\n",
            "|Jenny|100|800|200|100|300|200|500|300|[100, 800, 200, 100, 300, 200, 500, 300]|8         |[100, 800, 200, 300, 500]|[100, 200, 300, 500, 800]|\n",
            "+-----+-------------------------------+----------------------------------------+----------+-------------------------+-------------------------+\n",
            "\n"
          ]
        }
      ]
    },
    {
      "cell_type": "code",
      "source": [],
      "metadata": {
        "id": "QGMYj83Wa3mN"
      },
      "execution_count": null,
      "outputs": []
    }
  ]
}
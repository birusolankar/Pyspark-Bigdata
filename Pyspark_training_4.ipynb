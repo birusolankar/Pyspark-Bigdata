{
  "nbformat": 4,
  "nbformat_minor": 0,
  "metadata": {
    "colab": {
      "provenance": [],
      "include_colab_link": true
    },
    "kernelspec": {
      "name": "python3",
      "display_name": "Python 3"
    },
    "language_info": {
      "name": "python"
    }
  },
  "cells": [
    {
      "cell_type": "markdown",
      "metadata": {
        "id": "view-in-github",
        "colab_type": "text"
      },
      "source": [
        "<a href=\"https://colab.research.google.com/github/birusolankar/Pyspark-Bigdata/blob/main/Pyspark_training_4.ipynb\" target=\"_parent\"><img src=\"https://colab.research.google.com/assets/colab-badge.svg\" alt=\"Open In Colab\"/></a>"
      ]
    },
    {
      "cell_type": "code",
      "execution_count": null,
      "metadata": {
        "colab": {
          "base_uri": "https://localhost:8080/"
        },
        "id": "tRP8qRmZCplX",
        "outputId": "e61fed0b-3dd1-4a91-f3d4-980c0663067c"
      },
      "outputs": [
        {
          "output_type": "stream",
          "name": "stdout",
          "text": [
            "Looking in indexes: https://pypi.org/simple, https://us-python.pkg.dev/colab-wheels/public/simple/\n",
            "Collecting pyspark\n",
            "  Downloading pyspark-3.4.0.tar.gz (310.8 MB)\n",
            "\u001b[2K     \u001b[90m━━━━━━━━━━━━━━━━━━━━━━━━━━━━━━━━━━━━━━━\u001b[0m \u001b[32m310.8/310.8 MB\u001b[0m \u001b[31m3.4 MB/s\u001b[0m eta \u001b[36m0:00:00\u001b[0m\n",
            "\u001b[?25h  Preparing metadata (setup.py) ... \u001b[?25l\u001b[?25hdone\n",
            "Requirement already satisfied: py4j==0.10.9.7 in /usr/local/lib/python3.10/dist-packages (from pyspark) (0.10.9.7)\n",
            "Building wheels for collected packages: pyspark\n",
            "  Building wheel for pyspark (setup.py) ... \u001b[?25l\u001b[?25hdone\n",
            "  Created wheel for pyspark: filename=pyspark-3.4.0-py2.py3-none-any.whl size=311317130 sha256=f001a09657c1216d528cbccf885c346244441f268ff1de9694f27fa362fa158a\n",
            "  Stored in directory: /root/.cache/pip/wheels/7b/1b/4b/3363a1d04368e7ff0d408e57ff57966fcdf00583774e761327\n",
            "Successfully built pyspark\n",
            "Installing collected packages: pyspark\n",
            "Successfully installed pyspark-3.4.0\n"
          ]
        }
      ],
      "source": [
        "pip install pyspark"
      ]
    },
    {
      "cell_type": "code",
      "source": [
        "from pyspark.sql import SparkSession"
      ],
      "metadata": {
        "id": "mlm9BtAIRElo"
      },
      "execution_count": null,
      "outputs": []
    },
    {
      "cell_type": "code",
      "source": [
        "# creating spark application\n",
        "spark = SparkSession.builder.appName(\"day_4\").getOrCreate()"
      ],
      "metadata": {
        "id": "stnhfJcRRYX4"
      },
      "execution_count": null,
      "outputs": []
    },
    {
      "cell_type": "code",
      "source": [
        "# reading csv file\n",
        "df = spark.read.csv(\"/content/array.csv\", header=True, inferSchema=True)"
      ],
      "metadata": {
        "id": "cx-U1rOaRlo1"
      },
      "execution_count": null,
      "outputs": []
    },
    {
      "cell_type": "code",
      "source": [
        "df.show(truncate=False)"
      ],
      "metadata": {
        "colab": {
          "base_uri": "https://localhost:8080/"
        },
        "id": "lJ5b-is7R2dJ",
        "outputId": "f046372a-4d92-4c59-cf3c-1d7755a68573"
      },
      "execution_count": null,
      "outputs": [
        {
          "output_type": "stream",
          "name": "stdout",
          "text": [
            "+-----+-------------------------------+\n",
            "|name |data                           |\n",
            "+-----+-------------------------------+\n",
            "|Tom  |10|40|20|10|30                 |\n",
            "|Jenny|100|800|200|100|300|200|500|300|\n",
            "+-----+-------------------------------+\n",
            "\n"
          ]
        }
      ]
    },
    {
      "cell_type": "code",
      "source": [
        "from pyspark.sql import functions as f"
      ],
      "metadata": {
        "id": "a6BCsYlVSZWq"
      },
      "execution_count": null,
      "outputs": []
    },
    {
      "cell_type": "code",
      "source": [
        "# converting data columns data into list\n",
        "df.withColumn(\"data_array\", f.split(\"data\", r\"\\|\")).show(truncate=False)"
      ],
      "metadata": {
        "colab": {
          "base_uri": "https://localhost:8080/"
        },
        "id": "YK5SYxV2R5eu",
        "outputId": "2a38c4cd-3c9f-412e-984b-73e4fbf409a9"
      },
      "execution_count": null,
      "outputs": [
        {
          "output_type": "stream",
          "name": "stdout",
          "text": [
            "+-----+-------------------------------+----------------------------------------+\n",
            "|name |data                           |data_array                              |\n",
            "+-----+-------------------------------+----------------------------------------+\n",
            "|Tom  |10|40|20|10|30                 |[10, 40, 20, 10, 30]                    |\n",
            "|Jenny|100|800|200|100|300|200|500|300|[100, 800, 200, 100, 300, 200, 500, 300]|\n",
            "+-----+-------------------------------+----------------------------------------+\n",
            "\n"
          ]
        }
      ]
    },
    {
      "cell_type": "code",
      "source": [
        "# sort the array\n",
        "df.withColumn(\"data_array\", f.split(\"data\", r\"\\|\")).\\\n",
        "withColumn(\"array_sort\", f.array_sort(\"data_array\")).\\\n",
        "show(truncate=False)"
      ],
      "metadata": {
        "colab": {
          "base_uri": "https://localhost:8080/"
        },
        "id": "Wj51nCk8S5bn",
        "outputId": "04f1a257-e333-4624-df5c-0e35a239870e"
      },
      "execution_count": null,
      "outputs": [
        {
          "output_type": "stream",
          "name": "stdout",
          "text": [
            "+-----+-------------------------------+----------------------------------------+----------------------------------------+\n",
            "|name |data                           |data_array                              |array_sort                              |\n",
            "+-----+-------------------------------+----------------------------------------+----------------------------------------+\n",
            "|Tom  |10|40|20|10|30                 |[10, 40, 20, 10, 30]                    |[10, 10, 20, 30, 40]                    |\n",
            "|Jenny|100|800|200|100|300|200|500|300|[100, 800, 200, 100, 300, 200, 500, 300]|[100, 100, 200, 200, 300, 300, 500, 800]|\n",
            "+-----+-------------------------------+----------------------------------------+----------------------------------------+\n",
            "\n"
          ]
        }
      ]
    },
    {
      "cell_type": "code",
      "source": [
        "# reversing the array\n",
        "df.withColumn(\"data_array\", f.split(\"data\", r\"\\|\")).\\\n",
        "withColumn(\"array_sort\", f.array_sort(\"data_array\")).\\\n",
        "withColumn(\"array_reverse\", f.reverse(\"array_sort\")).\\\n",
        "show(truncate=False)"
      ],
      "metadata": {
        "colab": {
          "base_uri": "https://localhost:8080/"
        },
        "id": "aD415Uu5TR6j",
        "outputId": "47d05346-8858-4f85-9fc5-b5d0436d15e7"
      },
      "execution_count": null,
      "outputs": [
        {
          "output_type": "stream",
          "name": "stdout",
          "text": [
            "+-----+-------------------------------+----------------------------------------+----------------------------------------+----------------------------------------+\n",
            "|name |data                           |data_array                              |array_sort                              |array_reverse                           |\n",
            "+-----+-------------------------------+----------------------------------------+----------------------------------------+----------------------------------------+\n",
            "|Tom  |10|40|20|10|30                 |[10, 40, 20, 10, 30]                    |[10, 10, 20, 30, 40]                    |[40, 30, 20, 10, 10]                    |\n",
            "|Jenny|100|800|200|100|300|200|500|300|[100, 800, 200, 100, 300, 200, 500, 300]|[100, 100, 200, 200, 300, 300, 500, 800]|[800, 500, 300, 300, 200, 200, 100, 100]|\n",
            "+-----+-------------------------------+----------------------------------------+----------------------------------------+----------------------------------------+\n",
            "\n"
          ]
        }
      ]
    },
    {
      "cell_type": "code",
      "source": [
        "# dropduplicates / drop_duplicates\n",
        "# distinct--> applied on column to get unidque values\n",
        "# array_distinct--> used for getting unique records from array\n"
      ],
      "metadata": {
        "id": "3p7Ls7dXTksc"
      },
      "execution_count": null,
      "outputs": []
    },
    {
      "cell_type": "code",
      "source": [
        "# array_join---> used for the joining the element of an array\n",
        "\n",
        "df.withColumn(\"data_array\", f.split(\"data\", r\"\\|\")).\\\n",
        "withColumn(\"array_join\", f.array_join(\"data_array\", \"--\")).\\\n",
        "show(truncate=False)"
      ],
      "metadata": {
        "colab": {
          "base_uri": "https://localhost:8080/"
        },
        "id": "5xs2XAi4WfzU",
        "outputId": "58127e18-0a5b-4425-bf30-d062725a41b1"
      },
      "execution_count": null,
      "outputs": [
        {
          "output_type": "stream",
          "name": "stdout",
          "text": [
            "+-----+-------------------------------+----------------------------------------+--------------------------------------+\n",
            "|name |data                           |data_array                              |array_join                            |\n",
            "+-----+-------------------------------+----------------------------------------+--------------------------------------+\n",
            "|Tom  |10|40|20|10|30                 |[10, 40, 20, 10, 30]                    |10--40--20--10--30                    |\n",
            "|Jenny|100|800|200|100|300|200|500|300|[100, 800, 200, 100, 300, 200, 500, 300]|100--800--200--100--300--200--500--300|\n",
            "+-----+-------------------------------+----------------------------------------+--------------------------------------+\n",
            "\n"
          ]
        }
      ]
    },
    {
      "cell_type": "code",
      "source": [
        "df.withColumn(\"data_array\", f.split(\"data\", r\"\\|\")).\\\n",
        "withColumn(\"explode\", f.explode(\"data_array\")).\\\n",
        "show(truncate=False)"
      ],
      "metadata": {
        "colab": {
          "base_uri": "https://localhost:8080/"
        },
        "id": "vLw1dIRKWtxU",
        "outputId": "0965f688-a6e2-405b-c9d9-33a2bc67461f"
      },
      "execution_count": null,
      "outputs": [
        {
          "output_type": "stream",
          "name": "stdout",
          "text": [
            "+-----+-------------------------------+----------------------------------------+-------+\n",
            "|name |data                           |data_array                              |explode|\n",
            "+-----+-------------------------------+----------------------------------------+-------+\n",
            "|Tom  |10|40|20|10|30                 |[10, 40, 20, 10, 30]                    |10     |\n",
            "|Tom  |10|40|20|10|30                 |[10, 40, 20, 10, 30]                    |40     |\n",
            "|Tom  |10|40|20|10|30                 |[10, 40, 20, 10, 30]                    |20     |\n",
            "|Tom  |10|40|20|10|30                 |[10, 40, 20, 10, 30]                    |10     |\n",
            "|Tom  |10|40|20|10|30                 |[10, 40, 20, 10, 30]                    |30     |\n",
            "|Jenny|100|800|200|100|300|200|500|300|[100, 800, 200, 100, 300, 200, 500, 300]|100    |\n",
            "|Jenny|100|800|200|100|300|200|500|300|[100, 800, 200, 100, 300, 200, 500, 300]|800    |\n",
            "|Jenny|100|800|200|100|300|200|500|300|[100, 800, 200, 100, 300, 200, 500, 300]|200    |\n",
            "|Jenny|100|800|200|100|300|200|500|300|[100, 800, 200, 100, 300, 200, 500, 300]|100    |\n",
            "|Jenny|100|800|200|100|300|200|500|300|[100, 800, 200, 100, 300, 200, 500, 300]|300    |\n",
            "|Jenny|100|800|200|100|300|200|500|300|[100, 800, 200, 100, 300, 200, 500, 300]|200    |\n",
            "|Jenny|100|800|200|100|300|200|500|300|[100, 800, 200, 100, 300, 200, 500, 300]|500    |\n",
            "|Jenny|100|800|200|100|300|200|500|300|[100, 800, 200, 100, 300, 200, 500, 300]|300    |\n",
            "+-----+-------------------------------+----------------------------------------+-------+\n",
            "\n"
          ]
        }
      ]
    },
    {
      "cell_type": "code",
      "source": [],
      "metadata": {
        "id": "KNdL0tuDZzuj"
      },
      "execution_count": null,
      "outputs": []
    }
  ]
}
{
  "nbformat": 4,
  "nbformat_minor": 0,
  "metadata": {
    "colab": {
      "provenance": [],
      "authorship_tag": "ABX9TyNkhCEaH8bAp2ypbVpW4isq",
      "include_colab_link": true
    },
    "kernelspec": {
      "name": "python3",
      "display_name": "Python 3"
    },
    "language_info": {
      "name": "python"
    }
  },
  "cells": [
    {
      "cell_type": "markdown",
      "metadata": {
        "id": "view-in-github",
        "colab_type": "text"
      },
      "source": [
        "<a href=\"https://colab.research.google.com/github/birusolankar/Pyspark-Bigdata/blob/main/Pyspark_5_11_2024.ipynb\" target=\"_parent\"><img src=\"https://colab.research.google.com/assets/colab-badge.svg\" alt=\"Open In Colab\"/></a>"
      ]
    },
    {
      "cell_type": "code",
      "execution_count": 1,
      "metadata": {
        "id": "5HrdqiEWlu5_"
      },
      "outputs": [],
      "source": [
        "import pyspark"
      ]
    },
    {
      "cell_type": "code",
      "source": [
        "from pyspark.sql import SparkSession\n"
      ],
      "metadata": {
        "id": "vPH3nmnc7zqi"
      },
      "execution_count": 2,
      "outputs": []
    },
    {
      "cell_type": "code",
      "source": [
        "spark = SparkSession.builder.appName('5/11/2024').getOrCreate()"
      ],
      "metadata": {
        "id": "4noii0RH7-Bn"
      },
      "execution_count": 3,
      "outputs": []
    },
    {
      "cell_type": "code",
      "source": [
        "ipl = spark.read.csv('/content/deliveries.csv', inferSchema = True, header = True)"
      ],
      "metadata": {
        "id": "C1czULHQ8SWp"
      },
      "execution_count": 4,
      "outputs": []
    },
    {
      "cell_type": "code",
      "source": [
        "matches = spark.read.csv('/content/matches.csv', inferSchema = True, header = True)"
      ],
      "metadata": {
        "id": "uZtqBLgjGy4q"
      },
      "execution_count": 37,
      "outputs": []
    },
    {
      "cell_type": "code",
      "source": [
        "ipl.show(5)"
      ],
      "metadata": {
        "colab": {
          "base_uri": "https://localhost:8080/"
        },
        "id": "Xmq62TdB8hBf",
        "outputId": "a01dc543-0071-4a52-926a-b1f495c204ea"
      },
      "execution_count": 5,
      "outputs": [
        {
          "output_type": "stream",
          "name": "stdout",
          "text": [
            "+--------+------+-------------------+--------------------+----+----+---------+-----------+--------+-------------+---------+--------+-----------+-----------+------------+------------+----------+----------+----------------+--------------+-------+\n",
            "|match_id|inning|       batting_team|        bowling_team|over|ball|  batsman|non_striker|  bowler|is_super_over|wide_runs|bye_runs|legbye_runs|noball_runs|penalty_runs|batsman_runs|extra_runs|total_runs|player_dismissed|dismissal_kind|fielder|\n",
            "+--------+------+-------------------+--------------------+----+----+---------+-----------+--------+-------------+---------+--------+-----------+-----------+------------+------------+----------+----------+----------------+--------------+-------+\n",
            "|       1|     1|Sunrisers Hyderabad|Royal Challengers...|   1|   1|DA Warner|   S Dhawan|TS Mills|            0|        0|       0|          0|          0|           0|           0|         0|         0|            NULL|          NULL|   NULL|\n",
            "|       1|     1|Sunrisers Hyderabad|Royal Challengers...|   1|   2|DA Warner|   S Dhawan|TS Mills|            0|        0|       0|          0|          0|           0|           0|         0|         0|            NULL|          NULL|   NULL|\n",
            "|       1|     1|Sunrisers Hyderabad|Royal Challengers...|   1|   3|DA Warner|   S Dhawan|TS Mills|            0|        0|       0|          0|          0|           0|           4|         0|         4|            NULL|          NULL|   NULL|\n",
            "|       1|     1|Sunrisers Hyderabad|Royal Challengers...|   1|   4|DA Warner|   S Dhawan|TS Mills|            0|        0|       0|          0|          0|           0|           0|         0|         0|            NULL|          NULL|   NULL|\n",
            "|       1|     1|Sunrisers Hyderabad|Royal Challengers...|   1|   5|DA Warner|   S Dhawan|TS Mills|            0|        2|       0|          0|          0|           0|           0|         2|         2|            NULL|          NULL|   NULL|\n",
            "+--------+------+-------------------+--------------------+----+----+---------+-----------+--------+-------------+---------+--------+-----------+-----------+------------+------------+----------+----------+----------------+--------------+-------+\n",
            "only showing top 5 rows\n",
            "\n"
          ]
        }
      ]
    },
    {
      "cell_type": "code",
      "source": [
        "df = spark.read.csv('/content/Tutorial_4.csv', inferSchema = True, header = True)"
      ],
      "metadata": {
        "id": "KMcRmeR78ppM"
      },
      "execution_count": 6,
      "outputs": []
    },
    {
      "cell_type": "code",
      "source": [
        "df.show(4)"
      ],
      "metadata": {
        "colab": {
          "base_uri": "https://localhost:8080/"
        },
        "id": "hOJSdTLB87Nc",
        "outputId": "7ae3ee76-2a9a-4b4d-8c36-9ec9a454141e"
      },
      "execution_count": 7,
      "outputs": [
        {
          "output_type": "stream",
          "name": "stdout",
          "text": [
            "+------+------------+------+----------+\n",
            "|  Name|  Department|Salary|Experience|\n",
            "+------+------------+------+----------+\n",
            "|  Amit|Data Science| 25000|         5|\n",
            "|Mahesh|    Big Data| 17000|         7|\n",
            "|Ramesh|    Big Data| 17000|         2|\n",
            "|Sudhir|         IOT| 12000|         1|\n",
            "+------+------------+------+----------+\n",
            "only showing top 4 rows\n",
            "\n"
          ]
        }
      ]
    },
    {
      "cell_type": "code",
      "source": [
        "df.show()"
      ],
      "metadata": {
        "colab": {
          "base_uri": "https://localhost:8080/"
        },
        "id": "VoWDrj-w89kz",
        "outputId": "87617f60-472f-4183-96f0-e89b412e4148"
      },
      "execution_count": 8,
      "outputs": [
        {
          "output_type": "stream",
          "name": "stdout",
          "text": [
            "+------+----------------+------+----------+\n",
            "|  Name|      Department|Salary|Experience|\n",
            "+------+----------------+------+----------+\n",
            "|  Amit|    Data Science| 25000|         5|\n",
            "|Mahesh|        Big Data| 17000|         7|\n",
            "|Ramesh|        Big Data| 17000|         2|\n",
            "|Sudhir|             IOT| 12000|         1|\n",
            "|Sudhir|        Big Data|  7000|         4|\n",
            "| Sunny|    Data Science| 20000|         2|\n",
            "| Sunny|        Big Data| 12000|         3|\n",
            "|  Alka|Machine Learning| 30000|         4|\n",
            "+------+----------------+------+----------+\n",
            "\n"
          ]
        }
      ]
    },
    {
      "cell_type": "code",
      "source": [
        "from pyspark.sql import functions as f"
      ],
      "metadata": {
        "id": "lZvPoFZ19tLO"
      },
      "execution_count": 9,
      "outputs": []
    },
    {
      "cell_type": "code",
      "source": [
        "df.groupby('Department').agg(f.max('Salary')).show()"
      ],
      "metadata": {
        "colab": {
          "base_uri": "https://localhost:8080/"
        },
        "id": "ksLFpvVd9mvM",
        "outputId": "c695a04a-150e-4e62-8883-b90e6427750c"
      },
      "execution_count": 10,
      "outputs": [
        {
          "output_type": "stream",
          "name": "stdout",
          "text": [
            "+----------------+-----------+\n",
            "|      Department|max(Salary)|\n",
            "+----------------+-----------+\n",
            "|             IOT|      12000|\n",
            "|Machine Learning|      30000|\n",
            "|        Big Data|      17000|\n",
            "|    Data Science|      25000|\n",
            "+----------------+-----------+\n",
            "\n"
          ]
        }
      ]
    },
    {
      "cell_type": "code",
      "source": [
        "df.groupby('Department').agg(f.min('Salary'), f.min('Experience')).show()"
      ],
      "metadata": {
        "colab": {
          "base_uri": "https://localhost:8080/"
        },
        "id": "KXe1N8CRmOEa",
        "outputId": "0c694550-57cf-4ee0-ad42-14caa7dff2fd"
      },
      "execution_count": 11,
      "outputs": [
        {
          "output_type": "stream",
          "name": "stdout",
          "text": [
            "+----------------+-----------+---------------+\n",
            "|      Department|min(Salary)|min(Experience)|\n",
            "+----------------+-----------+---------------+\n",
            "|             IOT|      12000|              1|\n",
            "|Machine Learning|      30000|              4|\n",
            "|        Big Data|       7000|              2|\n",
            "|    Data Science|      20000|              2|\n",
            "+----------------+-----------+---------------+\n",
            "\n"
          ]
        }
      ]
    },
    {
      "cell_type": "code",
      "source": [
        "df1 = spark.read.csv('/content/Tutorial_3.csv', inferSchema = True, header = True)"
      ],
      "metadata": {
        "id": "frljMtEf9BI5"
      },
      "execution_count": 12,
      "outputs": []
    },
    {
      "cell_type": "code",
      "source": [
        "df1.show()"
      ],
      "metadata": {
        "colab": {
          "base_uri": "https://localhost:8080/"
        },
        "id": "Jm-Z17QL9cX7",
        "outputId": "b800abfc-40e2-4c68-8971-1dbba9ed53b5"
      },
      "execution_count": 13,
      "outputs": [
        {
          "output_type": "stream",
          "name": "stdout",
          "text": [
            "+---------+----+----------+------+\n",
            "|     Name| Age|Experience|Salary|\n",
            "+---------+----+----------+------+\n",
            "|     Amit|  22|       1.5| 12000|\n",
            "|     Amit|  22|       1.5| 12000|\n",
            "|    Ankit|  25|      NULL|  NULL|\n",
            "|   Ashish|NULL|       1.0| 15000|\n",
            "|    Vijay|  29|      NULL| 17000|\n",
            "|Sudarshan|NULL|       5.0|  NULL|\n",
            "|    Ketan|  33|      NULL| 23000|\n",
            "|     NULL|  36|       8.0|  NULL|\n",
            "|     NULL|  41|      NULL| 34000|\n",
            "|     NULL|NULL|      NULL|  NULL|\n",
            "|     Ajit|  43|      10.0| 40000|\n",
            "|     Ajit|  43|      10.0| 40000|\n",
            "+---------+----+----------+------+\n",
            "\n"
          ]
        }
      ]
    },
    {
      "cell_type": "code",
      "source": [
        "# selecting cloumns\n",
        "df1.select('Name', 'Age').show(4)"
      ],
      "metadata": {
        "id": "lARuvqnA9hTv",
        "colab": {
          "base_uri": "https://localhost:8080/"
        },
        "outputId": "845512e3-5312-40bc-d736-f9fb8e72f936"
      },
      "execution_count": 14,
      "outputs": [
        {
          "output_type": "stream",
          "name": "stdout",
          "text": [
            "+------+----+\n",
            "|  Name| Age|\n",
            "+------+----+\n",
            "|  Amit|  22|\n",
            "|  Amit|  22|\n",
            "| Ankit|  25|\n",
            "|Ashish|NULL|\n",
            "+------+----+\n",
            "only showing top 4 rows\n",
            "\n"
          ]
        }
      ]
    },
    {
      "cell_type": "code",
      "source": [
        "df1.select(['Name', 'Salary']).show()"
      ],
      "metadata": {
        "colab": {
          "base_uri": "https://localhost:8080/"
        },
        "id": "7VwUzpfVneRA",
        "outputId": "5f15edda-dd3d-4557-98c7-fea17deebaf5"
      },
      "execution_count": 15,
      "outputs": [
        {
          "output_type": "stream",
          "name": "stdout",
          "text": [
            "+---------+------+\n",
            "|     Name|Salary|\n",
            "+---------+------+\n",
            "|     Amit| 12000|\n",
            "|     Amit| 12000|\n",
            "|    Ankit|  NULL|\n",
            "|   Ashish| 15000|\n",
            "|    Vijay| 17000|\n",
            "|Sudarshan|  NULL|\n",
            "|    Ketan| 23000|\n",
            "|     NULL|  NULL|\n",
            "|     NULL| 34000|\n",
            "|     NULL|  NULL|\n",
            "|     Ajit| 40000|\n",
            "|     Ajit| 40000|\n",
            "+---------+------+\n",
            "\n"
          ]
        }
      ]
    },
    {
      "cell_type": "code",
      "source": [
        "# adding new column\n",
        "\n",
        "df1.withColumn('New_Exp', df1['Experience']+2).show()"
      ],
      "metadata": {
        "colab": {
          "base_uri": "https://localhost:8080/"
        },
        "id": "XpkeBHUunoz_",
        "outputId": "ec611c4f-ab64-4d2c-b8b0-df684b1ba2e4"
      },
      "execution_count": 16,
      "outputs": [
        {
          "output_type": "stream",
          "name": "stdout",
          "text": [
            "+---------+----+----------+------+-------+\n",
            "|     Name| Age|Experience|Salary|New_Exp|\n",
            "+---------+----+----------+------+-------+\n",
            "|     Amit|  22|       1.5| 12000|    3.5|\n",
            "|     Amit|  22|       1.5| 12000|    3.5|\n",
            "|    Ankit|  25|      NULL|  NULL|   NULL|\n",
            "|   Ashish|NULL|       1.0| 15000|    3.0|\n",
            "|    Vijay|  29|      NULL| 17000|   NULL|\n",
            "|Sudarshan|NULL|       5.0|  NULL|    7.0|\n",
            "|    Ketan|  33|      NULL| 23000|   NULL|\n",
            "|     NULL|  36|       8.0|  NULL|   10.0|\n",
            "|     NULL|  41|      NULL| 34000|   NULL|\n",
            "|     NULL|NULL|      NULL|  NULL|   NULL|\n",
            "|     Ajit|  43|      10.0| 40000|   12.0|\n",
            "|     Ajit|  43|      10.0| 40000|   12.0|\n",
            "+---------+----+----------+------+-------+\n",
            "\n"
          ]
        }
      ]
    },
    {
      "cell_type": "code",
      "source": [
        "# renaming column\n",
        "df1.withColumnRenamed('Name', 'New_Name').show(4)\n",
        "df1.show(4) # orginal dataframe is intact"
      ],
      "metadata": {
        "colab": {
          "base_uri": "https://localhost:8080/"
        },
        "id": "GSI-_PoApWdi",
        "outputId": "77d3d493-ccc3-414c-c052-81d6995ab6d8"
      },
      "execution_count": 17,
      "outputs": [
        {
          "output_type": "stream",
          "name": "stdout",
          "text": [
            "+--------+----+----------+------+\n",
            "|New_Name| Age|Experience|Salary|\n",
            "+--------+----+----------+------+\n",
            "|    Amit|  22|       1.5| 12000|\n",
            "|    Amit|  22|       1.5| 12000|\n",
            "|   Ankit|  25|      NULL|  NULL|\n",
            "|  Ashish|NULL|       1.0| 15000|\n",
            "+--------+----+----------+------+\n",
            "only showing top 4 rows\n",
            "\n",
            "+------+----+----------+------+\n",
            "|  Name| Age|Experience|Salary|\n",
            "+------+----+----------+------+\n",
            "|  Amit|  22|       1.5| 12000|\n",
            "|  Amit|  22|       1.5| 12000|\n",
            "| Ankit|  25|      NULL|  NULL|\n",
            "|Ashish|NULL|       1.0| 15000|\n",
            "+------+----+----------+------+\n",
            "only showing top 4 rows\n",
            "\n"
          ]
        }
      ]
    },
    {
      "cell_type": "code",
      "source": [
        "df1.withColumnRenamed('Name', 'New_name').withColumnRenamed('Age', 'New_age').show(4)"
      ],
      "metadata": {
        "colab": {
          "base_uri": "https://localhost:8080/"
        },
        "id": "UF3qrcg2qPc1",
        "outputId": "2d8c91f7-a45e-4e02-a1ae-10c878e1101d"
      },
      "execution_count": 18,
      "outputs": [
        {
          "output_type": "stream",
          "name": "stdout",
          "text": [
            "+--------+-------+----------+------+\n",
            "|New_name|New_age|Experience|Salary|\n",
            "+--------+-------+----------+------+\n",
            "|    Amit|     22|       1.5| 12000|\n",
            "|    Amit|     22|       1.5| 12000|\n",
            "|   Ankit|     25|      NULL|  NULL|\n",
            "|  Ashish|   NULL|       1.0| 15000|\n",
            "+--------+-------+----------+------+\n",
            "only showing top 4 rows\n",
            "\n"
          ]
        }
      ]
    },
    {
      "cell_type": "code",
      "source": [
        "# dropping a column\n",
        "\n",
        "df1.drop('Age').show(4)\n",
        "df.show(4)"
      ],
      "metadata": {
        "colab": {
          "base_uri": "https://localhost:8080/"
        },
        "id": "L7hY2hodqk7i",
        "outputId": "97a04817-8a5f-4f6c-8b13-af44a896fdf4"
      },
      "execution_count": 19,
      "outputs": [
        {
          "output_type": "stream",
          "name": "stdout",
          "text": [
            "+------+----------+------+\n",
            "|  Name|Experience|Salary|\n",
            "+------+----------+------+\n",
            "|  Amit|       1.5| 12000|\n",
            "|  Amit|       1.5| 12000|\n",
            "| Ankit|      NULL|  NULL|\n",
            "|Ashish|       1.0| 15000|\n",
            "+------+----------+------+\n",
            "only showing top 4 rows\n",
            "\n",
            "+------+------------+------+----------+\n",
            "|  Name|  Department|Salary|Experience|\n",
            "+------+------------+------+----------+\n",
            "|  Amit|Data Science| 25000|         5|\n",
            "|Mahesh|    Big Data| 17000|         7|\n",
            "|Ramesh|    Big Data| 17000|         2|\n",
            "|Sudhir|         IOT| 12000|         1|\n",
            "+------+------------+------+----------+\n",
            "only showing top 4 rows\n",
            "\n"
          ]
        }
      ]
    },
    {
      "cell_type": "code",
      "source": [
        "# dropping multiple columns\n",
        "df1.drop('Age', 'Salary').show(4)\n",
        "df1.show(4)"
      ],
      "metadata": {
        "colab": {
          "base_uri": "https://localhost:8080/"
        },
        "id": "wx6_qBuIrKLU",
        "outputId": "930c8254-b32d-44ed-baff-4885823b299f"
      },
      "execution_count": 20,
      "outputs": [
        {
          "output_type": "stream",
          "name": "stdout",
          "text": [
            "+------+----------+\n",
            "|  Name|Experience|\n",
            "+------+----------+\n",
            "|  Amit|       1.5|\n",
            "|  Amit|       1.5|\n",
            "| Ankit|      NULL|\n",
            "|Ashish|       1.0|\n",
            "+------+----------+\n",
            "only showing top 4 rows\n",
            "\n",
            "+------+----+----------+------+\n",
            "|  Name| Age|Experience|Salary|\n",
            "+------+----+----------+------+\n",
            "|  Amit|  22|       1.5| 12000|\n",
            "|  Amit|  22|       1.5| 12000|\n",
            "| Ankit|  25|      NULL|  NULL|\n",
            "|Ashish|NULL|       1.0| 15000|\n",
            "+------+----+----------+------+\n",
            "only showing top 4 rows\n",
            "\n"
          ]
        }
      ]
    },
    {
      "cell_type": "code",
      "source": [
        "from pyspark.sql.functions import lit"
      ],
      "metadata": {
        "id": "rMc-gokWq3PN"
      },
      "execution_count": 21,
      "outputs": []
    },
    {
      "cell_type": "code",
      "source": [
        "df1.withColumn('Bonus', lit('None')).show(5)"
      ],
      "metadata": {
        "colab": {
          "base_uri": "https://localhost:8080/"
        },
        "id": "AVyVVmUYquPQ",
        "outputId": "ac33eab1-bddd-4803-90ce-91aed36c7257"
      },
      "execution_count": 22,
      "outputs": [
        {
          "output_type": "stream",
          "name": "stdout",
          "text": [
            "+------+----+----------+------+-----+\n",
            "|  Name| Age|Experience|Salary|Bonus|\n",
            "+------+----+----------+------+-----+\n",
            "|  Amit|  22|       1.5| 12000| None|\n",
            "|  Amit|  22|       1.5| 12000| None|\n",
            "| Ankit|  25|      NULL|  NULL| None|\n",
            "|Ashish|NULL|       1.0| 15000| None|\n",
            "| Vijay|  29|      NULL| 17000| None|\n",
            "+------+----+----------+------+-----+\n",
            "only showing top 5 rows\n",
            "\n"
          ]
        }
      ]
    },
    {
      "cell_type": "code",
      "source": [
        "df1.withColumn('Bonus', df1['Salary']*0.15).show(5)"
      ],
      "metadata": {
        "colab": {
          "base_uri": "https://localhost:8080/"
        },
        "id": "WmB1MqeQq18J",
        "outputId": "32aa4f7b-91ed-41f6-a588-f7ca46396ce3"
      },
      "execution_count": 23,
      "outputs": [
        {
          "output_type": "stream",
          "name": "stdout",
          "text": [
            "+------+----+----------+------+------+\n",
            "|  Name| Age|Experience|Salary| Bonus|\n",
            "+------+----+----------+------+------+\n",
            "|  Amit|  22|       1.5| 12000|1800.0|\n",
            "|  Amit|  22|       1.5| 12000|1800.0|\n",
            "| Ankit|  25|      NULL|  NULL|  NULL|\n",
            "|Ashish|NULL|       1.0| 15000|2250.0|\n",
            "| Vijay|  29|      NULL| 17000|2550.0|\n",
            "+------+----+----------+------+------+\n",
            "only showing top 5 rows\n",
            "\n"
          ]
        }
      ]
    },
    {
      "cell_type": "code",
      "source": [
        "# find null values\n",
        "df1.na.drop(how = 'any').show()\n",
        "df1.na.drop().show()"
      ],
      "metadata": {
        "colab": {
          "base_uri": "https://localhost:8080/"
        },
        "id": "ZrSgDOaisUTs",
        "outputId": "009f69f0-4eca-4795-be63-4fbfe18ca7dc"
      },
      "execution_count": 24,
      "outputs": [
        {
          "output_type": "stream",
          "name": "stdout",
          "text": [
            "+----+---+----------+------+\n",
            "|Name|Age|Experience|Salary|\n",
            "+----+---+----------+------+\n",
            "|Amit| 22|       1.5| 12000|\n",
            "|Amit| 22|       1.5| 12000|\n",
            "|Ajit| 43|      10.0| 40000|\n",
            "|Ajit| 43|      10.0| 40000|\n",
            "+----+---+----------+------+\n",
            "\n",
            "+----+---+----------+------+\n",
            "|Name|Age|Experience|Salary|\n",
            "+----+---+----------+------+\n",
            "|Amit| 22|       1.5| 12000|\n",
            "|Amit| 22|       1.5| 12000|\n",
            "|Ajit| 43|      10.0| 40000|\n",
            "|Ajit| 43|      10.0| 40000|\n",
            "+----+---+----------+------+\n",
            "\n"
          ]
        }
      ]
    },
    {
      "cell_type": "code",
      "source": [
        "df1.show()\n",
        "df1.na.drop(how = 'all').show() # if all the rows contains null values in each column then that particular row will be deleted\n",
        "df1.na.drop(how = 'any').show() # if any column contains null values that particular row will be dropped"
      ],
      "metadata": {
        "colab": {
          "base_uri": "https://localhost:8080/"
        },
        "id": "OLF9iVsPtNWx",
        "outputId": "aa61d453-395a-4c28-bbd5-3b83b5638e24"
      },
      "execution_count": 25,
      "outputs": [
        {
          "output_type": "stream",
          "name": "stdout",
          "text": [
            "+---------+----+----------+------+\n",
            "|     Name| Age|Experience|Salary|\n",
            "+---------+----+----------+------+\n",
            "|     Amit|  22|       1.5| 12000|\n",
            "|     Amit|  22|       1.5| 12000|\n",
            "|    Ankit|  25|      NULL|  NULL|\n",
            "|   Ashish|NULL|       1.0| 15000|\n",
            "|    Vijay|  29|      NULL| 17000|\n",
            "|Sudarshan|NULL|       5.0|  NULL|\n",
            "|    Ketan|  33|      NULL| 23000|\n",
            "|     NULL|  36|       8.0|  NULL|\n",
            "|     NULL|  41|      NULL| 34000|\n",
            "|     NULL|NULL|      NULL|  NULL|\n",
            "|     Ajit|  43|      10.0| 40000|\n",
            "|     Ajit|  43|      10.0| 40000|\n",
            "+---------+----+----------+------+\n",
            "\n",
            "+---------+----+----------+------+\n",
            "|     Name| Age|Experience|Salary|\n",
            "+---------+----+----------+------+\n",
            "|     Amit|  22|       1.5| 12000|\n",
            "|     Amit|  22|       1.5| 12000|\n",
            "|    Ankit|  25|      NULL|  NULL|\n",
            "|   Ashish|NULL|       1.0| 15000|\n",
            "|    Vijay|  29|      NULL| 17000|\n",
            "|Sudarshan|NULL|       5.0|  NULL|\n",
            "|    Ketan|  33|      NULL| 23000|\n",
            "|     NULL|  36|       8.0|  NULL|\n",
            "|     NULL|  41|      NULL| 34000|\n",
            "|     Ajit|  43|      10.0| 40000|\n",
            "|     Ajit|  43|      10.0| 40000|\n",
            "+---------+----+----------+------+\n",
            "\n",
            "+----+---+----------+------+\n",
            "|Name|Age|Experience|Salary|\n",
            "+----+---+----------+------+\n",
            "|Amit| 22|       1.5| 12000|\n",
            "|Amit| 22|       1.5| 12000|\n",
            "|Ajit| 43|      10.0| 40000|\n",
            "|Ajit| 43|      10.0| 40000|\n",
            "+----+---+----------+------+\n",
            "\n"
          ]
        }
      ]
    },
    {
      "cell_type": "code",
      "source": [
        "# thresh -- this parameter shows how many columns should contain values in particular row\n",
        "df1.show()\n",
        "df1.na.drop(thresh = 2).show()"
      ],
      "metadata": {
        "colab": {
          "base_uri": "https://localhost:8080/"
        },
        "id": "tUlAn_qgtfad",
        "outputId": "65dfe979-af87-42c7-a6ba-a54d1870ffb9"
      },
      "execution_count": 26,
      "outputs": [
        {
          "output_type": "stream",
          "name": "stdout",
          "text": [
            "+---------+----+----------+------+\n",
            "|     Name| Age|Experience|Salary|\n",
            "+---------+----+----------+------+\n",
            "|     Amit|  22|       1.5| 12000|\n",
            "|     Amit|  22|       1.5| 12000|\n",
            "|    Ankit|  25|      NULL|  NULL|\n",
            "|   Ashish|NULL|       1.0| 15000|\n",
            "|    Vijay|  29|      NULL| 17000|\n",
            "|Sudarshan|NULL|       5.0|  NULL|\n",
            "|    Ketan|  33|      NULL| 23000|\n",
            "|     NULL|  36|       8.0|  NULL|\n",
            "|     NULL|  41|      NULL| 34000|\n",
            "|     NULL|NULL|      NULL|  NULL|\n",
            "|     Ajit|  43|      10.0| 40000|\n",
            "|     Ajit|  43|      10.0| 40000|\n",
            "+---------+----+----------+------+\n",
            "\n",
            "+---------+----+----------+------+\n",
            "|     Name| Age|Experience|Salary|\n",
            "+---------+----+----------+------+\n",
            "|     Amit|  22|       1.5| 12000|\n",
            "|     Amit|  22|       1.5| 12000|\n",
            "|    Ankit|  25|      NULL|  NULL|\n",
            "|   Ashish|NULL|       1.0| 15000|\n",
            "|    Vijay|  29|      NULL| 17000|\n",
            "|Sudarshan|NULL|       5.0|  NULL|\n",
            "|    Ketan|  33|      NULL| 23000|\n",
            "|     NULL|  36|       8.0|  NULL|\n",
            "|     NULL|  41|      NULL| 34000|\n",
            "|     Ajit|  43|      10.0| 40000|\n",
            "|     Ajit|  43|      10.0| 40000|\n",
            "+---------+----+----------+------+\n",
            "\n"
          ]
        }
      ]
    },
    {
      "cell_type": "code",
      "source": [
        "# thresh\n",
        "df1.show()\n",
        "df1.na.drop(thresh = 4).show()"
      ],
      "metadata": {
        "colab": {
          "base_uri": "https://localhost:8080/"
        },
        "id": "TXaPkGk0uJPs",
        "outputId": "3dcbd3f1-be8d-4fe6-d5fa-4cdbaea8b7fb"
      },
      "execution_count": 27,
      "outputs": [
        {
          "output_type": "stream",
          "name": "stdout",
          "text": [
            "+---------+----+----------+------+\n",
            "|     Name| Age|Experience|Salary|\n",
            "+---------+----+----------+------+\n",
            "|     Amit|  22|       1.5| 12000|\n",
            "|     Amit|  22|       1.5| 12000|\n",
            "|    Ankit|  25|      NULL|  NULL|\n",
            "|   Ashish|NULL|       1.0| 15000|\n",
            "|    Vijay|  29|      NULL| 17000|\n",
            "|Sudarshan|NULL|       5.0|  NULL|\n",
            "|    Ketan|  33|      NULL| 23000|\n",
            "|     NULL|  36|       8.0|  NULL|\n",
            "|     NULL|  41|      NULL| 34000|\n",
            "|     NULL|NULL|      NULL|  NULL|\n",
            "|     Ajit|  43|      10.0| 40000|\n",
            "|     Ajit|  43|      10.0| 40000|\n",
            "+---------+----+----------+------+\n",
            "\n",
            "+----+---+----------+------+\n",
            "|Name|Age|Experience|Salary|\n",
            "+----+---+----------+------+\n",
            "|Amit| 22|       1.5| 12000|\n",
            "|Amit| 22|       1.5| 12000|\n",
            "|Ajit| 43|      10.0| 40000|\n",
            "|Ajit| 43|      10.0| 40000|\n",
            "+----+---+----------+------+\n",
            "\n"
          ]
        }
      ]
    },
    {
      "cell_type": "code",
      "source": [
        "# subset-- it is used to drop values from the particular column\n",
        "df1.show()\n",
        "df1.na.drop(subset = ['Name']).show()"
      ],
      "metadata": {
        "colab": {
          "base_uri": "https://localhost:8080/"
        },
        "id": "OIV_AwgpuXX1",
        "outputId": "029ec973-e5e3-4348-d18d-72ca8e3349d7"
      },
      "execution_count": 28,
      "outputs": [
        {
          "output_type": "stream",
          "name": "stdout",
          "text": [
            "+---------+----+----------+------+\n",
            "|     Name| Age|Experience|Salary|\n",
            "+---------+----+----------+------+\n",
            "|     Amit|  22|       1.5| 12000|\n",
            "|     Amit|  22|       1.5| 12000|\n",
            "|    Ankit|  25|      NULL|  NULL|\n",
            "|   Ashish|NULL|       1.0| 15000|\n",
            "|    Vijay|  29|      NULL| 17000|\n",
            "|Sudarshan|NULL|       5.0|  NULL|\n",
            "|    Ketan|  33|      NULL| 23000|\n",
            "|     NULL|  36|       8.0|  NULL|\n",
            "|     NULL|  41|      NULL| 34000|\n",
            "|     NULL|NULL|      NULL|  NULL|\n",
            "|     Ajit|  43|      10.0| 40000|\n",
            "|     Ajit|  43|      10.0| 40000|\n",
            "+---------+----+----------+------+\n",
            "\n",
            "+---------+----+----------+------+\n",
            "|     Name| Age|Experience|Salary|\n",
            "+---------+----+----------+------+\n",
            "|     Amit|  22|       1.5| 12000|\n",
            "|     Amit|  22|       1.5| 12000|\n",
            "|    Ankit|  25|      NULL|  NULL|\n",
            "|   Ashish|NULL|       1.0| 15000|\n",
            "|    Vijay|  29|      NULL| 17000|\n",
            "|Sudarshan|NULL|       5.0|  NULL|\n",
            "|    Ketan|  33|      NULL| 23000|\n",
            "|     Ajit|  43|      10.0| 40000|\n",
            "|     Ajit|  43|      10.0| 40000|\n",
            "+---------+----+----------+------+\n",
            "\n"
          ]
        }
      ]
    },
    {
      "cell_type": "code",
      "source": [
        "# count null values of name column\n",
        "df1.filter(f.col('Name').isNull()).count()\n"
      ],
      "metadata": {
        "colab": {
          "base_uri": "https://localhost:8080/"
        },
        "id": "Io7wRfVyxBaI",
        "outputId": "364e5d33-2fa9-4334-aea9-0c3ef59abde5"
      },
      "execution_count": 29,
      "outputs": [
        {
          "output_type": "execute_result",
          "data": {
            "text/plain": [
              "3"
            ]
          },
          "metadata": {},
          "execution_count": 29
        }
      ]
    },
    {
      "cell_type": "code",
      "source": [
        "for column in df1.columns:\n",
        "  print(column, df1.filter(f.col(column).isNull()).count())"
      ],
      "metadata": {
        "colab": {
          "base_uri": "https://localhost:8080/"
        },
        "id": "91o9gR-zxpuQ",
        "outputId": "d4975f49-1dc9-4aaa-f69f-4ae375bc53ec"
      },
      "execution_count": 30,
      "outputs": [
        {
          "output_type": "stream",
          "name": "stdout",
          "text": [
            "Name 3\n",
            "Age 3\n",
            "Experience 5\n",
            "Salary 4\n"
          ]
        }
      ]
    },
    {
      "cell_type": "code",
      "source": [
        "# filter\n",
        "df1.filter('Age is not null').show()"
      ],
      "metadata": {
        "colab": {
          "base_uri": "https://localhost:8080/"
        },
        "id": "8wS3WbQCvgkE",
        "outputId": "9b7cdef0-ecf8-4a00-f88e-42b206fda31f"
      },
      "execution_count": 31,
      "outputs": [
        {
          "output_type": "stream",
          "name": "stdout",
          "text": [
            "+-----+---+----------+------+\n",
            "| Name|Age|Experience|Salary|\n",
            "+-----+---+----------+------+\n",
            "| Amit| 22|       1.5| 12000|\n",
            "| Amit| 22|       1.5| 12000|\n",
            "|Ankit| 25|      NULL|  NULL|\n",
            "|Vijay| 29|      NULL| 17000|\n",
            "|Ketan| 33|      NULL| 23000|\n",
            "| NULL| 36|       8.0|  NULL|\n",
            "| NULL| 41|      NULL| 34000|\n",
            "| Ajit| 43|      10.0| 40000|\n",
            "| Ajit| 43|      10.0| 40000|\n",
            "+-----+---+----------+------+\n",
            "\n"
          ]
        }
      ]
    },
    {
      "cell_type": "code",
      "source": [
        "df1.filter('Age > 25').show()\n",
        "df1.filter(df1['Age'] > 25).show()"
      ],
      "metadata": {
        "colab": {
          "base_uri": "https://localhost:8080/"
        },
        "id": "WzLoG6fXwoYs",
        "outputId": "2e166f07-8f79-4740-ae9c-683924230872"
      },
      "execution_count": 32,
      "outputs": [
        {
          "output_type": "stream",
          "name": "stdout",
          "text": [
            "+-----+---+----------+------+\n",
            "| Name|Age|Experience|Salary|\n",
            "+-----+---+----------+------+\n",
            "|Vijay| 29|      NULL| 17000|\n",
            "|Ketan| 33|      NULL| 23000|\n",
            "| NULL| 36|       8.0|  NULL|\n",
            "| NULL| 41|      NULL| 34000|\n",
            "| Ajit| 43|      10.0| 40000|\n",
            "| Ajit| 43|      10.0| 40000|\n",
            "+-----+---+----------+------+\n",
            "\n",
            "+-----+---+----------+------+\n",
            "| Name|Age|Experience|Salary|\n",
            "+-----+---+----------+------+\n",
            "|Vijay| 29|      NULL| 17000|\n",
            "|Ketan| 33|      NULL| 23000|\n",
            "| NULL| 36|       8.0|  NULL|\n",
            "| NULL| 41|      NULL| 34000|\n",
            "| Ajit| 43|      10.0| 40000|\n",
            "| Ajit| 43|      10.0| 40000|\n",
            "+-----+---+----------+------+\n",
            "\n"
          ]
        }
      ]
    },
    {
      "cell_type": "code",
      "source": [
        "ipl.show(5)"
      ],
      "metadata": {
        "colab": {
          "base_uri": "https://localhost:8080/"
        },
        "id": "u1DbDYmFwvIq",
        "outputId": "a5f58554-9c0c-496b-e5db-faa13e1005e8"
      },
      "execution_count": 33,
      "outputs": [
        {
          "output_type": "stream",
          "name": "stdout",
          "text": [
            "+--------+------+-------------------+--------------------+----+----+---------+-----------+--------+-------------+---------+--------+-----------+-----------+------------+------------+----------+----------+----------------+--------------+-------+\n",
            "|match_id|inning|       batting_team|        bowling_team|over|ball|  batsman|non_striker|  bowler|is_super_over|wide_runs|bye_runs|legbye_runs|noball_runs|penalty_runs|batsman_runs|extra_runs|total_runs|player_dismissed|dismissal_kind|fielder|\n",
            "+--------+------+-------------------+--------------------+----+----+---------+-----------+--------+-------------+---------+--------+-----------+-----------+------------+------------+----------+----------+----------------+--------------+-------+\n",
            "|       1|     1|Sunrisers Hyderabad|Royal Challengers...|   1|   1|DA Warner|   S Dhawan|TS Mills|            0|        0|       0|          0|          0|           0|           0|         0|         0|            NULL|          NULL|   NULL|\n",
            "|       1|     1|Sunrisers Hyderabad|Royal Challengers...|   1|   2|DA Warner|   S Dhawan|TS Mills|            0|        0|       0|          0|          0|           0|           0|         0|         0|            NULL|          NULL|   NULL|\n",
            "|       1|     1|Sunrisers Hyderabad|Royal Challengers...|   1|   3|DA Warner|   S Dhawan|TS Mills|            0|        0|       0|          0|          0|           0|           4|         0|         4|            NULL|          NULL|   NULL|\n",
            "|       1|     1|Sunrisers Hyderabad|Royal Challengers...|   1|   4|DA Warner|   S Dhawan|TS Mills|            0|        0|       0|          0|          0|           0|           0|         0|         0|            NULL|          NULL|   NULL|\n",
            "|       1|     1|Sunrisers Hyderabad|Royal Challengers...|   1|   5|DA Warner|   S Dhawan|TS Mills|            0|        2|       0|          0|          0|           0|           0|         2|         2|            NULL|          NULL|   NULL|\n",
            "+--------+------+-------------------+--------------------+----+----+---------+-----------+--------+-------------+---------+--------+-----------+-----------+------------+------------+----------+----------+----------------+--------------+-------+\n",
            "only showing top 5 rows\n",
            "\n"
          ]
        }
      ]
    },
    {
      "cell_type": "code",
      "source": [
        "for column in ipl.columns:\n",
        "  print(column, ipl.filter(f.col(column).isNull()).count())\n"
      ],
      "metadata": {
        "colab": {
          "base_uri": "https://localhost:8080/"
        },
        "id": "IwYcrFdUyRgt",
        "outputId": "dc0e901f-f40b-4c87-efd7-02de1b7e9449"
      },
      "execution_count": 34,
      "outputs": [
        {
          "output_type": "stream",
          "name": "stdout",
          "text": [
            "match_id 0\n",
            "inning 0\n",
            "batting_team 0\n",
            "bowling_team 0\n",
            "over 0\n",
            "ball 0\n",
            "batsman 0\n",
            "non_striker 0\n",
            "bowler 0\n",
            "is_super_over 0\n",
            "wide_runs 0\n",
            "bye_runs 0\n",
            "legbye_runs 0\n",
            "noball_runs 0\n",
            "penalty_runs 0\n",
            "batsman_runs 0\n",
            "extra_runs 0\n",
            "total_runs 0\n",
            "player_dismissed 143022\n",
            "dismissal_kind 143022\n",
            "fielder 145091\n"
          ]
        }
      ]
    },
    {
      "cell_type": "code",
      "source": [
        "df1.filter(df1['Name'] == 'Ankit').show()"
      ],
      "metadata": {
        "colab": {
          "base_uri": "https://localhost:8080/"
        },
        "id": "wIo0xxu9yccM",
        "outputId": "8d35c06c-3b54-4ec3-fdbf-fd0e6dc1e9ad"
      },
      "execution_count": 35,
      "outputs": [
        {
          "output_type": "stream",
          "name": "stdout",
          "text": [
            "+-----+---+----------+------+\n",
            "| Name|Age|Experience|Salary|\n",
            "+-----+---+----------+------+\n",
            "|Ankit| 25|      NULL|  NULL|\n",
            "+-----+---+----------+------+\n",
            "\n"
          ]
        }
      ]
    },
    {
      "cell_type": "code",
      "source": [
        "ipl.show(1)"
      ],
      "metadata": {
        "colab": {
          "base_uri": "https://localhost:8080/"
        },
        "id": "cOPHbiUEz2me",
        "outputId": "d781740c-988e-4416-8e5e-0efc973a49d0"
      },
      "execution_count": 36,
      "outputs": [
        {
          "output_type": "stream",
          "name": "stdout",
          "text": [
            "+--------+------+-------------------+--------------------+----+----+---------+-----------+--------+-------------+---------+--------+-----------+-----------+------------+------------+----------+----------+----------------+--------------+-------+\n",
            "|match_id|inning|       batting_team|        bowling_team|over|ball|  batsman|non_striker|  bowler|is_super_over|wide_runs|bye_runs|legbye_runs|noball_runs|penalty_runs|batsman_runs|extra_runs|total_runs|player_dismissed|dismissal_kind|fielder|\n",
            "+--------+------+-------------------+--------------------+----+----+---------+-----------+--------+-------------+---------+--------+-----------+-----------+------------+------------+----------+----------+----------------+--------------+-------+\n",
            "|       1|     1|Sunrisers Hyderabad|Royal Challengers...|   1|   1|DA Warner|   S Dhawan|TS Mills|            0|        0|       0|          0|          0|           0|           0|         0|         0|            NULL|          NULL|   NULL|\n",
            "+--------+------+-------------------+--------------------+----+----+---------+-----------+--------+-------------+---------+--------+-----------+-----------+------------+------------+----------+----------+----------------+--------------+-------+\n",
            "only showing top 1 row\n",
            "\n"
          ]
        }
      ]
    },
    {
      "cell_type": "code",
      "source": [
        "matches.show(4)"
      ],
      "metadata": {
        "colab": {
          "base_uri": "https://localhost:8080/"
        },
        "id": "yVSU5R6I1Sem",
        "outputId": "026f5588-08d6-4547-8fab-18fc88a76351"
      },
      "execution_count": 38,
      "outputs": [
        {
          "output_type": "stream",
          "name": "stdout",
          "text": [
            "+---+------+---------+----------+--------------------+--------------------+--------------------+-------------+------+----------+--------------------+-----------+--------------+---------------+--------------------+--------------+-------------+-------+\n",
            "| id|season|     city|      date|               team1|               team2|         toss_winner|toss_decision|result|dl_applied|              winner|win_by_runs|win_by_wickets|player_of_match|               venue|       umpire1|      umpire2|umpire3|\n",
            "+---+------+---------+----------+--------------------+--------------------+--------------------+-------------+------+----------+--------------------+-----------+--------------+---------------+--------------------+--------------+-------------+-------+\n",
            "|  1|  2017|Hyderabad|2017-04-05| Sunrisers Hyderabad|Royal Challengers...|Royal Challengers...|        field|normal|         0| Sunrisers Hyderabad|         35|             0|   Yuvraj Singh|Rajiv Gandhi Inte...|   AY Dandekar|     NJ Llong|   NULL|\n",
            "|  2|  2017|     Pune|2017-04-06|      Mumbai Indians|Rising Pune Super...|Rising Pune Super...|        field|normal|         0|Rising Pune Super...|          0|             7|      SPD Smith|Maharashtra Crick...|A Nand Kishore|       S Ravi|   NULL|\n",
            "|  3|  2017|   Rajkot|2017-04-07|       Gujarat Lions|Kolkata Knight Ri...|Kolkata Knight Ri...|        field|normal|         0|Kolkata Knight Ri...|          0|            10|        CA Lynn|Saurashtra Cricke...|   Nitin Menon|    CK Nandan|   NULL|\n",
            "|  4|  2017|   Indore|2017-04-08|Rising Pune Super...|     Kings XI Punjab|     Kings XI Punjab|        field|normal|         0|     Kings XI Punjab|          0|             6|     GJ Maxwell|Holkar Cricket St...|  AK Chaudhary|C Shamshuddin|   NULL|\n",
            "+---+------+---------+----------+--------------------+--------------------+--------------------+-------------+------+----------+--------------------+-----------+--------------+---------------+--------------------+--------------+-------------+-------+\n",
            "only showing top 4 rows\n",
            "\n"
          ]
        }
      ]
    },
    {
      "cell_type": "markdown",
      "source": [
        "1) How many matches we’ve got in the dataset?\n",
        "\n",
        "2) How many seasons we’ve got in the dataset?\n",
        "\n",
        "3) Which Team had won by maximum runs?\n",
        "\n",
        "4) Which Team had won by maximum wicket?\n",
        "\n",
        "5) Which Team had won by closest Margin (minimum runs)?\n",
        "\n",
        "6) Which Team had won by minimum wicket?\n",
        "\n",
        "7) Which Season had most number of matches?\n",
        "\n",
        "8) Which IPL Team is more successful?\n",
        "\n",
        "9) Has Toss-winning helped in winning matches?\n"
      ],
      "metadata": {
        "id": "_TalvBdNG_lb"
      }
    },
    {
      "cell_type": "code",
      "source": [
        "# 1) How many matches we’ve got in the dataset?\n",
        "\n",
        "ipl.select(ipl['match_id']).alias('total_number_matches').distinct().count()"
      ],
      "metadata": {
        "colab": {
          "base_uri": "https://localhost:8080/"
        },
        "id": "eABMgTrrG-KT",
        "outputId": "18c5994e-a1fa-469c-add7-e6900547f1be"
      },
      "execution_count": 43,
      "outputs": [
        {
          "output_type": "execute_result",
          "data": {
            "text/plain": [
              "636"
            ]
          },
          "metadata": {},
          "execution_count": 43
        }
      ]
    },
    {
      "cell_type": "code",
      "source": [
        "#2) How many seasons we’ve got in the dataset?\n",
        "\n",
        "matches.select('season').distinct().count()"
      ],
      "metadata": {
        "colab": {
          "base_uri": "https://localhost:8080/"
        },
        "id": "Rb0fjSnnHQUm",
        "outputId": "578c0a3d-0ea8-437c-9438-e6bef916dbc0"
      },
      "execution_count": 44,
      "outputs": [
        {
          "output_type": "execute_result",
          "data": {
            "text/plain": [
              "10"
            ]
          },
          "metadata": {},
          "execution_count": 44
        }
      ]
    },
    {
      "cell_type": "code",
      "source": [
        "# 3) Which Team had won by maximum runs?\n",
        "matches.groupby('winner').agg(f.max('win_by_runs')).orderBy('max(win_by_runs)', ascending = False).show(1)"
      ],
      "metadata": {
        "colab": {
          "base_uri": "https://localhost:8080/"
        },
        "id": "D5eAmI9KIJa8",
        "outputId": "2d4a2c80-c8e3-4a04-f02c-f2c03c4f2039"
      },
      "execution_count": 49,
      "outputs": [
        {
          "output_type": "stream",
          "name": "stdout",
          "text": [
            "+--------------+----------------+\n",
            "|        winner|max(win_by_runs)|\n",
            "+--------------+----------------+\n",
            "|Mumbai Indians|             146|\n",
            "+--------------+----------------+\n",
            "only showing top 1 row\n",
            "\n"
          ]
        }
      ]
    },
    {
      "cell_type": "code",
      "source": [
        "# another approach\n",
        "teams = matches.select('winner', 'win_by_runs')\n",
        "teams.orderBy('win_by_runs', ascending = False).show(1)"
      ],
      "metadata": {
        "colab": {
          "base_uri": "https://localhost:8080/"
        },
        "id": "RiP1Dv3OJvoH",
        "outputId": "2134b2fc-001f-44c1-c332-5a5c3f7e65ce"
      },
      "execution_count": 56,
      "outputs": [
        {
          "output_type": "stream",
          "name": "stdout",
          "text": [
            "+--------------+-----------+\n",
            "|        winner|win_by_runs|\n",
            "+--------------+-----------+\n",
            "|Mumbai Indians|        146|\n",
            "+--------------+-----------+\n",
            "only showing top 1 row\n",
            "\n"
          ]
        }
      ]
    },
    {
      "cell_type": "code",
      "source": [],
      "metadata": {
        "id": "J8149L1ZJ4yi"
      },
      "execution_count": null,
      "outputs": []
    },
    {
      "cell_type": "code",
      "source": [
        "# 4)Team had won by maximum runs?\n",
        "\n",
        "matches.groupby('winner').agg(f.max('win_by_runs')).orderBy('max(win_by_runs)', ascending = False).show()"
      ],
      "metadata": {
        "colab": {
          "base_uri": "https://localhost:8080/"
        },
        "id": "PEVpJUK-Imhu",
        "outputId": "cf309ed7-72b2-4b15-b603-3412ddc44010"
      },
      "execution_count": 58,
      "outputs": [
        {
          "output_type": "stream",
          "name": "stdout",
          "text": [
            "+--------------------+----------------+\n",
            "|              winner|max(win_by_runs)|\n",
            "+--------------------+----------------+\n",
            "|      Mumbai Indians|             146|\n",
            "|Royal Challengers...|             144|\n",
            "|Kolkata Knight Ri...|             140|\n",
            "|     Kings XI Punjab|             111|\n",
            "|    Rajasthan Royals|             105|\n",
            "| Chennai Super Kings|              97|\n",
            "|    Delhi Daredevils|              97|\n",
            "| Sunrisers Hyderabad|              85|\n",
            "|     Deccan Chargers|              82|\n",
            "|Rising Pune Super...|              61|\n",
            "|       Pune Warriors|              38|\n",
            "|Rising Pune Super...|              34|\n",
            "|Kochi Tuskers Kerala|              17|\n",
            "|       Gujarat Lions|               1|\n",
            "|                NULL|               0|\n",
            "+--------------------+----------------+\n",
            "\n"
          ]
        }
      ]
    },
    {
      "cell_type": "code",
      "source": [
        "#4) Which Team had won by maximum wicket?\n",
        "matches.groupby('winner').agg(f.max('win_by_wickets')).orderBy('max(win_by_wickets)', ascending = False).show(1)"
      ],
      "metadata": {
        "colab": {
          "base_uri": "https://localhost:8080/"
        },
        "id": "K5s4fIZ7JmIr",
        "outputId": "f5c0557f-3283-4102-9403-595cc7ae4ad1"
      },
      "execution_count": 59,
      "outputs": [
        {
          "output_type": "stream",
          "name": "stdout",
          "text": [
            "+-------------------+-------------------+\n",
            "|             winner|max(win_by_wickets)|\n",
            "+-------------------+-------------------+\n",
            "|Sunrisers Hyderabad|                 10|\n",
            "+-------------------+-------------------+\n",
            "only showing top 1 row\n",
            "\n"
          ]
        }
      ]
    },
    {
      "cell_type": "code",
      "source": [
        "# 4) Team had won by maximum wicket?\n",
        "\n",
        "matches.groupby('winner').agg(f.max('win_by_wickets')).orderBy('max(win_by_wickets)', ascending = False).show()"
      ],
      "metadata": {
        "colab": {
          "base_uri": "https://localhost:8080/"
        },
        "id": "l8QBCAspLbja",
        "outputId": "60790796-3b6e-48fc-d6cc-af4d6d92719a"
      },
      "execution_count": 61,
      "outputs": [
        {
          "output_type": "stream",
          "name": "stdout",
          "text": [
            "+--------------------+-------------------+\n",
            "|              winner|max(win_by_wickets)|\n",
            "+--------------------+-------------------+\n",
            "| Sunrisers Hyderabad|                 10|\n",
            "| Chennai Super Kings|                 10|\n",
            "|     Deccan Chargers|                 10|\n",
            "|    Rajasthan Royals|                 10|\n",
            "|Royal Challengers...|                 10|\n",
            "|Kolkata Knight Ri...|                 10|\n",
            "|     Kings XI Punjab|                 10|\n",
            "|    Delhi Daredevils|                 10|\n",
            "|      Mumbai Indians|                 10|\n",
            "|Rising Pune Super...|                  9|\n",
            "|Rising Pune Super...|                  9|\n",
            "|Kochi Tuskers Kerala|                  8|\n",
            "|       Gujarat Lions|                  7|\n",
            "|       Pune Warriors|                  7|\n",
            "|                NULL|                  0|\n",
            "+--------------------+-------------------+\n",
            "\n"
          ]
        }
      ]
    },
    {
      "cell_type": "code",
      "source": [
        "#5) Which Team had won by closest Margin (minimum runs)?\n",
        "matches.groupby('winner').agg(f.min('win_by_runs')).orderBy('min(win_by_runs)').show(1)\n"
      ],
      "metadata": {
        "colab": {
          "base_uri": "https://localhost:8080/"
        },
        "id": "waWptxL6LjHe",
        "outputId": "e6109ba0-3703-4f7f-b622-1cd0875c4a00"
      },
      "execution_count": 62,
      "outputs": [
        {
          "output_type": "stream",
          "name": "stdout",
          "text": [
            "+-------------------+----------------+\n",
            "|             winner|min(win_by_runs)|\n",
            "+-------------------+----------------+\n",
            "|Sunrisers Hyderabad|               0|\n",
            "+-------------------+----------------+\n",
            "only showing top 1 row\n",
            "\n"
          ]
        }
      ]
    },
    {
      "cell_type": "code",
      "source": [
        "teams1 = matches.filter(matches['win_by_runs']==1)"
      ],
      "metadata": {
        "id": "aLiYZxadQp-o"
      },
      "execution_count": 67,
      "outputs": []
    },
    {
      "cell_type": "code",
      "source": [
        "teams1.select('winner', 'win_by_runs').show()"
      ],
      "metadata": {
        "colab": {
          "base_uri": "https://localhost:8080/"
        },
        "id": "GEsjr2IeRY3Z",
        "outputId": "9f105cb5-198c-4d72-839e-448b0c3116ae"
      },
      "execution_count": 68,
      "outputs": [
        {
          "output_type": "stream",
          "name": "stdout",
          "text": [
            "+--------------------+-----------+\n",
            "|              winner|win_by_runs|\n",
            "+--------------------+-----------+\n",
            "|      Mumbai Indians|          1|\n",
            "|     Kings XI Punjab|          1|\n",
            "|     Kings XI Punjab|          1|\n",
            "|    Delhi Daredevils|          1|\n",
            "|      Mumbai Indians|          1|\n",
            "| Chennai Super Kings|          1|\n",
            "|       Gujarat Lions|          1|\n",
            "|Royal Challengers...|          1|\n",
            "+--------------------+-----------+\n",
            "\n"
          ]
        }
      ]
    },
    {
      "cell_type": "code",
      "source": [
        "#team won by min wickets\n",
        "min_wicket = matches.select('winner', 'win_by_wickets')"
      ],
      "metadata": {
        "id": "GM8YG9-LVTt6"
      },
      "execution_count": 72,
      "outputs": []
    },
    {
      "cell_type": "code",
      "source": [
        "min_wicket.filter(min_wicket['win_by_wickets']==1).show()"
      ],
      "metadata": {
        "colab": {
          "base_uri": "https://localhost:8080/"
        },
        "id": "aTQSKS2XW-Rq",
        "outputId": "e26caf65-3e05-4e26-e578-f7d9eb7605eb"
      },
      "execution_count": 73,
      "outputs": [
        {
          "output_type": "stream",
          "name": "stdout",
          "text": [
            "+--------------------+--------------+\n",
            "|              winner|win_by_wickets|\n",
            "+--------------------+--------------+\n",
            "|Kolkata Knight Ri...|             1|\n",
            "+--------------------+--------------+\n",
            "\n"
          ]
        }
      ]
    },
    {
      "cell_type": "code",
      "source": [
        "# 7) Which Season had most number of matches?\n",
        "#matches.groupby('season').agg(f.count('season')).orderBy('count(season)', ascending = False).show(1)\n",
        "\n",
        "matches.groupby('season').agg(f.count('id')).orderBy('count(id)', ascending = False).show(4)\n",
        "\n",
        "# season 2013 has most number of matches"
      ],
      "metadata": {
        "colab": {
          "base_uri": "https://localhost:8080/"
        },
        "id": "tZhS5azzXhf2",
        "outputId": "d0de1891-6600-4d80-b000-f387d07267f8"
      },
      "execution_count": 77,
      "outputs": [
        {
          "output_type": "stream",
          "name": "stdout",
          "text": [
            "+------+---------+\n",
            "|season|count(id)|\n",
            "+------+---------+\n",
            "|  2013|       76|\n",
            "|  2012|       74|\n",
            "|  2011|       73|\n",
            "|  2010|       60|\n",
            "+------+---------+\n",
            "only showing top 4 rows\n",
            "\n"
          ]
        }
      ]
    },
    {
      "cell_type": "code",
      "source": [
        "# 8) Which IPL Team is more successful?\n",
        "\n",
        "matches.groupby('winner').agg(f.count('winner')).orderBy('count(winner)', ascending = False).show(5)\n",
        "\n",
        "# MI is the most successfull team in ipl"
      ],
      "metadata": {
        "colab": {
          "base_uri": "https://localhost:8080/"
        },
        "id": "vKT7H5fCchn_",
        "outputId": "33e6e661-3dfc-40cd-d123-897f473104b7"
      },
      "execution_count": 80,
      "outputs": [
        {
          "output_type": "stream",
          "name": "stdout",
          "text": [
            "+--------------------+-------------+\n",
            "|              winner|count(winner)|\n",
            "+--------------------+-------------+\n",
            "|      Mumbai Indians|           92|\n",
            "| Chennai Super Kings|           79|\n",
            "|Kolkata Knight Ri...|           77|\n",
            "|Royal Challengers...|           73|\n",
            "|     Kings XI Punjab|           70|\n",
            "+--------------------+-------------+\n",
            "only showing top 5 rows\n",
            "\n"
          ]
        }
      ]
    },
    {
      "cell_type": "code",
      "source": [
        "# 9) who have got the most number of player of the match awards\n",
        "matches.groupby('player_of_match').agg(f.count('player_of_match')).orderBy('count(player_of_match)', ascending = False).show(5)\n",
        "\n",
        "# CH Gayle have won the most number of man of the match award"
      ],
      "metadata": {
        "colab": {
          "base_uri": "https://localhost:8080/"
        },
        "id": "gVOgf5ywdsJv",
        "outputId": "36aeea15-ee72-43e2-e239-e422b8010492"
      },
      "execution_count": 82,
      "outputs": [
        {
          "output_type": "stream",
          "name": "stdout",
          "text": [
            "+---------------+----------------------+\n",
            "|player_of_match|count(player_of_match)|\n",
            "+---------------+----------------------+\n",
            "|       CH Gayle|                    18|\n",
            "|      YK Pathan|                    16|\n",
            "| AB de Villiers|                    15|\n",
            "|      DA Warner|                    15|\n",
            "|      RG Sharma|                    14|\n",
            "+---------------+----------------------+\n",
            "only showing top 5 rows\n",
            "\n"
          ]
        }
      ]
    },
    {
      "cell_type": "code",
      "source": [
        "# 9) Has Toss-winning helped in winning matches?\n",
        "round(matches.filter(matches['toss_winner'] == matches['winner']).count()/matches.count()*100,2)"
      ],
      "metadata": {
        "colab": {
          "base_uri": "https://localhost:8080/"
        },
        "id": "KQeV0vOxfDbH",
        "outputId": "cf4a15f4-0257-49c6-9a0e-723736b20c67"
      },
      "execution_count": 90,
      "outputs": [
        {
          "output_type": "execute_result",
          "data": {
            "text/plain": [
              "51.1"
            ]
          },
          "metadata": {},
          "execution_count": 90
        }
      ]
    },
    {
      "cell_type": "code",
      "source": [],
      "metadata": {
        "id": "8ssThuRjiJi0"
      },
      "execution_count": 87,
      "outputs": []
    },
    {
      "cell_type": "code",
      "source": [],
      "metadata": {
        "id": "yPxLlFsZiUZ-"
      },
      "execution_count": null,
      "outputs": []
    }
  ]
}
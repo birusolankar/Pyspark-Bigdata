{
  "nbformat": 4,
  "nbformat_minor": 0,
  "metadata": {
    "colab": {
      "provenance": [],
      "authorship_tag": "ABX9TyOADiawBICcvtXSnTliBH1I",
      "include_colab_link": true
    },
    "kernelspec": {
      "name": "python3",
      "display_name": "Python 3"
    },
    "language_info": {
      "name": "python"
    }
  },
  "cells": [
    {
      "cell_type": "markdown",
      "metadata": {
        "id": "view-in-github",
        "colab_type": "text"
      },
      "source": [
        "<a href=\"https://colab.research.google.com/github/birusolankar/Pyspark-Bigdata/blob/main/Pyspark_5_11_2024.ipynb\" target=\"_parent\"><img src=\"https://colab.research.google.com/assets/colab-badge.svg\" alt=\"Open In Colab\"/></a>"
      ]
    },
    {
      "cell_type": "code",
      "execution_count": null,
      "metadata": {
        "id": "5HrdqiEWlu5_"
      },
      "outputs": [],
      "source": [
        "import pyspark"
      ]
    },
    {
      "cell_type": "code",
      "source": [
        "from pyspark.sql import SparkSession\n"
      ],
      "metadata": {
        "id": "vPH3nmnc7zqi"
      },
      "execution_count": null,
      "outputs": []
    },
    {
      "cell_type": "code",
      "source": [
        "spark = SparkSession.builder.appName('5/11/2024').getOrCreate()"
      ],
      "metadata": {
        "id": "4noii0RH7-Bn"
      },
      "execution_count": null,
      "outputs": []
    },
    {
      "cell_type": "code",
      "source": [
        "ipl = spark.read.csv('/content/deliveries.csv', inferSchema = True, header = True)"
      ],
      "metadata": {
        "id": "C1czULHQ8SWp"
      },
      "execution_count": null,
      "outputs": []
    },
    {
      "cell_type": "code",
      "source": [
        "ipl.show(5)"
      ],
      "metadata": {
        "colab": {
          "base_uri": "https://localhost:8080/"
        },
        "id": "Xmq62TdB8hBf",
        "outputId": "9c3e3b41-8308-467e-c4a6-4819c49fd90b"
      },
      "execution_count": null,
      "outputs": [
        {
          "output_type": "stream",
          "name": "stdout",
          "text": [
            "+--------+------+-------------------+--------------------+----+----+---------+-----------+--------+-------------+---------+--------+-----------+-----------+------------+------------+----------+----------+----------------+--------------+-------+\n",
            "|match_id|inning|       batting_team|        bowling_team|over|ball|  batsman|non_striker|  bowler|is_super_over|wide_runs|bye_runs|legbye_runs|noball_runs|penalty_runs|batsman_runs|extra_runs|total_runs|player_dismissed|dismissal_kind|fielder|\n",
            "+--------+------+-------------------+--------------------+----+----+---------+-----------+--------+-------------+---------+--------+-----------+-----------+------------+------------+----------+----------+----------------+--------------+-------+\n",
            "|       1|     1|Sunrisers Hyderabad|Royal Challengers...|   1|   1|DA Warner|   S Dhawan|TS Mills|            0|        0|       0|          0|          0|           0|           0|         0|         0|            NULL|          NULL|   NULL|\n",
            "|       1|     1|Sunrisers Hyderabad|Royal Challengers...|   1|   2|DA Warner|   S Dhawan|TS Mills|            0|        0|       0|          0|          0|           0|           0|         0|         0|            NULL|          NULL|   NULL|\n",
            "|       1|     1|Sunrisers Hyderabad|Royal Challengers...|   1|   3|DA Warner|   S Dhawan|TS Mills|            0|        0|       0|          0|          0|           0|           4|         0|         4|            NULL|          NULL|   NULL|\n",
            "|       1|     1|Sunrisers Hyderabad|Royal Challengers...|   1|   4|DA Warner|   S Dhawan|TS Mills|            0|        0|       0|          0|          0|           0|           0|         0|         0|            NULL|          NULL|   NULL|\n",
            "|       1|     1|Sunrisers Hyderabad|Royal Challengers...|   1|   5|DA Warner|   S Dhawan|TS Mills|            0|        2|       0|          0|          0|           0|           0|         2|         2|            NULL|          NULL|   NULL|\n",
            "+--------+------+-------------------+--------------------+----+----+---------+-----------+--------+-------------+---------+--------+-----------+-----------+------------+------------+----------+----------+----------------+--------------+-------+\n",
            "only showing top 5 rows\n",
            "\n"
          ]
        }
      ]
    },
    {
      "cell_type": "code",
      "source": [
        "df = spark.read.csv('/content/Tutorial_4.csv', inferSchema = True, header = True)"
      ],
      "metadata": {
        "id": "KMcRmeR78ppM"
      },
      "execution_count": null,
      "outputs": []
    },
    {
      "cell_type": "code",
      "source": [
        "df.show(4)"
      ],
      "metadata": {
        "colab": {
          "base_uri": "https://localhost:8080/"
        },
        "id": "hOJSdTLB87Nc",
        "outputId": "5cf2bd7e-3871-4db1-d2ee-506820c22e21"
      },
      "execution_count": null,
      "outputs": [
        {
          "output_type": "stream",
          "name": "stdout",
          "text": [
            "+------+------------+------+----------+\n",
            "|  Name|  Department|Salary|Experience|\n",
            "+------+------------+------+----------+\n",
            "|  Amit|Data Science| 25000|         5|\n",
            "|Mahesh|    Big Data| 17000|         7|\n",
            "|Ramesh|    Big Data| 17000|         2|\n",
            "|Sudhir|         IOT| 12000|         1|\n",
            "+------+------------+------+----------+\n",
            "only showing top 4 rows\n",
            "\n"
          ]
        }
      ]
    },
    {
      "cell_type": "code",
      "source": [
        "df.show()"
      ],
      "metadata": {
        "colab": {
          "base_uri": "https://localhost:8080/"
        },
        "id": "VoWDrj-w89kz",
        "outputId": "0ad18c7e-ca44-463d-9ddf-5a6a4a521be6"
      },
      "execution_count": null,
      "outputs": [
        {
          "output_type": "stream",
          "name": "stdout",
          "text": [
            "+------+----------------+------+----------+\n",
            "|  Name|      Department|Salary|Experience|\n",
            "+------+----------------+------+----------+\n",
            "|  Amit|    Data Science| 25000|         5|\n",
            "|Mahesh|        Big Data| 17000|         7|\n",
            "|Ramesh|        Big Data| 17000|         2|\n",
            "|Sudhir|             IOT| 12000|         1|\n",
            "|Sudhir|        Big Data|  7000|         4|\n",
            "| Sunny|    Data Science| 20000|         2|\n",
            "| Sunny|        Big Data| 12000|         3|\n",
            "|  Alka|Machine Learning| 30000|         4|\n",
            "+------+----------------+------+----------+\n",
            "\n"
          ]
        }
      ]
    },
    {
      "cell_type": "code",
      "source": [
        "from pyspark.sql import functions as f"
      ],
      "metadata": {
        "id": "lZvPoFZ19tLO"
      },
      "execution_count": null,
      "outputs": []
    },
    {
      "cell_type": "code",
      "source": [
        "df.groupby('Department').agg(f.max('Salary')).show()"
      ],
      "metadata": {
        "colab": {
          "base_uri": "https://localhost:8080/"
        },
        "id": "ksLFpvVd9mvM",
        "outputId": "243cda3a-fcfd-453b-b05c-c8bcb0a93f73"
      },
      "execution_count": 27,
      "outputs": [
        {
          "output_type": "stream",
          "name": "stdout",
          "text": [
            "+----------------+-----------+\n",
            "|      Department|max(Salary)|\n",
            "+----------------+-----------+\n",
            "|             IOT|      12000|\n",
            "|Machine Learning|      30000|\n",
            "|        Big Data|      17000|\n",
            "|    Data Science|      25000|\n",
            "+----------------+-----------+\n",
            "\n"
          ]
        }
      ]
    },
    {
      "cell_type": "code",
      "source": [
        "df.groupby('Department').agg(f.min('Salary'), f.min('Experience')).show()"
      ],
      "metadata": {
        "colab": {
          "base_uri": "https://localhost:8080/"
        },
        "id": "KXe1N8CRmOEa",
        "outputId": "6a0232f5-636b-433b-a1c6-9566a2c7806c"
      },
      "execution_count": 30,
      "outputs": [
        {
          "output_type": "stream",
          "name": "stdout",
          "text": [
            "+----------------+-----------+---------------+\n",
            "|      Department|min(Salary)|min(Experience)|\n",
            "+----------------+-----------+---------------+\n",
            "|             IOT|      12000|              1|\n",
            "|Machine Learning|      30000|              4|\n",
            "|        Big Data|       7000|              2|\n",
            "|    Data Science|      20000|              2|\n",
            "+----------------+-----------+---------------+\n",
            "\n"
          ]
        }
      ]
    },
    {
      "cell_type": "code",
      "source": [
        "df1 = spark.read.csv('/content/Tutorial_3.csv', inferSchema = True, header = True)"
      ],
      "metadata": {
        "id": "frljMtEf9BI5"
      },
      "execution_count": null,
      "outputs": []
    },
    {
      "cell_type": "code",
      "source": [
        "df1.show()"
      ],
      "metadata": {
        "colab": {
          "base_uri": "https://localhost:8080/"
        },
        "id": "Jm-Z17QL9cX7",
        "outputId": "27d067a1-8dc3-42b2-af2d-ddbdec7b12b1"
      },
      "execution_count": null,
      "outputs": [
        {
          "output_type": "stream",
          "name": "stdout",
          "text": [
            "+---------+----+----------+------+\n",
            "|     Name| Age|Experience|Salary|\n",
            "+---------+----+----------+------+\n",
            "|     Amit|  22|       1.5| 12000|\n",
            "|     Amit|  22|       1.5| 12000|\n",
            "|    Ankit|  25|      NULL|  NULL|\n",
            "|   Ashish|NULL|       1.0| 15000|\n",
            "|    Vijay|  29|      NULL| 17000|\n",
            "|Sudarshan|NULL|       5.0|  NULL|\n",
            "|    Ketan|  33|      NULL| 23000|\n",
            "|     NULL|  36|       8.0|  NULL|\n",
            "|     NULL|  41|      NULL| 34000|\n",
            "|     NULL|NULL|      NULL|  NULL|\n",
            "|     Ajit|  43|      10.0| 40000|\n",
            "|     Ajit|  43|      10.0| 40000|\n",
            "+---------+----+----------+------+\n",
            "\n"
          ]
        }
      ]
    },
    {
      "cell_type": "code",
      "source": [
        "# selecting cloumns\n",
        "df1.select('Name', 'Age').show(4)"
      ],
      "metadata": {
        "id": "lARuvqnA9hTv",
        "colab": {
          "base_uri": "https://localhost:8080/"
        },
        "outputId": "bd30cd8d-a126-4b51-9962-c866721b1bc2"
      },
      "execution_count": 32,
      "outputs": [
        {
          "output_type": "stream",
          "name": "stdout",
          "text": [
            "+------+----+\n",
            "|  Name| Age|\n",
            "+------+----+\n",
            "|  Amit|  22|\n",
            "|  Amit|  22|\n",
            "| Ankit|  25|\n",
            "|Ashish|NULL|\n",
            "+------+----+\n",
            "only showing top 4 rows\n",
            "\n"
          ]
        }
      ]
    },
    {
      "cell_type": "code",
      "source": [
        "df1.select(['Name', 'Salary']).show()"
      ],
      "metadata": {
        "colab": {
          "base_uri": "https://localhost:8080/"
        },
        "id": "7VwUzpfVneRA",
        "outputId": "826f2b0f-b8bd-4068-a41e-4aef4792ca58"
      },
      "execution_count": 33,
      "outputs": [
        {
          "output_type": "stream",
          "name": "stdout",
          "text": [
            "+---------+------+\n",
            "|     Name|Salary|\n",
            "+---------+------+\n",
            "|     Amit| 12000|\n",
            "|     Amit| 12000|\n",
            "|    Ankit|  NULL|\n",
            "|   Ashish| 15000|\n",
            "|    Vijay| 17000|\n",
            "|Sudarshan|  NULL|\n",
            "|    Ketan| 23000|\n",
            "|     NULL|  NULL|\n",
            "|     NULL| 34000|\n",
            "|     NULL|  NULL|\n",
            "|     Ajit| 40000|\n",
            "|     Ajit| 40000|\n",
            "+---------+------+\n",
            "\n"
          ]
        }
      ]
    },
    {
      "cell_type": "code",
      "source": [
        "# adding new column\n",
        "\n",
        "df1.withColumn('New_Exp', df1['Experience']+2).show()"
      ],
      "metadata": {
        "colab": {
          "base_uri": "https://localhost:8080/"
        },
        "id": "XpkeBHUunoz_",
        "outputId": "ce136362-2fed-4e16-d052-64b841c3a4ed"
      },
      "execution_count": 38,
      "outputs": [
        {
          "output_type": "stream",
          "name": "stdout",
          "text": [
            "+---------+----+----------+------+-------+\n",
            "|     Name| Age|Experience|Salary|New_Exp|\n",
            "+---------+----+----------+------+-------+\n",
            "|     Amit|  22|       1.5| 12000|    3.5|\n",
            "|     Amit|  22|       1.5| 12000|    3.5|\n",
            "|    Ankit|  25|      NULL|  NULL|   NULL|\n",
            "|   Ashish|NULL|       1.0| 15000|    3.0|\n",
            "|    Vijay|  29|      NULL| 17000|   NULL|\n",
            "|Sudarshan|NULL|       5.0|  NULL|    7.0|\n",
            "|    Ketan|  33|      NULL| 23000|   NULL|\n",
            "|     NULL|  36|       8.0|  NULL|   10.0|\n",
            "|     NULL|  41|      NULL| 34000|   NULL|\n",
            "|     NULL|NULL|      NULL|  NULL|   NULL|\n",
            "|     Ajit|  43|      10.0| 40000|   12.0|\n",
            "|     Ajit|  43|      10.0| 40000|   12.0|\n",
            "+---------+----+----------+------+-------+\n",
            "\n"
          ]
        }
      ]
    },
    {
      "cell_type": "code",
      "source": [
        "# renaming column\n",
        "df1.withColumnRenamed('Name', 'New_Name').show(4)\n",
        "df1.show(4) # orginal dataframe is intact"
      ],
      "metadata": {
        "colab": {
          "base_uri": "https://localhost:8080/"
        },
        "id": "GSI-_PoApWdi",
        "outputId": "1f7cc398-6c9f-412f-acd4-9680b9295b2f"
      },
      "execution_count": 40,
      "outputs": [
        {
          "output_type": "stream",
          "name": "stdout",
          "text": [
            "+--------+----+----------+------+\n",
            "|New_Name| Age|Experience|Salary|\n",
            "+--------+----+----------+------+\n",
            "|    Amit|  22|       1.5| 12000|\n",
            "|    Amit|  22|       1.5| 12000|\n",
            "|   Ankit|  25|      NULL|  NULL|\n",
            "|  Ashish|NULL|       1.0| 15000|\n",
            "+--------+----+----------+------+\n",
            "only showing top 4 rows\n",
            "\n",
            "+------+----+----------+------+\n",
            "|  Name| Age|Experience|Salary|\n",
            "+------+----+----------+------+\n",
            "|  Amit|  22|       1.5| 12000|\n",
            "|  Amit|  22|       1.5| 12000|\n",
            "| Ankit|  25|      NULL|  NULL|\n",
            "|Ashish|NULL|       1.0| 15000|\n",
            "+------+----+----------+------+\n",
            "only showing top 4 rows\n",
            "\n"
          ]
        }
      ]
    },
    {
      "cell_type": "code",
      "source": [
        "df1.withColumnRenamed('Name', 'New_name').withColumnRenamed('Age', 'New_age').show(4)"
      ],
      "metadata": {
        "colab": {
          "base_uri": "https://localhost:8080/"
        },
        "id": "UF3qrcg2qPc1",
        "outputId": "76e7ce64-01df-44d5-ac8a-03e8376ae061"
      },
      "execution_count": 42,
      "outputs": [
        {
          "output_type": "stream",
          "name": "stdout",
          "text": [
            "+--------+-------+----------+------+\n",
            "|New_name|New_age|Experience|Salary|\n",
            "+--------+-------+----------+------+\n",
            "|    Amit|     22|       1.5| 12000|\n",
            "|    Amit|     22|       1.5| 12000|\n",
            "|   Ankit|     25|      NULL|  NULL|\n",
            "|  Ashish|   NULL|       1.0| 15000|\n",
            "+--------+-------+----------+------+\n",
            "only showing top 4 rows\n",
            "\n"
          ]
        }
      ]
    },
    {
      "cell_type": "code",
      "source": [
        "# dropping a column\n",
        "\n",
        "df1.drop('Age').show(4)\n",
        "df.show(4)"
      ],
      "metadata": {
        "colab": {
          "base_uri": "https://localhost:8080/"
        },
        "id": "L7hY2hodqk7i",
        "outputId": "8797e02e-8c99-40e9-b151-6233146798a9"
      },
      "execution_count": 49,
      "outputs": [
        {
          "output_type": "stream",
          "name": "stdout",
          "text": [
            "+------+----------+------+\n",
            "|  Name|Experience|Salary|\n",
            "+------+----------+------+\n",
            "|  Amit|       1.5| 12000|\n",
            "|  Amit|       1.5| 12000|\n",
            "| Ankit|      NULL|  NULL|\n",
            "|Ashish|       1.0| 15000|\n",
            "+------+----------+------+\n",
            "only showing top 4 rows\n",
            "\n",
            "+------+------------+------+----------+\n",
            "|  Name|  Department|Salary|Experience|\n",
            "+------+------------+------+----------+\n",
            "|  Amit|Data Science| 25000|         5|\n",
            "|Mahesh|    Big Data| 17000|         7|\n",
            "|Ramesh|    Big Data| 17000|         2|\n",
            "|Sudhir|         IOT| 12000|         1|\n",
            "+------+------------+------+----------+\n",
            "only showing top 4 rows\n",
            "\n"
          ]
        }
      ]
    },
    {
      "cell_type": "code",
      "source": [
        "# dropping multiple columns\n",
        "df1.drop('Age', 'Salary').show(4)\n",
        "df1.show(4)"
      ],
      "metadata": {
        "colab": {
          "base_uri": "https://localhost:8080/"
        },
        "id": "wx6_qBuIrKLU",
        "outputId": "894b2961-e4e2-48f4-c7d9-717df0a19246"
      },
      "execution_count": 50,
      "outputs": [
        {
          "output_type": "stream",
          "name": "stdout",
          "text": [
            "+------+----------+\n",
            "|  Name|Experience|\n",
            "+------+----------+\n",
            "|  Amit|       1.5|\n",
            "|  Amit|       1.5|\n",
            "| Ankit|      NULL|\n",
            "|Ashish|       1.0|\n",
            "+------+----------+\n",
            "only showing top 4 rows\n",
            "\n",
            "+------+----+----------+------+\n",
            "|  Name| Age|Experience|Salary|\n",
            "+------+----+----------+------+\n",
            "|  Amit|  22|       1.5| 12000|\n",
            "|  Amit|  22|       1.5| 12000|\n",
            "| Ankit|  25|      NULL|  NULL|\n",
            "|Ashish|NULL|       1.0| 15000|\n",
            "+------+----+----------+------+\n",
            "only showing top 4 rows\n",
            "\n"
          ]
        }
      ]
    },
    {
      "cell_type": "code",
      "source": [
        "from pyspark.sql.functions import lit"
      ],
      "metadata": {
        "id": "rMc-gokWq3PN"
      },
      "execution_count": 46,
      "outputs": []
    },
    {
      "cell_type": "code",
      "source": [
        "df1.withColumn('Bonus', lit('None')).show(5)"
      ],
      "metadata": {
        "colab": {
          "base_uri": "https://localhost:8080/"
        },
        "id": "AVyVVmUYquPQ",
        "outputId": "c54a42d9-0348-47c7-b04b-cbb056dfd5ed"
      },
      "execution_count": 48,
      "outputs": [
        {
          "output_type": "stream",
          "name": "stdout",
          "text": [
            "+------+----+----------+------+-----+\n",
            "|  Name| Age|Experience|Salary|Bonus|\n",
            "+------+----+----------+------+-----+\n",
            "|  Amit|  22|       1.5| 12000| None|\n",
            "|  Amit|  22|       1.5| 12000| None|\n",
            "| Ankit|  25|      NULL|  NULL| None|\n",
            "|Ashish|NULL|       1.0| 15000| None|\n",
            "| Vijay|  29|      NULL| 17000| None|\n",
            "+------+----+----------+------+-----+\n",
            "only showing top 5 rows\n",
            "\n"
          ]
        }
      ]
    },
    {
      "cell_type": "code",
      "source": [
        "df1.withColumn('Bonus', df1['Salary']*0.15).show(5)"
      ],
      "metadata": {
        "colab": {
          "base_uri": "https://localhost:8080/"
        },
        "id": "WmB1MqeQq18J",
        "outputId": "165e0d86-3206-4a74-aa57-16838002a1b3"
      },
      "execution_count": 54,
      "outputs": [
        {
          "output_type": "stream",
          "name": "stdout",
          "text": [
            "+------+----+----------+------+------+\n",
            "|  Name| Age|Experience|Salary| Bonus|\n",
            "+------+----+----------+------+------+\n",
            "|  Amit|  22|       1.5| 12000|1800.0|\n",
            "|  Amit|  22|       1.5| 12000|1800.0|\n",
            "| Ankit|  25|      NULL|  NULL|  NULL|\n",
            "|Ashish|NULL|       1.0| 15000|2250.0|\n",
            "| Vijay|  29|      NULL| 17000|2550.0|\n",
            "+------+----+----------+------+------+\n",
            "only showing top 5 rows\n",
            "\n"
          ]
        }
      ]
    },
    {
      "cell_type": "code",
      "source": [
        "# find null values\n",
        "df1.na.drop(how = 'any').show()\n",
        "df1.na.drop().show()"
      ],
      "metadata": {
        "colab": {
          "base_uri": "https://localhost:8080/"
        },
        "id": "ZrSgDOaisUTs",
        "outputId": "c2828529-8c93-4b03-ca31-30823985f397"
      },
      "execution_count": 56,
      "outputs": [
        {
          "output_type": "stream",
          "name": "stdout",
          "text": [
            "+----+---+----------+------+\n",
            "|Name|Age|Experience|Salary|\n",
            "+----+---+----------+------+\n",
            "|Amit| 22|       1.5| 12000|\n",
            "|Amit| 22|       1.5| 12000|\n",
            "|Ajit| 43|      10.0| 40000|\n",
            "|Ajit| 43|      10.0| 40000|\n",
            "+----+---+----------+------+\n",
            "\n",
            "+----+---+----------+------+\n",
            "|Name|Age|Experience|Salary|\n",
            "+----+---+----------+------+\n",
            "|Amit| 22|       1.5| 12000|\n",
            "|Amit| 22|       1.5| 12000|\n",
            "|Ajit| 43|      10.0| 40000|\n",
            "|Ajit| 43|      10.0| 40000|\n",
            "+----+---+----------+------+\n",
            "\n"
          ]
        }
      ]
    },
    {
      "cell_type": "code",
      "source": [
        "df1.show()\n",
        "df1.na.drop(how = 'all').show() # if all the rows contains null values in each column then that particular row will be deleted\n",
        "df1.na.drop(how = 'any').show() # if any column contains null values that particular row will be dropped"
      ],
      "metadata": {
        "colab": {
          "base_uri": "https://localhost:8080/"
        },
        "id": "OLF9iVsPtNWx",
        "outputId": "03cd1c64-0b2e-4aca-ad8f-15b3504f4ee1"
      },
      "execution_count": 58,
      "outputs": [
        {
          "output_type": "stream",
          "name": "stdout",
          "text": [
            "+---------+----+----------+------+\n",
            "|     Name| Age|Experience|Salary|\n",
            "+---------+----+----------+------+\n",
            "|     Amit|  22|       1.5| 12000|\n",
            "|     Amit|  22|       1.5| 12000|\n",
            "|    Ankit|  25|      NULL|  NULL|\n",
            "|   Ashish|NULL|       1.0| 15000|\n",
            "|    Vijay|  29|      NULL| 17000|\n",
            "|Sudarshan|NULL|       5.0|  NULL|\n",
            "|    Ketan|  33|      NULL| 23000|\n",
            "|     NULL|  36|       8.0|  NULL|\n",
            "|     NULL|  41|      NULL| 34000|\n",
            "|     NULL|NULL|      NULL|  NULL|\n",
            "|     Ajit|  43|      10.0| 40000|\n",
            "|     Ajit|  43|      10.0| 40000|\n",
            "+---------+----+----------+------+\n",
            "\n",
            "+---------+----+----------+------+\n",
            "|     Name| Age|Experience|Salary|\n",
            "+---------+----+----------+------+\n",
            "|     Amit|  22|       1.5| 12000|\n",
            "|     Amit|  22|       1.5| 12000|\n",
            "|    Ankit|  25|      NULL|  NULL|\n",
            "|   Ashish|NULL|       1.0| 15000|\n",
            "|    Vijay|  29|      NULL| 17000|\n",
            "|Sudarshan|NULL|       5.0|  NULL|\n",
            "|    Ketan|  33|      NULL| 23000|\n",
            "|     NULL|  36|       8.0|  NULL|\n",
            "|     NULL|  41|      NULL| 34000|\n",
            "|     Ajit|  43|      10.0| 40000|\n",
            "|     Ajit|  43|      10.0| 40000|\n",
            "+---------+----+----------+------+\n",
            "\n",
            "+----+---+----------+------+\n",
            "|Name|Age|Experience|Salary|\n",
            "+----+---+----------+------+\n",
            "|Amit| 22|       1.5| 12000|\n",
            "|Amit| 22|       1.5| 12000|\n",
            "|Ajit| 43|      10.0| 40000|\n",
            "|Ajit| 43|      10.0| 40000|\n",
            "+----+---+----------+------+\n",
            "\n"
          ]
        }
      ]
    },
    {
      "cell_type": "code",
      "source": [
        "# thresh -- this parameter shows how many columns should contain values in particular row\n",
        "df1.show()\n",
        "df1.na.drop(thresh = 2).show()"
      ],
      "metadata": {
        "colab": {
          "base_uri": "https://localhost:8080/"
        },
        "id": "tUlAn_qgtfad",
        "outputId": "679562bf-bb20-4698-b851-db0d389f2755"
      },
      "execution_count": 61,
      "outputs": [
        {
          "output_type": "stream",
          "name": "stdout",
          "text": [
            "+---------+----+----------+------+\n",
            "|     Name| Age|Experience|Salary|\n",
            "+---------+----+----------+------+\n",
            "|     Amit|  22|       1.5| 12000|\n",
            "|     Amit|  22|       1.5| 12000|\n",
            "|    Ankit|  25|      NULL|  NULL|\n",
            "|   Ashish|NULL|       1.0| 15000|\n",
            "|    Vijay|  29|      NULL| 17000|\n",
            "|Sudarshan|NULL|       5.0|  NULL|\n",
            "|    Ketan|  33|      NULL| 23000|\n",
            "|     NULL|  36|       8.0|  NULL|\n",
            "|     NULL|  41|      NULL| 34000|\n",
            "|     NULL|NULL|      NULL|  NULL|\n",
            "|     Ajit|  43|      10.0| 40000|\n",
            "|     Ajit|  43|      10.0| 40000|\n",
            "+---------+----+----------+------+\n",
            "\n",
            "+---------+----+----------+------+\n",
            "|     Name| Age|Experience|Salary|\n",
            "+---------+----+----------+------+\n",
            "|     Amit|  22|       1.5| 12000|\n",
            "|     Amit|  22|       1.5| 12000|\n",
            "|    Ankit|  25|      NULL|  NULL|\n",
            "|   Ashish|NULL|       1.0| 15000|\n",
            "|    Vijay|  29|      NULL| 17000|\n",
            "|Sudarshan|NULL|       5.0|  NULL|\n",
            "|    Ketan|  33|      NULL| 23000|\n",
            "|     NULL|  36|       8.0|  NULL|\n",
            "|     NULL|  41|      NULL| 34000|\n",
            "|     Ajit|  43|      10.0| 40000|\n",
            "|     Ajit|  43|      10.0| 40000|\n",
            "+---------+----+----------+------+\n",
            "\n"
          ]
        }
      ]
    },
    {
      "cell_type": "code",
      "source": [
        "# thresh\n",
        "df1.show()\n",
        "df1.na.drop(thresh = 4).show()"
      ],
      "metadata": {
        "colab": {
          "base_uri": "https://localhost:8080/"
        },
        "id": "TXaPkGk0uJPs",
        "outputId": "0e8261c4-6273-4caf-afd4-e32901c79449"
      },
      "execution_count": 64,
      "outputs": [
        {
          "output_type": "stream",
          "name": "stdout",
          "text": [
            "+---------+----+----------+------+\n",
            "|     Name| Age|Experience|Salary|\n",
            "+---------+----+----------+------+\n",
            "|     Amit|  22|       1.5| 12000|\n",
            "|     Amit|  22|       1.5| 12000|\n",
            "|    Ankit|  25|      NULL|  NULL|\n",
            "|   Ashish|NULL|       1.0| 15000|\n",
            "|    Vijay|  29|      NULL| 17000|\n",
            "|Sudarshan|NULL|       5.0|  NULL|\n",
            "|    Ketan|  33|      NULL| 23000|\n",
            "|     NULL|  36|       8.0|  NULL|\n",
            "|     NULL|  41|      NULL| 34000|\n",
            "|     NULL|NULL|      NULL|  NULL|\n",
            "|     Ajit|  43|      10.0| 40000|\n",
            "|     Ajit|  43|      10.0| 40000|\n",
            "+---------+----+----------+------+\n",
            "\n",
            "+----+---+----------+------+\n",
            "|Name|Age|Experience|Salary|\n",
            "+----+---+----------+------+\n",
            "|Amit| 22|       1.5| 12000|\n",
            "|Amit| 22|       1.5| 12000|\n",
            "|Ajit| 43|      10.0| 40000|\n",
            "|Ajit| 43|      10.0| 40000|\n",
            "+----+---+----------+------+\n",
            "\n"
          ]
        }
      ]
    },
    {
      "cell_type": "code",
      "source": [
        "# subset-- it is used to drop values from the particular column\n",
        "df1.show()\n",
        "df1.na.drop(subset = ['Name']).show()"
      ],
      "metadata": {
        "colab": {
          "base_uri": "https://localhost:8080/"
        },
        "id": "OIV_AwgpuXX1",
        "outputId": "4a1d1814-4cb5-4caf-ccd9-2bd936850b19"
      },
      "execution_count": 65,
      "outputs": [
        {
          "output_type": "stream",
          "name": "stdout",
          "text": [
            "+---------+----+----------+------+\n",
            "|     Name| Age|Experience|Salary|\n",
            "+---------+----+----------+------+\n",
            "|     Amit|  22|       1.5| 12000|\n",
            "|     Amit|  22|       1.5| 12000|\n",
            "|    Ankit|  25|      NULL|  NULL|\n",
            "|   Ashish|NULL|       1.0| 15000|\n",
            "|    Vijay|  29|      NULL| 17000|\n",
            "|Sudarshan|NULL|       5.0|  NULL|\n",
            "|    Ketan|  33|      NULL| 23000|\n",
            "|     NULL|  36|       8.0|  NULL|\n",
            "|     NULL|  41|      NULL| 34000|\n",
            "|     NULL|NULL|      NULL|  NULL|\n",
            "|     Ajit|  43|      10.0| 40000|\n",
            "|     Ajit|  43|      10.0| 40000|\n",
            "+---------+----+----------+------+\n",
            "\n",
            "+---------+----+----------+------+\n",
            "|     Name| Age|Experience|Salary|\n",
            "+---------+----+----------+------+\n",
            "|     Amit|  22|       1.5| 12000|\n",
            "|     Amit|  22|       1.5| 12000|\n",
            "|    Ankit|  25|      NULL|  NULL|\n",
            "|   Ashish|NULL|       1.0| 15000|\n",
            "|    Vijay|  29|      NULL| 17000|\n",
            "|Sudarshan|NULL|       5.0|  NULL|\n",
            "|    Ketan|  33|      NULL| 23000|\n",
            "|     Ajit|  43|      10.0| 40000|\n",
            "|     Ajit|  43|      10.0| 40000|\n",
            "+---------+----+----------+------+\n",
            "\n"
          ]
        }
      ]
    },
    {
      "cell_type": "code",
      "source": [],
      "metadata": {
        "id": "8wS3WbQCvgkE"
      },
      "execution_count": null,
      "outputs": []
    }
  ]
}